{
 "cells": [
  {
   "cell_type": "code",
   "execution_count": null,
   "metadata": {},
   "outputs": [],
   "source": [
    "# !pip install --upgrade pip\n",
    "# !pip install pigeonXT\n",
    "# !pip install jupyter_innotater"
   ]
  },
  {
   "cell_type": "code",
   "execution_count": 39,
   "metadata": {},
   "outputs": [],
   "source": [
    "import jupyterannotate\n",
    "import pigeonXT as pixt\n",
    "import pandas as pd\n",
    "import ipywidgets as widgets\n",
    "from IPython.display import display\n",
    "from IPython.display import HTML\n",
    "\n",
    "\n",
    "import numpy as np\n",
    "\n",
    "\n",
    "def load_data(type):\n",
    "    if type == \"job\":\n",
    "        df = pd.read_json(\"../raw/vacancies.json\")\n",
    "        df[\"full_text\"] = df[\"fulltext\"] = df[\"name\"] + \"\\n\" + df[\"description\"]\n",
    "\n",
    "    elif type == \"course\":\n",
    "        df = pd.read_json(\"../raw/learning_opportunities.json\")\n",
    "        df = df[df[\"active\"] == True]\n",
    "        keep_ids = {1, 5, 9}\n",
    "        df = df[df[\"study_ids\"].apply(lambda x: bool(set(x) & keep_ids))]\n",
    "\n",
    "    return df\n",
    "\n",
    "\n",
    "def load_lv2():\n",
    "    df = pd.read_csv(\"../taxonomy/taxonomy_V4.csv\", sep=\",\")\n",
    "    df = df.dropna(subset=[\"Definition\", \"Type Level 2\"])\n",
    "    # df[\"name+definition\"] = df.apply(concatenate_cols_skillname, axis=1)\n",
    "    keep_cols = [\n",
    "        \"Type Level 2\",\n",
    "    ]\n",
    "    df = df[keep_cols]\n",
    "    df = df.drop_duplicates().reset_index(drop=True)\n",
    "    list_lv2 = df[\"Type Level 2\"].tolist()\n",
    "    list_lv2 = list_lv2 + [\"NONE\", \"ADD_NEW\"]\n",
    "\n",
    "    return list_lv2\n",
    "\n",
    "\n",
    "def doc_widget():\n",
    "    text_input = widgets.BoundedIntText(\n",
    "        value=1,  # Initial value\n",
    "        min=1,  # Minimum value\n",
    "        max=100,  # Maximum value\n",
    "        description=\"DOC:\",\n",
    "        layout=widgets.Layout(width=\"70%\"),\n",
    "    )\n",
    "    text_input.layout.width = \"20%\"\n",
    "    style = widgets.HTML(\n",
    "        \"<style>.widget-text .widget-label, .widget-text input {font-size: 20px; font-weight: bold;}</style>\"\n",
    "    )\n",
    "    return style, text_input\n",
    "\n",
    "\n",
    "def get_skills_per_doc(span):\n",
    "    list_of_skills = []\n",
    "    for skill in span:\n",
    "        text = skill[\"text\"]\n",
    "        text = text.strip()\n",
    "        list_of_skills.append(text)\n",
    "    skills = [{\"example\": skill} for skill in list_of_skills]\n",
    "    df = pd.DataFrame(skills)\n",
    "    return df\n",
    "\n",
    "\n",
    "df = load_data(\"job\")\n",
    "tax = load_lv2()\n",
    "\n",
    "# SKILL_LABELS = [\"Skill\"]\n",
    "LEVEL_LABELS = [\"Beginner\", \"Intermediate\", \"Expert\", \"Unknown\"]\n",
    "DOCUMENTS = df[[\"id\", \"full_text\"]].sample(100, random_state=42).to_dict(\"records\")"
   ]
  },
  {
   "cell_type": "code",
   "execution_count": 40,
   "metadata": {},
   "outputs": [
    {
     "data": {
      "application/vnd.jupyter.widget-view+json": {
       "model_id": "93550ee0ba7e42078b3472bfdb55211c",
       "version_major": 2,
       "version_minor": 0
      },
      "text/plain": [
       "HTML(value='<style>.widget-text .widget-label, .widget-text input {font-size: 20px; font-weight: bold;}</style…"
      ]
     },
     "metadata": {},
     "output_type": "display_data"
    },
    {
     "data": {
      "application/vnd.jupyter.widget-view+json": {
       "model_id": "c9635d47c02e4151b07406f9229a8954",
       "version_major": 2,
       "version_minor": 0
      },
      "text/plain": [
       "BoundedIntText(value=1, description='DOC:', layout=Layout(width='20%'), min=1)"
      ]
     },
     "metadata": {},
     "output_type": "display_data"
    }
   ],
   "source": [
    "style, text_input = doc_widget()\n",
    "display(style)\n",
    "display(text_input)"
   ]
  },
  {
   "cell_type": "code",
   "execution_count": 42,
   "metadata": {},
   "outputs": [
    {
     "data": {
      "application/vnd.jupyter.widget-view+json": {
       "model_id": "03e8b0d990ed4e2282e9f4cd4d024004",
       "version_major": 2,
       "version_minor": 0
      },
      "text/plain": [
       "HTML(value=\"<h2 style='font-size: 20px; font-weight: bold;'>Annotating document 1 of 100. Job/Course ID: 11135…"
      ]
     },
     "metadata": {},
     "output_type": "display_data"
    },
    {
     "data": {
      "application/vnd.jupyter.widget-view+json": {
       "model_id": "02904fc752c44a1a87455081c2a62457",
       "version_major": 2,
       "version_minor": 0
      },
      "text/plain": [
       "AnnotateWidget(value=None, docs=['ICT Security Operations Manager (a) 80-100%\\nICT Security Operations Manager…"
      ]
     },
     "execution_count": 42,
     "metadata": {},
     "output_type": "execute_result"
    }
   ],
   "source": [
    "doc_idx = text_input.value - 1\n",
    "\n",
    "text_widget = widgets.HTML(\n",
    "    value=f\"<h2 style='font-size: 20px; font-weight: bold;'>Annotating document {text_input.value} of 100. Job/Course ID: {DOCUMENTS[doc_idx]['id']}</h2>\",\n",
    ")\n",
    "\n",
    "# Display the text widget\n",
    "display(text_widget)\n",
    "\n",
    "# Instantiate widget\n",
    "annotation_widget = jupyterannotate.AnnotateWidget(\n",
    "    docs=DOCUMENTS[doc_idx][\"full_text\"],\n",
    "    labels=LEVEL_LABELS,\n",
    "    # change size of text\n",
    ")\n",
    "\n",
    "annotation_widget"
   ]
  },
  {
   "cell_type": "code",
   "execution_count": 60,
   "metadata": {},
   "outputs": [
    {
     "data": {
      "application/vnd.jupyter.widget-view+json": {
       "model_id": "ad5411355cd242b492cc889c77483b9a",
       "version_major": 2,
       "version_minor": 0
      },
      "text/plain": [
       "HTML(value=\"<h2 style='font-size: 20px; font-weight: bold;'>Annotating document 1 of 100. Job/Course ID: 11135…"
      ]
     },
     "metadata": {},
     "output_type": "display_data"
    },
    {
     "data": {
      "application/vnd.jupyter.widget-view+json": {
       "model_id": "7bf19cf460f34fe880460ca0f018e0b5",
       "version_major": 2,
       "version_minor": 0
      },
      "text/plain": [
       "HTML(value='0 of 2 Examples annotated, Current Position: 0 ')"
      ]
     },
     "metadata": {},
     "output_type": "display_data"
    },
    {
     "data": {
      "application/vnd.jupyter.widget-view+json": {
       "model_id": "f02b73a9e0e7459188a3bf1e096e78bc",
       "version_major": 2,
       "version_minor": 0
      },
      "text/plain": [
       "VBox(children=(HBox(children=(ToggleButton(value=False, description='Kognitive Fertigkeit'), ToggleButton(valu…"
      ]
     },
     "metadata": {},
     "output_type": "display_data"
    },
    {
     "data": {
      "application/vnd.jupyter.widget-view+json": {
       "model_id": "3ded43d629714299be464fc478c75fef",
       "version_major": 2,
       "version_minor": 0
      },
      "text/plain": [
       "Output()"
      ]
     },
     "metadata": {},
     "output_type": "display_data"
    },
    {
     "data": {
      "application/vnd.jupyter.widget-view+json": {
       "model_id": "323fa56816c741f7b0516388f179a826",
       "version_major": 2,
       "version_minor": 0
      },
      "text/plain": [
       "HTML(value=\"<h2 style='font-size: 14px; font-weight: normal;'>FOR REFERENCE:<br>ICT Security Operations Manage…"
      ]
     },
     "metadata": {},
     "output_type": "display_data"
    },
    {
     "name": "stdout",
     "output_type": "stream",
     "text": [
      "Annotation done.\n"
     ]
    }
   ],
   "source": [
    "text_widget = widgets.HTML(\n",
    "    value=f\"<h2 style='font-size: 20px; font-weight: bold;'>Annotating document {text_input.value} of 100. Job/Course ID: {DOCUMENTS[doc_idx]['id']}</h2>\",\n",
    ")\n",
    "display(text_widget)\n",
    "try:\n",
    "    annotations = pixt.annotate(\n",
    "        get_skills_per_doc(annotation_widget.spans[0]),\n",
    "        options=tax,\n",
    "        task_type=\"multilabel-classification\",\n",
    "        buttons_in_a_row=5,\n",
    "        reset_buttons_after_click=True,\n",
    "    )\n",
    "\n",
    "    fulltext = DOCUMENTS[doc_idx][\"full_text\"]\n",
    "    text_widget = widgets.HTML(\n",
    "        value=f\"<h2 style='font-size: 14px; font-weight: normal;'>FOR REFERENCE:<br>{fulltext}\",\n",
    "    )\n",
    "    display(text_widget)\n",
    "except:\n",
    "    print(\"No annotations found for this document\")"
   ]
  },
  {
   "cell_type": "code",
   "execution_count": null,
   "metadata": {},
   "outputs": [],
   "source": [
    "# Save annotations\n",
    "# we need to save the extracted/matched skills in a separate file + allow override if redone\n",
    "# we wnat to save intermediate steps as well when we are done with just skills"
   ]
  }
 ],
 "metadata": {
  "kernelspec": {
   "display_name": "proto",
   "language": "python",
   "name": "python3"
  },
  "language_info": {
   "codemirror_mode": {
    "name": "ipython",
    "version": 3
   },
   "file_extension": ".py",
   "mimetype": "text/x-python",
   "name": "python",
   "nbconvert_exporter": "python",
   "pygments_lexer": "ipython3",
   "version": "3.9.18"
  }
 },
 "nbformat": 4,
 "nbformat_minor": 2
}
