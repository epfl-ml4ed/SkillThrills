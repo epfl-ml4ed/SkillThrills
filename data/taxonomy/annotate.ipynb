{
       "cells": [
              {
                     "cell_type": "code",
                     "execution_count": 205,
                     "metadata": {},
                     "outputs": [],
                     "source": [
                            "import jupyterannotate\n",
                            "import pandas as pd\n",
                            "from ipywidgets import widgets, interact, Layout, HBox, VBox\n",
                            "from IPython.display import display\n",
                            "from IPython.display import HTML\n",
                            "import json\n",
                            "\n",
                            "\n",
                            "def load_data(data_type):\n",
                            "    if data_type != \"job\" and data_type != \"course\":\n",
                            "        raise ValueError(\"data_type must be 'job' or 'course'\")\n",
                            "    df = pd.read_json(f\"../processed/{data_type}_sample_100.json\")\n",
                            "    return df\n",
                            "\n",
                            "\n",
                            "def get_lowest_level(row):\n",
                            "    \"\"\"\n",
                            "    Returns the lowest level of the taxonomy that is not NaN in each\n",
                            "    \"\"\"\n",
                            "    for level in [\"Type Level 4\", \"Type Level 3\", \"Type Level 2\", \"Type Level 1\"]:\n",
                            "        value = row[level]\n",
                            "        if not pd.isna(value):\n",
                            "            return value\n",
                            "            # appending level also just in case different levels have the same name\n",
                            "\n",
                            "\n",
                            "def load_taxonomy(level=\"lowest\"):\n",
                            "    df = pd.read_csv(\"../taxonomy/taxonomy_V4.csv\", sep=\",\")\n",
                            "    df = df.dropna(subset=[\"Definition\", \"Type Level 2\"])\n",
                            "    keep_cols = [\n",
                            "        \"Type Level 1\",\n",
                            "        \"Type Level 2\",\n",
                            "        \"Type Level 3\",\n",
                            "        \"Type Level 4\",\n",
                            "    ]\n",
                            "    df = df[keep_cols]\n",
                            "    if level == \"lowest\":\n",
                            "        list_levels = list(set(df.apply(get_lowest_level, axis=1)))\n",
                            "    if level == \"level2\":\n",
                            "        list_levels = list(set(df[\"Type Level 2\"]))\n",
                            "    list_levels = list_levels + [\"NONE\", \"ADD_NEW\"]\n",
                            "\n",
                            "    return list_levels\n",
                            "\n",
                            "\n",
                            "def doc_widget():\n",
                            "    text_input = widgets.BoundedIntText(\n",
                            "        value=1,  # Initial value\n",
                            "        min=1,  # Minimum value\n",
                            "        max=100,  # Maximum value\n",
                            "        description=\"DOC:\",\n",
                            "        layout=widgets.Layout(width=\"70%\"),\n",
                            "    )\n",
                            "    text_input.layout.width = \"20%\"\n",
                            "    style = widgets.HTML(\n",
                            "        \"<style>.widget-text .widget-label, .widget-text input {font-size: 20px; font-weight: bold;}</style>\"\n",
                            "    )\n",
                            "    return style, text_input\n",
                            "\n",
                            "\n",
                            "def get_skills_per_doc(span):\n",
                            "    list_of_skills = []\n",
                            "    for skill in span:\n",
                            "        text = skill[\"text\"]\n",
                            "        text = text.strip()\n",
                            "        list_of_skills.append(text)\n",
                            "    skills = [{\"example\": skill} for skill in list_of_skills]\n",
                            "    df = pd.DataFrame(skills)\n",
                            "    return df\n",
                            "\n",
                            "\n",
                            "def extraction_step(text_input, doc_idx):\n",
                            "    text_widget = widgets.HTML(\n",
                            "        value=f\"<h2 style='font-size: 20px; font-weight: bold;'>Annotating document {text_input.value} of 100 \"\n",
                            "        f\"(Job/Course ID: {DOCUMENTS[doc_idx]['id']})</h2>\",\n",
                            "    )\n",
                            "\n",
                            "    display(text_widget)\n",
                            "\n",
                            "    extraction_widget = jupyterannotate.AnnotateWidget(\n",
                            "        docs=DOCUMENTS[doc_idx][\"fulltext\"],\n",
                            "        labels=LEVEL_LABELS,\n",
                            "        # change size of text\n",
                            "    )\n",
                            "\n",
                            "    return extraction_widget\n",
                            "\n",
                            "\n",
                            "def save_extractions(doc_idx, extraction_widget):\n",
                            "    extractions_list = []\n",
                            "    try:\n",
                            "        extractions_list.append(\n",
                            "            {\n",
                            "                \"doc_id\": DOCUMENTS[doc_idx][\"id\"],\n",
                            "                \"extraction\": extraction_widget.spans[0],\n",
                            "            }\n",
                            "        )\n",
                            "    except:\n",
                            "        print(\"No terms highlighted from extraction step\")\n",
                            "\n",
                            "    try:\n",
                            "        with open(\"anno_extractions.json\", \"r\", encoding=\"utf-8\") as f:\n",
                            "            extractions = json.load(f)\n",
                            "    except FileNotFoundError:\n",
                            "        extractions = []\n",
                            "\n",
                            "    updated = False\n",
                            "    for idx, extraction in enumerate(extractions):\n",
                            "        if extractions_list[0][\"doc_id\"] == extraction[\"doc_id\"]:\n",
                            "            extractions[idx] = extractions_list[0]\n",
                            "            updated = True\n",
                            "            break\n",
                            "\n",
                            "    if not updated:\n",
                            "        extractions.append(extractions_list[0])\n",
                            "\n",
                            "    # Writing the updated/modified data back to the file\n",
                            "    with open(\"anno_extractions.json\", \"w\", encoding=\"utf-8\") as f:\n",
                            "        json.dump(extractions, f, ensure_ascii=False)\n",
                            "\n",
                            "\n",
                            "def matching_step(extraction_widget):\n",
                            "    user_inputs = {}\n",
                            "    widget_sets = []\n",
                            "\n",
                            "    for index, item in enumerate(extraction_widget.spans[0]):\n",
                            "        # create a text widget\n",
                            "        text_widget = widgets.HTML(\n",
                            "            value=f\"<h2 style='font-size: 18px; font-weight: bold;'>{item['text']}</h2>\",\n",
                            "        )\n",
                            "\n",
                            "        req_v_optional = widgets.RadioButtons(\n",
                            "            options=[\"SELECT_BELOW\", \"Required\", \"Optional\"],\n",
                            "            description=\"Required or Optional Skill:\",\n",
                            "            disabled=False,\n",
                            "        )\n",
                            "\n",
                            "        match_1 = widgets.Combobox(\n",
                            "            options=TAX_ELEMENTS,\n",
                            "            placeholder=\"Select or type to add\",\n",
                            "            ensure_option=True,\n",
                            "            description=\"Label 1:\",\n",
                            "        )\n",
                            "\n",
                            "        match_2 = widgets.Combobox(\n",
                            "            options=TAX_ELEMENTS,\n",
                            "            placeholder=\"NONE\",\n",
                            "            ensure_option=True,\n",
                            "            description=\"Label 2:\",\n",
                            "        )\n",
                            "\n",
                            "        match_3 = widgets.Combobox(\n",
                            "            options=TAX_ELEMENTS,\n",
                            "            placeholder=\"NONE\",\n",
                            "            ensure_option=True,\n",
                            "            description=\"Label 3:\",\n",
                            "        )\n",
                            "\n",
                            "        widget_group = VBox([text_widget, req_v_optional, match_1, match_2, match_3])\n",
                            "        display(widget_group)\n",
                            "\n",
                            "        # Save each widget set with the associated text item\n",
                            "        widget_sets.append(\n",
                            "            {\n",
                            "                \"text\": item[\"text\"],\n",
                            "                \"widgets\": (req_v_optional, match_1, match_2, match_3),\n",
                            "            }\n",
                            "        )\n",
                            "\n",
                            "    # Function to capture user inputs and associate them with the text\n",
                            "    def on_value_change(change):\n",
                            "        for widget_set in widget_sets:\n",
                            "            labels = {}\n",
                            "            for idx, widget in enumerate(widget_set[\"widgets\"]):\n",
                            "                labels[f\"Match {idx+1}\"] = widget.value\n",
                            "            user_inputs[widget_set[\"text\"]] = labels\n",
                            "\n",
                            "    # Capture and save user inputs when the widget values change\n",
                            "    for widget_set in widget_sets:\n",
                            "        for widget in widget_set[\"widgets\"]:\n",
                            "            widget.observe(on_value_change, names=\"value\")\n",
                            "\n",
                            "    try:\n",
                            "        with open(\"anno_extractions.json\", \"r\") as f:\n",
                            "            extractions = json.load(f)\n",
                            "    except FileNotFoundError:\n",
                            "        print(\"File not found - please check\")\n",
                            "\n",
                            "    def submit_button_matching(_):\n",
                            "        for entry in extractions:\n",
                            "            for extraction in entry[\"extraction\"]:\n",
                            "                text = extraction[\"text\"]\n",
                            "                if text in user_inputs:\n",
                            "                    extraction.update(user_inputs[text])\n",
                            "\n",
                            "        with open(\"anno_matching.json\", \"w\", encoding=\"utf-8\") as f:\n",
                            "            json.dump(extractions, f, ensure_ascii=False)\n",
                            "\n",
                            "    # Create a submit button\n",
                            "    submit_button = widgets.Button(description=\"Submit\", button_style=\"success\")\n",
                            "\n",
                            "    # Assign the submit_button_matching function to the button's on_click event\n",
                            "    submit_button.on_click(submit_button_matching)\n",
                            "\n",
                            "    # Display the button widget\n",
                            "    display(VBox([submit_button]))\n",
                            "\n",
                            "\n",
                            "df = load_data(\"job\")\n",
                            "# SKILL_LABELS = [\"Skill\"]\n",
                            "LEVEL_LABELS = [\"Beginner\", \"Intermediate\", \"Expert\", \"Unknown\"]\n",
                            "DOCUMENTS = df[[\"id\", \"fulltext\"]].sample(100, random_state=42).to_dict(\"records\")\n",
                            "TAX_ELEMENTS = load_taxonomy(\"lowest\")"
                     ]
              },
              {
                     "cell_type": "code",
                     "execution_count": 192,
                     "metadata": {},
                     "outputs": [
                            {
                                   "data": {
                                          "application/vnd.jupyter.widget-view+json": {
                                                 "model_id": "5153b3aba973421083715da6c8d39899",
                                                 "version_major": 2,
                                                 "version_minor": 0
                                          },
                                          "text/plain": [
                                                 "HTML(value='<style>.widget-text .widget-label, .widget-text input {font-size: 20px; font-weight: bold;}</style…"
                                          ]
                                   },
                                   "metadata": {},
                                   "output_type": "display_data"
                            },
                            {
                                   "data": {
                                          "application/vnd.jupyter.widget-view+json": {
                                                 "model_id": "9376c7be0a584d3e82f61219ea68a638",
                                                 "version_major": 2,
                                                 "version_minor": 0
                                          },
                                          "text/plain": [
                                                 "BoundedIntText(value=1, description='DOC:', layout=Layout(width='20%'), min=1)"
                                          ]
                                   },
                                   "metadata": {},
                                   "output_type": "display_data"
                            }
                     ],
                     "source": [
                            "style, text_input = doc_widget()\n",
                            "display(style, text_input)"
                     ]
              },
              {
                     "cell_type": "code",
                     "execution_count": 198,
                     "metadata": {},
                     "outputs": [
                            {
                                   "data": {
                                          "application/vnd.jupyter.widget-view+json": {
                                                 "model_id": "294308678ca64575ad0c6d9f063d5522",
                                                 "version_major": 2,
                                                 "version_minor": 0
                                          },
                                          "text/plain": [
                                                 "HTML(value=\"<h2 style='font-size: 20px; font-weight: bold;'>Annotating document 11 of 100 (Job/Course ID: 6096…"
                                          ]
                                   },
                                   "metadata": {},
                                   "output_type": "display_data"
                            },
                            {
                                   "data": {
                                          "application/vnd.jupyter.widget-view+json": {
                                                 "model_id": "52c6b8d8151d493bac0f8dfc3000203c",
                                                 "version_major": 2,
                                                 "version_minor": 0
                                          },
                                          "text/plain": [
                                                 "AnnotateWidget(value=None, docs=['ICT Business Partner/in\\nWas erwartet Sie?   Sie übernehmen und betreuen rel…"
                                          ]
                                   },
                                   "metadata": {},
                                   "output_type": "display_data"
                            }
                     ],
                     "source": [
                            "doc_idx = text_input.value - 1\n",
                            "extraction_widget = extraction_step(text_input, doc_idx=doc_idx)\n",
                            "display(extraction_widget)"
                     ]
              },
              {
                     "cell_type": "code",
                     "execution_count": 201,
                     "metadata": {},
                     "outputs": [
                            {
                                   "data": {
                                          "text/plain": [
                                                 "[{'start': 556,\n",
                                                 "  'end': 578,\n",
                                                 "  'text': 'ICT-Providermanagement',\n",
                                                 "  'label': {'text': 'Beginner', 'color': 'red'}},\n",
                                                 " {'start': 921,\n",
                                                 "  'end': 936,\n",
                                                 "  'text': 'flexiblen Team ',\n",
                                                 "  'label': {'text': 'Intermediate', 'color': 'cyan'}},\n",
                                                 " {'start': 1131,\n",
                                                 "  'end': 1148,\n",
                                                 "  'text': 'Bachelorabschluss',\n",
                                                 "  'label': {'text': 'Intermediate', 'color': 'cyan'}},\n",
                                                 " {'start': 1467,\n",
                                                 "  'end': 1485,\n",
                                                 "  'text': 'nformationsanalyse',\n",
                                                 "  'label': {'text': 'Unknown', 'color': 'violet'}},\n",
                                                 " {'start': 1512,\n",
                                                 "  'end': 1536,\n",
                                                 "  'text': 'Computerhardwaresystemen',\n",
                                                 "  'label': {'text': 'Intermediate', 'color': 'cyan'}},\n",
                                                 " {'start': 434,\n",
                                                 "  'end': 454,\n",
                                                 "  'text': 'Bewerbungsunterlagen',\n",
                                                 "  'label': {'text': 'Unknown', 'color': 'violet'}}]"
                                          ]
                                   },
                                   "execution_count": 201,
                                   "metadata": {},
                                   "output_type": "execute_result"
                            }
                     ],
                     "source": [
                            "extraction_widget.spans[0]"
                     ]
              },
              {
                     "cell_type": "code",
                     "execution_count": 206,
                     "metadata": {},
                     "outputs": [
                            {
                                   "data": {
                                          "application/vnd.jupyter.widget-view+json": {
                                                 "model_id": "71c364d14bff4c0ea050e0434f7a2ccc",
                                                 "version_major": 2,
                                                 "version_minor": 0
                                          },
                                          "text/plain": [
                                                 "VBox(children=(HTML(value=\"<h2 style='font-size: 18px; font-weight: bold;'>ICT-Providermanagement</h2>\"), Radi…"
                                          ]
                                   },
                                   "metadata": {},
                                   "output_type": "display_data"
                            },
                            {
                                   "data": {
                                          "application/vnd.jupyter.widget-view+json": {
                                                 "model_id": "2ddb2a21b9cc407ab2f2b35a230012aa",
                                                 "version_major": 2,
                                                 "version_minor": 0
                                          },
                                          "text/plain": [
                                                 "VBox(children=(HTML(value=\"<h2 style='font-size: 18px; font-weight: bold;'>flexiblen Team </h2>\"), RadioButton…"
                                          ]
                                   },
                                   "metadata": {},
                                   "output_type": "display_data"
                            },
                            {
                                   "data": {
                                          "application/vnd.jupyter.widget-view+json": {
                                                 "model_id": "5130d41f7d224b3aa0e8b2685b7d93f8",
                                                 "version_major": 2,
                                                 "version_minor": 0
                                          },
                                          "text/plain": [
                                                 "VBox(children=(HTML(value=\"<h2 style='font-size: 18px; font-weight: bold;'>Bachelorabschluss</h2>\"), RadioButt…"
                                          ]
                                   },
                                   "metadata": {},
                                   "output_type": "display_data"
                            },
                            {
                                   "data": {
                                          "application/vnd.jupyter.widget-view+json": {
                                                 "model_id": "611f1581597540fc8f8fa9571ed727a9",
                                                 "version_major": 2,
                                                 "version_minor": 0
                                          },
                                          "text/plain": [
                                                 "VBox(children=(HTML(value=\"<h2 style='font-size: 18px; font-weight: bold;'>nformationsanalyse</h2>\"), RadioBut…"
                                          ]
                                   },
                                   "metadata": {},
                                   "output_type": "display_data"
                            },
                            {
                                   "data": {
                                          "application/vnd.jupyter.widget-view+json": {
                                                 "model_id": "f9693600a8ba4db1ba642ec56240095e",
                                                 "version_major": 2,
                                                 "version_minor": 0
                                          },
                                          "text/plain": [
                                                 "VBox(children=(HTML(value=\"<h2 style='font-size: 18px; font-weight: bold;'>Computerhardwaresystemen</h2>\"), Ra…"
                                          ]
                                   },
                                   "metadata": {},
                                   "output_type": "display_data"
                            },
                            {
                                   "data": {
                                          "application/vnd.jupyter.widget-view+json": {
                                                 "model_id": "591d46241813430795fd2857f76936b4",
                                                 "version_major": 2,
                                                 "version_minor": 0
                                          },
                                          "text/plain": [
                                                 "VBox(children=(HTML(value=\"<h2 style='font-size: 18px; font-weight: bold;'>Bewerbungsunterlagen</h2>\"), RadioB…"
                                          ]
                                   },
                                   "metadata": {},
                                   "output_type": "display_data"
                            },
                            {
                                   "data": {
                                          "application/vnd.jupyter.widget-view+json": {
                                                 "model_id": "322b13b6af794f64b22f51c25f47176e",
                                                 "version_major": 2,
                                                 "version_minor": 0
                                          },
                                          "text/plain": [
                                                 "VBox(children=(Button(button_style='success', description='Submit', style=ButtonStyle()),))"
                                          ]
                                   },
                                   "metadata": {},
                                   "output_type": "display_data"
                            }
                     ],
                     "source": [
                            "save_extractions(doc_idx, extraction_widget)\n",
                            "matching_step(extraction_widget)"
                     ]
              },
              {
                     "cell_type": "markdown",
                     "metadata": {},
                     "source": []
              },
              {
                     "cell_type": "code",
                     "execution_count": null,
                     "metadata": {},
                     "outputs": [],
                     "source": [
                            "# import sqlite3\n",
                            "\n",
                            "\n",
                            "# class Database:\n",
                            "#     \"\"\"SQLite database to store\"\"\"\n",
                            "\n",
                            "#     def __init__(self):\n",
                            "#         self.con = sqlite3.connect(\"annotations.db\")\n",
                            "#         self.cursor = self.con.cursor()\n",
                            "\n",
                            "#         self.cursor.execute(\n",
                            "#             \"\"\"\n",
                            "#                 CREATE TABLE annotations (\n",
                            "#                 entity_id TEXT,\n",
                            "#                 text_id INTEGER,\n",
                            "#                 extracted_term TEXT,\n",
                            "#                 match_1 TEXT,\n",
                            "#                 match_2 TEXT,\n",
                            "#                 match_3 TEXT\n",
                            "#                 );\n",
                            "#             \"\"\"\n",
                            "#         )\n",
                            "\n",
                            "#     def insert_term(self, row: dict):\n",
                            "#         self.cursor.execute(\n",
                            "#             \"\"\"\n",
                            "#             INSERT INTO annotations VALUES (:entity_id, :text_id, :entracted_term, :match_1, :match_2, :match_3)\n",
                            "#             \"\"\",\n",
                            "#             row,\n",
                            "#         )\n",
                            "#         self.con.commit()\n",
                            "\n",
                            "\n",
                            "# db = Database()"
                     ]
              },
              {
                     "cell_type": "code",
                     "execution_count": 41,
                     "metadata": {},
                     "outputs": [],
                     "source": [
                            "global selected_skills_list  # Make sure to use the same global DataFrame\n",
                            "selected_skills_list = []"
                     ]
              },
              {
                     "cell_type": "code",
                     "execution_count": 207,
                     "metadata": {},
                     "outputs": [
                            {
                                   "data": {
                                          "application/vnd.jupyter.widget-view+json": {
                                                 "model_id": "66935109e0bd417c9c5be821bb4552ad",
                                                 "version_major": 2,
                                                 "version_minor": 0
                                          },
                                          "text/plain": [
                                                 "VBox(children=(Text(value='', description='Keyword:', placeholder='Type a keyword'), Button(description='Searc…"
                                          ]
                                   },
                                   "metadata": {},
                                   "output_type": "display_data"
                            }
                     ],
                     "source": [
                            "t = pd.read_csv(\"taxonomy_V4.csv\", sep=\",\")\n",
                            "# keep only a few columns\n",
                            "\n",
                            "\n",
                            "def search_keyword(keyword):\n",
                            "    # look in other columns as well\n",
                            "    return t[t[\"Definition\"].str.contains(keyword, case=False)]\n",
                            "\n",
                            "\n",
                            "# Create a text input widget\n",
                            "keyword_widget = widgets.Text(\n",
                            "    value=\"\", placeholder=\"Type a keyword\", description=\"Keyword:\", disabled=False\n",
                            ")\n",
                            "\n",
                            "#\n",
                            "selection_widget = widgets.Text(\n",
                            "    value=\"\", placeholder=\"Type skill ids\", description=\"Selected:\", disabled=False\n",
                            ")\n",
                            "save_button = widgets.Button(description=\"Save\")\n",
                            "\n",
                            "\n",
                            "def on_save_button_click(b):\n",
                            "    selected_skills = process_selection(selection_widget.value)\n",
                            "    selected_skills_list.append(selected_skills)\n",
                            "    print(f\"Content saved: {selected_skills}\")\n",
                            "\n",
                            "\n",
                            "save_button.on_click(on_save_button_click)\n",
                            "\n",
                            "\n",
                            "def process_selection(selection):\n",
                            "    if selection:\n",
                            "        all_skills = selection.split(\",\")\n",
                            "        all_skills = [int(skill.strip()) for skill in all_skills]\n",
                            "        return all_skills\n",
                            "    else:\n",
                            "        return []\n",
                            "\n",
                            "\n",
                            "def on_button_click(b):\n",
                            "    keyword = keyword_widget.value\n",
                            "    results = search_keyword(keyword)\n",
                            "    clear_output()  # Clear previous output\n",
                            "    display(keyword_widget)\n",
                            "    display(search_button)\n",
                            "    display(results)\n",
                            "    display(selection_widget)\n",
                            "\n",
                            "\n",
                            "search_button = widgets.Button(description=\"Search\")\n",
                            "search_button.on_click(on_button_click)\n",
                            "\n",
                            "\n",
                            "display(widgets.VBox([keyword_widget, search_button, selection_widget, save_button]))\n",
                            "# Append this to an dataframe for each element to annotate"
                     ]
              },
              {
                     "cell_type": "code",
                     "execution_count": 44,
                     "metadata": {},
                     "outputs": [
                            {
                                   "data": {
                                          "text/plain": [
                                                 "[[239, 218], [212]]"
                                          ]
                                   },
                                   "execution_count": 44,
                                   "metadata": {},
                                   "output_type": "execute_result"
                            }
                     ],
                     "source": [
                            "selected_skills_list"
                     ]
              },
              {
                     "cell_type": "code",
                     "execution_count": null,
                     "metadata": {},
                     "outputs": [],
                     "source": []
              }
       ],
       "metadata": {
              "kernelspec": {
                     "display_name": "proto",
                     "language": "python",
                     "name": "python3"
              },
              "language_info": {
                     "codemirror_mode": {
                            "name": "ipython",
                            "version": 3
                     },
                     "file_extension": ".py",
                     "mimetype": "text/x-python",
                     "name": "python",
                     "nbconvert_exporter": "python",
                     "pygments_lexer": "ipython3",
                     "version": "3.10.9"
              }
       },
       "nbformat": 4,
       "nbformat_minor": 2
}
