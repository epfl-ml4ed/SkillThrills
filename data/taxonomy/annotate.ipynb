{
 "cells": [
  {
   "cell_type": "code",
   "execution_count": null,
   "metadata": {},
   "outputs": [],
   "source": [
    "# !pip install --upgrade pip\n",
    "# !pip install pigeonXT\n",
    "# !pip install jupyter_innotater"
   ]
  },
  {
   "cell_type": "code",
   "execution_count": 29,
   "metadata": {},
   "outputs": [],
   "source": [
    "import jupyterannotate\n",
    "import pigeonXT as pixt\n",
    "import pandas as pd\n",
    "import ipywidgets as widgets\n",
    "from IPython.display import display, clear_output\n",
    "from IPython.display import HTML\n",
    "\n",
    "\n",
    "import numpy as np\n",
    "\n",
    "\n",
    "def load_data(type):\n",
    "    if type == \"job\":\n",
    "        df = pd.read_json(\"../raw/vacancies.json\")\n",
    "        df[\"full_text\"] = df[\"fulltext\"] = df[\"name\"] + \"\\n\" + df[\"description\"]\n",
    "\n",
    "    elif type == \"course\":\n",
    "        df = pd.read_json(\"../raw/learning_opportunities.json\")\n",
    "        df = df[df[\"active\"] == True]\n",
    "        keep_ids = {1, 5, 9}\n",
    "        df = df[df[\"study_ids\"].apply(lambda x: bool(set(x) & keep_ids))]\n",
    "\n",
    "    return df\n",
    "\n",
    "\n",
    "def load_lv2():\n",
    "    df = pd.read_csv(\"../taxonomy/taxonomy_V4.csv\", sep=\",\")\n",
    "    df = df.dropna(subset=[\"Definition\", \"Type Level 2\"])\n",
    "    # df[\"name+definition\"] = df.apply(concatenate_cols_skillname, axis=1)\n",
    "    keep_cols = [\n",
    "        \"Type Level 2\",\n",
    "    ]\n",
    "    df = df[keep_cols]\n",
    "    df = df.drop_duplicates().reset_index(drop=True)\n",
    "    list_lv2 = df[\"Type Level 2\"].tolist()\n",
    "    list_lv2 = list_lv2 + [\"NONE\", \"ADD_NEW\"]\n",
    "\n",
    "    return list_lv2\n",
    "\n",
    "\n",
    "def doc_widget():\n",
    "    text_input = widgets.BoundedIntText(\n",
    "        value=1,  # Initial value\n",
    "        min=1,  # Minimum value\n",
    "        max=100,  # Maximum value\n",
    "        description=\"DOC:\",\n",
    "        layout=widgets.Layout(width=\"70%\"),\n",
    "    )\n",
    "    text_input.layout.width = \"20%\"\n",
    "    style = widgets.HTML(\n",
    "        \"<style>.widget-text .widget-label, .widget-text input {font-size: 20px; font-weight: bold;}</style>\"\n",
    "    )\n",
    "    return style, text_input\n",
    "\n",
    "\n",
    "def get_skills_per_doc(span):\n",
    "    list_of_skills = []\n",
    "    for skill in span:\n",
    "        text = skill[\"text\"]\n",
    "        text = text.strip()\n",
    "        list_of_skills.append(text)\n",
    "    skills = [{\"example\": skill} for skill in list_of_skills]\n",
    "    df = pd.DataFrame(skills)\n",
    "    return df\n",
    "\n",
    "\n",
    "df = load_data(\"job\")\n",
    "tax = load_lv2()\n",
    "\n",
    "# SKILL_LABELS = [\"Skill\"]\n",
    "LEVEL_LABELS = [\"Beginner\", \"Intermediate\", \"Expert\", \"Unknown\"]\n",
    "DOCUMENTS = df[[\"id\", \"full_text\"]].sample(100, random_state=42).to_dict(\"records\")"
   ]
  },
  {
   "cell_type": "code",
   "execution_count": 2,
   "metadata": {},
   "outputs": [
    {
     "data": {
      "application/vnd.jupyter.widget-view+json": {
       "model_id": "1fd81605449240f6ba3508b9f055b86c",
       "version_major": 2,
       "version_minor": 0
      },
      "text/plain": [
       "HTML(value='<style>.widget-text .widget-label, .widget-text input {font-size: 20px; font-weight: bold;}</style…"
      ]
     },
     "metadata": {},
     "output_type": "display_data"
    },
    {
     "data": {
      "application/vnd.jupyter.widget-view+json": {
       "model_id": "7d0e39bdf46344c690c1ab6cbcb8a65c",
       "version_major": 2,
       "version_minor": 0
      },
      "text/plain": [
       "BoundedIntText(value=1, description='DOC:', layout=Layout(width='20%'), min=1)"
      ]
     },
     "metadata": {},
     "output_type": "display_data"
    }
   ],
   "source": [
    "style, text_input = doc_widget()\n",
    "display(style)\n",
    "display(text_input)"
   ]
  },
  {
   "cell_type": "code",
   "execution_count": 3,
   "metadata": {},
   "outputs": [
    {
     "data": {
      "application/vnd.jupyter.widget-view+json": {
       "model_id": "e8eb6515a1a8463faa503face36ae308",
       "version_major": 2,
       "version_minor": 0
      },
      "text/plain": [
       "HTML(value=\"<h2 style='font-size: 20px; font-weight: bold;'>Annotating document 1 of 100 (Job/Course ID: 6469)…"
      ]
     },
     "metadata": {},
     "output_type": "display_data"
    },
    {
     "data": {
      "application/vnd.jupyter.widget-view+json": {
       "model_id": "69230d0020e940dfaabf98dea8f71f29",
       "version_major": 2,
       "version_minor": 0
      },
      "text/plain": [
       "AnnotateWidget(value=None, docs=['Embedded Software Engineer (m/w) 100%\\nMit dem ersten automatischen Türantri…"
      ]
     },
     "execution_count": 3,
     "metadata": {},
     "output_type": "execute_result"
    }
   ],
   "source": [
    "doc_idx = text_input.value - 1\n",
    "\n",
    "text_widget = widgets.HTML(\n",
    "    value=f\"<h2 style='font-size: 20px; font-weight: bold;'>Annotating document {text_input.value} of 100 \"\n",
    "    f\"(Job/Course ID: {DOCUMENTS[doc_idx]['id']})</h2>\",\n",
    ")\n",
    "\n",
    "# Display the text widget\n",
    "display(text_widget)\n",
    "\n",
    "# Instantiate widget\n",
    "annotation_widget = jupyterannotate.AnnotateWidget(\n",
    "    docs=DOCUMENTS[doc_idx][\"full_text\"],\n",
    "    labels=LEVEL_LABELS,\n",
    "    # change size of text\n",
    ")\n",
    "\n",
    "annotation_widget"
   ]
  },
  {
   "cell_type": "code",
   "execution_count": 4,
   "metadata": {},
   "outputs": [
    {
     "data": {
      "application/vnd.jupyter.widget-view+json": {
       "model_id": "faf55a9f6a4941348f61a76da324ff44",
       "version_major": 2,
       "version_minor": 0
      },
      "text/plain": [
       "HTML(value=\"<h2 style='font-size: 20px; font-weight: bold;'>Annotating document 1 of 100 (Job/Course ID: 6469)…"
      ]
     },
     "metadata": {},
     "output_type": "display_data"
    },
    {
     "data": {
      "application/vnd.jupyter.widget-view+json": {
       "model_id": "7e69278c3ddd43b78f7da3ea18196082",
       "version_major": 2,
       "version_minor": 0
      },
      "text/plain": [
       "HTML(value='0 of 6 Examples annotated, Current Position: 0 ')"
      ]
     },
     "metadata": {},
     "output_type": "display_data"
    },
    {
     "data": {
      "application/vnd.jupyter.widget-view+json": {
       "model_id": "f8575b203f104c68a214fcfcca398396",
       "version_major": 2,
       "version_minor": 0
      },
      "text/plain": [
       "VBox(children=(HBox(children=(ToggleButton(value=False, description='Kognitive Fertigkeit'), ToggleButton(valu…"
      ]
     },
     "metadata": {},
     "output_type": "display_data"
    },
    {
     "data": {
      "application/vnd.jupyter.widget-view+json": {
       "model_id": "b1fd9d31742849cb8bad00d547f23243",
       "version_major": 2,
       "version_minor": 0
      },
      "text/plain": [
       "Output()"
      ]
     },
     "metadata": {},
     "output_type": "display_data"
    },
    {
     "data": {
      "application/vnd.jupyter.widget-view+json": {
       "model_id": "7d08573662044317a0e7690d44608930",
       "version_major": 2,
       "version_minor": 0
      },
      "text/plain": [
       "HTML(value=\"<h2 style='font-size: 14px; font-weight: normal;'>FOR REFERENCE:<br>Embedded Software Engineer (m/…"
      ]
     },
     "metadata": {},
     "output_type": "display_data"
    }
   ],
   "source": [
    "text_widget = widgets.HTML(\n",
    "    value=f\"<h2 style='font-size: 20px; font-weight: bold;'>Annotating document {text_input.value} of 100 \"\n",
    "    f\"(Job/Course ID: {DOCUMENTS[doc_idx]['id']})</h2>\",\n",
    ")\n",
    "\n",
    "display(text_widget)\n",
    "try:\n",
    "    annotations = pixt.annotate(\n",
    "        get_skills_per_doc(annotation_widget.spans[0]),\n",
    "        options=tax,\n",
    "        task_type=\"multilabel-classification\",\n",
    "        buttons_in_a_row=5,\n",
    "        reset_buttons_after_click=True,\n",
    "    )\n",
    "\n",
    "    fulltext = DOCUMENTS[doc_idx][\"full_text\"]\n",
    "    text_widget = widgets.HTML(\n",
    "        value=f\"<h2 style='font-size: 14px; font-weight: normal;'>FOR REFERENCE:<br>{fulltext}\",\n",
    "    )\n",
    "    display(text_widget)\n",
    "except:\n",
    "    print(\"No annotations found for this document\")"
   ]
  },
  {
   "cell_type": "code",
   "execution_count": null,
   "metadata": {},
   "outputs": [],
   "source": [
    "# Save annotations\n",
    "# we need to save the extracted/matched skills in a separate file + allow override if redone\n",
    "# we wnat to save intermediate steps as well when we are done with just skills"
   ]
  },
  {
   "cell_type": "code",
   "execution_count": null,
   "metadata": {},
   "outputs": [],
   "source": []
  },
  {
   "cell_type": "code",
   "execution_count": 41,
   "metadata": {},
   "outputs": [],
   "source": [
    "global selected_skills_list  # Make sure to use the same global DataFrame\n",
    "selected_skills_list = []\n"
   ]
  },
  {
   "cell_type": "code",
   "execution_count": 42,
   "metadata": {},
   "outputs": [
    {
     "data": {
      "application/vnd.jupyter.widget-view+json": {
       "model_id": "a7be1c16c7044ec9aaf5f7f67c7e403e",
       "version_major": 2,
       "version_minor": 0
      },
      "text/plain": [
       "VBox(children=(Text(value='', description='Keyword:', placeholder='Type a keyword'), Button(description='Searc…"
      ]
     },
     "metadata": {},
     "output_type": "display_data"
    },
    {
     "name": "stdout",
     "output_type": "stream",
     "text": [
      "Content saved: [239, 218]\n",
      "Content saved: [212]\n"
     ]
    }
   ],
   "source": [
    "t=pd.read_csv('taxonomy_V4.csv',sep=',')\n",
    "# keep only a few columns\n",
    "\n",
    "def search_keyword(keyword):\n",
    "    # look in other columns as well\n",
    "    return t[t['Definition'].str.contains(keyword, case=False)]\n",
    "\n",
    "# Create a text input widget\n",
    "keyword_widget = widgets.Text(\n",
    "    value='',\n",
    "    placeholder='Type a keyword',\n",
    "    description='Keyword:',\n",
    "    disabled=False\n",
    ")\n",
    "\n",
    "# \n",
    "selection_widget = widgets.Text(\n",
    "    value='',\n",
    "    placeholder='Type skill ids',\n",
    "    description='Selected:',\n",
    "    disabled=False\n",
    ")\n",
    "save_button = widgets.Button(description='Save')\n",
    "\n",
    "\n",
    "\n",
    "def on_save_button_click(b):\n",
    "    \n",
    "    selected_skills = process_selection(selection_widget.value)\n",
    "    selected_skills_list.append(selected_skills)\n",
    "    print(f'Content saved: {selected_skills}')\n",
    "\n",
    "save_button.on_click(on_save_button_click)\n",
    "\n",
    "\n",
    "def process_selection(selection):\n",
    "    if selection:\n",
    "        all_skills = selection.split(\",\")\n",
    "        all_skills = [int(skill.strip()) for skill in all_skills]\n",
    "        return all_skills\n",
    "    else:\n",
    "        return []\n",
    "    \n",
    "\n",
    "def on_button_click(b):\n",
    "    keyword = keyword_widget.value\n",
    "    results = search_keyword(keyword)\n",
    "    clear_output()  # Clear previous output\n",
    "    display(keyword_widget)\n",
    "    display(search_button)\n",
    "    display(results)\n",
    "    display(selection_widget)\n",
    "\n",
    "search_button = widgets.Button(description='Search')\n",
    "search_button.on_click(on_button_click)\n",
    "\n",
    "\n",
    "display(widgets.VBox([keyword_widget, search_button, selection_widget, save_button]))\n",
    "# Append this to an dataframe for each element to annotate\n"
   ]
  },
  {
   "cell_type": "code",
   "execution_count": 44,
   "metadata": {},
   "outputs": [
    {
     "data": {
      "text/plain": [
       "[[239, 218], [212]]"
      ]
     },
     "execution_count": 44,
     "metadata": {},
     "output_type": "execute_result"
    }
   ],
   "source": [
    "selected_skills_list"
   ]
  },
  {
   "cell_type": "code",
   "execution_count": null,
   "metadata": {},
   "outputs": [],
   "source": []
  }
 ],
 "metadata": {
  "kernelspec": {
   "display_name": "proto",
   "language": "python",
   "name": "python3"
  },
  "language_info": {
   "codemirror_mode": {
    "name": "ipython",
    "version": 3
   },
   "file_extension": ".py",
   "mimetype": "text/x-python",
   "name": "python",
   "nbconvert_exporter": "python",
   "pygments_lexer": "ipython3",
   "version": "3.10.9"
  }
 },
 "nbformat": 4,
 "nbformat_minor": 2
}
