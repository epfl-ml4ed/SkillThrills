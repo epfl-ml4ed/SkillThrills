{
 "cells": [
  {
   "cell_type": "code",
   "execution_count": null,
   "metadata": {},
   "outputs": [],
   "source": [
    "# !pip install --upgrade pip\n",
    "# !pip install pigeonXT\n",
    "# !pip install jupyter_innotater"
   ]
  },
  {
   "cell_type": "code",
   "execution_count": 134,
   "metadata": {},
   "outputs": [],
   "source": [
    "# import sqlite3\n",
    "\n",
    "\n",
    "# class Database:\n",
    "#     \"\"\"SQLite database to store\"\"\"\n",
    "\n",
    "#     def __init__(self):\n",
    "#         self.con = sqlite3.connect(\"annotations.db\")\n",
    "#         self.cursor = self.con.cursor()\n",
    "\n",
    "#         self.cursor.execute(\n",
    "#             \"\"\"\n",
    "#                 CREATE TABLE annotations (\n",
    "#                 entity_id TEXT,\n",
    "#                 text_id INTEGER,\n",
    "#                 extracted_term TEXT,\n",
    "#                 match_1 TEXT,\n",
    "#                 match_2 TEXT,\n",
    "#                 match_3 TEXT\n",
    "#                 );\n",
    "#             \"\"\"\n",
    "#         )\n",
    "\n",
    "#     def insert_term(self, row: dict):\n",
    "#         self.cursor.execute(\n",
    "#             \"\"\"\n",
    "#             INSERT INTO annotations VALUES (:entity_id, :text_id, :entracted_term, :match_1, :match_2, :match_3)\n",
    "#             \"\"\",\n",
    "#             row,\n",
    "#         )\n",
    "#         self.con.commit()\n",
    "\n",
    "\n",
    "# db = Database()"
   ]
  },
  {
   "cell_type": "code",
   "execution_count": 169,
   "metadata": {},
   "outputs": [],
   "source": [
    "import jupyterannotate\n",
    "\n",
    "# import pigeonXT as pixt\n",
    "import pandas as pd\n",
    "from ipywidgets import widgets, interact, Layout, HBox, VBox\n",
    "from IPython.display import display\n",
    "from IPython.display import HTML\n",
    "import json\n",
    "\n",
    "import numpy as np\n",
    "\n",
    "\n",
    "def load_data(type):\n",
    "    if type == \"job\":\n",
    "        df = pd.read_json(\"../raw/vacancies.json\")\n",
    "        df[\"full_text\"] = df[\"fulltext\"] = df[\"name\"] + \"\\n\" + df[\"description\"]\n",
    "\n",
    "    elif type == \"course\":\n",
    "        df = pd.read_json(\"../raw/learning_opportunities.json\")\n",
    "        df = df[df[\"active\"] == True]\n",
    "        keep_ids = {1, 5, 9}\n",
    "        df = df[df[\"study_ids\"].apply(lambda x: bool(set(x) & keep_ids))]\n",
    "\n",
    "    return df\n",
    "\n",
    "\n",
    "def get_lowest_level(row):\n",
    "    \"\"\"\n",
    "    Returns the lowest level of the taxonomy that is not NaN in each\n",
    "    \"\"\"\n",
    "    for level in [\"Type Level 4\", \"Type Level 3\", \"Type Level 2\", \"Type Level 1\"]:\n",
    "        value = row[level]\n",
    "        if not pd.isna(value):\n",
    "            return value\n",
    "            # appending level also just in case different levels have the same name\n",
    "\n",
    "\n",
    "def load_taxonomy(level=\"lowest\"):\n",
    "    df = pd.read_csv(\"../taxonomy/taxonomy_V4.csv\", sep=\",\")\n",
    "    df = df.dropna(subset=[\"Definition\", \"Type Level 2\"])\n",
    "    keep_cols = [\n",
    "        \"Type Level 1\",\n",
    "        \"Type Level 2\",\n",
    "        \"Type Level 3\",\n",
    "        \"Type Level 4\",\n",
    "    ]\n",
    "    df = df[keep_cols]\n",
    "    if level == \"lowest\":\n",
    "        list_levels = list(set(df.apply(get_lowest_level, axis=1)))\n",
    "    if level == \"level2\":\n",
    "        list_levels = list(set(df[\"Type Level 2\"]))\n",
    "    list_levels = list_levels + [\"NONE\", \"ADD_NEW\"]\n",
    "\n",
    "    return list_levels\n",
    "\n",
    "\n",
    "def doc_widget():\n",
    "    text_input = widgets.BoundedIntText(\n",
    "        value=1,  # Initial value\n",
    "        min=1,  # Minimum value\n",
    "        max=100,  # Maximum value\n",
    "        description=\"DOC:\",\n",
    "        layout=widgets.Layout(width=\"70%\"),\n",
    "    )\n",
    "    text_input.layout.width = \"20%\"\n",
    "    style = widgets.HTML(\n",
    "        \"<style>.widget-text .widget-label, .widget-text input {font-size: 20px; font-weight: bold;}</style>\"\n",
    "    )\n",
    "    return style, text_input\n",
    "\n",
    "\n",
    "def get_skills_per_doc(span):\n",
    "    list_of_skills = []\n",
    "    for skill in span:\n",
    "        text = skill[\"text\"]\n",
    "        text = text.strip()\n",
    "        list_of_skills.append(text)\n",
    "    skills = [{\"example\": skill} for skill in list_of_skills]\n",
    "    df = pd.DataFrame(skills)\n",
    "    return df\n",
    "\n",
    "\n",
    "def extraction_step(text_input, doc_idx):\n",
    "    text_widget = widgets.HTML(\n",
    "        value=f\"<h2 style='font-size: 20px; font-weight: bold;'>Annotating document {text_input.value} of 100 \"\n",
    "        f\"(Job/Course ID: {DOCUMENTS[doc_idx]['id']})</h2>\",\n",
    "    )\n",
    "\n",
    "    display(text_widget)\n",
    "\n",
    "    extraction_widget = jupyterannotate.AnnotateWidget(\n",
    "        docs=DOCUMENTS[doc_idx][\"full_text\"],\n",
    "        labels=LEVEL_LABELS,\n",
    "        # change size of text\n",
    "    )\n",
    "\n",
    "    return extraction_widget\n",
    "\n",
    "\n",
    "def save_extractions(doc_idx, extraction_widget):\n",
    "    extractions_list = []\n",
    "    try:\n",
    "        extractions_list.append(\n",
    "            {\n",
    "                \"doc_id\": DOCUMENTS[doc_idx][\"id\"],\n",
    "                \"extraction\": extraction_widget.spans[0],\n",
    "            }\n",
    "        )\n",
    "    except:\n",
    "        print(\"No terms highlighted from extraction step\")\n",
    "\n",
    "    try:\n",
    "        with open(\"extractions.json\", \"r\") as f:\n",
    "            extractions = json.load(f)\n",
    "    except FileNotFoundError:\n",
    "        extractions = []\n",
    "\n",
    "    updated = False\n",
    "    for idx, extraction in enumerate(extractions):\n",
    "        if extractions_list[0][\"doc_id\"] == extraction[\"doc_id\"]:\n",
    "            extractions[idx] = extractions_list[0]\n",
    "            updated = True\n",
    "            break\n",
    "\n",
    "    if not updated:\n",
    "        extractions.append(extractions_list[0])\n",
    "\n",
    "    # Writing the updated/modified data back to the file\n",
    "    with open(\"extractions.json\", \"w\") as f:\n",
    "        json.dump(extractions, f)\n",
    "\n",
    "\n",
    "def matching_step(extraction_widget):\n",
    "    user_inputs = {}\n",
    "    widget_sets = []\n",
    "\n",
    "    for index, item in enumerate(extraction_widget.spans[0]):\n",
    "        # create a text widget\n",
    "        text_widget = widgets.HTML(\n",
    "            value=f\"<h2 style='font-size: 18px; font-weight: bold;'>{item['text']}</h2>\",\n",
    "        )\n",
    "\n",
    "        match_1 = widgets.Combobox(\n",
    "            options=TAX_ELEMENTS,\n",
    "            placeholder=\"Select or type to add\",\n",
    "            ensure_option=True,\n",
    "            description=\"Label 1:\",\n",
    "        )\n",
    "\n",
    "        match_2 = widgets.Combobox(\n",
    "            options=TAX_ELEMENTS,\n",
    "            placeholder=\"NONE\",\n",
    "            ensure_option=True,\n",
    "            description=\"Label 2:\",\n",
    "        )\n",
    "\n",
    "        match_3 = widgets.Combobox(\n",
    "            options=TAX_ELEMENTS,\n",
    "            placeholder=\"NONE\",\n",
    "            ensure_option=True,\n",
    "            description=\"Label 3:\",\n",
    "        )\n",
    "\n",
    "        widget_group = VBox([text_widget, match_1, match_2, match_3])\n",
    "        display(widget_group)\n",
    "\n",
    "        # Save each widget set with the associated text item\n",
    "        widget_sets.append(\n",
    "            {\"text\": item[\"text\"], \"widgets\": (match_1, match_2, match_3)}\n",
    "        )\n",
    "\n",
    "    # Function to capture user inputs and associate them with the text\n",
    "    def on_value_change(change):\n",
    "        for widget_set in widget_sets:\n",
    "            labels = {}\n",
    "            for idx, widget in enumerate(widget_set[\"widgets\"]):\n",
    "                labels[f\"Match {idx+1}\"] = widget.value\n",
    "            user_inputs[widget_set[\"text\"]] = labels\n",
    "\n",
    "    # Capture and save user inputs when the widget values change\n",
    "    for widget_set in widget_sets:\n",
    "        for widget in widget_set[\"widgets\"]:\n",
    "            widget.observe(on_value_change, names=\"value\")\n",
    "\n",
    "    try:\n",
    "        with open(\"extractions.json\", \"r\") as f:\n",
    "            extractions = json.load(f)\n",
    "    except FileNotFoundError:\n",
    "        print(\"File not found - please check\")\n",
    "\n",
    "    def submit_button_matching(_):\n",
    "        for entry in extractions:\n",
    "            for extraction in entry[\"extraction\"]:\n",
    "                text = extraction[\"text\"]\n",
    "                if text in user_inputs:\n",
    "                    extraction.update(user_inputs[text])\n",
    "\n",
    "        with open(\"matching.json\", \"w\") as f:\n",
    "            json.dump(extractions, f)\n",
    "\n",
    "    # Create a submit button\n",
    "    submit_button = widgets.Button(description=\"Submit\", button_style=\"success\")\n",
    "\n",
    "    # Assign the submit_button_matching function to the button's on_click event\n",
    "    submit_button.on_click(submit_button_matching)\n",
    "\n",
    "    # Display the button widget\n",
    "    VBox([submit_button])\n",
    "\n",
    "\n",
    "df = load_data(\"job\")\n",
    "# SKILL_LABELS = [\"Skill\"]\n",
    "LEVEL_LABELS = [\"Beginner\", \"Intermediate\", \"Expert\", \"Unknown\"]\n",
    "DOCUMENTS = df[[\"id\", \"full_text\"]].sample(100, random_state=42).to_dict(\"records\")\n",
    "TAX_ELEMENTS = load_taxonomy(\"lowest\")"
   ]
  },
  {
   "cell_type": "code",
   "execution_count": 157,
   "metadata": {},
   "outputs": [
    {
     "data": {
      "application/vnd.jupyter.widget-view+json": {
       "model_id": "86375d0f940f4016bec337cbd9ade594",
       "version_major": 2,
       "version_minor": 0
      },
      "text/plain": [
       "HTML(value='<style>.widget-text .widget-label, .widget-text input {font-size: 20px; font-weight: bold;}</style…"
      ]
     },
     "metadata": {},
     "output_type": "display_data"
    },
    {
     "data": {
      "application/vnd.jupyter.widget-view+json": {
       "model_id": "17a6ee58aa2344f39b55f9c6ff82069d",
       "version_major": 2,
       "version_minor": 0
      },
      "text/plain": [
       "BoundedIntText(value=1, description='DOC:', layout=Layout(width='20%'), min=1)"
      ]
     },
     "metadata": {},
     "output_type": "display_data"
    }
   ],
   "source": [
    "style, text_input = doc_widget()\n",
    "display(style, text_input)"
   ]
  },
  {
   "cell_type": "code",
   "execution_count": 161,
   "metadata": {},
   "outputs": [
    {
     "data": {
      "application/vnd.jupyter.widget-view+json": {
       "model_id": "012a140fb1744824a5866f3008903d8b",
       "version_major": 2,
       "version_minor": 0
      },
      "text/plain": [
       "HTML(value=\"<h2 style='font-size: 20px; font-weight: bold;'>Annotating document 60 of 100 (Job/Course ID: 1535…"
      ]
     },
     "metadata": {},
     "output_type": "display_data"
    },
    {
     "data": {
      "application/vnd.jupyter.widget-view+json": {
       "model_id": "93dd12741fdb482cb54d64a2fdfc8060",
       "version_major": 2,
       "version_minor": 0
      },
      "text/plain": [
       "AnnotateWidget(value=None, docs=[\"Director - Microsoft Technology Capability and Go-To-Market Lead (all gender…"
      ]
     },
     "metadata": {},
     "output_type": "display_data"
    }
   ],
   "source": [
    "doc_idx = text_input.value - 1\n",
    "extraction_widget = extraction_step(text_input, doc_idx=doc_idx)\n",
    "display(extraction_widget)"
   ]
  },
  {
   "cell_type": "code",
   "execution_count": 170,
   "metadata": {},
   "outputs": [
    {
     "data": {
      "application/vnd.jupyter.widget-view+json": {
       "model_id": "2c891a364e8940cda1588e8b0c19d4e7",
       "version_major": 2,
       "version_minor": 0
      },
      "text/plain": [
       "VBox(children=(HTML(value=\"<h2 style='font-size: 18px; font-weight: bold;'>he ability to build relationships</…"
      ]
     },
     "metadata": {},
     "output_type": "display_data"
    }
   ],
   "source": [
    "matching_step(extraction_widget)"
   ]
  }
 ],
 "metadata": {
  "kernelspec": {
   "display_name": "proto",
   "language": "python",
   "name": "python3"
  },
  "language_info": {
   "codemirror_mode": {
    "name": "ipython",
    "version": 3
   },
   "file_extension": ".py",
   "mimetype": "text/x-python",
   "name": "python",
   "nbconvert_exporter": "python",
   "pygments_lexer": "ipython3",
   "version": "3.9.18"
  }
 },
 "nbformat": 4,
 "nbformat_minor": 2
}
