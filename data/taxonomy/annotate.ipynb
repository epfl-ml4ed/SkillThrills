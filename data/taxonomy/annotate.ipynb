{
 "cells": [
  {
   "cell_type": "code",
   "execution_count": 19,
   "metadata": {},
   "outputs": [
    {
     "name": "stdout",
     "output_type": "stream",
     "text": [
      "Requirement already satisfied: pip in /Users/annadai/miniforge3/envs/proto_test/lib/python3.11/site-packages (23.3)\n",
      "Requirement already satisfied: jupyterannotate in /Users/annadai/miniforge3/envs/proto_test/lib/python3.11/site-packages (0.1.3)\n",
      "Requirement already satisfied: ipywidgets>=7.0.0 in /Users/annadai/miniforge3/envs/proto_test/lib/python3.11/site-packages (from jupyterannotate) (8.1.1)\n",
      "Requirement already satisfied: comm>=0.1.3 in /Users/annadai/miniforge3/envs/proto_test/lib/python3.11/site-packages (from ipywidgets>=7.0.0->jupyterannotate) (0.1.4)\n",
      "Requirement already satisfied: ipython>=6.1.0 in /Users/annadai/miniforge3/envs/proto_test/lib/python3.11/site-packages (from ipywidgets>=7.0.0->jupyterannotate) (8.12.0)\n",
      "Requirement already satisfied: traitlets>=4.3.1 in /Users/annadai/miniforge3/envs/proto_test/lib/python3.11/site-packages (from ipywidgets>=7.0.0->jupyterannotate) (5.7.1)\n",
      "Requirement already satisfied: widgetsnbextension~=4.0.9 in /Users/annadai/miniforge3/envs/proto_test/lib/python3.11/site-packages (from ipywidgets>=7.0.0->jupyterannotate) (4.0.9)\n",
      "Requirement already satisfied: jupyterlab-widgets~=3.0.9 in /Users/annadai/miniforge3/envs/proto_test/lib/python3.11/site-packages (from ipywidgets>=7.0.0->jupyterannotate) (3.0.9)\n",
      "Requirement already satisfied: backcall in /Users/annadai/miniforge3/envs/proto_test/lib/python3.11/site-packages (from ipython>=6.1.0->ipywidgets>=7.0.0->jupyterannotate) (0.2.0)\n",
      "Requirement already satisfied: decorator in /Users/annadai/miniforge3/envs/proto_test/lib/python3.11/site-packages (from ipython>=6.1.0->ipywidgets>=7.0.0->jupyterannotate) (5.1.1)\n",
      "Requirement already satisfied: jedi>=0.16 in /Users/annadai/miniforge3/envs/proto_test/lib/python3.11/site-packages (from ipython>=6.1.0->ipywidgets>=7.0.0->jupyterannotate) (0.18.1)\n",
      "Requirement already satisfied: matplotlib-inline in /Users/annadai/miniforge3/envs/proto_test/lib/python3.11/site-packages (from ipython>=6.1.0->ipywidgets>=7.0.0->jupyterannotate) (0.1.6)\n",
      "Requirement already satisfied: pickleshare in /Users/annadai/miniforge3/envs/proto_test/lib/python3.11/site-packages (from ipython>=6.1.0->ipywidgets>=7.0.0->jupyterannotate) (0.7.5)\n",
      "Requirement already satisfied: prompt-toolkit!=3.0.37,<3.1.0,>=3.0.30 in /Users/annadai/miniforge3/envs/proto_test/lib/python3.11/site-packages (from ipython>=6.1.0->ipywidgets>=7.0.0->jupyterannotate) (3.0.36)\n",
      "Requirement already satisfied: pygments>=2.4.0 in /Users/annadai/miniforge3/envs/proto_test/lib/python3.11/site-packages (from ipython>=6.1.0->ipywidgets>=7.0.0->jupyterannotate) (2.15.1)\n",
      "Requirement already satisfied: stack-data in /Users/annadai/miniforge3/envs/proto_test/lib/python3.11/site-packages (from ipython>=6.1.0->ipywidgets>=7.0.0->jupyterannotate) (0.2.0)\n",
      "Requirement already satisfied: pexpect>4.3 in /Users/annadai/miniforge3/envs/proto_test/lib/python3.11/site-packages (from ipython>=6.1.0->ipywidgets>=7.0.0->jupyterannotate) (4.8.0)\n",
      "Requirement already satisfied: appnope in /Users/annadai/miniforge3/envs/proto_test/lib/python3.11/site-packages (from ipython>=6.1.0->ipywidgets>=7.0.0->jupyterannotate) (0.1.3)\n",
      "Requirement already satisfied: parso<0.9.0,>=0.8.0 in /Users/annadai/miniforge3/envs/proto_test/lib/python3.11/site-packages (from jedi>=0.16->ipython>=6.1.0->ipywidgets>=7.0.0->jupyterannotate) (0.8.3)\n",
      "Requirement already satisfied: ptyprocess>=0.5 in /Users/annadai/miniforge3/envs/proto_test/lib/python3.11/site-packages (from pexpect>4.3->ipython>=6.1.0->ipywidgets>=7.0.0->jupyterannotate) (0.7.0)\n",
      "Requirement already satisfied: wcwidth in /Users/annadai/miniforge3/envs/proto_test/lib/python3.11/site-packages (from prompt-toolkit!=3.0.37,<3.1.0,>=3.0.30->ipython>=6.1.0->ipywidgets>=7.0.0->jupyterannotate) (0.2.5)\n",
      "Requirement already satisfied: executing in /Users/annadai/miniforge3/envs/proto_test/lib/python3.11/site-packages (from stack-data->ipython>=6.1.0->ipywidgets>=7.0.0->jupyterannotate) (0.8.3)\n",
      "Requirement already satisfied: asttokens in /Users/annadai/miniforge3/envs/proto_test/lib/python3.11/site-packages (from stack-data->ipython>=6.1.0->ipywidgets>=7.0.0->jupyterannotate) (2.0.5)\n",
      "Requirement already satisfied: pure-eval in /Users/annadai/miniforge3/envs/proto_test/lib/python3.11/site-packages (from stack-data->ipython>=6.1.0->ipywidgets>=7.0.0->jupyterannotate) (0.2.2)\n",
      "Requirement already satisfied: six in /Users/annadai/miniforge3/envs/proto_test/lib/python3.11/site-packages (from asttokens->stack-data->ipython>=6.1.0->ipywidgets>=7.0.0->jupyterannotate) (1.16.0)\n",
      "Requirement already satisfied: jupyter_innotater in /Users/annadai/miniforge3/envs/proto_test/lib/python3.11/site-packages (0.3.1)\n",
      "Requirement already satisfied: numpy>=1.4.0 in /Users/annadai/miniforge3/envs/proto_test/lib/python3.11/site-packages (from jupyter_innotater) (1.25.0)\n",
      "Requirement already satisfied: pypng>=0.0.19 in /Users/annadai/miniforge3/envs/proto_test/lib/python3.11/site-packages (from jupyter_innotater) (0.20220715.0)\n",
      "Requirement already satisfied: jupyterlab~=3.0 in /Users/annadai/miniforge3/envs/proto_test/lib/python3.11/site-packages (from jupyter_innotater) (3.6.6)\n",
      "Requirement already satisfied: jupyter-packaging in /Users/annadai/miniforge3/envs/proto_test/lib/python3.11/site-packages (from jupyter_innotater) (0.12.3)\n",
      "Requirement already satisfied: ipywidgets>=7.6.5 in /Users/annadai/miniforge3/envs/proto_test/lib/python3.11/site-packages (from jupyter_innotater) (8.1.1)\n",
      "Requirement already satisfied: comm>=0.1.3 in /Users/annadai/miniforge3/envs/proto_test/lib/python3.11/site-packages (from ipywidgets>=7.6.5->jupyter_innotater) (0.1.4)\n",
      "Requirement already satisfied: ipython>=6.1.0 in /Users/annadai/miniforge3/envs/proto_test/lib/python3.11/site-packages (from ipywidgets>=7.6.5->jupyter_innotater) (8.12.0)\n",
      "Requirement already satisfied: traitlets>=4.3.1 in /Users/annadai/miniforge3/envs/proto_test/lib/python3.11/site-packages (from ipywidgets>=7.6.5->jupyter_innotater) (5.7.1)\n",
      "Requirement already satisfied: widgetsnbextension~=4.0.9 in /Users/annadai/miniforge3/envs/proto_test/lib/python3.11/site-packages (from ipywidgets>=7.6.5->jupyter_innotater) (4.0.9)\n",
      "Requirement already satisfied: jupyterlab-widgets~=3.0.9 in /Users/annadai/miniforge3/envs/proto_test/lib/python3.11/site-packages (from ipywidgets>=7.6.5->jupyter_innotater) (3.0.9)\n",
      "Requirement already satisfied: packaging in /Users/annadai/miniforge3/envs/proto_test/lib/python3.11/site-packages (from jupyterlab~=3.0->jupyter_innotater) (23.0)\n",
      "Requirement already satisfied: tornado>=6.1.0 in /Users/annadai/miniforge3/envs/proto_test/lib/python3.11/site-packages (from jupyterlab~=3.0->jupyter_innotater) (6.2)\n",
      "Requirement already satisfied: jupyter-core in /Users/annadai/miniforge3/envs/proto_test/lib/python3.11/site-packages (from jupyterlab~=3.0->jupyter_innotater) (5.3.0)\n",
      "Requirement already satisfied: jupyterlab-server~=2.19 in /Users/annadai/miniforge3/envs/proto_test/lib/python3.11/site-packages (from jupyterlab~=3.0->jupyter_innotater) (2.25.0)\n",
      "Requirement already satisfied: jupyter-server<3,>=1.16.0 in /Users/annadai/miniforge3/envs/proto_test/lib/python3.11/site-packages (from jupyterlab~=3.0->jupyter_innotater) (2.8.0)\n",
      "Requirement already satisfied: jupyter-ydoc~=0.2.4 in /Users/annadai/miniforge3/envs/proto_test/lib/python3.11/site-packages (from jupyterlab~=3.0->jupyter_innotater) (0.2.5)\n",
      "Requirement already satisfied: jupyter-server-ydoc~=0.8.0 in /Users/annadai/miniforge3/envs/proto_test/lib/python3.11/site-packages (from jupyterlab~=3.0->jupyter_innotater) (0.8.0)\n",
      "Requirement already satisfied: nbclassic in /Users/annadai/miniforge3/envs/proto_test/lib/python3.11/site-packages (from jupyterlab~=3.0->jupyter_innotater) (1.0.0)\n",
      "Requirement already satisfied: notebook<7 in /Users/annadai/miniforge3/envs/proto_test/lib/python3.11/site-packages (from jupyterlab~=3.0->jupyter_innotater) (6.5.6)\n",
      "Requirement already satisfied: jinja2>=2.1 in /Users/annadai/miniforge3/envs/proto_test/lib/python3.11/site-packages (from jupyterlab~=3.0->jupyter_innotater) (3.1.2)\n",
      "Requirement already satisfied: deprecation in /Users/annadai/miniforge3/envs/proto_test/lib/python3.11/site-packages (from jupyter-packaging->jupyter_innotater) (2.1.0)\n",
      "Requirement already satisfied: setuptools>=60.2.0 in /Users/annadai/miniforge3/envs/proto_test/lib/python3.11/site-packages (from jupyter-packaging->jupyter_innotater) (68.1.2)\n",
      "Requirement already satisfied: tomlkit in /Users/annadai/miniforge3/envs/proto_test/lib/python3.11/site-packages (from jupyter-packaging->jupyter_innotater) (0.12.1)\n",
      "Requirement already satisfied: wheel in /Users/annadai/miniforge3/envs/proto_test/lib/python3.11/site-packages (from jupyter-packaging->jupyter_innotater) (0.41.2)\n",
      "Requirement already satisfied: backcall in /Users/annadai/miniforge3/envs/proto_test/lib/python3.11/site-packages (from ipython>=6.1.0->ipywidgets>=7.6.5->jupyter_innotater) (0.2.0)\n",
      "Requirement already satisfied: decorator in /Users/annadai/miniforge3/envs/proto_test/lib/python3.11/site-packages (from ipython>=6.1.0->ipywidgets>=7.6.5->jupyter_innotater) (5.1.1)\n",
      "Requirement already satisfied: jedi>=0.16 in /Users/annadai/miniforge3/envs/proto_test/lib/python3.11/site-packages (from ipython>=6.1.0->ipywidgets>=7.6.5->jupyter_innotater) (0.18.1)\n",
      "Requirement already satisfied: matplotlib-inline in /Users/annadai/miniforge3/envs/proto_test/lib/python3.11/site-packages (from ipython>=6.1.0->ipywidgets>=7.6.5->jupyter_innotater) (0.1.6)\n",
      "Requirement already satisfied: pickleshare in /Users/annadai/miniforge3/envs/proto_test/lib/python3.11/site-packages (from ipython>=6.1.0->ipywidgets>=7.6.5->jupyter_innotater) (0.7.5)\n",
      "Requirement already satisfied: prompt-toolkit!=3.0.37,<3.1.0,>=3.0.30 in /Users/annadai/miniforge3/envs/proto_test/lib/python3.11/site-packages (from ipython>=6.1.0->ipywidgets>=7.6.5->jupyter_innotater) (3.0.36)\n",
      "Requirement already satisfied: pygments>=2.4.0 in /Users/annadai/miniforge3/envs/proto_test/lib/python3.11/site-packages (from ipython>=6.1.0->ipywidgets>=7.6.5->jupyter_innotater) (2.15.1)\n",
      "Requirement already satisfied: stack-data in /Users/annadai/miniforge3/envs/proto_test/lib/python3.11/site-packages (from ipython>=6.1.0->ipywidgets>=7.6.5->jupyter_innotater) (0.2.0)\n",
      "Requirement already satisfied: pexpect>4.3 in /Users/annadai/miniforge3/envs/proto_test/lib/python3.11/site-packages (from ipython>=6.1.0->ipywidgets>=7.6.5->jupyter_innotater) (4.8.0)\n",
      "Requirement already satisfied: appnope in /Users/annadai/miniforge3/envs/proto_test/lib/python3.11/site-packages (from ipython>=6.1.0->ipywidgets>=7.6.5->jupyter_innotater) (0.1.3)\n",
      "Requirement already satisfied: MarkupSafe>=2.0 in /Users/annadai/miniforge3/envs/proto_test/lib/python3.11/site-packages (from jinja2>=2.1->jupyterlab~=3.0->jupyter_innotater) (2.1.3)\n",
      "Requirement already satisfied: anyio>=3.1.0 in /Users/annadai/miniforge3/envs/proto_test/lib/python3.11/site-packages (from jupyter-server<3,>=1.16.0->jupyterlab~=3.0->jupyter_innotater) (4.0.0)\n",
      "Requirement already satisfied: argon2-cffi in /Users/annadai/miniforge3/envs/proto_test/lib/python3.11/site-packages (from jupyter-server<3,>=1.16.0->jupyterlab~=3.0->jupyter_innotater) (23.1.0)\n",
      "Requirement already satisfied: jupyter-client>=7.4.4 in /Users/annadai/miniforge3/envs/proto_test/lib/python3.11/site-packages (from jupyter-server<3,>=1.16.0->jupyterlab~=3.0->jupyter_innotater) (7.4.9)\n",
      "Requirement already satisfied: jupyter-events>=0.6.0 in /Users/annadai/miniforge3/envs/proto_test/lib/python3.11/site-packages (from jupyter-server<3,>=1.16.0->jupyterlab~=3.0->jupyter_innotater) (0.8.0)\n",
      "Requirement already satisfied: jupyter-server-terminals in /Users/annadai/miniforge3/envs/proto_test/lib/python3.11/site-packages (from jupyter-server<3,>=1.16.0->jupyterlab~=3.0->jupyter_innotater) (0.4.4)\n",
      "Requirement already satisfied: nbconvert>=6.4.4 in /Users/annadai/miniforge3/envs/proto_test/lib/python3.11/site-packages (from jupyter-server<3,>=1.16.0->jupyterlab~=3.0->jupyter_innotater) (7.9.2)\n",
      "Requirement already satisfied: nbformat>=5.3.0 in /Users/annadai/miniforge3/envs/proto_test/lib/python3.11/site-packages (from jupyter-server<3,>=1.16.0->jupyterlab~=3.0->jupyter_innotater) (5.9.2)\n",
      "Requirement already satisfied: overrides in /Users/annadai/miniforge3/envs/proto_test/lib/python3.11/site-packages (from jupyter-server<3,>=1.16.0->jupyterlab~=3.0->jupyter_innotater) (7.4.0)\n",
      "Requirement already satisfied: prometheus-client in /Users/annadai/miniforge3/envs/proto_test/lib/python3.11/site-packages (from jupyter-server<3,>=1.16.0->jupyterlab~=3.0->jupyter_innotater) (0.17.1)\n",
      "Requirement already satisfied: pyzmq>=24 in /Users/annadai/miniforge3/envs/proto_test/lib/python3.11/site-packages (from jupyter-server<3,>=1.16.0->jupyterlab~=3.0->jupyter_innotater) (24.0.1)\n",
      "Requirement already satisfied: send2trash>=1.8.2 in /Users/annadai/miniforge3/envs/proto_test/lib/python3.11/site-packages (from jupyter-server<3,>=1.16.0->jupyterlab~=3.0->jupyter_innotater) (1.8.2)\n",
      "Requirement already satisfied: terminado>=0.8.3 in /Users/annadai/miniforge3/envs/proto_test/lib/python3.11/site-packages (from jupyter-server<3,>=1.16.0->jupyterlab~=3.0->jupyter_innotater) (0.17.1)\n",
      "Requirement already satisfied: websocket-client in /Users/annadai/miniforge3/envs/proto_test/lib/python3.11/site-packages (from jupyter-server<3,>=1.16.0->jupyterlab~=3.0->jupyter_innotater) (1.6.4)\n",
      "Requirement already satisfied: platformdirs>=2.5 in /Users/annadai/miniforge3/envs/proto_test/lib/python3.11/site-packages (from jupyter-core->jupyterlab~=3.0->jupyter_innotater) (2.5.2)\n",
      "Requirement already satisfied: jupyter-server-fileid<1,>=0.6.0 in /Users/annadai/miniforge3/envs/proto_test/lib/python3.11/site-packages (from jupyter-server-ydoc~=0.8.0->jupyterlab~=3.0->jupyter_innotater) (0.9.0)\n",
      "Requirement already satisfied: ypy-websocket<0.9.0,>=0.8.2 in /Users/annadai/miniforge3/envs/proto_test/lib/python3.11/site-packages (from jupyter-server-ydoc~=0.8.0->jupyterlab~=3.0->jupyter_innotater) (0.8.4)\n",
      "Requirement already satisfied: y-py<0.7.0,>=0.6.0 in /Users/annadai/miniforge3/envs/proto_test/lib/python3.11/site-packages (from jupyter-ydoc~=0.2.4->jupyterlab~=3.0->jupyter_innotater) (0.6.2)\n",
      "Requirement already satisfied: babel>=2.10 in /Users/annadai/miniforge3/envs/proto_test/lib/python3.11/site-packages (from jupyterlab-server~=2.19->jupyterlab~=3.0->jupyter_innotater) (2.13.0)\n",
      "Requirement already satisfied: json5>=0.9.0 in /Users/annadai/miniforge3/envs/proto_test/lib/python3.11/site-packages (from jupyterlab-server~=2.19->jupyterlab~=3.0->jupyter_innotater) (0.9.14)\n",
      "Requirement already satisfied: jsonschema>=4.18.0 in /Users/annadai/miniforge3/envs/proto_test/lib/python3.11/site-packages (from jupyterlab-server~=2.19->jupyterlab~=3.0->jupyter_innotater) (4.19.1)\n",
      "Requirement already satisfied: requests>=2.31 in /Users/annadai/miniforge3/envs/proto_test/lib/python3.11/site-packages (from jupyterlab-server~=2.19->jupyterlab~=3.0->jupyter_innotater) (2.31.0)\n",
      "Requirement already satisfied: ipython-genutils in /Users/annadai/miniforge3/envs/proto_test/lib/python3.11/site-packages (from notebook<7->jupyterlab~=3.0->jupyter_innotater) (0.2.0)\n",
      "Requirement already satisfied: nest-asyncio>=1.5 in /Users/annadai/miniforge3/envs/proto_test/lib/python3.11/site-packages (from notebook<7->jupyterlab~=3.0->jupyter_innotater) (1.5.6)\n",
      "Requirement already satisfied: ipykernel in /Users/annadai/miniforge3/envs/proto_test/lib/python3.11/site-packages (from notebook<7->jupyterlab~=3.0->jupyter_innotater) (6.19.2)\n",
      "Requirement already satisfied: notebook-shim>=0.2.3 in /Users/annadai/miniforge3/envs/proto_test/lib/python3.11/site-packages (from nbclassic->jupyterlab~=3.0->jupyter_innotater) (0.2.3)\n",
      "Requirement already satisfied: idna>=2.8 in /Users/annadai/miniforge3/envs/proto_test/lib/python3.11/site-packages (from anyio>=3.1.0->jupyter-server<3,>=1.16.0->jupyterlab~=3.0->jupyter_innotater) (2.10)\n",
      "Requirement already satisfied: sniffio>=1.1 in /Users/annadai/miniforge3/envs/proto_test/lib/python3.11/site-packages (from anyio>=3.1.0->jupyter-server<3,>=1.16.0->jupyterlab~=3.0->jupyter_innotater) (1.3.0)\n",
      "Requirement already satisfied: parso<0.9.0,>=0.8.0 in /Users/annadai/miniforge3/envs/proto_test/lib/python3.11/site-packages (from jedi>=0.16->ipython>=6.1.0->ipywidgets>=7.6.5->jupyter_innotater) (0.8.3)\n",
      "Requirement already satisfied: attrs>=22.2.0 in /Users/annadai/miniforge3/envs/proto_test/lib/python3.11/site-packages (from jsonschema>=4.18.0->jupyterlab-server~=2.19->jupyterlab~=3.0->jupyter_innotater) (23.1.0)\n",
      "Requirement already satisfied: jsonschema-specifications>=2023.03.6 in /Users/annadai/miniforge3/envs/proto_test/lib/python3.11/site-packages (from jsonschema>=4.18.0->jupyterlab-server~=2.19->jupyterlab~=3.0->jupyter_innotater) (2023.7.1)\n",
      "Requirement already satisfied: referencing>=0.28.4 in /Users/annadai/miniforge3/envs/proto_test/lib/python3.11/site-packages (from jsonschema>=4.18.0->jupyterlab-server~=2.19->jupyterlab~=3.0->jupyter_innotater) (0.30.2)\n",
      "Requirement already satisfied: rpds-py>=0.7.1 in /Users/annadai/miniforge3/envs/proto_test/lib/python3.11/site-packages (from jsonschema>=4.18.0->jupyterlab-server~=2.19->jupyterlab~=3.0->jupyter_innotater) (0.10.6)\n",
      "Requirement already satisfied: entrypoints in /Users/annadai/miniforge3/envs/proto_test/lib/python3.11/site-packages (from jupyter-client>=7.4.4->jupyter-server<3,>=1.16.0->jupyterlab~=3.0->jupyter_innotater) (0.4)\n",
      "Requirement already satisfied: python-dateutil>=2.8.2 in /Users/annadai/miniforge3/envs/proto_test/lib/python3.11/site-packages (from jupyter-client>=7.4.4->jupyter-server<3,>=1.16.0->jupyterlab~=3.0->jupyter_innotater) (2.8.2)\n",
      "Requirement already satisfied: python-json-logger>=2.0.4 in /Users/annadai/miniforge3/envs/proto_test/lib/python3.11/site-packages (from jupyter-events>=0.6.0->jupyter-server<3,>=1.16.0->jupyterlab~=3.0->jupyter_innotater) (2.0.7)\n",
      "Requirement already satisfied: pyyaml>=5.3 in /Users/annadai/miniforge3/envs/proto_test/lib/python3.11/site-packages (from jupyter-events>=0.6.0->jupyter-server<3,>=1.16.0->jupyterlab~=3.0->jupyter_innotater) (6.0)\n",
      "Requirement already satisfied: rfc3339-validator in /Users/annadai/miniforge3/envs/proto_test/lib/python3.11/site-packages (from jupyter-events>=0.6.0->jupyter-server<3,>=1.16.0->jupyterlab~=3.0->jupyter_innotater) (0.1.4)\n",
      "Requirement already satisfied: rfc3986-validator>=0.1.1 in /Users/annadai/miniforge3/envs/proto_test/lib/python3.11/site-packages (from jupyter-events>=0.6.0->jupyter-server<3,>=1.16.0->jupyterlab~=3.0->jupyter_innotater) (0.1.1)\n",
      "Requirement already satisfied: beautifulsoup4 in /Users/annadai/miniforge3/envs/proto_test/lib/python3.11/site-packages (from nbconvert>=6.4.4->jupyter-server<3,>=1.16.0->jupyterlab~=3.0->jupyter_innotater) (4.12.2)\n",
      "Requirement already satisfied: bleach!=5.0.0 in /Users/annadai/miniforge3/envs/proto_test/lib/python3.11/site-packages (from nbconvert>=6.4.4->jupyter-server<3,>=1.16.0->jupyterlab~=3.0->jupyter_innotater) (6.1.0)\n",
      "Requirement already satisfied: defusedxml in /Users/annadai/miniforge3/envs/proto_test/lib/python3.11/site-packages (from nbconvert>=6.4.4->jupyter-server<3,>=1.16.0->jupyterlab~=3.0->jupyter_innotater) (0.7.1)\n",
      "Requirement already satisfied: jupyterlab-pygments in /Users/annadai/miniforge3/envs/proto_test/lib/python3.11/site-packages (from nbconvert>=6.4.4->jupyter-server<3,>=1.16.0->jupyterlab~=3.0->jupyter_innotater) (0.2.2)\n",
      "Requirement already satisfied: mistune<4,>=2.0.3 in /Users/annadai/miniforge3/envs/proto_test/lib/python3.11/site-packages (from nbconvert>=6.4.4->jupyter-server<3,>=1.16.0->jupyterlab~=3.0->jupyter_innotater) (3.0.2)\n",
      "Requirement already satisfied: nbclient>=0.5.0 in /Users/annadai/miniforge3/envs/proto_test/lib/python3.11/site-packages (from nbconvert>=6.4.4->jupyter-server<3,>=1.16.0->jupyterlab~=3.0->jupyter_innotater) (0.8.0)\n",
      "Requirement already satisfied: pandocfilters>=1.4.1 in /Users/annadai/miniforge3/envs/proto_test/lib/python3.11/site-packages (from nbconvert>=6.4.4->jupyter-server<3,>=1.16.0->jupyterlab~=3.0->jupyter_innotater) (1.5.0)\n",
      "Requirement already satisfied: tinycss2 in /Users/annadai/miniforge3/envs/proto_test/lib/python3.11/site-packages (from nbconvert>=6.4.4->jupyter-server<3,>=1.16.0->jupyterlab~=3.0->jupyter_innotater) (1.2.1)\n",
      "Requirement already satisfied: fastjsonschema in /Users/annadai/miniforge3/envs/proto_test/lib/python3.11/site-packages (from nbformat>=5.3.0->jupyter-server<3,>=1.16.0->jupyterlab~=3.0->jupyter_innotater) (2.18.1)\n",
      "Requirement already satisfied: ptyprocess>=0.5 in /Users/annadai/miniforge3/envs/proto_test/lib/python3.11/site-packages (from pexpect>4.3->ipython>=6.1.0->ipywidgets>=7.6.5->jupyter_innotater) (0.7.0)\n",
      "Requirement already satisfied: wcwidth in /Users/annadai/miniforge3/envs/proto_test/lib/python3.11/site-packages (from prompt-toolkit!=3.0.37,<3.1.0,>=3.0.30->ipython>=6.1.0->ipywidgets>=7.6.5->jupyter_innotater) (0.2.5)\n",
      "Requirement already satisfied: charset-normalizer<4,>=2 in /Users/annadai/miniforge3/envs/proto_test/lib/python3.11/site-packages (from requests>=2.31->jupyterlab-server~=2.19->jupyterlab~=3.0->jupyter_innotater) (3.2.0)\n",
      "Requirement already satisfied: urllib3<3,>=1.21.1 in /Users/annadai/miniforge3/envs/proto_test/lib/python3.11/site-packages (from requests>=2.31->jupyterlab-server~=2.19->jupyterlab~=3.0->jupyter_innotater) (1.26.16)\n",
      "Requirement already satisfied: certifi>=2017.4.17 in /Users/annadai/miniforge3/envs/proto_test/lib/python3.11/site-packages (from requests>=2.31->jupyterlab-server~=2.19->jupyterlab~=3.0->jupyter_innotater) (2023.7.22)\n",
      "Requirement already satisfied: aiofiles<23,>=22.1.0 in /Users/annadai/miniforge3/envs/proto_test/lib/python3.11/site-packages (from ypy-websocket<0.9.0,>=0.8.2->jupyter-server-ydoc~=0.8.0->jupyterlab~=3.0->jupyter_innotater) (22.1.0)\n",
      "Requirement already satisfied: aiosqlite<1,>=0.17.0 in /Users/annadai/miniforge3/envs/proto_test/lib/python3.11/site-packages (from ypy-websocket<0.9.0,>=0.8.2->jupyter-server-ydoc~=0.8.0->jupyterlab~=3.0->jupyter_innotater) (0.19.0)\n",
      "Requirement already satisfied: argon2-cffi-bindings in /Users/annadai/miniforge3/envs/proto_test/lib/python3.11/site-packages (from argon2-cffi->jupyter-server<3,>=1.16.0->jupyterlab~=3.0->jupyter_innotater) (21.2.0)\n",
      "Requirement already satisfied: debugpy>=1.0 in /Users/annadai/miniforge3/envs/proto_test/lib/python3.11/site-packages (from ipykernel->notebook<7->jupyterlab~=3.0->jupyter_innotater) (1.5.1)\n",
      "Requirement already satisfied: psutil in /Users/annadai/miniforge3/envs/proto_test/lib/python3.11/site-packages (from ipykernel->notebook<7->jupyterlab~=3.0->jupyter_innotater) (5.9.0)\n",
      "Requirement already satisfied: executing in /Users/annadai/miniforge3/envs/proto_test/lib/python3.11/site-packages (from stack-data->ipython>=6.1.0->ipywidgets>=7.6.5->jupyter_innotater) (0.8.3)\n",
      "Requirement already satisfied: asttokens in /Users/annadai/miniforge3/envs/proto_test/lib/python3.11/site-packages (from stack-data->ipython>=6.1.0->ipywidgets>=7.6.5->jupyter_innotater) (2.0.5)\n",
      "Requirement already satisfied: pure-eval in /Users/annadai/miniforge3/envs/proto_test/lib/python3.11/site-packages (from stack-data->ipython>=6.1.0->ipywidgets>=7.6.5->jupyter_innotater) (0.2.2)\n",
      "Requirement already satisfied: six>=1.9.0 in /Users/annadai/miniforge3/envs/proto_test/lib/python3.11/site-packages (from bleach!=5.0.0->nbconvert>=6.4.4->jupyter-server<3,>=1.16.0->jupyterlab~=3.0->jupyter_innotater) (1.16.0)\n",
      "Requirement already satisfied: webencodings in /Users/annadai/miniforge3/envs/proto_test/lib/python3.11/site-packages (from bleach!=5.0.0->nbconvert>=6.4.4->jupyter-server<3,>=1.16.0->jupyterlab~=3.0->jupyter_innotater) (0.5.1)\n",
      "Requirement already satisfied: fqdn in /Users/annadai/miniforge3/envs/proto_test/lib/python3.11/site-packages (from jsonschema[format-nongpl]>=4.18.0->jupyter-events>=0.6.0->jupyter-server<3,>=1.16.0->jupyterlab~=3.0->jupyter_innotater) (1.5.1)\n",
      "Requirement already satisfied: isoduration in /Users/annadai/miniforge3/envs/proto_test/lib/python3.11/site-packages (from jsonschema[format-nongpl]>=4.18.0->jupyter-events>=0.6.0->jupyter-server<3,>=1.16.0->jupyterlab~=3.0->jupyter_innotater) (20.11.0)\n",
      "Requirement already satisfied: jsonpointer>1.13 in /Users/annadai/miniforge3/envs/proto_test/lib/python3.11/site-packages (from jsonschema[format-nongpl]>=4.18.0->jupyter-events>=0.6.0->jupyter-server<3,>=1.16.0->jupyterlab~=3.0->jupyter_innotater) (2.4)\n",
      "Requirement already satisfied: uri-template in /Users/annadai/miniforge3/envs/proto_test/lib/python3.11/site-packages (from jsonschema[format-nongpl]>=4.18.0->jupyter-events>=0.6.0->jupyter-server<3,>=1.16.0->jupyterlab~=3.0->jupyter_innotater) (1.3.0)\n",
      "Requirement already satisfied: webcolors>=1.11 in /Users/annadai/miniforge3/envs/proto_test/lib/python3.11/site-packages (from jsonschema[format-nongpl]>=4.18.0->jupyter-events>=0.6.0->jupyter-server<3,>=1.16.0->jupyterlab~=3.0->jupyter_innotater) (1.13)\n",
      "Requirement already satisfied: cffi>=1.0.1 in /Users/annadai/miniforge3/envs/proto_test/lib/python3.11/site-packages (from argon2-cffi-bindings->argon2-cffi->jupyter-server<3,>=1.16.0->jupyterlab~=3.0->jupyter_innotater) (1.16.0)\n",
      "Requirement already satisfied: soupsieve>1.2 in /Users/annadai/miniforge3/envs/proto_test/lib/python3.11/site-packages (from beautifulsoup4->nbconvert>=6.4.4->jupyter-server<3,>=1.16.0->jupyterlab~=3.0->jupyter_innotater) (2.5)\n",
      "Requirement already satisfied: pycparser in /Users/annadai/miniforge3/envs/proto_test/lib/python3.11/site-packages (from cffi>=1.0.1->argon2-cffi-bindings->argon2-cffi->jupyter-server<3,>=1.16.0->jupyterlab~=3.0->jupyter_innotater) (2.21)\n",
      "Requirement already satisfied: arrow>=0.15.0 in /Users/annadai/miniforge3/envs/proto_test/lib/python3.11/site-packages (from isoduration->jsonschema[format-nongpl]>=4.18.0->jupyter-events>=0.6.0->jupyter-server<3,>=1.16.0->jupyterlab~=3.0->jupyter_innotater) (1.3.0)\n",
      "Requirement already satisfied: types-python-dateutil>=2.8.10 in /Users/annadai/miniforge3/envs/proto_test/lib/python3.11/site-packages (from arrow>=0.15.0->isoduration->jsonschema[format-nongpl]>=4.18.0->jupyter-events>=0.6.0->jupyter-server<3,>=1.16.0->jupyterlab~=3.0->jupyter_innotater) (2.8.19.14)\n"
     ]
    }
   ],
   "source": [
    "!pip install --upgrade pip\n",
    "!pip install jupyterannotate\n",
    "!pip install jupyter_innotater\n",
    "\n"
   ]
  },
  {
   "cell_type": "code",
   "execution_count": 13,
   "metadata": {},
   "outputs": [],
   "source": [
    "import jupyterannotate\n",
    "from jupyter_innotater import *"
   ]
  },
  {
   "cell_type": "markdown",
   "metadata": {},
   "source": [
    "# Jupyterannotate\n",
    "\n",
    "This is for the first step: to highlight what the skills are and what the skill level is."
   ]
  },
  {
   "cell_type": "code",
   "execution_count": 26,
   "metadata": {},
   "outputs": [],
   "source": [
    "# SKILL_LABELS = [\"Skill\"]\n",
    "LEVEL_LABELS = [\"Beginner\", \"Intermediate\", \"Expert\", \"Unknown\"]\n",
    "\n",
    "DOCUMENTS = [\n",
    "    \"Videokonferenzen vorbereiten und durchführen Erfolgreiche Online-Konferenzen und virtuelle Besprechungen.\",\n",
    "    \"Die Kommunikation über virtuelle Medien und mit moderner Technik ist für einige Arbeitnehmer noch Neuland\",\n",
    "]\n",
    "\n",
    "# Instantiate widget\n",
    "annotation_widget = jupyterannotate.AnnotateWidget(\n",
    "    docs=DOCUMENTS,\n",
    "    labels=LEVEL_LABELS,\n",
    ")"
   ]
  },
  {
   "cell_type": "code",
   "execution_count": 27,
   "metadata": {},
   "outputs": [
    {
     "data": {
      "application/vnd.jupyter.widget-view+json": {
       "model_id": "fe96f5b8f87c4f4082e2b930393a0f09",
       "version_major": 2,
       "version_minor": 0
      },
      "text/plain": [
       "AnnotateWidget(value=None, docs=['Videokonferenzen vorbereiten und durchführen Erfolgreiche Online-Konferenzen…"
      ]
     },
     "execution_count": 27,
     "metadata": {},
     "output_type": "execute_result"
    }
   ],
   "source": [
    "annotation_widget"
   ]
  },
  {
   "cell_type": "code",
   "execution_count": 29,
   "metadata": {},
   "outputs": [
    {
     "name": "stdout",
     "output_type": "stream",
     "text": [
      "No annotations yet\n"
     ]
    }
   ],
   "source": [
    "try:\n",
    "    annotation_widget.spans[0]\n",
    "except:\n",
    "    print(\"No annotations yet\")"
   ]
  },
  {
   "cell_type": "markdown",
   "metadata": {},
   "source": [
    "# Jupyter_innotator\n",
    "\n",
    "This is a multi-step attempt to annotate item in the taxonomy as well -> *WIP*"
   ]
  },
  {
   "cell_type": "code",
   "execution_count": 17,
   "metadata": {},
   "outputs": [
    {
     "ename": "Exception",
     "evalue": "No data argument found",
     "output_type": "error",
     "traceback": [
      "\u001b[0;31m---------------------------------------------------------------------------\u001b[0m",
      "\u001b[0;31mException\u001b[0m                                 Traceback (most recent call last)",
      "\u001b[1;32m/Users/annadai/Academics/Internship/EPFL/Projects/SkillThrills/data/taxonomy/annotate.ipynb Cell 7\u001b[0m line \u001b[0;36m3\n\u001b[1;32m      <a href='vscode-notebook-cell:/Users/annadai/Academics/Internship/EPFL/Projects/SkillThrills/data/taxonomy/annotate.ipynb#W5sZmlsZQ%3D%3D?line=0'>1</a>\u001b[0m Innotater(\n\u001b[1;32m      <a href='vscode-notebook-cell:/Users/annadai/Academics/Internship/EPFL/Projects/SkillThrills/data/taxonomy/annotate.ipynb#W5sZmlsZQ%3D%3D?line=1'>2</a>\u001b[0m     TextInnotation(DOCUMENTS, multiline\u001b[39m=\u001b[39m\u001b[39mTrue\u001b[39;00m),\n\u001b[0;32m----> <a href='vscode-notebook-cell:/Users/annadai/Academics/Internship/EPFL/Projects/SkillThrills/data/taxonomy/annotate.ipynb#W5sZmlsZQ%3D%3D?line=2'>3</a>\u001b[0m     MultiClassInnotation(classes\u001b[39m=\u001b[39mLEVEL_LABELS),\n\u001b[1;32m      <a href='vscode-notebook-cell:/Users/annadai/Academics/Internship/EPFL/Projects/SkillThrills/data/taxonomy/annotate.ipynb#W5sZmlsZQ%3D%3D?line=3'>4</a>\u001b[0m )\n",
      "File \u001b[0;32m~/miniforge3/envs/proto_test/lib/python3.11/site-packages/jupyter_innotater/data.py:258\u001b[0m, in \u001b[0;36mMultiClassInnotation.__init__\u001b[0;34m(self, *args, **kwargs)\u001b[0m\n\u001b[1;32m    256\u001b[0m \u001b[39mdef\u001b[39;00m \u001b[39m__init__\u001b[39m(\u001b[39mself\u001b[39m, \u001b[39m*\u001b[39margs, \u001b[39m*\u001b[39m\u001b[39m*\u001b[39mkwargs):\n\u001b[0;32m--> 258\u001b[0m     \u001b[39msuper\u001b[39m()\u001b[39m.\u001b[39m\u001b[39m__init__\u001b[39m(\u001b[39m*\u001b[39margs, \u001b[39m*\u001b[39m\u001b[39m*\u001b[39mkwargs)\n\u001b[1;32m    260\u001b[0m     \u001b[39m# Just a 1-dim array with values corresponding to class numbers e.g. 0-5\u001b[39;00m\n\u001b[1;32m    261\u001b[0m     \u001b[39mself\u001b[39m\u001b[39m.\u001b[39mdatadepth \u001b[39m=\u001b[39m \u001b[39m'\u001b[39m\u001b[39msimple\u001b[39m\u001b[39m'\u001b[39m\n",
      "File \u001b[0;32m~/miniforge3/envs/proto_test/lib/python3.11/site-packages/jupyter_innotater/mixins.py:16\u001b[0m, in \u001b[0;36mDataMixin.__init__\u001b[0;34m(self, *args, **kwargs)\u001b[0m\n\u001b[1;32m     14\u001b[0m   \u001b[39mself\u001b[39m\u001b[39m.\u001b[39mdata \u001b[39m=\u001b[39m kwargs[\u001b[39m'\u001b[39m\u001b[39mdata\u001b[39m\u001b[39m'\u001b[39m]\n\u001b[1;32m     15\u001b[0m \u001b[39melse\u001b[39;00m:\n\u001b[0;32m---> 16\u001b[0m   \u001b[39mraise\u001b[39;00m \u001b[39mException\u001b[39;00m(\u001b[39m'\u001b[39m\u001b[39mNo data argument found\u001b[39m\u001b[39m'\u001b[39m)\n",
      "\u001b[0;31mException\u001b[0m: No data argument found"
     ]
    }
   ],
   "source": [
    "Innotater(\n",
    "    TextInnotation(DOCUMENTS, multiline=True),\n",
    "    MultiClassInnotation(classes=LEVEL_LABELS),\n",
    ")"
   ]
  },
  {
   "cell_type": "code",
   "execution_count": null,
   "metadata": {},
   "outputs": [],
   "source": []
  }
 ],
 "metadata": {
  "kernelspec": {
   "display_name": "proto",
   "language": "python",
   "name": "python3"
  },
  "language_info": {
   "codemirror_mode": {
    "name": "ipython",
    "version": 3
   },
   "file_extension": ".py",
   "mimetype": "text/x-python",
   "name": "python",
   "nbconvert_exporter": "python",
   "pygments_lexer": "ipython3",
   "version": "3.11.4"
  }
 },
 "nbformat": 4,
 "nbformat_minor": 2
}
