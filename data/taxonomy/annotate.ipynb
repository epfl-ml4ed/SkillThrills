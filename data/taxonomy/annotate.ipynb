{
 "cells": [
  {
   "cell_type": "code",
   "execution_count": 38,
   "metadata": {},
   "outputs": [],
   "source": [
    "# !pip install --upgrade pip\n",
    "# !pip install pigeonXT\n",
    "# !pip install jupyter_innotater"
   ]
  },
  {
   "cell_type": "code",
   "execution_count": 10,
   "metadata": {},
   "outputs": [],
   "source": [
    "import jupyterannotate\n",
    "import pigeonXT as pixt\n",
    "import pandas as pd\n",
    "import numpy as np\n",
    "\n",
    "\n",
    "def load_data(type):\n",
    "    if type == \"job\":\n",
    "        df = pd.read_json(\"../raw/vacancies.json\")\n",
    "        df[\"full_text\"] = df[\"fulltext\"] = df[\"name\"] + \"\\n\" + df[\"description\"]\n",
    "\n",
    "    elif type == \"course\":\n",
    "        df = pd.read_json(\"../raw/learning_opportunities.json\")\n",
    "        df = df[df[\"active\"] == True]\n",
    "        keep_ids = {1, 5, 9}\n",
    "        df = df[df[\"study_ids\"].apply(lambda x: bool(set(x) & keep_ids))]\n",
    "\n",
    "    return df\n",
    "\n",
    "\n",
    "def load_lv2():\n",
    "    df = pd.read_csv(\"../taxonomy/taxonomy_V4.csv\", sep=\",\")\n",
    "    df = df.dropna(subset=[\"Definition\", \"Type Level 2\"])\n",
    "    # df[\"name+definition\"] = df.apply(concatenate_cols_skillname, axis=1)\n",
    "    keep_cols = [\n",
    "        \"Type Level 2\",\n",
    "    ]\n",
    "    df = df[keep_cols]\n",
    "    df = df.drop_duplicates().reset_index(drop=True)\n",
    "    list_lv2 = df[\"Type Level 2\"].tolist()\n",
    "    list_lv2 = list_lv2 + [\"NONE\", \"ADD_NEW\"]\n",
    "\n",
    "    return list_lv2\n",
    "\n",
    "\n",
    "df = load_data(\"job\")\n",
    "tax = load_lv2()\n",
    "\n",
    "# SKILL_LABELS = [\"Skill\"]\n",
    "LEVEL_LABELS = [\"Beginner\", \"Intermediate\", \"Expert\", \"Unknown\"]\n",
    "\n",
    "DOCUMENTS = list(df.sample(100, random_state=42)[\"full_text\"])\n",
    "\n",
    "# Instantiate widget\n",
    "annotation_widget = jupyterannotate.AnnotateWidget(\n",
    "    docs=DOCUMENTS,\n",
    "    labels=LEVEL_LABELS,\n",
    ")"
   ]
  },
  {
   "cell_type": "code",
   "execution_count": 4,
   "metadata": {},
   "outputs": [
    {
     "data": {
      "application/vnd.jupyter.widget-view+json": {
       "model_id": "c339918db02c466e9e0952e026121c68",
       "version_major": 2,
       "version_minor": 0
      },
      "text/plain": [
       "AnnotateWidget(value=None, docs=['ICT Security Operations Manager (a) 80-100%\\nICT Security Operations Manager…"
      ]
     },
     "execution_count": 4,
     "metadata": {},
     "output_type": "execute_result"
    }
   ],
   "source": [
    "annotation_widget"
   ]
  },
  {
   "cell_type": "code",
   "execution_count": 39,
   "metadata": {},
   "outputs": [],
   "source": [
    "annotation_widget.spans\n",
    "\n",
    "TO_MATCH = 0"
   ]
  },
  {
   "cell_type": "code",
   "execution_count": 15,
   "metadata": {},
   "outputs": [],
   "source": [
    "def get_skills_per_doc(doc_num):\n",
    "    span = annotation_widget.spans[doc_num]\n",
    "    list_of_skills = []\n",
    "    for skill in span:\n",
    "        text = skill[\"text\"]\n",
    "        text = text.strip()\n",
    "        list_of_skills.append(text)\n",
    "    skills = [{\"example\": skill} for skill in list_of_skills]\n",
    "    df = pd.DataFrame(skills)\n",
    "    return df"
   ]
  },
  {
   "cell_type": "code",
   "execution_count": 23,
   "metadata": {},
   "outputs": [],
   "source": [
    "try:\n",
    "    SKILLS_DF = get_skills_per_doc(TO_MATCH)\n",
    "except:\n",
    "    print(\"No annotations found for this document\")"
   ]
  },
  {
   "cell_type": "code",
   "execution_count": 24,
   "metadata": {},
   "outputs": [],
   "source": [
    "tax"
   ]
  },
  {
   "cell_type": "markdown",
   "metadata": {},
   "source": []
  },
  {
   "cell_type": "code",
   "execution_count": 37,
   "metadata": {},
   "outputs": [
    {
     "data": {
      "application/vnd.jupyter.widget-view+json": {
       "model_id": "fd159916b0bb41cf970222b927069996",
       "version_major": 2,
       "version_minor": 0
      },
      "text/plain": [
       "HTML(value='0 of 3 Examples annotated, Current Position: 0 ')"
      ]
     },
     "metadata": {},
     "output_type": "display_data"
    },
    {
     "data": {
      "application/vnd.jupyter.widget-view+json": {
       "model_id": "25cc6ae296a64b9fb39b6cfc9b40e0c6",
       "version_major": 2,
       "version_minor": 0
      },
      "text/plain": [
       "VBox(children=(HBox(children=(ToggleButton(value=False, description='Kognitive Fertigkeit'), ToggleButton(valu…"
      ]
     },
     "metadata": {},
     "output_type": "display_data"
    },
    {
     "data": {
      "application/vnd.jupyter.widget-view+json": {
       "model_id": "638d0cf6e3e54680a429e5afbf42c35b",
       "version_major": 2,
       "version_minor": 0
      },
      "text/plain": [
       "Output()"
      ]
     },
     "metadata": {},
     "output_type": "display_data"
    }
   ],
   "source": [
    "annotations = pixt.annotate(\n",
    "    SKILLS_DF,\n",
    "    options=tax,\n",
    "    task_type=\"multilabel-classification\",\n",
    "    buttons_in_a_row=5,\n",
    "    reset_buttons_after_click=True,\n",
    ")"
   ]
  },
  {
   "cell_type": "code",
   "execution_count": null,
   "metadata": {},
   "outputs": [],
   "source": []
  }
 ],
 "metadata": {
  "kernelspec": {
   "display_name": "proto",
   "language": "python",
   "name": "python3"
  },
  "language_info": {
   "codemirror_mode": {
    "name": "ipython",
    "version": 3
   },
   "file_extension": ".py",
   "mimetype": "text/x-python",
   "name": "python",
   "nbconvert_exporter": "python",
   "pygments_lexer": "ipython3",
   "version": "3.9.18"
  }
 },
 "nbformat": 4,
 "nbformat_minor": 2
}
