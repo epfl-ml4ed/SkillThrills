{
 "cells": [
  {
   "cell_type": "markdown",
   "metadata": {},
   "source": [
    "### Evrlearn vacancies\n",
    "\n",
    "\n",
    "Here we will extract and analyse the egnlish Evrlearn vacancies."
   ]
  },
  {
   "cell_type": "code",
   "execution_count": 1,
   "metadata": {},
   "outputs": [],
   "source": [
    "import sys\n",
    "sys.path.append(\"../protosp01/skillExtract/\")\n",
    "from utils import detect_language, split_sentences\n",
    "\n",
    "\n",
    "import pandas as pd\n",
    "import json\n",
    "from tqdm.notebook import tqdm\n",
    "import seaborn as sns\n",
    "\n",
    "tqdm.pandas()"
   ]
  },
  {
   "cell_type": "code",
   "execution_count": 2,
   "metadata": {},
   "outputs": [
    {
     "data": {
      "text/html": [
       "<div>\n",
       "<style scoped>\n",
       "    .dataframe tbody tr th:only-of-type {\n",
       "        vertical-align: middle;\n",
       "    }\n",
       "\n",
       "    .dataframe tbody tr th {\n",
       "        vertical-align: top;\n",
       "    }\n",
       "\n",
       "    .dataframe thead th {\n",
       "        text-align: right;\n",
       "    }\n",
       "</style>\n",
       "<table border=\"1\" class=\"dataframe\">\n",
       "  <thead>\n",
       "    <tr style=\"text-align: right;\">\n",
       "      <th></th>\n",
       "      <th>id</th>\n",
       "      <th>name</th>\n",
       "      <th>orig_url</th>\n",
       "      <th>company_name</th>\n",
       "      <th>company_url</th>\n",
       "      <th>lead</th>\n",
       "      <th>description</th>\n",
       "    </tr>\n",
       "  </thead>\n",
       "  <tbody>\n",
       "    <tr>\n",
       "      <th>0</th>\n",
       "      <td>4623</td>\n",
       "      <td>Business Analyst Leistungen</td>\n",
       "      <td>https://www.jobs.ch/en/vacancies/detail/70cabf...</td>\n",
       "      <td>ELCA Informatik AG</td>\n",
       "      <td>https://www.jobs.ch/en/companies/11529-elca-in...</td>\n",
       "      <td>None</td>\n",
       "      <td>Um unser Wachstum weiterhin erfolgreich fortzu...</td>\n",
       "    </tr>\n",
       "    <tr>\n",
       "      <th>1</th>\n",
       "      <td>15</td>\n",
       "      <td>Securities Master Data Specialist (Ref. 2177)</td>\n",
       "      <td>https://www.jobs.ch/en/vacancies/detail/0f8346...</td>\n",
       "      <td>None</td>\n",
       "      <td>None</td>\n",
       "      <td>None</td>\n",
       "      <td>&lt;!DOCTYPE html&gt;\\n&lt;html lang=\"en\" data-template...</td>\n",
       "    </tr>\n",
       "    <tr>\n",
       "      <th>2</th>\n",
       "      <td>2226</td>\n",
       "      <td>IT Supporter (m/w)</td>\n",
       "      <td>https://www.jobs.ch/en/vacancies/detail/e72b68...</td>\n",
       "      <td>univativ Schweiz AG</td>\n",
       "      <td>https://www.jobs.ch/en/companies/95851-univati...</td>\n",
       "      <td>Ob Student, Berufseinsteiger oder Berufserfahr...</td>\n",
       "      <td>Karrierelevel: Berufseinsteiger  Pensum: 80-10...</td>\n",
       "    </tr>\n",
       "    <tr>\n",
       "      <th>3</th>\n",
       "      <td>5</td>\n",
       "      <td>Scrum Master/-in &amp; Applikations-Analyst/-in Ep...</td>\n",
       "      <td>https://www.jobs.ch/en/vacancies/detail/9a1fa7...</td>\n",
       "      <td>None</td>\n",
       "      <td>None</td>\n",
       "      <td>None</td>\n",
       "      <td>Das Luzerner Kantonsspital mit den Standorten ...</td>\n",
       "    </tr>\n",
       "    <tr>\n",
       "      <th>4</th>\n",
       "      <td>16</td>\n",
       "      <td>Product Owner \"Financial Messaging\" for Multib...</td>\n",
       "      <td>https://www.jobs.ch/en/vacancies/detail/703709...</td>\n",
       "      <td>None</td>\n",
       "      <td>None</td>\n",
       "      <td>None</td>\n",
       "      <td>&lt;!DOCTYPE html&gt;\\n&lt;html lang=\"en\" data-template...</td>\n",
       "    </tr>\n",
       "  </tbody>\n",
       "</table>\n",
       "</div>"
      ],
      "text/plain": [
       "     id                                               name  \\\n",
       "0  4623                        Business Analyst Leistungen   \n",
       "1    15      Securities Master Data Specialist (Ref. 2177)   \n",
       "2  2226                                 IT Supporter (m/w)   \n",
       "3     5  Scrum Master/-in & Applikations-Analyst/-in Ep...   \n",
       "4    16  Product Owner \"Financial Messaging\" for Multib...   \n",
       "\n",
       "                                            orig_url         company_name  \\\n",
       "0  https://www.jobs.ch/en/vacancies/detail/70cabf...   ELCA Informatik AG   \n",
       "1  https://www.jobs.ch/en/vacancies/detail/0f8346...                 None   \n",
       "2  https://www.jobs.ch/en/vacancies/detail/e72b68...  univativ Schweiz AG   \n",
       "3  https://www.jobs.ch/en/vacancies/detail/9a1fa7...                 None   \n",
       "4  https://www.jobs.ch/en/vacancies/detail/703709...                 None   \n",
       "\n",
       "                                         company_url  \\\n",
       "0  https://www.jobs.ch/en/companies/11529-elca-in...   \n",
       "1                                               None   \n",
       "2  https://www.jobs.ch/en/companies/95851-univati...   \n",
       "3                                               None   \n",
       "4                                               None   \n",
       "\n",
       "                                                lead  \\\n",
       "0                                               None   \n",
       "1                                               None   \n",
       "2  Ob Student, Berufseinsteiger oder Berufserfahr...   \n",
       "3                                               None   \n",
       "4                                               None   \n",
       "\n",
       "                                         description  \n",
       "0  Um unser Wachstum weiterhin erfolgreich fortzu...  \n",
       "1  <!DOCTYPE html>\\n<html lang=\"en\" data-template...  \n",
       "2  Karrierelevel: Berufseinsteiger  Pensum: 80-10...  \n",
       "3  Das Luzerner Kantonsspital mit den Standorten ...  \n",
       "4  <!DOCTYPE html>\\n<html lang=\"en\" data-template...  "
      ]
     },
     "execution_count": 2,
     "metadata": {},
     "output_type": "execute_result"
    }
   ],
   "source": [
    "with open(\"../data/raw/vacancies.json\", \"r\") as f:\n",
    "    df = pd.DataFrame(json.load(f))\n",
    "\n",
    "df.head()"
   ]
  },
  {
   "cell_type": "markdown",
   "metadata": {},
   "source": [
    "#### Filtering on english vacancies"
   ]
  },
  {
   "cell_type": "code",
   "execution_count": 3,
   "metadata": {},
   "outputs": [
    {
     "data": {
      "application/vnd.jupyter.widget-view+json": {
       "model_id": "a2a37bd9ee034d518796738b8b1407a2",
       "version_major": 2,
       "version_minor": 0
      },
      "text/plain": [
       "  0%|          | 0/13649 [00:00<?, ?it/s]"
      ]
     },
     "metadata": {},
     "output_type": "display_data"
    }
   ],
   "source": [
    "df[\"lang\"] = df.description.progress_apply(detect_language)"
   ]
  },
  {
   "cell_type": "code",
   "execution_count": 4,
   "metadata": {},
   "outputs": [
    {
     "name": "stderr",
     "output_type": "stream",
     "text": [
      "/mnt/u14157_ic_nlp_001_files_nfs/nlpdata1/home/magron/miniconda3/envs/nlp1/lib/python3.9/site-packages/seaborn/_oldcore.py:1498: FutureWarning: is_categorical_dtype is deprecated and will be removed in a future version. Use isinstance(dtype, CategoricalDtype) instead\n",
      "  if pd.api.types.is_categorical_dtype(vector):\n",
      "/mnt/u14157_ic_nlp_001_files_nfs/nlpdata1/home/magron/miniconda3/envs/nlp1/lib/python3.9/site-packages/seaborn/_oldcore.py:1498: FutureWarning: is_categorical_dtype is deprecated and will be removed in a future version. Use isinstance(dtype, CategoricalDtype) instead\n",
      "  if pd.api.types.is_categorical_dtype(vector):\n",
      "/mnt/u14157_ic_nlp_001_files_nfs/nlpdata1/home/magron/miniconda3/envs/nlp1/lib/python3.9/site-packages/seaborn/_oldcore.py:1498: FutureWarning: is_categorical_dtype is deprecated and will be removed in a future version. Use isinstance(dtype, CategoricalDtype) instead\n",
      "  if pd.api.types.is_categorical_dtype(vector):\n"
     ]
    },
    {
     "data": {
      "text/plain": [
       "<Axes: xlabel='lang', ylabel='doc_count'>"
      ]
     },
     "execution_count": 4,
     "metadata": {},
     "output_type": "execute_result"
    },
    {
     "data": {
      "image/png": "[encoded data removed]",
      "text/plain": [
       "<Figure size 640x480 with 1 Axes>"
      ]
     },
     "metadata": {},
     "output_type": "display_data"
    }
   ],
   "source": [
    "langs = df[[\"lang\", \"id\"]].groupby(\"lang\").count().reset_index()\n",
    "langs[\"doc_count\"] = langs.id\n",
    "langs = langs.drop(\"id\", axis=1).sort_values(\"doc_count\", ascending=False)\n",
    "sns.barplot(data=langs, x=\"lang\", y=\"doc_count\")"
   ]
  },
  {
   "cell_type": "code",
   "execution_count": 5,
   "metadata": {},
   "outputs": [
    {
     "name": "stdout",
     "output_type": "stream",
     "text": [
      "2281\n"
     ]
    }
   ],
   "source": [
    "df_en = df[df.lang == \"en\"]\n",
    "print(len(df_en.index))"
   ]
  },
  {
   "cell_type": "code",
   "execution_count": null,
   "metadata": {},
   "outputs": [],
   "source": [
    "df_en.to_csv(\"../data/raw/en_vacancies.csv\")"
   ]
  },
  {
   "cell_type": "markdown",
   "metadata": {},
   "source": [
    "#### Processing the english descriptions"
   ]
  },
  {
   "cell_type": "code",
   "execution_count": 2,
   "metadata": {},
   "outputs": [],
   "source": [
    "import pandas as pd\n",
    "import seaborn as sns\n",
    "\n",
    "df_en = pd.read_csv(\"../data/raw/en_vacancies.csv\").drop(\"Unnamed: 0\", axis=1)"
   ]
  },
  {
   "cell_type": "code",
   "execution_count": 12,
   "metadata": {},
   "outputs": [
    {
     "name": "stderr",
     "output_type": "stream",
     "text": [
      "Asking to truncate to max_length but no maximum length is provided and the model has no predefined maximum length. Default to no truncation.\n",
      "/tmp/ipykernel_16110/169770955.py:6: SettingWithCopyWarning: \n",
      "A value is trying to be set on a copy of a slice from a DataFrame.\n",
      "Try using .loc[row_indexer,col_indexer] = value instead\n",
      "\n",
      "See the caveats in the documentation: https://pandas.pydata.org/pandas-docs/stable/user_guide/indexing.html#returning-a-view-versus-a-copy\n",
      "  df_en[\"nb_tokens\"] = df_en.description.apply(lambda x : len(word_emb_tokenizer(x, truncation=True)[\"input_ids\"]))\n"
     ]
    }
   ],
   "source": [
    "## we compute the distribution of the numbers of JobBERT tokens in the real vacancies\n",
    "\n",
    "from transformers import AutoTokenizer\n",
    "\n",
    "word_emb = \"jjzha/jobbert-base-cased\"\n",
    "word_emb_tokenizer = AutoTokenizer.from_pretrained(word_emb)\n",
    "\n",
    "df_en[\"nb_tokens\"] = df_en.description.apply(lambda x : len(word_emb_tokenizer(x, truncation=True)[\"input_ids\"]))"
   ]
  },
  {
   "cell_type": "code",
   "execution_count": 15,
   "metadata": {},
   "outputs": [
    {
     "name": "stderr",
     "output_type": "stream",
     "text": [
      "/mnt/u14157_ic_nlp_001_files_nfs/nlpdata1/home/magron/miniconda3/envs/nlp1/lib/python3.9/site-packages/seaborn/_oldcore.py:1498: FutureWarning: is_categorical_dtype is deprecated and will be removed in a future version. Use isinstance(dtype, CategoricalDtype) instead\n",
      "  if pd.api.types.is_categorical_dtype(vector):\n",
      "/mnt/u14157_ic_nlp_001_files_nfs/nlpdata1/home/magron/miniconda3/envs/nlp1/lib/python3.9/site-packages/seaborn/_oldcore.py:1119: FutureWarning: use_inf_as_na option is deprecated and will be removed in a future version. Convert inf values to NaN before operating instead.\n",
      "  with pd.option_context('mode.use_inf_as_na', True):\n"
     ]
    },
    {
     "data": {
      "image/png": "[encoded data removed]",
      "text/plain": [
       "<Figure size 640x480 with 1 Axes>"
      ]
     },
     "metadata": {},
     "output_type": "display_data"
    }
   ],
   "source": [
    "g = sns.histplot(data=df_en, x=\"nb_tokens\")\n",
    "g.set_title(\"Distribution of the length of the description\")\n",
    "g.set_xlabel(\"Length of the description\")\n",
    "g.set_ylabel(\"Number of description\")\n",
    "g.set_yscale(\"log\")"
   ]
  },
  {
   "cell_type": "markdown",
   "metadata": {},
   "source": [
    "Some of the job offers are in HTML format. Let's analyse the distribution and try to process them."
   ]
  },
  {
   "cell_type": "code",
   "execution_count": 3,
   "metadata": {},
   "outputs": [
    {
     "name": "stderr",
     "output_type": "stream",
     "text": [
      "/tmp/ipykernel_15355/3674572647.py:3: MarkupResemblesLocatorWarning: The input looks more like a filename than markup. You may want to open this file and pass the filehandle into Beautiful Soup.\n",
      "  df_en[\"is_html\"] = df_en[\"description\"].apply(lambda d : bool(BeautifulSoup(d, \"html.parser\").find()))\n",
      "/mnt/u14157_ic_nlp_001_files_nfs/nlpdata1/home/magron/miniconda3/envs/nlp1/lib/python3.9/site-packages/seaborn/_oldcore.py:1498: FutureWarning: is_categorical_dtype is deprecated and will be removed in a future version. Use isinstance(dtype, CategoricalDtype) instead\n",
      "  if pd.api.types.is_categorical_dtype(vector):\n",
      "/mnt/u14157_ic_nlp_001_files_nfs/nlpdata1/home/magron/miniconda3/envs/nlp1/lib/python3.9/site-packages/seaborn/_oldcore.py:1498: FutureWarning: is_categorical_dtype is deprecated and will be removed in a future version. Use isinstance(dtype, CategoricalDtype) instead\n",
      "  if pd.api.types.is_categorical_dtype(vector):\n",
      "/mnt/u14157_ic_nlp_001_files_nfs/nlpdata1/home/magron/miniconda3/envs/nlp1/lib/python3.9/site-packages/seaborn/_oldcore.py:1498: FutureWarning: is_categorical_dtype is deprecated and will be removed in a future version. Use isinstance(dtype, CategoricalDtype) instead\n",
      "  if pd.api.types.is_categorical_dtype(vector):\n"
     ]
    },
    {
     "data": {
      "text/plain": [
       "Text(0.5, 0, 'Is HTML ?')"
      ]
     },
     "execution_count": 3,
     "metadata": {},
     "output_type": "execute_result"
    },
    {
     "data": {
      "image/png": "[encoded data removed]",
      "text/plain": [
       "<Figure size 640x480 with 1 Axes>"
      ]
     },
     "metadata": {},
     "output_type": "display_data"
    }
   ],
   "source": [
    "from bs4 import BeautifulSoup\n",
    "\n",
    "df_en[\"is_html\"] = df_en[\"description\"].apply(lambda d : bool(BeautifulSoup(d, \"html.parser\").find()))\n",
    "\n",
    "g = sns.countplot(data=df_en, x=\"is_html\")\n",
    "g.set_title(\"Proportion of description that are HTML\")\n",
    "g.set_xlabel(\"Is HTML ?\")"
   ]
  },
  {
   "cell_type": "code",
   "execution_count": 4,
   "metadata": {},
   "outputs": [
    {
     "name": "stdout",
     "output_type": "stream",
     "text": [
      "Extracted  428  description\n",
      "After redirection failure filtering  115  samples kept\n"
     ]
    },
    {
     "name": "stderr",
     "output_type": "stream",
     "text": [
      "/tmp/ipykernel_15355/3418263572.py:2: SettingWithCopyWarning: \n",
      "A value is trying to be set on a copy of a slice from a DataFrame.\n",
      "Try using .loc[row_indexer,col_indexer] = value instead\n",
      "\n",
      "See the caveats in the documentation: https://pandas.pydata.org/pandas-docs/stable/user_guide/indexing.html#returning-a-view-versus-a-copy\n",
      "  html_desc[\"extract\"] = html_desc[\"description\"].apply(lambda d : \\\n"
     ]
    }
   ],
   "source": [
    "html_desc = df_en[df_en[\"is_html\"]]\n",
    "html_desc[\"extract\"] = html_desc[\"description\"].apply(lambda d : \\\n",
    "                                                      BeautifulSoup(d, \"html.parser\")\\\n",
    "                                                        .get_text())\n",
    "print(\"Extracted \", len(html_desc.index), \" description\")\n",
    "redirection_failure = \"\"\"\\n\\n\\n\\n\\n\\nredirecting...\\n\\n\\n\\nRedirection to company website\\nRedirection failed? Click here.\\n\\n\\n\"\"\"\n",
    "html_desc = html_desc[html_desc[\"extract\"] != redirection_failure] ## a lot of samples are lost here\n",
    "print(\"After redirection failure filtering \", len(html_desc.index), \" samples kept\")\n",
    "html_desc[\"description\"] = html_desc[\"extract\"]\n",
    "html_desc = html_desc.drop(\"extract\", axis=1)"
   ]
  },
  {
   "cell_type": "code",
   "execution_count": 5,
   "metadata": {},
   "outputs": [],
   "source": [
    "df = pd.concat([df_en[~df_en.is_html], html_desc])"
   ]
  },
  {
   "cell_type": "code",
   "execution_count": 6,
   "metadata": {},
   "outputs": [],
   "source": [
    "df.to_csv(\"../data/raw/en_vacancies_clean.csv\")"
   ]
  },
  {
   "cell_type": "markdown",
   "metadata": {},
   "source": [
    "#### Processing of the sentences"
   ]
  },
  {
   "cell_type": "code",
   "execution_count": 2,
   "metadata": {},
   "outputs": [],
   "source": [
    "import pandas as pd\n",
    "import seaborn as sns\n",
    "\n",
    "df_en = pd.read_csv(\"../data/raw/en_vacancies_clean.csv\").drop(\"Unnamed: 0\", axis=1)"
   ]
  },
  {
   "cell_type": "code",
   "execution_count": 25,
   "metadata": {},
   "outputs": [
    {
     "name": "stderr",
     "output_type": "stream",
     "text": [
      "Asking to truncate to max_length but no maximum length is provided and the model has no predefined maximum length. Default to no truncation.\n",
      "/mnt/u14157_ic_nlp_001_files_nfs/nlpdata1/home/magron/miniconda3/envs/nlp1/lib/python3.9/site-packages/seaborn/_oldcore.py:1498: FutureWarning: is_categorical_dtype is deprecated and will be removed in a future version. Use isinstance(dtype, CategoricalDtype) instead\n",
      "  if pd.api.types.is_categorical_dtype(vector):\n",
      "/mnt/u14157_ic_nlp_001_files_nfs/nlpdata1/home/magron/miniconda3/envs/nlp1/lib/python3.9/site-packages/seaborn/_oldcore.py:1119: FutureWarning: use_inf_as_na option is deprecated and will be removed in a future version. Convert inf values to NaN before operating instead.\n",
      "  with pd.option_context('mode.use_inf_as_na', True):\n"
     ]
    },
    {
     "data": {
      "text/plain": [
       "(1.0, 10000.0)"
      ]
     },
     "execution_count": 25,
     "metadata": {},
     "output_type": "execute_result"
    },
    {
     "data": {
      "image/png": "[encoded data removed]",
      "text/plain": [
       "<Figure size 640x480 with 1 Axes>"
      ]
     },
     "metadata": {},
     "output_type": "display_data"
    }
   ],
   "source": [
    "from transformers import AutoTokenizer\n",
    "\n",
    "word_emb = \"jjzha/jobbert-base-cased\"\n",
    "word_emb_tokenizer = AutoTokenizer.from_pretrained(word_emb)\n",
    "\n",
    "df_en[\"nb_tokens_processed\"] = df_en.description.apply(lambda x : len(word_emb_tokenizer(x, truncation=True)[\"input_ids\"]))\n",
    "\n",
    "\n",
    "g = sns.histplot(data=df_en, x=\"nb_tokens_processed\")\n",
    "g.set_title(\"Distribution of the length of the description\")\n",
    "g.set_xlabel(\"Length of the description\")\n",
    "g.set_ylabel(\"Number of description\")\n",
    "g.set_yscale(\"log\")\n",
    "g.set_xlim((1, 10_000))"
   ]
  },
  {
   "cell_type": "code",
   "execution_count": null,
   "metadata": {},
   "outputs": [],
   "source": [
    "import nltk\n",
    "from nltk import sent_tokenize, word_tokenize\n",
    "from transformers import AutoModel, AutoTokenizer\n",
    "import numpy as np\n",
    "nltk.download('punkt')\n",
    "\n",
    "## loading the proper tokenizer to compute the number of tokens\n",
    "tok = AutoTokenizer.from_pretrained(\"jjzha/jobbert-base-cased\")\n",
    "\n",
    "\n",
    "def get_number_of_tokens(s):\n",
    "    if(s != np.nan):\n",
    "        tokens = tok.tokenize(s)\n",
    "        return len(tokens)\n",
    "\n",
    "\n",
    "def sliding_window_gen(sentences, N):\n",
    "    concat_sentences = []\n",
    "    max_idx = len(sentences) - N\n",
    "    if(max_idx <= 0):\n",
    "        return []\n",
    "    for i in range(max_idx):\n",
    "        concat_sentences.append(\" \".join(sentences[i:i + N]))\n",
    "    return concat_sentences\n",
    "\n",
    "df = df_en\n",
    "df[\"sentences\"] = df[\"description\"].progress_apply(split_sentences)\n",
    "print(\"> Sentences splitted\")\n",
    "df[\"nb_of_sentences\"] = df[\"sentences\"].progress_apply(len)\n",
    "enhanced_df = df.copy() ## for later enhancing sentences\n",
    "df = df.explode(\"sentences\")\n",
    "df[\"sentence_len\"] = df[\"sentences\"].progress_apply(get_number_of_tokens)\n",
    "print(\"> computed number of tokens for simple sentences\")\n",
    "\n",
    "enhanced_df[\"enhanced_sentences\"] = enhanced_df[\"sentences\"].progress_apply(lambda sents : sliding_window_gen(sents, 2))\n",
    "print(\"> Enhanced sentences\")\n",
    "enhanced_df = enhanced_df.explode(\"enhanced_sentences\").dropna()\n",
    "enhanced_df[\"sentence_len\"] = enhanced_df[\"enhanced_sentences\"].progress_apply(get_number_of_tokens)\n",
    "print(\"> computed number of tokens for enhanced sentences\")\n"
   ]
  },
  {
   "cell_type": "code",
   "execution_count": 5,
   "metadata": {},
   "outputs": [
    {
     "data": {
      "text/html": [
       "<div>\n",
       "<style scoped>\n",
       "    .dataframe tbody tr th:only-of-type {\n",
       "        vertical-align: middle;\n",
       "    }\n",
       "\n",
       "    .dataframe tbody tr th {\n",
       "        vertical-align: top;\n",
       "    }\n",
       "\n",
       "    .dataframe thead th {\n",
       "        text-align: right;\n",
       "    }\n",
       "</style>\n",
       "<table border=\"1\" class=\"dataframe\">\n",
       "  <thead>\n",
       "    <tr style=\"text-align: right;\">\n",
       "      <th></th>\n",
       "      <th>id</th>\n",
       "      <th>name</th>\n",
       "      <th>orig_url</th>\n",
       "      <th>company_name</th>\n",
       "      <th>company_url</th>\n",
       "      <th>lead</th>\n",
       "      <th>description</th>\n",
       "      <th>lang</th>\n",
       "      <th>is_html</th>\n",
       "      <th>sentences</th>\n",
       "      <th>nb_of_sentences</th>\n",
       "      <th>enhanced_sentences</th>\n",
       "      <th>sentence_len</th>\n",
       "    </tr>\n",
       "  </thead>\n",
       "  <tbody>\n",
       "    <tr>\n",
       "      <th>11</th>\n",
       "      <td>5259</td>\n",
       "      <td>Pre-Sales Engineer</td>\n",
       "      <td>https://www.jobs.ch/en/vacancies/detail/8d1cf1...</td>\n",
       "      <td>CCR GmbH</td>\n",
       "      <td>https://www.jobs.ch/en/companies/95026-ccr-gmbh/</td>\n",
       "      <td>We are seeking a highly skilled and motivated ...</td>\n",
       "      <td>Presales Engineer - Cloud Contact Center Softw...</td>\n",
       "      <td>en</td>\n",
       "      <td>False</td>\n",
       "      <td>[Presales Engineer - Cloud Contact Center Soft...</td>\n",
       "      <td>22</td>\n",
       "      <td>Presales Engineer - Cloud Contact Center Softw...</td>\n",
       "      <td>68</td>\n",
       "    </tr>\n",
       "    <tr>\n",
       "      <th>11</th>\n",
       "      <td>5259</td>\n",
       "      <td>Pre-Sales Engineer</td>\n",
       "      <td>https://www.jobs.ch/en/vacancies/detail/8d1cf1...</td>\n",
       "      <td>CCR GmbH</td>\n",
       "      <td>https://www.jobs.ch/en/companies/95026-ccr-gmbh/</td>\n",
       "      <td>We are seeking a highly skilled and motivated ...</td>\n",
       "      <td>Presales Engineer - Cloud Contact Center Softw...</td>\n",
       "      <td>en</td>\n",
       "      <td>False</td>\n",
       "      <td>[Presales Engineer - Cloud Contact Center Soft...</td>\n",
       "      <td>22</td>\n",
       "      <td>As a Pre-sales Engineer, you will be responsib...</td>\n",
       "      <td>52</td>\n",
       "    </tr>\n",
       "    <tr>\n",
       "      <th>11</th>\n",
       "      <td>5259</td>\n",
       "      <td>Pre-Sales Engineer</td>\n",
       "      <td>https://www.jobs.ch/en/vacancies/detail/8d1cf1...</td>\n",
       "      <td>CCR GmbH</td>\n",
       "      <td>https://www.jobs.ch/en/companies/95026-ccr-gmbh/</td>\n",
       "      <td>We are seeking a highly skilled and motivated ...</td>\n",
       "      <td>Presales Engineer - Cloud Contact Center Softw...</td>\n",
       "      <td>en</td>\n",
       "      <td>False</td>\n",
       "      <td>[Presales Engineer - Cloud Contact Center Soft...</td>\n",
       "      <td>22</td>\n",
       "      <td>Â  The Company: CCR has been providing solutio...</td>\n",
       "      <td>39</td>\n",
       "    </tr>\n",
       "    <tr>\n",
       "      <th>11</th>\n",
       "      <td>5259</td>\n",
       "      <td>Pre-Sales Engineer</td>\n",
       "      <td>https://www.jobs.ch/en/vacancies/detail/8d1cf1...</td>\n",
       "      <td>CCR GmbH</td>\n",
       "      <td>https://www.jobs.ch/en/companies/95026-ccr-gmbh/</td>\n",
       "      <td>We are seeking a highly skilled and motivated ...</td>\n",
       "      <td>Presales Engineer - Cloud Contact Center Softw...</td>\n",
       "      <td>en</td>\n",
       "      <td>False</td>\n",
       "      <td>[Presales Engineer - Cloud Contact Center Soft...</td>\n",
       "      <td>22</td>\n",
       "      <td>The company was founded in January 2011 by som...</td>\n",
       "      <td>67</td>\n",
       "    </tr>\n",
       "    <tr>\n",
       "      <th>11</th>\n",
       "      <td>5259</td>\n",
       "      <td>Pre-Sales Engineer</td>\n",
       "      <td>https://www.jobs.ch/en/vacancies/detail/8d1cf1...</td>\n",
       "      <td>CCR GmbH</td>\n",
       "      <td>https://www.jobs.ch/en/companies/95026-ccr-gmbh/</td>\n",
       "      <td>We are seeking a highly skilled and motivated ...</td>\n",
       "      <td>Presales Engineer - Cloud Contact Center Softw...</td>\n",
       "      <td>en</td>\n",
       "      <td>False</td>\n",
       "      <td>[Presales Engineer - Cloud Contact Center Soft...</td>\n",
       "      <td>22</td>\n",
       "      <td>A Genesys and Microsoft Gold partner, with ove...</td>\n",
       "      <td>69</td>\n",
       "    </tr>\n",
       "    <tr>\n",
       "      <th>...</th>\n",
       "      <td>...</td>\n",
       "      <td>...</td>\n",
       "      <td>...</td>\n",
       "      <td>...</td>\n",
       "      <td>...</td>\n",
       "      <td>...</td>\n",
       "      <td>...</td>\n",
       "      <td>...</td>\n",
       "      <td>...</td>\n",
       "      <td>...</td>\n",
       "      <td>...</td>\n",
       "      <td>...</td>\n",
       "      <td>...</td>\n",
       "    </tr>\n",
       "    <tr>\n",
       "      <th>1843</th>\n",
       "      <td>15142</td>\n",
       "      <td>Site Reliability / DevOps Engineer (SRE) (w/m)</td>\n",
       "      <td>https://www.jobs.ch/en/vacancies/detail/173cb4...</td>\n",
       "      <td>Ãrztekasse Genossenschaft</td>\n",
       "      <td>https://www.jobs.ch/en/companies/91624-aerztek...</td>\n",
       "      <td>Ãrztekasse Genossenschaft provides business p...</td>\n",
       "      <td>Pensum: 80-100%Start: immediately or by appoin...</td>\n",
       "      <td>en</td>\n",
       "      <td>False</td>\n",
       "      <td>[Pensum: 80-100%Start: immediately or by appoi...</td>\n",
       "      <td>11</td>\n",
       "      <td>We look forward to receiving your application!...</td>\n",
       "      <td>15</td>\n",
       "    </tr>\n",
       "    <tr>\n",
       "      <th>1845</th>\n",
       "      <td>15671</td>\n",
       "      <td>Intraday Asset Trader (f/m/d)</td>\n",
       "      <td>https://www.jobs.ch/en/vacancies/detail/57a441...</td>\n",
       "      <td>Alpiq</td>\n",
       "      <td>https://www.jobs.ch/en/companies/99097-alpiq-ag/</td>\n",
       "      <td>Alpiq Holding Ltd. is a Swiss energy company o...</td>\n",
       "      <td>Are you passionate about the fast-paced world ...</td>\n",
       "      <td>en</td>\n",
       "      <td>False</td>\n",
       "      <td>[Are you passionate about the fast-paced world...</td>\n",
       "      <td>4</td>\n",
       "      <td>Are you passionate about the fast-paced world ...</td>\n",
       "      <td>31</td>\n",
       "    </tr>\n",
       "    <tr>\n",
       "      <th>1845</th>\n",
       "      <td>15671</td>\n",
       "      <td>Intraday Asset Trader (f/m/d)</td>\n",
       "      <td>https://www.jobs.ch/en/vacancies/detail/57a441...</td>\n",
       "      <td>Alpiq</td>\n",
       "      <td>https://www.jobs.ch/en/companies/99097-alpiq-ag/</td>\n",
       "      <td>Alpiq Holding Ltd. is a Swiss energy company o...</td>\n",
       "      <td>Are you passionate about the fast-paced world ...</td>\n",
       "      <td>en</td>\n",
       "      <td>False</td>\n",
       "      <td>[Are you passionate about the fast-paced world...</td>\n",
       "      <td>4</td>\n",
       "      <td>Are you a highly motivated, analytical thinker...</td>\n",
       "      <td>54</td>\n",
       "    </tr>\n",
       "    <tr>\n",
       "      <th>1846</th>\n",
       "      <td>15678</td>\n",
       "      <td>Application Supporter 2nd Level</td>\n",
       "      <td>https://www.jobs.ch/en/vacancies/detail/9376e1...</td>\n",
       "      <td>Pro Informatik AG</td>\n",
       "      <td>https://www.jobs.ch/en/companies/6114-pro-info...</td>\n",
       "      <td>Critical eBanking Application - Unix - Java Ap...</td>\n",
       "      <td>Responsibilities   Application support of seve...</td>\n",
       "      <td>en</td>\n",
       "      <td>False</td>\n",
       "      <td>[Responsibilities Application support of sever...</td>\n",
       "      <td>4</td>\n",
       "      <td>Responsibilities Application support of severa...</td>\n",
       "      <td>208</td>\n",
       "    </tr>\n",
       "    <tr>\n",
       "      <th>1846</th>\n",
       "      <td>15678</td>\n",
       "      <td>Application Supporter 2nd Level</td>\n",
       "      <td>https://www.jobs.ch/en/vacancies/detail/9376e1...</td>\n",
       "      <td>Pro Informatik AG</td>\n",
       "      <td>https://www.jobs.ch/en/companies/6114-pro-info...</td>\n",
       "      <td>Critical eBanking Application - Unix - Java Ap...</td>\n",
       "      <td>Responsibilities   Application support of seve...</td>\n",
       "      <td>en</td>\n",
       "      <td>False</td>\n",
       "      <td>[Responsibilities Application support of sever...</td>\n",
       "      <td>4</td>\n",
       "      <td>We pay great attention to further training and...</td>\n",
       "      <td>24</td>\n",
       "    </tr>\n",
       "  </tbody>\n",
       "</table>\n",
       "<p>1217 rows × 13 columns</p>\n",
       "</div>"
      ],
      "text/plain": [
       "         id                                            name  \\\n",
       "11     5259                              Pre-Sales Engineer   \n",
       "11     5259                              Pre-Sales Engineer   \n",
       "11     5259                              Pre-Sales Engineer   \n",
       "11     5259                              Pre-Sales Engineer   \n",
       "11     5259                              Pre-Sales Engineer   \n",
       "...     ...                                             ...   \n",
       "1843  15142  Site Reliability / DevOps Engineer (SRE) (w/m)   \n",
       "1845  15671                   Intraday Asset Trader (f/m/d)   \n",
       "1845  15671                   Intraday Asset Trader (f/m/d)   \n",
       "1846  15678                 Application Supporter 2nd Level   \n",
       "1846  15678                 Application Supporter 2nd Level   \n",
       "\n",
       "                                               orig_url  \\\n",
       "11    https://www.jobs.ch/en/vacancies/detail/8d1cf1...   \n",
       "11    https://www.jobs.ch/en/vacancies/detail/8d1cf1...   \n",
       "11    https://www.jobs.ch/en/vacancies/detail/8d1cf1...   \n",
       "11    https://www.jobs.ch/en/vacancies/detail/8d1cf1...   \n",
       "11    https://www.jobs.ch/en/vacancies/detail/8d1cf1...   \n",
       "...                                                 ...   \n",
       "1843  https://www.jobs.ch/en/vacancies/detail/173cb4...   \n",
       "1845  https://www.jobs.ch/en/vacancies/detail/57a441...   \n",
       "1845  https://www.jobs.ch/en/vacancies/detail/57a441...   \n",
       "1846  https://www.jobs.ch/en/vacancies/detail/9376e1...   \n",
       "1846  https://www.jobs.ch/en/vacancies/detail/9376e1...   \n",
       "\n",
       "                    company_name  \\\n",
       "11                      CCR GmbH   \n",
       "11                      CCR GmbH   \n",
       "11                      CCR GmbH   \n",
       "11                      CCR GmbH   \n",
       "11                      CCR GmbH   \n",
       "...                          ...   \n",
       "1843  Ãrztekasse Genossenschaft   \n",
       "1845                       Alpiq   \n",
       "1845                       Alpiq   \n",
       "1846           Pro Informatik AG   \n",
       "1846           Pro Informatik AG   \n",
       "\n",
       "                                            company_url  \\\n",
       "11     https://www.jobs.ch/en/companies/95026-ccr-gmbh/   \n",
       "11     https://www.jobs.ch/en/companies/95026-ccr-gmbh/   \n",
       "11     https://www.jobs.ch/en/companies/95026-ccr-gmbh/   \n",
       "11     https://www.jobs.ch/en/companies/95026-ccr-gmbh/   \n",
       "11     https://www.jobs.ch/en/companies/95026-ccr-gmbh/   \n",
       "...                                                 ...   \n",
       "1843  https://www.jobs.ch/en/companies/91624-aerztek...   \n",
       "1845   https://www.jobs.ch/en/companies/99097-alpiq-ag/   \n",
       "1845   https://www.jobs.ch/en/companies/99097-alpiq-ag/   \n",
       "1846  https://www.jobs.ch/en/companies/6114-pro-info...   \n",
       "1846  https://www.jobs.ch/en/companies/6114-pro-info...   \n",
       "\n",
       "                                                   lead  \\\n",
       "11    We are seeking a highly skilled and motivated ...   \n",
       "11    We are seeking a highly skilled and motivated ...   \n",
       "11    We are seeking a highly skilled and motivated ...   \n",
       "11    We are seeking a highly skilled and motivated ...   \n",
       "11    We are seeking a highly skilled and motivated ...   \n",
       "...                                                 ...   \n",
       "1843  Ãrztekasse Genossenschaft provides business p...   \n",
       "1845  Alpiq Holding Ltd. is a Swiss energy company o...   \n",
       "1845  Alpiq Holding Ltd. is a Swiss energy company o...   \n",
       "1846  Critical eBanking Application - Unix - Java Ap...   \n",
       "1846  Critical eBanking Application - Unix - Java Ap...   \n",
       "\n",
       "                                            description lang  is_html  \\\n",
       "11    Presales Engineer - Cloud Contact Center Softw...   en    False   \n",
       "11    Presales Engineer - Cloud Contact Center Softw...   en    False   \n",
       "11    Presales Engineer - Cloud Contact Center Softw...   en    False   \n",
       "11    Presales Engineer - Cloud Contact Center Softw...   en    False   \n",
       "11    Presales Engineer - Cloud Contact Center Softw...   en    False   \n",
       "...                                                 ...  ...      ...   \n",
       "1843  Pensum: 80-100%Start: immediately or by appoin...   en    False   \n",
       "1845  Are you passionate about the fast-paced world ...   en    False   \n",
       "1845  Are you passionate about the fast-paced world ...   en    False   \n",
       "1846  Responsibilities   Application support of seve...   en    False   \n",
       "1846  Responsibilities   Application support of seve...   en    False   \n",
       "\n",
       "                                              sentences  nb_of_sentences  \\\n",
       "11    [Presales Engineer - Cloud Contact Center Soft...               22   \n",
       "11    [Presales Engineer - Cloud Contact Center Soft...               22   \n",
       "11    [Presales Engineer - Cloud Contact Center Soft...               22   \n",
       "11    [Presales Engineer - Cloud Contact Center Soft...               22   \n",
       "11    [Presales Engineer - Cloud Contact Center Soft...               22   \n",
       "...                                                 ...              ...   \n",
       "1843  [Pensum: 80-100%Start: immediately or by appoi...               11   \n",
       "1845  [Are you passionate about the fast-paced world...                4   \n",
       "1845  [Are you passionate about the fast-paced world...                4   \n",
       "1846  [Responsibilities Application support of sever...                4   \n",
       "1846  [Responsibilities Application support of sever...                4   \n",
       "\n",
       "                                     enhanced_sentences  sentence_len  \n",
       "11    Presales Engineer - Cloud Contact Center Softw...            68  \n",
       "11    As a Pre-sales Engineer, you will be responsib...            52  \n",
       "11    Â  The Company: CCR has been providing solutio...            39  \n",
       "11    The company was founded in January 2011 by som...            67  \n",
       "11    A Genesys and Microsoft Gold partner, with ove...            69  \n",
       "...                                                 ...           ...  \n",
       "1843  We look forward to receiving your application!...            15  \n",
       "1845  Are you passionate about the fast-paced world ...            31  \n",
       "1845  Are you a highly motivated, analytical thinker...            54  \n",
       "1846  Responsibilities Application support of severa...           208  \n",
       "1846  We pay great attention to further training and...            24  \n",
       "\n",
       "[1217 rows x 13 columns]"
      ]
     },
     "execution_count": 5,
     "metadata": {},
     "output_type": "execute_result"
    }
   ],
   "source": [
    "enhanced_df"
   ]
  },
  {
   "cell_type": "code",
   "execution_count": 47,
   "metadata": {},
   "outputs": [
    {
     "name": "stderr",
     "output_type": "stream",
     "text": [
      "/mnt/u14157_ic_nlp_001_files_nfs/nlpdata1/home/magron/miniconda3/envs/nlp1/lib/python3.9/site-packages/seaborn/_oldcore.py:1498: FutureWarning: is_categorical_dtype is deprecated and will be removed in a future version. Use isinstance(dtype, CategoricalDtype) instead\n",
      "  if pd.api.types.is_categorical_dtype(vector):\n",
      "/mnt/u14157_ic_nlp_001_files_nfs/nlpdata1/home/magron/miniconda3/envs/nlp1/lib/python3.9/site-packages/seaborn/_oldcore.py:1119: FutureWarning: use_inf_as_na option is deprecated and will be removed in a future version. Convert inf values to NaN before operating instead.\n",
      "  with pd.option_context('mode.use_inf_as_na', True):\n",
      "/mnt/u14157_ic_nlp_001_files_nfs/nlpdata1/home/magron/miniconda3/envs/nlp1/lib/python3.9/site-packages/seaborn/_oldcore.py:1498: FutureWarning: is_categorical_dtype is deprecated and will be removed in a future version. Use isinstance(dtype, CategoricalDtype) instead\n",
      "  if pd.api.types.is_categorical_dtype(vector):\n",
      "/mnt/u14157_ic_nlp_001_files_nfs/nlpdata1/home/magron/miniconda3/envs/nlp1/lib/python3.9/site-packages/seaborn/_oldcore.py:1119: FutureWarning: use_inf_as_na option is deprecated and will be removed in a future version. Convert inf values to NaN before operating instead.\n",
      "  with pd.option_context('mode.use_inf_as_na', True):\n"
     ]
    },
    {
     "data": {
      "text/plain": [
       "<matplotlib.legend.Legend at 0x7fb32e86aaf0>"
      ]
     },
     "execution_count": 47,
     "metadata": {},
     "output_type": "execute_result"
    },
    {
     "data": {
      "image/png": "[encoded data removed]",
      "text/plain": [
       "<Figure size 640x480 with 2 Axes>"
      ]
     },
     "metadata": {},
     "output_type": "display_data"
    }
   ],
   "source": [
    "from matplotlib import pyplot as plt\n",
    "f, a = plt.subplots(1, 2)\n",
    "sns.histplot(data=enhanced_df, x=\"sentence_len\", label=\"enhanced sentences\", ax=a[0])\n",
    "g = sns.histplot(data=df, x=\"sentence_len\", label=\"unit sentences\", ax=a[1])\n",
    "a[0].set_xlim((0, 512))\n",
    "a[1].set_xlim((0, 512))\n",
    "\n",
    "a[1].legend()\n",
    "a[0].legend()"
   ]
  },
  {
   "cell_type": "markdown",
   "metadata": {},
   "source": [
    "Limiting to the sentences that fit JobBERT"
   ]
  },
  {
   "cell_type": "code",
   "execution_count": 48,
   "metadata": {},
   "outputs": [],
   "source": [
    "df = df[df.sentence_len <= 512]\n",
    "enhanced_df = enhanced_df[enhanced_df.sentence_len <= 512]"
   ]
  },
  {
   "cell_type": "code",
   "execution_count": 51,
   "metadata": {},
   "outputs": [],
   "source": [
    "df.to_csv(\"../data/processed/real/job_offers_sentences.csv\")\n",
    "enhanced_df.to_csv(\"../data/processed/real/job_offers_compound_2.csv\")"
   ]
  },
  {
   "cell_type": "markdown",
   "metadata": {},
   "source": [
    "### Find examples of negative samples"
   ]
  },
  {
   "cell_type": "code",
   "execution_count": 47,
   "metadata": {},
   "outputs": [
    {
     "data": {
      "text/plain": [
       "[\"Your Mission:  Are you experienced in planning, implementing, and operating modern networks? With the position as IT-Network Engineer (m/f/d) you'll be a major contributor within ongoing migration and modernization projects! Â\\xa0  Your tasks:   Monitoring, optimization, maintenance, and upgrade of the existing corporate network infrastructure Monitor network performance, test for weaknesses, and conduct regular security review Specify system requirements and design solutions Preparation and maintenance of policies and documentation General IT operational support e.g., resolving problems reported by end user  Â\\xa0  Your profile:   A degree in computer science or equivalent professional training with relevant work experience Professional experience in a network administrator role Excellent knowledge of best practices around network management and network security Experience with CISCO and Palo Alto firewalls, VPNâ\\x80\\x99s implementation, troubleshooting /problem resolution Excellent verbal and written language skills in English and German  Â\\xa0  Our offer:   An interesting job in an international company that offers you the opportunity to use your technical skills in wide variety of settings Attractive salary package Flexible working hourse and homeoffice possibilities Internal and external possibilities Work in an exciting and dynamic environment\",\n",
       " 'ABOUT CAPCO  Capco is a global technology and management consultancy dedicated to the financial services industry',\n",
       " '#jobAdContainer .section {margin-top: 25px; }\\n#jobAdContainer .logo {margin-top: 78px; }\\n#jobAdContainer .city {background-image: url(https://jobdata.prescreen.io/leica_geosystems/point.png); background-repeat: no-repeat; background-position: 0 50%; background-size: 15px; font-size: 15px; font-weight: bold; padding: 8px 0 8px 23px; }\\n#jobAdPdfMarker .city {background-size: 50px; }\\n#jobAdContainer .job-info span {font-weight: bold; font-size: 15px; }\\n#jobAdContainer h1 {font-size: 24px; color: #0097ba; margin: 20px 0 15px; font-weight: bold; }\\n#jobAdContainer h2 {font-size: 14px; color: #333333; margin: 25px 0 15px; font-weight: bold; }\\n#jobAdContainer ul {list-style-image: url(https://jobdata.prescreen.io/leica_geosystems/li.png); padding-left: 15px; }\\n#jobAdContainer .btn {display: block; background-color: #0097ba; border-color: #0097ba; color: #fff; border-radius: 0; }\\n#jobAdContainer .btn-pdf {background-color: #0097ba; height: 30px; line-height: 30px; color: #fff; font-weight: bold; }\\n#jobAdPdfMarker .btn {border: #0097ba solid 8px; }\\n#jobAdContainer .btn:hover, #jobAdContainer .btn:active, #jobAdContainer .btn:focus {background-color: #fff; border-color: #0097ba; color: #0097ba; }\\n#jobAdContainer .btn-container {padding: 20px 0; text-align: center; }\\n#jobAdPdfMarker .btn-container {padding: 23px 0; }\\n#jobAdContainer .ja-left {width: 47%; margin: 0; }\\n#jobAdContainer .ja-middle {float: left; width: 6%; }\\n#jobAdContainer .ja-right {width: 47%; }\\n@media screen and (max-width: 560px) {\\n#jobAdContainer .ja-block {padding: 0 15px; }\\n#jobAdContainer h1 {font-size: 21px; }\\n#jobAdContainer .ja-left, #jobAdContainer .ja-right {width: auto; display: block; float: none; padding: 0 !important; }\\n#jobAdContainer .ja-middle {display: none; }\\n#jobAdContainer .logo {margin-top: 20px; }\\n }\\n \\n    \\n     \\n      \\n       \\n      \\n      \\n       \\n        \\n        Committed and with passion for precision we create digital reality solutions combining sensor, software, and autonomous technologies to empower a sustainable future',\n",
       " 'Development Engineer for High-Precision Survey Measurement Software Your responsibilities  The Geodetic Metrology group within the Beams Department provides metrology and alignment for components installed in the accelerators and experiments throughout the CERN complex and handles all related geodetic aspects.In this role, you will:  \\n be in charge of the unification and consolidation of this software; Â\\xa0 \\n plan and implement major improvements in terms of stability, design, ergonomics and new functionalities greatly simplifying its use in field conditions; \\n have the opportunity to accompany surveying teams in the underground areas to gain an in-depth understanding of their very specific working environment and measurement techniques; \\n will regularly re-prioritize development tasks with the surveying teamsÂ\\xa0and organize validations and demos of intermediate software deliveries, according to an AGILE development approach.Â\\xa0 \\n  Your profile   Skills and/or knowledge   \\n Proven experience in object-oriented programming, more specifically in C# and related as well as NET framework; \\n Experience with GIT advanced version control concepts; \\n Excellent organisational and time management skills: delivering high quality work on time and fulfilling expectations; \\n Effective collaboration within a team and technical support to ensure a high quality, error-free product; \\n Highly structured working method; \\n Goal oriented',\n",
       " 'Data Warehouse Analyst (Pharmaceutical Industry)Location: Zurich, SwitzerlandType: Contract (From 16th October 2023 to 31st December 2024) Job Description:Our client in the pharmaceutical industry, based in Zurich, is seeking a skilled Data Warehouse Analyst with experience in the pharmaceutical sector',\n",
       " \"Security Engineer, Cloud Vulnerability ResearchOur Security team works to create and maintain the safest operating environment for Google's users and developers\",\n",
       " 'At EY, you will have the chance to build a career as unique as you are, with the global scale, support, inclusive culture and technology to become the best version of you',\n",
       " 'Firma: Swisspearl Group AG | Stellenbeginn: ab sofort | Standort: 8867 NiederurnenHead of Application Management 100%   Swisspearl Group AG - Niederurnen ab sofort immediately Ã\\xa0 partir de maintenant   Â\\xa0 Swisspearl Group AG\\nFrau HR Support\\n055 617 12 82\\nE-Mail schreiben',\n",
       " 'Full Stack Developer React / Next.js at a leading Mental Health Startup (Zurich, 60 - 100%)We are looking for a Full Stack Developer, who is ready to work with new technologies and architectures in a forward-thinking organization',\n",
       " 'Digital Analytics InternBe a part of a revolutionary change Times are changing at PMI']"
      ]
     },
     "execution_count": 47,
     "metadata": {},
     "output_type": "execute_result"
    }
   ],
   "source": [
    "from random import sample\n",
    "\n",
    "sample(list(df[\"description\"].apply(lambda x : \". \".join(x.split(\". \")[:1])).values), 10)"
   ]
  },
  {
   "cell_type": "code",
   "execution_count": null,
   "metadata": {},
   "outputs": [],
   "source": [
    "[\"At EY, you'll have the chance to build a career as unique as you are, with the global scale, support, inclusive culture and technology to become the best version of you\",\n",
    " \"With 1500 employees from more than 30 countries and cultures working at 14 sites, Skyguide provides air traffic control services for Switzerland and parts of neighbouring countries\",\n",
    " \"We offer flexible working hours based on a 40-hour week, vacation entitlement: 25 days from the age of 20, 27 days from the age of 40 and 30 days from the age of 50.\",\n",
    " \"You'd be joining a modern and innovative environment.Our organizational culture is based on trust, personal freedom and individual responsibility\",\n",
    " \"L'OCCITANE Group is a global, natural and organic ingredient-based cosmetics and well-being products maker, producer and retailer\",\n",
    " \"Hexagon is a leading provider of digital reality solutions and employs more than 24,000 people in 50 countries\"]"
   ]
  }
 ],
 "metadata": {
  "kernelspec": {
   "display_name": "nlp1",
   "language": "python",
   "name": "python3"
  },
  "language_info": {
   "codemirror_mode": {
    "name": "ipython",
    "version": 3
   },
   "file_extension": ".py",
   "mimetype": "text/x-python",
   "name": "python",
   "nbconvert_exporter": "python",
   "pygments_lexer": "ipython3",
   "version": "3.9.18"
  }
 },
 "nbformat": 4,
 "nbformat_minor": 2
}
