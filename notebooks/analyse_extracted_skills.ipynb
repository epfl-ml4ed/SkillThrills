{
 "cells": [
  {
   "cell_type": "code",
   "execution_count": 7,
   "metadata": {},
   "outputs": [],
   "source": [
    "import json\n",
    "import pandas as pd\n",
    "from utils import *\n",
    "from collections import Counter\n"
   ]
  },
  {
   "cell_type": "code",
   "execution_count": 29,
   "metadata": {},
   "outputs": [],
   "source": [
    "courses_path = 'results/course_gpt-3.5-turbo_clean.json'\n",
    "jobs_path = 'results/job_gpt-3.5-turbo_clean.json'\n",
    "\n",
    "with open(courses_path, 'r') as json_file:\n",
    "    courses = json.load(json_file)\n",
    "\n",
    "with open(jobs_path, 'r') as json_file:\n",
    "    jobs = json.load(json_file)"
   ]
  },
  {
   "cell_type": "code",
   "execution_count": 30,
   "metadata": {},
   "outputs": [
    {
     "data": {
      "text/plain": [
       "dict_keys(['Technologies', 'Technologies_alternative_names', 'Certifications', 'Certification_alternative_names', 'Languages', 'skills'])"
      ]
     },
     "execution_count": 30,
     "metadata": {},
     "output_type": "execute_result"
    }
   ],
   "source": [
    "courses['744'].keys()"
   ]
  },
  {
   "cell_type": "code",
   "execution_count": 31,
   "metadata": {},
   "outputs": [
    {
     "name": "stdout",
     "output_type": "stream",
     "text": [
      "\n",
      " ******************   Analyzing courses *******************\n",
      "Technology Analysis: [('R', 116), ('Facebook', 80), ('Microsoft Excel', 57), ('LinkedIn', 46), ('C', 45), ('Microsoft PowerPoint', 45), ('Microsoft Outlook', 34), ('Microsoft Word', 29), ('Adobe Systems Adobe Photoshop', 17), ('Microsoft Azure software', 13)]\n",
      "Alternative Technology Names Analysis: [('Excel', 57), ('PowerPoint', 45), ('Outlook', 34), ('Word', 29), ('Photoshop', 17), ('Azure', 13), ('CSS', 12), ('VBA', 11), ('InDesign', 10), ('XML', 9)]\n",
      "Average number of technologies per courses: 0.21343235389086213\n",
      "number of technologies per courses: Counter({0: 2591, 1: 414, 2: 60, 3: 16, 4: 10, 5: 3, 8: 1, 10: 1, 6: 1})\n",
      "\n",
      "Certification Analysis: [('scrum.org – Professional Scrum Master (PSM)', 4), ('Microsoft Certified Solutions Associate (MCSA)', 1), ('Certified Cloud Security Professional (CCSP)\\n', 1), ('GPEN: GIAC Penetration Tester', 1), ('Certified Information Systems Security Professional (CISSP)', 1), ('Project+', 1), ('Cisco Certified Network Associate (CCNA)', 1)]\n",
      "Alternative Certification Names Analysis: [('Professional Scrum Master', 4), (' Windows Server', 1), ('Cloud Security Professional', 1), ('Certified Information Systems Security Professional', 1), (' Security Certification', 1), ('PRINCE2 Practitioner', 1), ('Cisco Certified Network Associate', 1)]\n",
      "Average number of certifications per courses: 0.0032289312237649337\n",
      "number of certifications per courses: Counter({0: 3088, 1: 8, 2: 1})\n",
      "\n",
      "Language Analysis: [('Deutsch', 17), ('Englisch', 10)]\n",
      "Average number of languages per courses: 0.00871811430416532\n",
      "number of languages per courses: Counter({0: 3073, 1: 21, 2: 3})\n",
      "\n",
      " ******************   Analyzing jobs *******************\n",
      "Technology Analysis: [('Microsoft Azure software', 649), ('C', 426), ('UNIX', 345), ('Linux', 330), ('Python', 219), ('Microsoft Active Directory', 194), ('R', 182), ('LinkedIn', 178), ('JavaScript', 168), ('Kubernetes', 160)]\n",
      "Alternative Technology Names Analysis: [('Azure', 649), ('Linux', 330), ('AD', 171), ('PowerShell', 143), ('Excel', 129), ('CSS', 116), ('Spring', 105), ('MS Office', 105), ('SharePoint', 85), ('Confluence', 80)]\n",
      "Average number of technologies per jobs: 1.065050266114725\n",
      "number of technologies per jobs: Counter({0: 2676, 1: 1064, 2: 599, 3: 317, 4: 181, 5: 103, 6: 58, 8: 33, 7: 27, 9: 7, 11: 4, 10: 3, 13: 1})\n",
      "\n",
      "Certification Analysis: [('Microsoft Certified Solutions Associate (MCSA)', 177), ('Cisco Certified Network Professional (CCNP)', 24), ('Cisco Certified Network Associate (CCNA)', 8), ('scrum.org – Professional Scrum Master (PSM)', 4), ('Certified Information Systems Security Professional (CISSP)', 4), ('A+', 4), ('Network+', 3), ('AWS Developer', 3), ('Project+', 2), ('AWS DevOps Engineer', 2)]\n",
      "Alternative Certification Names Analysis: [(' Windows Server', 177), ('CCNP', 24), ('Cisco CCNA', 7), ('Professional Scrum Master', 4), ('Certified Information Systems Security Professional', 4), ('AWS Certified Developer', 2), ('AWS Certified DevOps Engineer', 2), ('Network Professional', 2), ('Cloud Security Professional', 1), (' Security Certification', 1)]\n",
      "Average number of certifications per jobs: 0.04533806426177804\n",
      "number of certifications per jobs: Counter({0: 4854, 1: 208, 2: 11})\n",
      "\n",
      "Language Analysis: [('Deutsch', 2327), ('Englisch', 1107), ('Französisch', 408), ('Italienisch', 80)]\n",
      "Average number of languages per jobs: 0.7677902621722846\n",
      "number of languages per jobs: Counter({0: 2485, 1: 1511, 2: 878, 3: 168, 4: 31})\n"
     ]
    }
   ],
   "source": [
    "technology_counter = Counter()\n",
    "alt_technology_counter = Counter()\n",
    "certification_counter = Counter()\n",
    "alt_certif_counter = Counter()\n",
    "language_counter = Counter()\n",
    "\n",
    "for data, name in zip([courses, jobs], ['courses', 'jobs']):\n",
    "    print(f\"\\n ******************   Analyzing {name} *******************\")\n",
    "    nb_techs = []\n",
    "    nb_certs = []\n",
    "    nb_langs = []\n",
    "\n",
    "    # Iterate through the numeric keys\n",
    "    for key in data:\n",
    "        techs = set(data[key][\"Technologies\"])\n",
    "        alt_techs = set(data[key][\"Technologies_alternative_names\"])\n",
    "        certs = set(data[key][\"Certifications\"])\n",
    "        alt_certs = set(data[key][\"Certification_alternative_names\"])\n",
    "        langs = set(data[key][\"Languages\"])\n",
    "\n",
    "        nb_techs.append(len(techs))\n",
    "        nb_certs.append(len(certs))\n",
    "        nb_langs.append(len(langs))\n",
    "        \n",
    "        technology_counter.update(techs)\n",
    "        alt_technology_counter.update(alt_techs)\n",
    "        certification_counter.update(certs)\n",
    "        alt_certif_counter.update(alt_certs)\n",
    "        language_counter.update(langs)\n",
    "\n",
    "    # Print analysis results\n",
    "    print(\"Technology Analysis:\", technology_counter.most_common(10))\n",
    "    print(\"Alternative Technology Names Analysis:\", alt_technology_counter.most_common(10))\n",
    "    print(f\"Average number of technologies per {name}: {sum(nb_techs)/len(nb_techs)}\")\n",
    "    print(f\"number of technologies per {name}:\", Counter(nb_techs))\n",
    "\n",
    "    print(\"\\nCertification Analysis:\", certification_counter.most_common(10))\n",
    "    print(\"Alternative Certification Names Analysis:\", alt_certif_counter.most_common(10))\n",
    "    print(f\"Average number of certifications per {name}: {sum(nb_certs)/len(nb_certs)}\")\n",
    "    print(f\"number of certifications per {name}:\", Counter(nb_certs))\n",
    "\n",
    "    print(\"\\nLanguage Analysis:\", language_counter.most_common(10))\n",
    "    print(f\"Average number of languages per {name}: {sum(nb_langs)/len(nb_langs)}\")\n",
    "    print(f\"number of languages per {name}:\", Counter(nb_langs))\n"
   ]
  },
  {
   "cell_type": "code",
   "execution_count": null,
   "metadata": {},
   "outputs": [],
   "source": []
  }
 ],
 "metadata": {
  "kernelspec": {
   "display_name": "base",
   "language": "python",
   "name": "python3"
  },
  "language_info": {
   "codemirror_mode": {
    "name": "ipython",
    "version": 3
   },
   "file_extension": ".py",
   "mimetype": "text/x-python",
   "name": "python",
   "nbconvert_exporter": "python",
   "pygments_lexer": "ipython3",
   "version": "3.10.9"
  },
  "orig_nbformat": 4
 },
 "nbformat": 4,
 "nbformat_minor": 2
}
