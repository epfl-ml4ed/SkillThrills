{
 "cells": [
  {
   "cell_type": "code",
   "execution_count": 33,
   "metadata": {},
   "outputs": [],
   "source": [
    "import json\n",
    "import random\n",
    "import yaml\n",
    "from itertools import product"
   ]
  },
  {
   "cell_type": "code",
   "execution_count": 22,
   "metadata": {},
   "outputs": [],
   "source": [
    "config_path = '../protosp03/config/synthetic.yaml'"
   ]
  },
  {
   "cell_type": "code",
   "execution_count": 31,
   "metadata": {},
   "outputs": [],
   "source": [
    "config = yaml.load(open(config_path, \"r\"), Loader=yaml.FullLoader)"
   ]
  },
  {
   "cell_type": "code",
   "execution_count": 32,
   "metadata": {},
   "outputs": [
    {
     "data": {
      "text/plain": [
       "[{'L1': [{'SL1': [{'SSL1': 3}, {'SSL2': 2}]}, {'SL2': [{'SSL1': 5}]}]},\n",
       " {'L2': [{'SL1': [{'SSL1': 1}, {'SSL2': 4}]}]}]"
      ]
     },
     "execution_count": 32,
     "metadata": {},
     "output_type": "execute_result"
    }
   ],
   "source": [
    "config['levels']"
   ]
  },
  {
   "cell_type": "code",
   "execution_count": 43,
   "metadata": {},
   "outputs": [
    {
     "name": "stdout",
     "output_type": "stream",
     "text": [
      "1 1 1\n",
      "1 1 2\n",
      "1 1 3\n",
      "1 1 4\n",
      "1 1 5\n",
      "1 2 1\n",
      "1 2 2\n",
      "1 2 3\n",
      "1 2 4\n",
      "1 2 5\n",
      "1 3 1\n",
      "1 3 2\n",
      "1 3 3\n",
      "1 3 4\n",
      "1 3 5\n",
      "2 1 1\n",
      "2 1 2\n",
      "2 1 3\n",
      "2 1 4\n",
      "2 1 5\n",
      "2 2 1\n",
      "2 2 2\n",
      "2 2 3\n",
      "2 2 4\n",
      "2 2 5\n",
      "2 3 1\n",
      "2 3 2\n",
      "2 3 3\n",
      "2 3 4\n",
      "2 3 5\n",
      "3 1 1\n",
      "3 1 2\n",
      "3 1 3\n",
      "3 1 4\n",
      "3 1 5\n",
      "3 2 1\n",
      "3 2 2\n",
      "3 2 3\n",
      "3 2 4\n",
      "3 2 5\n",
      "3 3 1\n",
      "3 3 2\n",
      "3 3 3\n",
      "3 3 4\n",
      "3 3 5\n"
     ]
    }
   ],
   "source": [
    "levels = [3,3,5]\n",
    "levels = [range(1, elem+1) for elem in levels]\n",
    "for l in product(*levels):\n",
    "    print(*l)"
   ]
  },
  {
   "cell_type": "code",
   "execution_count": 39,
   "metadata": {},
   "outputs": [
    {
     "name": "stdout",
     "output_type": "stream",
     "text": [
      "1 1\n",
      "2 1\n"
     ]
    }
   ],
   "source": [
    "from itertools import product\n",
    "\n",
    "# Define two ranges\n",
    "range1 = range(1,3)  # 0, 1, 2\n",
    "range2 = range(1,2)  # 0, 1\n",
    "\n",
    "# Iterate over the cartesian product of the two ranges\n",
    "for val1, val2 in product(range1, range2):\n",
    "    print(val1, val2)\n"
   ]
  },
  {
   "cell_type": "code",
   "execution_count": 37,
   "metadata": {},
   "outputs": [
    {
     "data": {
      "text/plain": [
       "[range(1, 4), range(1, 4), range(1, 6)]"
      ]
     },
     "execution_count": 37,
     "metadata": {},
     "output_type": "execute_result"
    }
   ],
   "source": [
    "levels"
   ]
  },
  {
   "cell_type": "code",
   "execution_count": 5,
   "metadata": {},
   "outputs": [],
   "source": [
    "lo_path = '../data/raw/evrlearn/job_profiles.json'\n",
    "lo = json.load(open(lo_path, 'r'))"
   ]
  },
  {
   "cell_type": "code",
   "execution_count": 15,
   "metadata": {},
   "outputs": [
    {
     "data": {
      "text/plain": [
       "0"
      ]
     },
     "execution_count": 15,
     "metadata": {},
     "output_type": "execute_result"
    }
   ],
   "source": [
    "random.randint(0, 14)"
   ]
  },
  {
   "cell_type": "code",
   "execution_count": 9,
   "metadata": {},
   "outputs": [
    {
     "data": {
      "text/plain": [
       "{'id': 3,\n",
       " 'name': 'Database Engineer',\n",
       " 'level_id': 3,\n",
       " 'level': 'Senior',\n",
       " 'job_profile_skills': [{'id': 28,\n",
       "   'job_profile_id': 3,\n",
       "   'job_skill_id': 1,\n",
       "   'level_id': 2,\n",
       "   'created_at': '2023-07-25T09:51:24.705+02:00',\n",
       "   'updated_at': '2023-07-25T09:51:24.705+02:00',\n",
       "   'certificate': False},\n",
       "  {'id': 29,\n",
       "   'job_profile_id': 3,\n",
       "   'job_skill_id': 2,\n",
       "   'level_id': 3,\n",
       "   'created_at': '2023-07-25T09:51:24.707+02:00',\n",
       "   'updated_at': '2023-07-25T09:51:24.707+02:00',\n",
       "   'certificate': False},\n",
       "  {'id': 30,\n",
       "   'job_profile_id': 3,\n",
       "   'job_skill_id': 3,\n",
       "   'level_id': 2,\n",
       "   'created_at': '2023-07-25T09:51:24.716+02:00',\n",
       "   'updated_at': '2023-07-25T09:51:24.716+02:00',\n",
       "   'certificate': False},\n",
       "  {'id': 31,\n",
       "   'job_profile_id': 3,\n",
       "   'job_skill_id': 4,\n",
       "   'level_id': 3,\n",
       "   'created_at': '2023-07-25T09:51:24.721+02:00',\n",
       "   'updated_at': '2023-07-25T09:51:24.721+02:00',\n",
       "   'certificate': False},\n",
       "  {'id': 32,\n",
       "   'job_profile_id': 3,\n",
       "   'job_skill_id': 5,\n",
       "   'level_id': 3,\n",
       "   'created_at': '2023-07-25T09:51:24.723+02:00',\n",
       "   'updated_at': '2023-07-25T09:51:24.723+02:00',\n",
       "   'certificate': False},\n",
       "  {'id': 33,\n",
       "   'job_profile_id': 3,\n",
       "   'job_skill_id': 6,\n",
       "   'level_id': 3,\n",
       "   'created_at': '2023-07-25T09:51:24.725+02:00',\n",
       "   'updated_at': '2023-07-25T09:51:24.725+02:00',\n",
       "   'certificate': False},\n",
       "  {'id': 34,\n",
       "   'job_profile_id': 3,\n",
       "   'job_skill_id': 28,\n",
       "   'level_id': 1,\n",
       "   'created_at': '2023-07-25T09:51:24.729+02:00',\n",
       "   'updated_at': '2023-07-25T09:51:24.729+02:00',\n",
       "   'certificate': False},\n",
       "  {'id': 35,\n",
       "   'job_profile_id': 3,\n",
       "   'job_skill_id': 7,\n",
       "   'level_id': 1,\n",
       "   'created_at': '2023-07-25T09:51:24.732+02:00',\n",
       "   'updated_at': '2023-07-25T09:51:24.732+02:00',\n",
       "   'certificate': False},\n",
       "  {'id': 36,\n",
       "   'job_profile_id': 3,\n",
       "   'job_skill_id': 8,\n",
       "   'level_id': 2,\n",
       "   'created_at': '2023-07-25T09:51:24.736+02:00',\n",
       "   'updated_at': '2023-07-25T09:51:24.736+02:00',\n",
       "   'certificate': False},\n",
       "  {'id': 37,\n",
       "   'job_profile_id': 3,\n",
       "   'job_skill_id': 9,\n",
       "   'level_id': 1,\n",
       "   'created_at': '2023-07-25T09:51:24.741+02:00',\n",
       "   'updated_at': '2023-07-25T09:51:24.741+02:00',\n",
       "   'certificate': False},\n",
       "  {'id': 38,\n",
       "   'job_profile_id': 3,\n",
       "   'job_skill_id': 10,\n",
       "   'level_id': 1,\n",
       "   'created_at': '2023-07-25T09:51:24.744+02:00',\n",
       "   'updated_at': '2023-07-25T09:51:24.744+02:00',\n",
       "   'certificate': False},\n",
       "  {'id': 39,\n",
       "   'job_profile_id': 3,\n",
       "   'job_skill_id': 11,\n",
       "   'level_id': 2,\n",
       "   'created_at': '2023-07-25T09:51:24.746+02:00',\n",
       "   'updated_at': '2023-07-25T09:51:24.746+02:00',\n",
       "   'certificate': False},\n",
       "  {'id': 40,\n",
       "   'job_profile_id': 3,\n",
       "   'job_skill_id': 12,\n",
       "   'level_id': 1,\n",
       "   'created_at': '2023-07-25T09:51:24.749+02:00',\n",
       "   'updated_at': '2023-07-25T09:51:24.749+02:00',\n",
       "   'certificate': False},\n",
       "  {'id': 41,\n",
       "   'job_profile_id': 3,\n",
       "   'job_skill_id': 13,\n",
       "   'level_id': 2,\n",
       "   'created_at': '2023-07-25T09:51:24.753+02:00',\n",
       "   'updated_at': '2023-07-25T09:51:24.753+02:00',\n",
       "   'certificate': False},\n",
       "  {'id': 42,\n",
       "   'job_profile_id': 3,\n",
       "   'job_skill_id': 14,\n",
       "   'level_id': 3,\n",
       "   'created_at': '2023-07-25T09:51:24.761+02:00',\n",
       "   'updated_at': '2023-07-25T09:51:24.761+02:00',\n",
       "   'certificate': False},\n",
       "  {'id': 43,\n",
       "   'job_profile_id': 3,\n",
       "   'job_skill_id': 15,\n",
       "   'level_id': 1,\n",
       "   'created_at': '2023-07-25T09:51:24.764+02:00',\n",
       "   'updated_at': '2023-07-25T09:51:24.764+02:00',\n",
       "   'certificate': False},\n",
       "  {'id': 44,\n",
       "   'job_profile_id': 3,\n",
       "   'job_skill_id': 16,\n",
       "   'level_id': 3,\n",
       "   'created_at': '2023-07-25T09:51:24.773+02:00',\n",
       "   'updated_at': '2023-07-25T09:51:24.773+02:00',\n",
       "   'certificate': False},\n",
       "  {'id': 45,\n",
       "   'job_profile_id': 3,\n",
       "   'job_skill_id': 17,\n",
       "   'level_id': 1,\n",
       "   'created_at': '2023-07-25T09:51:24.777+02:00',\n",
       "   'updated_at': '2023-07-25T09:51:24.777+02:00',\n",
       "   'certificate': False},\n",
       "  {'id': 46,\n",
       "   'job_profile_id': 3,\n",
       "   'job_skill_id': 18,\n",
       "   'level_id': 2,\n",
       "   'created_at': '2023-07-25T09:51:24.779+02:00',\n",
       "   'updated_at': '2023-07-25T09:51:24.779+02:00',\n",
       "   'certificate': False},\n",
       "  {'id': 47,\n",
       "   'job_profile_id': 3,\n",
       "   'job_skill_id': 19,\n",
       "   'level_id': 1,\n",
       "   'created_at': '2023-07-25T09:51:24.782+02:00',\n",
       "   'updated_at': '2023-07-25T09:51:24.782+02:00',\n",
       "   'certificate': False},\n",
       "  {'id': 48,\n",
       "   'job_profile_id': 3,\n",
       "   'job_skill_id': 20,\n",
       "   'level_id': 2,\n",
       "   'created_at': '2023-07-25T09:51:24.785+02:00',\n",
       "   'updated_at': '2023-07-25T09:51:24.785+02:00',\n",
       "   'certificate': False},\n",
       "  {'id': 49,\n",
       "   'job_profile_id': 3,\n",
       "   'job_skill_id': 21,\n",
       "   'level_id': 1,\n",
       "   'created_at': '2023-07-25T09:51:24.787+02:00',\n",
       "   'updated_at': '2023-07-25T09:51:24.787+02:00',\n",
       "   'certificate': False},\n",
       "  {'id': 50,\n",
       "   'job_profile_id': 3,\n",
       "   'job_skill_id': 22,\n",
       "   'level_id': 4,\n",
       "   'created_at': '2023-07-25T09:51:24.790+02:00',\n",
       "   'updated_at': '2023-07-25T09:51:24.790+02:00',\n",
       "   'certificate': False},\n",
       "  {'id': 51,\n",
       "   'job_profile_id': 3,\n",
       "   'job_skill_id': 23,\n",
       "   'level_id': 1,\n",
       "   'created_at': '2023-07-25T09:51:24.792+02:00',\n",
       "   'updated_at': '2023-07-25T09:51:24.792+02:00',\n",
       "   'certificate': False},\n",
       "  {'id': 52,\n",
       "   'job_profile_id': 3,\n",
       "   'job_skill_id': 24,\n",
       "   'level_id': 1,\n",
       "   'created_at': '2023-07-25T09:51:24.795+02:00',\n",
       "   'updated_at': '2023-07-25T09:51:24.795+02:00',\n",
       "   'certificate': False},\n",
       "  {'id': 53,\n",
       "   'job_profile_id': 3,\n",
       "   'job_skill_id': 25,\n",
       "   'level_id': 1,\n",
       "   'created_at': '2023-07-25T09:51:24.798+02:00',\n",
       "   'updated_at': '2023-07-25T09:51:24.798+02:00',\n",
       "   'certificate': False},\n",
       "  {'id': 54,\n",
       "   'job_profile_id': 3,\n",
       "   'job_skill_id': 26,\n",
       "   'level_id': 1,\n",
       "   'created_at': '2023-07-25T09:51:24.800+02:00',\n",
       "   'updated_at': '2023-07-25T09:51:24.800+02:00',\n",
       "   'certificate': False},\n",
       "  {'id': 55,\n",
       "   'job_profile_id': 3,\n",
       "   'job_skill_id': 27,\n",
       "   'level_id': 2,\n",
       "   'created_at': '2023-07-25T09:51:24.803+02:00',\n",
       "   'updated_at': '2023-07-25T09:51:24.803+02:00',\n",
       "   'certificate': False}]}"
      ]
     },
     "execution_count": 9,
     "metadata": {},
     "output_type": "execute_result"
    }
   ],
   "source": [
    "lo[2]"
   ]
  }
 ],
 "metadata": {
  "kernelspec": {
   "display_name": "proto",
   "language": "python",
   "name": "python3"
  },
  "language_info": {
   "codemirror_mode": {
    "name": "ipython",
    "version": 3
   },
   "file_extension": ".py",
   "mimetype": "text/x-python",
   "name": "python",
   "nbconvert_exporter": "python",
   "pygments_lexer": "ipython3",
   "version": "3.11.4"
  },
  "orig_nbformat": 4
 },
 "nbformat": 4,
 "nbformat_minor": 2
}
