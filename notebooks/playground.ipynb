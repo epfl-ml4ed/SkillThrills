{
 "cells": [
  {
   "cell_type": "code",
   "execution_count": 10,
   "metadata": {},
   "outputs": [],
   "source": [
    "import random"
   ]
  },
  {
   "cell_type": "code",
   "execution_count": 11,
   "metadata": {},
   "outputs": [],
   "source": [
    "nb_resumes = 5\n",
    "nb_jobs = 5\n",
    "nb_skills = 5\n",
    "nb_courses = 5\n",
    "skills = ['skill_' + str(i) for i in range(1, nb_skills+1)]"
   ]
  },
  {
   "cell_type": "code",
   "execution_count": null,
   "metadata": {},
   "outputs": [],
   "source": [
    "# Return a list of random skills from the list of skills\n",
    "def get_random_skills(skills):\n",
    "    nb_skills = random.randint(1, len(skills)-1)\n",
    "    return random.sample(skills, nb_skills)"
   ]
  },
  {
   "cell_type": "code",
   "execution_count": null,
   "metadata": {},
   "outputs": [],
   "source": [
    "def get_courses(nb_courses):\n",
    "    return [get_random_skills() for i in range(nb_courses)]\n",
    "\n",
    "def get_resume(nb_resumes):\n",
    "    return [get_random_skills() for i in range(nb_resumes)]\n",
    "\n",
    "def get_jobs(nb_jobs):\n",
    "    return [get_random_skills() for i in range(nb_jobs)]"
   ]
  }
 ],
 "metadata": {
  "kernelspec": {
   "display_name": "proto",
   "language": "python",
   "name": "python3"
  },
  "language_info": {
   "codemirror_mode": {
    "name": "ipython",
    "version": 3
   },
   "file_extension": ".py",
   "mimetype": "text/x-python",
   "name": "python",
   "nbconvert_exporter": "python",
   "pygments_lexer": "ipython3",
   "version": "3.11.4"
  },
  "orig_nbformat": 4
 },
 "nbformat": 4,
 "nbformat_minor": 2
}
