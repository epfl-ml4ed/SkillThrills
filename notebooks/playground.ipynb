{
 "cells": [
  {
   "cell_type": "code",
   "execution_count": 1,
   "metadata": {},
   "outputs": [],
   "source": [
    "import json\n",
    "from collections import Counter"
   ]
  },
  {
   "cell_type": "code",
   "execution_count": null,
   "metadata": {},
   "outputs": [],
   "source": [
    "inverted_index_course_path = \"../data/inverted_index/synthetic/courses_provided_inverted_index.json\"\n",
    "inverted_index_job_path = \"../data/inverted_index/synthetic/jobs_inverted_index.json\"\n",
    "resume_path = \"../data/raw/synthetic/resumes.json\"\n",
    "skill_path = \"../data/raw/synthetic/skills.json\"\n",
    "job_path = \"../data/raw/synthetic/jobs.json\""
   ]
  },
  {
   "cell_type": "code",
   "execution_count": null,
   "metadata": {},
   "outputs": [],
   "source": [
    "def set_decoder(dct):\n",
    "    new_dict = {}\n",
    "    for k, v in dct.items():\n",
    "        # Check if key is an integer in string format\n",
    "        if k.isdigit():\n",
    "            new_k = int(k)\n",
    "        else:\n",
    "            new_k = k\n",
    "\n",
    "        # Check if value is a list\n",
    "        if isinstance(v, list):\n",
    "            new_v = set(v)\n",
    "        else:\n",
    "            new_v = v\n",
    "            \n",
    "        new_dict[new_k] = new_v\n",
    "    return new_dict"
   ]
  },
  {
   "cell_type": "code",
   "execution_count": null,
   "metadata": {},
   "outputs": [],
   "source": [
    "course_inverted_index = json.load(open(inverted_index_course_path, \"r\"), object_hook=set_decoder)\n",
    "job_inverted_index = json.load(open(inverted_index_job_path, \"r\"), object_hook=set_decoder)\n",
    "skills = json.load(open(skill_path, 'r'))\n",
    "profiles = json.load(open(resume_path, 'r'))\n",
    "profiles = {key:{skills[skill] for skill in value} for key, value in profiles.items()}\n",
    "jobs = json.load(open(job_path, 'r'))\n",
    "jobs = {key:{skills[skill] for skill in value} for key, value in jobs.items()}"
   ]
  },
  {
   "cell_type": "code",
   "execution_count": null,
   "metadata": {},
   "outputs": [],
   "source": [
    "def profile_job_match(profile, job):\n",
    "    \"\"\"Computes the proportion of required skills for a job that the profile posseses. \n",
    "\n",
    "    Args:\n",
    "        profile (set): set of skills that the profile has\n",
    "        job (set): set of skills required for the job\n",
    "\n",
    "    Returns:\n",
    "        float: proporition of skills possesed\n",
    "    \"\"\"    \n",
    "    possesed_skills = profile.intersection(job)\n",
    "    matching = 100*len(possesed_skills)/len(job)\n",
    "    return matching"
   ]
  },
  {
   "cell_type": "code",
   "execution_count": null,
   "metadata": {},
   "outputs": [],
   "source": [
    "def profile_alljobs_match(profile, jobs, job_inverted_index):\n",
    "    \"\"\"Computes a matching for all jobs based on the proportion of skills that the user possesses\n",
    "\n",
    "    Args:\n",
    "        profile (set): set of skills that the profile has\n",
    "        jobs (dict): dictionnary of all jobs and the skills that they require\n",
    "        job_inverted_index (dict): inverted index of jobs and skills for an efficient search\n",
    "\n",
    "    Returns:\n",
    "        dict: jobs matchings based on the proportion of skills that the user possesses\n",
    "    \"\"\"    \n",
    "    ranked_jobs = Counter()\n",
    "    for skill in profile:\n",
    "        for job in job_inverted_index[skill]:\n",
    "            ranked_jobs[job] += 100\n",
    "    for job in ranked_jobs:\n",
    "        ranked_jobs[job] /= len(jobs[job])\n",
    "    return ranked_jobs"
   ]
  },
  {
   "cell_type": "code",
   "execution_count": null,
   "metadata": {},
   "outputs": [],
   "source": [
    "ranked_jobs = profile_alljobs_match(profiles['resume_0'], jobs, job_inverted_index)"
   ]
  },
  {
   "cell_type": "code",
   "execution_count": null,
   "metadata": {},
   "outputs": [],
   "source": [
    "ranked_jobs"
   ]
  },
  {
   "cell_type": "code",
   "execution_count": null,
   "metadata": {},
   "outputs": [],
   "source": [
    "for job in jobs:\n",
    "    skillset = jobs[job]\n",
    "    matching = profile_job_match(profiles['resume_0'], skillset)\n",
    "    if matching > 0:\n",
    "        print(job, skillset, profiles['resume_0'], matching)"
   ]
  },
  {
   "cell_type": "code",
   "execution_count": 2,
   "metadata": {},
   "outputs": [],
   "source": [
    "# Write a function that takes a profile and a job and returns a matching score\n",
    "def profile_job_match(profile, job):\n",
    "    \"\"\"Computes the proportion of required skills for a job that the profile posseses. \n",
    "\n",
    "    Args:\n",
    "        profile (set): set of skills that the profile has\n",
    "        job (set): set of skills required for the job\n",
    "\n",
    "    Returns:\n",
    "        float: proporition of skills possesed\n",
    "    \"\"\"    \n",
    "    possesed_skills = profile.intersection(job)\n",
    "    matching = 100*len(possesed_skills)/len(job)\n",
    "    return matching\n"
   ]
  }
 ],
 "metadata": {
  "kernelspec": {
   "display_name": "proto",
   "language": "python",
   "name": "python3"
  },
  "language_info": {
   "codemirror_mode": {
    "name": "ipython",
    "version": 3
   },
   "file_extension": ".py",
   "mimetype": "text/x-python",
   "name": "python",
   "nbconvert_exporter": "python",
   "pygments_lexer": "ipython3",
   "version": "3.11.4"
  },
  "orig_nbformat": 4
 },
 "nbformat": 4,
 "nbformat_minor": 2
}
