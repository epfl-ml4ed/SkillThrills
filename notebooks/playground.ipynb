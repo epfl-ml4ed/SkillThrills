{
 "cells": [
  {
   "cell_type": "code",
   "execution_count": 79,
   "metadata": {},
   "outputs": [],
   "source": [
    "import os\n",
    "import json\n",
    "from elasticsearch import Elasticsearch"
   ]
  },
  {
   "cell_type": "code",
   "execution_count": 80,
   "metadata": {},
   "outputs": [
    {
     "ename": "FileNotFoundError",
     "evalue": "[Errno 2] No such file or directory: 'credentials.json'",
     "output_type": "error",
     "traceback": [
      "\u001b[0;31m---------------------------------------------------------------------------\u001b[0m",
      "\u001b[0;31mFileNotFoundError\u001b[0m                         Traceback (most recent call last)",
      "Cell \u001b[0;32mIn[80], line 1\u001b[0m\n\u001b[0;32m----> 1\u001b[0m \u001b[39mwith\u001b[39;00m \u001b[39mopen\u001b[39m(\u001b[39m'\u001b[39m\u001b[39mcredentials.json\u001b[39m\u001b[39m'\u001b[39m) \u001b[39mas\u001b[39;00m f:\n\u001b[1;32m      2\u001b[0m     credentials \u001b[39m=\u001b[39m json\u001b[39m.\u001b[39mload(f)\n\u001b[1;32m      4\u001b[0m bonsai_url \u001b[39m=\u001b[39m credentials[\u001b[39m'\u001b[39m\u001b[39mbonsai_url\u001b[39m\u001b[39m'\u001b[39m]\n",
      "File \u001b[0;32m~/anaconda3/envs/proto/lib/python3.11/site-packages/IPython/core/interactiveshell.py:284\u001b[0m, in \u001b[0;36m_modified_open\u001b[0;34m(file, *args, **kwargs)\u001b[0m\n\u001b[1;32m    277\u001b[0m \u001b[39mif\u001b[39;00m file \u001b[39min\u001b[39;00m {\u001b[39m0\u001b[39m, \u001b[39m1\u001b[39m, \u001b[39m2\u001b[39m}:\n\u001b[1;32m    278\u001b[0m     \u001b[39mraise\u001b[39;00m \u001b[39mValueError\u001b[39;00m(\n\u001b[1;32m    279\u001b[0m         \u001b[39mf\u001b[39m\u001b[39m\"\u001b[39m\u001b[39mIPython won\u001b[39m\u001b[39m'\u001b[39m\u001b[39mt let you open fd=\u001b[39m\u001b[39m{\u001b[39;00mfile\u001b[39m}\u001b[39;00m\u001b[39m by default \u001b[39m\u001b[39m\"\u001b[39m\n\u001b[1;32m    280\u001b[0m         \u001b[39m\"\u001b[39m\u001b[39mas it is likely to crash IPython. If you know what you are doing, \u001b[39m\u001b[39m\"\u001b[39m\n\u001b[1;32m    281\u001b[0m         \u001b[39m\"\u001b[39m\u001b[39myou can use builtins\u001b[39m\u001b[39m'\u001b[39m\u001b[39m open.\u001b[39m\u001b[39m\"\u001b[39m\n\u001b[1;32m    282\u001b[0m     )\n\u001b[0;32m--> 284\u001b[0m \u001b[39mreturn\u001b[39;00m io_open(file, \u001b[39m*\u001b[39margs, \u001b[39m*\u001b[39m\u001b[39m*\u001b[39mkwargs)\n",
      "\u001b[0;31mFileNotFoundError\u001b[0m: [Errno 2] No such file or directory: 'credentials.json'"
     ]
    }
   ],
   "source": [
    "with open('../credentials.json') as f:\n",
    "    credentials = json.load(f)\n",
    "\n",
    "bonsai_url = credentials['bonsai_url']\n",
    "access_key = credentials['access_key']\n",
    "access_secret = credentials['access_secret']\n"
   ]
  },
  {
   "cell_type": "code",
   "execution_count": 3,
   "metadata": {},
   "outputs": [
    {
     "name": "stdout",
     "output_type": "stream",
     "text": [
      "Elasticsearch version: 7.2.0\n"
     ]
    }
   ],
   "source": [
    "es = Elasticsearch(\n",
    "    [bonsai_url],\n",
    "    basic_auth=(access_key, access_secret),\n",
    "    headers={'Content-Type': 'application/json'}\n",
    ")\n",
    "info = es.info()\n",
    "version_number = info['version']['number']\n",
    "\n",
    "print(f\"Elasticsearch version: {version_number}\")"
   ]
  },
  {
   "cell_type": "code",
   "execution_count": 7,
   "metadata": {},
   "outputs": [],
   "source": [
    "terms = [7, 3]\n",
    "\n",
    "# Construct the script source as a string\n",
    "script_source = \"\"\"\n",
    "int count = 0;\n",
    "for (long skill_id : doc['skill_ids'].values) {\n",
    "  if (params.terms.contains(skill_id)) {\n",
    "    count++;\n",
    "  }\n",
    "}\n",
    "return count / (double) doc['skill_ids'].length;\n",
    "\"\"\"\n",
    "\n",
    "# Construct the query using the terms variable and script_source\n",
    "query = {\n",
    "  \"query\": {\n",
    "    \"term\": {\n",
    "      \"language_ids\": 1\n",
    "    }\n",
    "  }\n",
    "}"
   ]
  },
  {
   "cell_type": "code",
   "execution_count": 75,
   "metadata": {},
   "outputs": [],
   "source": [
    "terms = [1,2,3,4,5,6,8]\n",
    "\n",
    "# Construct the script source as a string\n",
    "script_source = \"\"\"\n",
    "double count = 0.0; \n",
    "for (long term : params.terms) { \n",
    "  if (doc['skill_ids'].contains(term)) { \n",
    "    count++; \n",
    "    } \n",
    "  } \n",
    "return count/ (double) params.terms.length;\n",
    "\"\"\"\n",
    "\n",
    "# Construct the query using the terms variable and script_source\n",
    "query = {\n",
    "  \"query\": {\n",
    "    \"function_score\": {\n",
    "      \"query\": {\n",
    "        \"terms\": {\n",
    "          \"skill_ids\": terms\n",
    "        }\n",
    "      },\n",
    "      \"functions\": [\n",
    "        {\n",
    "          \"script_score\": {\n",
    "            \"script\": {\n",
    "              \"source\": script_source,\n",
    "              \"params\": {\n",
    "                \"terms\": terms\n",
    "              }\n",
    "            }\n",
    "          }\n",
    "        }\n",
    "      ]\n",
    "    }\n",
    "  }\n",
    "}"
   ]
  },
  {
   "cell_type": "code",
   "execution_count": 76,
   "metadata": {},
   "outputs": [],
   "source": [
    "index_name = \"learning_opportunities_production_20230711123025421\""
   ]
  },
  {
   "cell_type": "code",
   "execution_count": 77,
   "metadata": {},
   "outputs": [],
   "source": [
    "response = es.search(index=index_name, body=query)"
   ]
  },
  {
   "cell_type": "code",
   "execution_count": 78,
   "metadata": {},
   "outputs": [
    {
     "name": "stdout",
     "output_type": "stream",
     "text": [
      "Training from the BACK of the Room Practitioner – Virtual Edition, Deutsch/Mai [8, 12, 7, 5, 1, 2, 3] 0.71428573\n",
      "Training from the BACK of the Room Practitioner - Virtual Edition, English [3, 2, 1, 5, 7, 12, 8] 0.71428573\n",
      "Training from the BACK of the Room! (TBR) Practitioner class, 2 Tage Präsenzkurs [3, 2, 1, 5, 7, 12, 8] 0.71428573\n",
      "Training from the BACK of the Room Practitioner – Virtual Edition, Deutsch [3, 2, 1, 5, 7, 12, 8] 0.71428573\n",
      "Sustainable investment: FFPC session [2, 6, 1, 5, 3, 9] 0.71428573\n",
      "CAS Diskurskompetenzen für Führungskräfte [2, 5, 4, 3, 8, 7] 0.71428573\n",
      "CAS Performance und Compensation Management [4, 5, 6, 7, 8, 9, 10] 0.5714286\n",
      "CAS HR-Marketing [1, 3, 6, 8, 9] 0.5714286\n",
      "CAS Human Capital & Leadership [1, 3, 4, 7, 8, 10, 11] 0.5714286\n",
      "CAS Consulting, Communication & Culture [2, 3, 5, 8] 0.5714286\n"
     ]
    }
   ],
   "source": [
    "for elem in response['hits']['hits']:\n",
    "    print(elem['_source']['course'], elem['_source']['skill_ids'], elem['_score'])"
   ]
  }
 ],
 "metadata": {
  "kernelspec": {
   "display_name": "proto",
   "language": "python",
   "name": "python3"
  },
  "language_info": {
   "codemirror_mode": {
    "name": "ipython",
    "version": 3
   },
   "file_extension": ".py",
   "mimetype": "text/x-python",
   "name": "python",
   "nbconvert_exporter": "python",
   "pygments_lexer": "ipython3",
   "version": "3.11.4"
  },
  "orig_nbformat": 4
 },
 "nbformat": 4,
 "nbformat_minor": 2
}
