{
 "cells": [
  {
   "cell_type": "code",
   "execution_count": null,
   "metadata": {},
   "outputs": [],
   "source": [
    "import json\n",
    "from elasticsearch import Elasticsearch"
   ]
  },
  {
   "cell_type": "code",
   "execution_count": null,
   "metadata": {},
   "outputs": [],
   "source": [
    "with open('../credentials.json') as f:\n",
    "    credentials = json.load(f)\n",
    "\n",
    "bonsai_url = credentials['bonsai_url']\n",
    "access_key = credentials['access_key']\n",
    "access_secret = credentials['access_secret']\n"
   ]
  },
  {
   "cell_type": "code",
   "execution_count": null,
   "metadata": {},
   "outputs": [],
   "source": [
    "es = Elasticsearch(\n",
    "    [bonsai_url],\n",
    "    basic_auth=(access_key, access_secret),\n",
    "    headers={'Content-Type': 'application/json'}\n",
    ")\n",
    "info = es.info()\n",
    "version_number = info['version']['number']\n",
    "\n",
    "print(f\"Elasticsearch version: {version_number}\")"
   ]
  },
  {
   "cell_type": "code",
   "execution_count": null,
   "metadata": {},
   "outputs": [],
   "source": [
    "terms = [1, 2]\n",
    "\n",
    "# Nested Query to Retrieve Documents\n",
    "query = {\n",
    "    \"query\": {\n",
    "        \"function_score\": {\n",
    "            \"query\": {\n",
    "                \"bool\": {\n",
    "                    \"should\": [\n",
    "                        {\n",
    "                            \"nested\": {\n",
    "                                \"path\": \"job_skill_levels\",\n",
    "                                \"query\": {\n",
    "                                    \"term\": {\"job_skill_levels.job_skill_id\": term}\n",
    "                                }\n",
    "                            }\n",
    "                        } for term in terms\n",
    "                    ],\n",
    "                    \"minimum_should_match\": 1\n",
    "                }\n",
    "            },\n",
    "            \"script_score\": {\n",
    "                \"script\": {\n",
    "                    \"source\": \"\"\"\n",
    "                    double score = _score;\n",
    "                    if (doc['job_skill_levels'].length > 0) {\n",
    "                        score = score / doc['job_skill_levels'].length;\n",
    "                    }\n",
    "                    return score;\n",
    "                    \"\"\"\n",
    "                }\n",
    "            }\n",
    "        }\n",
    "    },\n",
    "    \"size\": 100  # Number of documents to retrieve\n",
    "}"
   ]
  },
  {
   "cell_type": "code",
   "execution_count": null,
   "metadata": {},
   "outputs": [],
   "source": [
    "index_name = \"learning_opportunities_production\""
   ]
  },
  {
   "cell_type": "code",
   "execution_count": null,
   "metadata": {},
   "outputs": [],
   "source": [
    "response = es.search(index=index_name, body=query, size=10)\n",
    "# Get documents from the query response\n",
    "documents = [hit[\"_source\"] for hit in response[\"hits\"][\"hits\"]]\n",
    "scores = [hit[\"_score\"] for hit in response[\"hits\"][\"hits\"]]\n",
    "\n",
    "# Print the documents\n",
    "for i, doc in enumerate(documents):\n",
    "    # print(f\"Score {scores[i]} Document {i+1}: {doc}\")\n",
    "    print(f\"Score {scores[i]}\")"
   ]
  },
  {
   "cell_type": "code",
   "execution_count": null,
   "metadata": {},
   "outputs": [],
   "source": [
    "doc_id = 1\n",
    "\n",
    "# Your query\n",
    "query = {\n",
    "    \"query\": {\n",
    "        \"bool\": {\n",
    "            \"should\": [\n",
    "                {\n",
    "                    \"nested\": {\n",
    "                        \"path\": \"job_skill_levels\",\n",
    "                        \"query\": {\n",
    "                            \"term\": {\"job_skill_levels.job_skill_id\": term}\n",
    "                        }\n",
    "                    }\n",
    "                } for term in [1, 2]\n",
    "            ],\n",
    "            \"minimum_should_match\": 1\n",
    "        }\n",
    "    }\n",
    "}\n",
    "\n",
    "# Run the explain API\n",
    "explanation = es.explain(index=index_name, id=doc_id, body=query)\n",
    "\n",
    "# Print the explanation\n",
    "print(explanation)"
   ]
  },
  {
   "cell_type": "code",
   "execution_count": null,
   "metadata": {},
   "outputs": [],
   "source": [
    "levels = set()\n",
    "for document in documents:\n",
    "    print(document['course'])\n",
    "    print('level', document['level_id']) \n",
    "    print(len(document['job_skill_levels']), document['job_skill_levels'])\n",
    "    print(document['learning_opportunity_skills'])\n",
    "    print(document['skill_ids'])\n",
    "print(levels)"
   ]
  },
  {
   "cell_type": "code",
   "execution_count": null,
   "metadata": {},
   "outputs": [],
   "source": [
    "query = {\n",
    "    \"query\": {\n",
    "        \"match_all\": {}\n",
    "    },\n",
    "    \"size\": 100  # Number of documents to retrieve (you can adjust this)\n",
    "}\n",
    "\n",
    "# Execute the query\n",
    "response = es.search(index=index_name, body=query)\n",
    "\n",
    "# Get the list of documents\n",
    "documents = [hit[\"_source\"] for hit in response[\"hits\"][\"hits\"]]\n",
    "\n",
    "# Randomly select a document to inspect its fields\n",
    "random_doc = documents[0]\n",
    "\n",
    "# Print the fields of the randomly selected documentb"
   ]
  },
  {
   "cell_type": "code",
   "execution_count": null,
   "metadata": {},
   "outputs": [],
   "source": [
    "random_doc"
   ]
  }
 ],
 "metadata": {
  "kernelspec": {
   "display_name": "proto",
   "language": "python",
   "name": "python3"
  },
  "language_info": {
   "codemirror_mode": {
    "name": "ipython",
    "version": 3
   },
   "file_extension": ".py",
   "mimetype": "text/x-python",
   "name": "python",
   "nbconvert_exporter": "python",
   "pygments_lexer": "ipython3",
   "version": "3.11.4"
  },
  "orig_nbformat": 4
 },
 "nbformat": 4,
 "nbformat_minor": 2
}
