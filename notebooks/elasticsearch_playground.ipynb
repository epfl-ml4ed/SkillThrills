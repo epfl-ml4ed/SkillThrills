{
 "cells": [
  {
   "cell_type": "markdown",
   "metadata": {},
   "source": [
    "# Set up elasticsearch"
   ]
  },
  {
   "cell_type": "code",
   "execution_count": null,
   "metadata": {},
   "outputs": [],
   "source": [
    "import json\n",
    "from elasticsearch import Elasticsearch"
   ]
  },
  {
   "cell_type": "code",
   "execution_count": 2,
   "metadata": {},
   "outputs": [],
   "source": [
    "with open('../credentials.json') as f:\n",
    "    credentials = json.load(f)\n",
    "\n",
    "bonsai_url = credentials['bonsai_url']\n",
    "access_key = credentials['access_key']\n",
    "access_secret = credentials['access_secret']\n"
   ]
  },
  {
   "cell_type": "code",
   "execution_count": 3,
   "metadata": {},
   "outputs": [
    {
     "name": "stdout",
     "output_type": "stream",
     "text": [
      "Elasticsearch version: 7.2.0\n"
     ]
    }
   ],
   "source": [
    "es = Elasticsearch(\n",
    "    [bonsai_url],\n",
    "    basic_auth=(access_key, access_secret),\n",
    "    headers={'Content-Type': 'application/json'}\n",
    ")\n",
    "info = es.info()\n",
    "version_number = info['version']['number']\n",
    "\n",
    "print(f\"Elasticsearch version: {version_number}\")"
   ]
  },
  {
   "cell_type": "markdown",
   "metadata": {},
   "source": [
    "### Defining a fake user and a fake job\n",
    "1 means beginner\n",
    "\n",
    "2 means advanced\n",
    "\n",
    "3 means expert"
   ]
  },
  {
   "cell_type": "code",
   "execution_count": 180,
   "metadata": {},
   "outputs": [],
   "source": [
    "fake_user = {\n",
    "        'Leadership': 1,\n",
    "        'Change management': 3,\n",
    "        'Organisation + Planning': 3,\n",
    "}\n",
    "\n",
    "fake_job = {\n",
    "        'Leadership': 3,\n",
    "        'Change management': 3,\n",
    "        'Organisation + Planning': 3,\n",
    "        'Customer focus': 2\n",
    "}"
   ]
  },
  {
   "cell_type": "markdown",
   "metadata": {},
   "source": [
    "### Basic user/job matching function that does not use the levels\n",
    "\n",
    "This basic matching simply calculated the proportion of skills required for the job that the user has.\n",
    "\n",
    "In our example, the user has 3 skills ouf of the 4 that are required for the job.\n",
    "\n",
    "So the score is 75%"
   ]
  },
  {
   "cell_type": "code",
   "execution_count": 182,
   "metadata": {},
   "outputs": [
    {
     "name": "stdout",
     "output_type": "stream",
     "text": [
      "Matching score: 75.0%\n"
     ]
    }
   ],
   "source": [
    "def profile_job_matching(profile, job):\n",
    "    \"\"\"Computes a profile job matching score based on the proportion of skills that the user possesses\n",
    "\n",
    "    Args:\n",
    "        profile (dict): dictionnary of skills that the profile has\n",
    "        job (dict): dictionnary of skills required for the job\n",
    "\n",
    "    Returns:\n",
    "        float: matching score\n",
    "    \"\"\"\n",
    "    matching = 0\n",
    "    for skill in job:\n",
    "        if skill in profile:\n",
    "            matching += 1\n",
    "    matching = 100 * matching / len(job)\n",
    "    return matching\n",
    "\n",
    "\n",
    "print(f\"Matching score: {profile_job_matching(fake_user, fake_job)}%\")"
   ]
  },
  {
   "cell_type": "markdown",
   "metadata": {},
   "source": [
    "### User/job matching function that uses the levels\n",
    "\n",
    "This matching function is similaro to the previous one: it is based on the proportion of required skills that the user has.\n",
    "\n",
    "However, it takes into account the mastery levels of skills. For each skill:\n",
    "- If the user has a lower mastery level than what is required for the job, the matching will decrease. The lower the mastery level, the bigger the decrease.\n",
    "- If the user has a similar or higher mastery level than what is required for the job, the matching is not affected."
   ]
  },
  {
   "cell_type": "code",
   "execution_count": 184,
   "metadata": {},
   "outputs": [
    {
     "name": "stdout",
     "output_type": "stream",
     "text": [
      "Matching score: 58.33333333333333%\n"
     ]
    }
   ],
   "source": [
    "\n",
    "def profile_job_matching_with_level(profile, job):\n",
    "    \"\"\"Computes a profile job matching score based on the proportion of skills that the user possesses\n",
    "\n",
    "    Args:\n",
    "        profile (dict): dictionnary of skills that the profile has\n",
    "        job (dict): dictionnary of skills required for the job\n",
    "\n",
    "    Returns:\n",
    "        float: matching score\n",
    "    \"\"\"\n",
    "    matching = 0\n",
    "    for skill in job:\n",
    "        if skill in profile:\n",
    "            sim = min(profile[skill], job[skill]) / job[skill]\n",
    "            matching += sim\n",
    "    matching = 100 * matching / len(job)\n",
    "    return matching\n",
    "\n",
    "print(f\"Matching score: {profile_job_matching_with_level(fake_user, fake_job)}%\")"
   ]
  },
  {
   "cell_type": "markdown",
   "metadata": {},
   "source": [
    "### Finding the skills required for the job that the user does not have (or has a lower level))"
   ]
  },
  {
   "cell_type": "code",
   "execution_count": 215,
   "metadata": {},
   "outputs": [
    {
     "name": "stdout",
     "output_type": "stream",
     "text": [
      "Missing skills: {'Leadership': 3, 'Customer focus': 2}\n"
     ]
    }
   ],
   "source": [
    "missing_skills = dict()\n",
    "for skill in fake_job:\n",
    "    if skill not in fake_user or fake_user[skill] < fake_job[skill]:\n",
    "        missing_skills[skill] = fake_job[skill]\n",
    "print(f\"Missing skills: {missing_skills}\")"
   ]
  },
  {
   "cell_type": "markdown",
   "metadata": {},
   "source": [
    "# Use elasticsearch to find all the learning opportunities that can provide the missing skills\n",
    "\n",
    "### Plus we rank then learning opportunities with a score such that the learning opporunities that teaches all the missing skills (and only them) have the higest score. \n",
    "\n",
    "### If a learning opportunity teaches irrelevant skills or not all the missing skills, it will be penalized.\n",
    "\n",
    "### If a learning opportunities does not teaches any of the missing skills it will not be considered\n"
   ]
  },
  {
   "cell_type": "code",
   "execution_count": 219,
   "metadata": {},
   "outputs": [
    {
     "name": "stdout",
     "output_type": "stream",
     "text": [
      "Number of retireved learning opportunities: 786\n"
     ]
    }
   ],
   "source": [
    "skills_to_search = list(missing_skills.keys())\n",
    "\n",
    "index_name = \"learning_opportunities_production\"\n",
    "query = {\n",
    "    \"query\": {\n",
    "        \"function_score\": {\n",
    "            \"query\": {\n",
    "                \"terms\": {\n",
    "                    \"en_skills\": skills_to_search\n",
    "                }\n",
    "            },\n",
    "            \"script_score\": {\n",
    "                \"script\": {\n",
    "                    \"source\": \"\"\"\n",
    "                        double count = 0;\n",
    "                        double total_skills = Math.max(doc['skill_ids'].length, params.skills_to_search.length);\n",
    "                        for (String skill : params.skills_to_search) {\n",
    "                            if (doc['en_skills'].contains(skill)) {\n",
    "                                count++;\n",
    "                            }\n",
    "                        }\n",
    "                        return total_skills > 0 ? count / total_skills : 0;\n",
    "                    \"\"\",\n",
    "                    \"params\": {\n",
    "                        \"skills_to_search\": skills_to_search\n",
    "                    }\n",
    "                }\n",
    "            }\n",
    "        }\n",
    "    }\n",
    "}\n",
    "\n",
    "response = es.search(\n",
    "    index=index_name, \n",
    "    body=query,\n",
    "    size=1000)\n",
    "\n",
    "keywords = ['course', 'en_skills', 'skill_ids', 'learning_opportunity_skills']\n",
    "\n",
    "# Get documents from the query response\n",
    "learning_opportunities = [hit[\"_source\"] for hit in response[\"hits\"][\"hits\"]]\n",
    "scores = [hit[\"_score\"] for hit in response[\"hits\"][\"hits\"]]\n",
    "\n",
    "print(f\"Number of retireved learning opportunities: {len(learning_opportunities)}\")"
   ]
  },
  {
   "cell_type": "markdown",
   "metadata": {},
   "source": [
    "### Some processing to make learning opportunities into a simple dict "
   ]
  },
  {
   "cell_type": "code",
   "execution_count": 220,
   "metadata": {},
   "outputs": [],
   "source": [
    "learning_opportunities = [{keyword:learning_opportunity[keyword] for keyword in keywords} for learning_opportunity in learning_opportunities]\n",
    "\n",
    "levels = set()\n",
    "\n",
    "for i,learning_opportunity in enumerate(learning_opportunities):\n",
    "    new_skills = []\n",
    "    for level in learning_opportunity['learning_opportunity_skills']:\n",
    "        if \"beginner\" in level:\n",
    "            new_skills.append(1)\n",
    "        elif \"expert\" in level:\n",
    "            new_skills.append(3)\n",
    "        else:\n",
    "            new_skills.append(2)\n",
    "    learning_opportunity['skill_ids'] = {skill_id:level for skill_id,level in zip(learning_opportunity['skill_ids'], new_skills)}\n",
    "    learning_opportunity['en_skills'] = {skill_id:level for skill_id,level in zip(learning_opportunity['en_skills'], new_skills)}"
   ]
  },
  {
   "cell_type": "markdown",
   "metadata": {},
   "source": [
    "### Here we have a look at all the learning opportunities found by elasticsearch.\n",
    "### We want to find the learning opportunity that (if taken) maximises users/job matching \n",
    "### To do so, we have a naive approach: \n",
    "1. We go trough all the learning opportunities\n",
    "2. Update the user profile assuming that they will complete the learning opportunity\n",
    "3. Compute the matching between the job and the updated skill\n",
    "4. Keep the learning opportunity that gives the highest matching (If there is a tie, we prioritize the courses with the smallest amounf of skill)"
   ]
  },
  {
   "cell_type": "code",
   "execution_count": 218,
   "metadata": {},
   "outputs": [
    {
     "name": "stdout",
     "output_type": "stream",
     "text": [
      "If the learner takes the learning opportunity below, the matching with the job will be: 100.0%\n"
     ]
    },
    {
     "data": {
      "text/plain": [
       "{'course': 'PMI-ACP Certification',\n",
       " 'en_skills': {'Project management': 3,\n",
       "  'Creativity + Innovation ': 3,\n",
       "  'Analysis + Conception': 3,\n",
       "  'Critical thinking': 3,\n",
       "  'Management': 3,\n",
       "  'Leadership': 3,\n",
       "  'Organisation + Planning': 3,\n",
       "  'Initiative + Result orientation': 3,\n",
       "  'Customer focus': 3},\n",
       " 'skill_ids': {14: 3, 12: 3, 9: 3, 5: 3, 11: 3, 7: 3, 13: 3, 1: 3, 6: 3},\n",
       " 'learning_opportunity_skills': ['14_expert',\n",
       "  '12_expert',\n",
       "  '9_expert',\n",
       "  '5_expert',\n",
       "  '11_expert',\n",
       "  '7_expert',\n",
       "  '13_expert',\n",
       "  '1_expert',\n",
       "  '6_expert']}"
      ]
     },
     "execution_count": 218,
     "metadata": {},
     "output_type": "execute_result"
    }
   ],
   "source": [
    "matching = profile_job_matching_with_level(fake_user, fake_job)\n",
    "best_matching = matching\n",
    "best_learning_opportunity = None\n",
    "for learning_opportunity in learning_opportunities:\n",
    "    updated_user = fake_user.copy()\n",
    "    updated_user.update(learning_opportunity['en_skills'])\n",
    "    updated_matching = profile_job_matching_with_level(updated_user, fake_job)\n",
    "    if updated_matching==best_matching and len(learning_opportunity['en_skills']) < len(best_learning_opportunity['en_skills']):\n",
    "        best_learning_opportunity = learning_opportunity\n",
    "    if updated_matching > best_matching:\n",
    "        best_matching = updated_matching\n",
    "        best_learning_opportunity = learning_opportunity\n",
    "print(f\"If the learner takes the learning opportunity below, the matching with the job will be: {best_matching}%\")\n",
    "best_learning_opportunity"
   ]
  }
 ],
 "metadata": {
  "kernelspec": {
   "display_name": "proto",
   "language": "python",
   "name": "python3"
  },
  "language_info": {
   "codemirror_mode": {
    "name": "ipython",
    "version": 3
   },
   "file_extension": ".py",
   "mimetype": "text/x-python",
   "name": "python",
   "nbconvert_exporter": "python",
   "pygments_lexer": "ipython3",
   "version": "3.11.4"
  },
  "orig_nbformat": 4
 },
 "nbformat": 4,
 "nbformat_minor": 2
}
