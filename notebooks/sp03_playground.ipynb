{
 "cells": [
  {
   "cell_type": "code",
   "execution_count": 2,
   "metadata": {},
   "outputs": [],
   "source": [
    "%load_ext autoreload\n",
    "\n",
    "%autoreload 1"
   ]
  },
  {
   "cell_type": "code",
   "execution_count": 39,
   "metadata": {},
   "outputs": [],
   "source": [
    "import random\n",
    "import numpy as np\n",
    "import pandas as pd\n",
    "from collections import Counter\n",
    "from copy import deepcopy\n",
    "import sys\n",
    "\n",
    "sys.path.append('../protosp03/recommendation/')\n",
    "sys.path.append('../protosp03/data/synthetic/')\n",
    "%aimport matchings\n",
    "%aimport market\n",
    "%aimport upskillings\n",
    "%aimport make_synthetic\n",
    "%aimport recommendation"
   ]
  },
  {
   "cell_type": "code",
   "execution_count": 9,
   "metadata": {},
   "outputs": [],
   "source": [
    "path = \"../data/taxonomy/taxonomy_V4.csv\"\n",
    "mastery_levels = [1, 2, 3, 4]\n",
    "years = [i for i in range(2023, 2017, -1)]"
   ]
  },
  {
   "cell_type": "code",
   "execution_count": 10,
   "metadata": {},
   "outputs": [],
   "source": [
    "skills, learners, jobs, courses = make_synthetic.get_job_market(path, mastery_levels, years )"
   ]
  },
  {
   "cell_type": "code",
   "execution_count": 11,
   "metadata": {},
   "outputs": [],
   "source": [
    "skill_supply, skill_demand, skill_trends, skills_attractiveness = market.get_all_market_metrics(skills, mastery_levels, learners, jobs, years)"
   ]
  },
  {
   "cell_type": "code",
   "execution_count": 28,
   "metadata": {},
   "outputs": [
    {
     "name": "stdout",
     "output_type": "stream",
     "text": [
      "Learner attractiveness: 7.8853679389393685\n",
      "Learner attractiveness after enrolling in course {'Führung in Konfliktsituationen': 4, 'Aufnahmefähigkeit': 1} : 9.455986662619317\n",
      "Learner attractiveness after enrolling in course {'Mündliches Verstehen': 4, 'Organisation': 1} : 9.805409801838374\n",
      "Learner attractiveness after enrolling in course {'Psychische Fertigkeit': 2} : 8.736274968417826\n",
      "Learner attractiveness after enrolling in course {'Erinnerungsvermögen': 3} : 9.132533471819187\n",
      "Learner attractiveness after enrolling in course {'Reaktionszeit und Schnelligkeit': 2, 'Organisation': 3} : 9.336556206454167\n"
     ]
    }
   ],
   "source": [
    "course_recommendation = None\n",
    "learner = deepcopy(learners[0])\n",
    "learner_attractiveness = market.get_learner_attractiveness(learner, years, skill_supply, skill_demand).total()\n",
    "enrollable_courses = matchings.get_all_enrollable_courses(learner, courses, threshold=0.9)\n",
    "print(\"Learner attractiveness:\", learner_attractiveness)\n",
    "for course in enrollable_courses:\n",
    "    learner = deepcopy(learners[0])\n",
    "    for skill,level in course[\"provided_skills\"].items():\n",
    "        learner[\"possessed_skills\"][skill] = level\n",
    "    tmp_attractiveness = market.get_learner_attractiveness(learner, years, skill_supply, skill_demand).total()\n",
    "    if tmp_attractiveness > learner_attractiveness:\n",
    "        learner_attractiveness = tmp_attractiveness\n",
    "        course_recommendation = course\n",
    "    print(\"Learner attractiveness after enrolling in course\", course['provided_skills'], \":\", tmp_attractiveness)"
   ]
  },
  {
   "cell_type": "code",
   "execution_count": 29,
   "metadata": {},
   "outputs": [
    {
     "data": {
      "text/plain": [
       "{'required_skills': {'Ausdauer': 2},\n",
       " 'provided_skills': {'Mündliches Verstehen': 4, 'Organisation': 1}}"
      ]
     },
     "execution_count": 29,
     "metadata": {},
     "output_type": "execute_result"
    }
   ],
   "source": [
    "course_recommendation"
   ]
  },
  {
   "cell_type": "code",
   "execution_count": 25,
   "metadata": {},
   "outputs": [
    {
     "data": {
      "text/plain": [
       "Counter({'Kooperieren': 0.961451247165533,\n",
       "         'Führung in der strategischen Ausrichtung': 2.727891156462585,\n",
       "         'Data Engineering/Data Management': 0.3419717093186481,\n",
       "         'Ausdauer': 0.7184878613450042,\n",
       "         'Schriftliches Verstehen': 0.23546068444027626,\n",
       "         'Service Engineering': 2.9001052802073213,\n",
       "         'Führung in Konfliktsituationen': 1.2851473922902497,\n",
       "         'Aufnahmefähigkeit': 0.28547133138969877})"
      ]
     },
     "execution_count": 25,
     "metadata": {},
     "output_type": "execute_result"
    }
   ],
   "source": [
    "learner_attractiveness"
   ]
  },
  {
   "cell_type": "code",
   "execution_count": 14,
   "metadata": {},
   "outputs": [],
   "source": [
    "def up_skilling_market_advice(learner, skills, skills_attractiveness):\n",
    "    \"\"\"Return the up-skilling advice for a learner to increase their overall attractiveness.\n",
    "\n",
    "    Args:\n",
    "        learner (dict): Learner's profile including possessed skills and levels.\n",
    "        skills_attractiveness (dict): Attractiveness of all skills for each mastery level.\n",
    "\n",
    "    Returns:\n",
    "        tuple: A tuple of the skill and level to up-skill to.\n",
    "    \"\"\"\n",
    "    up_skilling_advice = None\n",
    "\n",
    "    original_learner_attractiveness = sum(\n",
    "        [\n",
    "            skills_attractiveness[(s, l)]\n",
    "            for s, l in learner[\"possessed_skills\"].items()\n",
    "        ]\n",
    "    )\n",
    "    learner_attractiveness = original_learner_attractiveness\n",
    "    for skill, level in learner[\"possessed_skills\"].items():\n",
    "        if (skill, level+1) in skills_attractiveness:\n",
    "            tmp_learner = deepcopy(learner)\n",
    "            tmp_learner[\"possessed_skills\"][skill] = level+1\n",
    "            tmp_learner_attractiveness = sum(\n",
    "                [\n",
    "                    skills_attractiveness[(s, l)]\n",
    "                    for s, l in tmp_learner[\"possessed_skills\"].items()\n",
    "                ]\n",
    "            )\n",
    "            if tmp_learner_attractiveness > learner_attractiveness:\n",
    "                learner_attractiveness = tmp_learner_attractiveness\n",
    "                up_skilling_advice = (skill, level+1)\n",
    "\n",
    "    for skill in skills:\n",
    "        if skill not in learner[\"possessed_skills\"]:\n",
    "            tmp_learner = deepcopy(learner)\n",
    "            tmp_learner[\"possessed_skills\"][skill] = 1\n",
    "            tmp_learner_attractiveness = original_learner_attractiveness + skills_attractiveness[(skill, 1)] \n",
    "            if tmp_learner_attractiveness > learner_attractiveness:\n",
    "                learner_attractiveness = tmp_learner_attractiveness\n",
    "                up_skilling_advice = (skill, 1)\n",
    "\n",
    "    return up_skilling_advice"
   ]
  },
  {
   "cell_type": "code",
   "execution_count": 33,
   "metadata": {},
   "outputs": [
    {
     "data": {
      "text/plain": [
       "('Management der ICT', 4)"
      ]
     },
     "execution_count": 33,
     "metadata": {},
     "output_type": "execute_result"
    }
   ],
   "source": [
    "learner = deepcopy(learners[80])\n",
    "up_skilling_advice = up_skilling_market_advice(learner, skills, skills_attractiveness)\n",
    "up_skilling_advice"
   ]
  },
  {
   "cell_type": "code",
   "execution_count": 30,
   "metadata": {},
   "outputs": [],
   "source": [
    "enrollable_courses = matchings.get_all_enrollable_courses(learner, courses, threshold=0.5)"
   ]
  },
  {
   "cell_type": "code",
   "execution_count": 36,
   "metadata": {},
   "outputs": [
    {
     "name": "stdout",
     "output_type": "stream",
     "text": [
      "{'required_skills': {'Service Engineering': 1}, 'provided_skills': {'Führung in Konfliktsituationen': 4, 'Aufnahmefähigkeit': 1}}\n"
     ]
    }
   ],
   "source": [
    "for course in enrollable_courses:\n",
    "    if ('Führung in Konfliktsituationen', 4) in course[\"provided_skills\"].items():\n",
    "        print(course)"
   ]
  },
  {
   "cell_type": "code",
   "execution_count": 41,
   "metadata": {},
   "outputs": [
    {
     "data": {
      "text/plain": [
       "{'required_skills': {'Service Engineering': 4,\n",
       "  'Zusammenarbeit in virtuellen Teams': 2},\n",
       " 'provided_skills': {'Network Engineering': 3}}"
      ]
     },
     "execution_count": 41,
     "metadata": {},
     "output_type": "execute_result"
    }
   ],
   "source": [
    "recommendation.get_course_recommendation(learner, enrollable_courses, up_skilling_advice)"
   ]
  },
  {
   "cell_type": "code",
   "execution_count": 47,
   "metadata": {},
   "outputs": [],
   "source": [
    "def get_course_recommendation(learner, enrollable_courses, up_skilling_advice):\n",
    "    \"\"\"Get the course recommendation for a learner and a given up-skilling advice.\n",
    "\n",
    "    Args:\n",
    "        learner (dict): Learner's profile including possessed skills and levels.\n",
    "        enrollable_courses (list): List of all enrollable courses.\n",
    "        up_skilling_advice (tuple): A tuple of the skill and level to up-skill to.\n",
    "\n",
    "    Returns:\n",
    "        dict: The course recommendation\n",
    "    \"\"\"\n",
    "    course_recommendation = None\n",
    "    matching = 0\n",
    "    for course in enrollable_courses:\n",
    "        if up_skilling_advice in course[\"provided_skills\"].items():\n",
    "            print(\"Course\", course[\"provided_skills\"], \"is recommended.\")\n",
    "            tmp_matching = matchings.learner_course_matching(learner, course)\n",
    "            if tmp_matching > matching:\n",
    "                matching = tmp_matching\n",
    "                course_recommendation = course\n",
    "    return course_recommendation"
   ]
  },
  {
   "cell_type": "code",
   "execution_count": 49,
   "metadata": {},
   "outputs": [
    {
     "name": "stdout",
     "output_type": "stream",
     "text": [
      "Course {'Network Engineering': 3} is recommended.\n"
     ]
    },
    {
     "data": {
      "text/plain": [
       "{'required_skills': {'Service Engineering': 4,\n",
       "  'Zusammenarbeit in virtuellen Teams': 2},\n",
       " 'provided_skills': {'Network Engineering': 3}}"
      ]
     },
     "execution_count": 49,
     "metadata": {},
     "output_type": "execute_result"
    }
   ],
   "source": [
    "get_course_recommendation(learner, enrollable_courses, ('Network Engineering', 3))"
   ]
  }
 ],
 "metadata": {
  "kernelspec": {
   "display_name": "proto",
   "language": "python",
   "name": "python3"
  },
  "language_info": {
   "codemirror_mode": {
    "name": "ipython",
    "version": 3
   },
   "file_extension": ".py",
   "mimetype": "text/x-python",
   "name": "python",
   "nbconvert_exporter": "python",
   "pygments_lexer": "ipython3",
   "version": "3.11.4"
  },
  "orig_nbformat": 4
 },
 "nbformat": 4,
 "nbformat_minor": 2
}
