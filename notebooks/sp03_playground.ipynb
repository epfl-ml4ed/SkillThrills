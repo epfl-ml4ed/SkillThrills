{
 "cells": [
  {
   "cell_type": "code",
   "execution_count": null,
   "metadata": {},
   "outputs": [],
   "source": [
    "%load_ext autoreload\n",
    "\n",
    "%autoreload 1"
   ]
  },
  {
   "cell_type": "code",
   "execution_count": 24,
   "metadata": {},
   "outputs": [],
   "source": [
    "import random\n",
    "import numpy as np\n",
    "import pandas as pd\n",
    "from collections import Counter\n",
    "from copy import deepcopy\n",
    "import sys\n",
    "\n",
    "sys.path.append('../protosp03/recommendation/')\n",
    "sys.path.append('../protosp03/data/synthetic/')\n",
    "%aimport matchings\n",
    "%aimport market\n",
    "%aimport upskillings\n",
    "%aimport make_synthetic"
   ]
  },
  {
   "cell_type": "code",
   "execution_count": 48,
   "metadata": {},
   "outputs": [],
   "source": [
    "path = \"../data/taxonomy/taxonomy_V4.csv\"\n",
    "mastery_levels = [1, 2, 3, 4]\n",
    "years = [i for i in range(2023, 2017, -1)]"
   ]
  },
  {
   "cell_type": "code",
   "execution_count": 50,
   "metadata": {},
   "outputs": [],
   "source": [
    "skills, learners, jobs = make_synthetic.get_job_market(path, mastery_levels, years )"
   ]
  },
  {
   "cell_type": "markdown",
   "metadata": {},
   "source": [
    "# Skill Supply"
   ]
  },
  {
   "cell_type": "code",
   "execution_count": null,
   "metadata": {},
   "outputs": [],
   "source": [
    "def get_skill_supply(learners, years):\n",
    "    skill_supply = {year: Counter() for year in years}\n",
    "    for learner in learners:\n",
    "        for skill, level in learner[\"possessed_skills\"].items():\n",
    "            skill_supply[learner[\"year\"]][(skill, level)] += 1\n",
    "    return skill_supply\n",
    "\n",
    "\n",
    "skill_supply = get_skill_supply(learners, years)\n",
    "skill_supply[2023].most_common(10)"
   ]
  },
  {
   "cell_type": "markdown",
   "metadata": {},
   "source": [
    "# Skill Demand"
   ]
  },
  {
   "cell_type": "code",
   "execution_count": null,
   "metadata": {},
   "outputs": [],
   "source": [
    "def get_skill_demand(jobs, years):\n",
    "    skill_demand = {year: Counter() for year in years}\n",
    "    for job in jobs:\n",
    "        for skill, level in job[\"required_skills\"].items():\n",
    "            skill_demand[job[\"year\"]][(skill, level)] += 1\n",
    "    return skill_demand\n",
    "\n",
    "\n",
    "skill_demand = get_skill_demand(jobs, years)\n",
    "skill_demand[2023].most_common(10)"
   ]
  },
  {
   "cell_type": "markdown",
   "metadata": {},
   "source": [
    "# Skill Trend"
   ]
  },
  {
   "cell_type": "code",
   "execution_count": null,
   "metadata": {},
   "outputs": [],
   "source": [
    "def get_skill_trend(skill_demand, skill, years):\n",
    "    current_year = years[0]\n",
    "    last_year = years[1]\n",
    "    current_demand = skill_demand[current_year][skill]\n",
    "    last_demand = skill_demand[last_year][skill]\n",
    "    if last_demand == 0:\n",
    "        print(\"last year demand is 0\")\n",
    "        return None\n",
    "    return 100 * (current_demand - last_demand) / last_demand"
   ]
  },
  {
   "cell_type": "markdown",
   "metadata": {},
   "source": [
    "# Skill Attractiveness"
   ]
  },
  {
   "cell_type": "code",
   "execution_count": null,
   "metadata": {},
   "outputs": [],
   "source": [
    "def get_skill_attractiveness(skill, years, skill_supply, skill_demand):\n",
    "    skill_attractiveness = 0\n",
    "    normalization_factor = 0\n",
    "    for i, year in enumerate(years):\n",
    "        if skill in skill_supply[year]:\n",
    "            skill_attractiveness += skill_demand[year][skill] / (\n",
    "                skill_supply[year][skill] * (i + 1)\n",
    "            )\n",
    "        normalization_factor += 1 / (i + 1)\n",
    "    return skill_attractiveness / normalization_factor"
   ]
  },
  {
   "cell_type": "code",
   "execution_count": null,
   "metadata": {},
   "outputs": [],
   "source": [
    "def get_learner_attractiveness(learner, years, skill_supply, skill_demand):\n",
    "    learner_attractiveness = dict()\n",
    "    for skill, level in learner[\"possessed_skills\"].items():\n",
    "        learner_attractiveness[skill] = get_skill_attractiveness(\n",
    "            (skill, level), years, skill_supply, skill_demand\n",
    "        )\n",
    "    return learner_attractiveness"
   ]
  },
  {
   "cell_type": "markdown",
   "metadata": {},
   "source": [
    "# upskilling advice"
   ]
  },
  {
   "cell_type": "code",
   "execution_count": null,
   "metadata": {},
   "outputs": [],
   "source": [
    "matching = matchings.learner_job_matching(learner, job)\n",
    "new_matching = sys.maxsize\n",
    "while new_matching > matching:\n",
    "    upskilling_advice = upskillings.up_skilling_advice(\n",
    "        learners[0],\n",
    "        jobs[0],\n",
    "        market.get_all_skills_attractiveness(\n",
    "            skills, mastery_levels, years, skill_supply, skill_demand\n",
    "        ),\n",
    "    )\n",
    "    learners[0][\"possessed_skills\"][upskilling_advice[0]] = upskilling_advice[1]"
   ]
  },
  {
   "cell_type": "code",
   "execution_count": null,
   "metadata": {},
   "outputs": [],
   "source": [
    "jobs[0]"
   ]
  },
  {
   "cell_type": "code",
   "execution_count": null,
   "metadata": {},
   "outputs": [],
   "source": [
    "learner = {\n",
    "    \"possessed_skills\": {\n",
    "        \"Business- und Requirements-Engineerin\": 1,\n",
    "        \"Mitfühlen\": 3,\n",
    "        \"Psychische Fertigkeiten\": 3,\n",
    "    },\n",
    "    \"year\": 2023,\n",
    "}"
   ]
  },
  {
   "cell_type": "code",
   "execution_count": null,
   "metadata": {},
   "outputs": [],
   "source": [
    "skills_attractiveness = market.get_all_skills_attractiveness(\n",
    "    skills, mastery_levels, years, skill_supply, skill_demand\n",
    ")"
   ]
  },
  {
   "cell_type": "code",
   "execution_count": null,
   "metadata": {},
   "outputs": [],
   "source": [
    "skills_attractiveness[\n",
    "    (\"Business- und Requirements-Engineerin\", 2)\n",
    "], skills_attractiveness[(\"Anleiten und Begleiten\", 2)]"
   ]
  },
  {
   "cell_type": "code",
   "execution_count": null,
   "metadata": {},
   "outputs": [],
   "source": [
    "skills_attractiveness = dict()\n",
    "for skill in skills:\n",
    "    for level in mastery_levels:\n",
    "        skills_attractiveness[(skill, level)] = get_skill_attractiveness(\n",
    "            (skill, level), years, skill_supply, skill_demand\n",
    "        )"
   ]
  },
  {
   "cell_type": "code",
   "execution_count": null,
   "metadata": {},
   "outputs": [],
   "source": [
    "skills_attractiveness = market.get_all_skills_attractiveness(\n",
    "    skills, mastery_levels, years, skill_supply, skill_demand\n",
    ")"
   ]
  },
  {
   "cell_type": "code",
   "execution_count": null,
   "metadata": {},
   "outputs": [],
   "source": [
    "upskillings.up_skilling_advice(learners[0], jobs[0], skills_attractiveness)"
   ]
  },
  {
   "cell_type": "code",
   "execution_count": null,
   "metadata": {},
   "outputs": [],
   "source": [
    "learners[0], jobs[0]"
   ]
  },
  {
   "cell_type": "markdown",
   "metadata": {},
   "source": [
    "# Courses"
   ]
  },
  {
   "cell_type": "code",
   "execution_count": null,
   "metadata": {},
   "outputs": [],
   "source": [
    "def get_random_provided_skills(\n",
    "    skills, mastery_levels, required_skills, n_provided_skills\n",
    "):\n",
    "    provided_skills = dict()\n",
    "    while len(provided_skills) < n_provided_skills:\n",
    "        candidate_skill = random.choice(skills)\n",
    "        candidate_level = random.choice(mastery_levels)\n",
    "        if (\n",
    "            candidate_skill not in required_skills\n",
    "            and candidate_skill not in provided_skills\n",
    "        ):\n",
    "            provided_skills[candidate_skill] = candidate_level\n",
    "        elif (\n",
    "            candidate_skill in required_skills\n",
    "            and candidate_level > required_skills[candidate_skill]\n",
    "        ):\n",
    "            provided_skills[candidate_skill] = candidate_level\n",
    "\n",
    "    return provided_skills\n",
    "\n",
    "\n",
    "def get_random_course(\n",
    "    skills,\n",
    "    mastery_levels,\n",
    "    min_n_required_skills=1,\n",
    "    max_n_required_skills=5,\n",
    "    min_n_provided_skills=1,\n",
    "    max_n_provided_skills=2,\n",
    "):\n",
    "    n_required_skills = random.randint(min_n_required_skills, max_n_required_skills)\n",
    "    required = {\n",
    "        skill: level\n",
    "        for skill, level in zip(\n",
    "            np.random.choice(skills, n_required_skills, replace=False),\n",
    "            np.random.choice(mastery_levels, n_required_skills, replace=True),\n",
    "        )\n",
    "    }\n",
    "\n",
    "    n_provided_skills = random.randint(min_n_provided_skills, max_n_provided_skills)\n",
    "    provided = get_random_provided_skills(\n",
    "        skills, mastery_levels, required, n_provided_skills\n",
    "    )\n",
    "\n",
    "    return {\"required_skills\": required, \"provided_skills\": provided}\n",
    "\n",
    "\n",
    "def get_all_courses(\n",
    "    skills,\n",
    "    mastery_levels,\n",
    "    min_n_required_skills=1,\n",
    "    max_n_required_skills=5,\n",
    "    min_n_provided_skills=1,\n",
    "    max_n_provided_skills=2,\n",
    "    n_courses=1000,\n",
    "):\n",
    "    return [\n",
    "        get_random_course(\n",
    "            skills,\n",
    "            mastery_levels,\n",
    "            min_n_required_skills=1,\n",
    "            max_n_required_skills=5,\n",
    "            min_n_provided_skills=1,\n",
    "            max_n_provided_skills=2,\n",
    "        )\n",
    "        for _ in range(n_courses)\n",
    "    ]\n",
    "\n",
    "\n",
    "courses = get_all_courses(\n",
    "    skills,\n",
    "    mastery_levels,\n",
    "    min_n_required_skills=1,\n",
    "    max_n_required_skills=5,\n",
    "    min_n_provided_skills=1,\n",
    "    max_n_provided_skills=2,\n",
    "    n_courses=1000,\n",
    ")\n",
    "\n",
    "courses[0]"
   ]
  },
  {
   "cell_type": "markdown",
   "metadata": {},
   "source": [
    "# Learner-Course Matching"
   ]
  },
  {
   "cell_type": "code",
   "execution_count": null,
   "metadata": {},
   "outputs": [],
   "source": [
    "def learner_course_required_matching(learner, course):\n",
    "    required_matching = 0\n",
    "    for skill in course[\"required_skills\"]:\n",
    "        if skill in learner[\"possessed_skills\"]:\n",
    "            sim = (\n",
    "                min(\n",
    "                    learner[\"possessed_skills\"][skill], course[\"required_skills\"][skill]\n",
    "                )\n",
    "                / course[\"required_skills\"][skill]\n",
    "            )\n",
    "            required_matching += sim\n",
    "    return required_matching / len(course[\"required_skills\"])\n",
    "\n",
    "\n",
    "def learner_course_provided_matching(learner, course):\n",
    "    provided_matching = 0\n",
    "    for skill in course[\"provided_skills\"]:\n",
    "        if skill in learner[\"possessed_skills\"]:\n",
    "            sim = (\n",
    "                min(\n",
    "                    learner[\"possessed_skills\"][skill], course[\"provided_skills\"][skill]\n",
    "                )\n",
    "                / course[\"provided_skills\"][skill]\n",
    "            )\n",
    "            provided_matching += sim\n",
    "    return provided_matching / len(course[\"provided_skills\"])\n",
    "\n",
    "\n",
    "def learner_course_matching(learner, course):\n",
    "    required_matching = learner_course_required_matching(learner, course)\n",
    "    provided_matching = learner_course_provided_matching(learner, course)\n",
    "\n",
    "    if provided_matching >= 1.0:\n",
    "        return 0\n",
    "\n",
    "    return required_matching / (provided_matching + 1)"
   ]
  },
  {
   "cell_type": "code",
   "execution_count": null,
   "metadata": {},
   "outputs": [],
   "source": [
    "nb_matching = 0\n",
    "for learner, course in zip(learners, courses):\n",
    "    matching = learner_course_matching(learner, course)\n",
    "    if matching >= 0.1:\n",
    "        print(f\"Matching: {matching:.2f}\")\n",
    "        print(f\"Course required: {course['required_skills']}\")\n",
    "        print(f\"Course provided: {course['provided_skills']}\")\n",
    "        print(f\"Learner: {learner['possessed_skills']}\")\n",
    "        nb_matching += 1\n",
    "    if nb_matching > 5:\n",
    "        break"
   ]
  },
  {
   "cell_type": "markdown",
   "metadata": {},
   "source": [
    "# Learner-skill Achievability"
   ]
  },
  {
   "cell_type": "code",
   "execution_count": null,
   "metadata": {},
   "outputs": [],
   "source": [
    "def learner_skill_achievability(learner, skill, mastery_level, courses):\n",
    "    achievability = 0\n",
    "    nb_courses = 0\n",
    "    for course in courses:\n",
    "        if (\n",
    "            skill in course[\"provided_skills\"]\n",
    "            and mastery_level == course[\"provided_skills\"][skill]\n",
    "        ):\n",
    "            achievability += learner_course_required_matching(learner, course)\n",
    "            nb_courses += 1\n",
    "    return achievability, nb_courses"
   ]
  },
  {
   "cell_type": "code",
   "execution_count": null,
   "metadata": {},
   "outputs": [],
   "source": [
    "learners[0]"
   ]
  },
  {
   "cell_type": "code",
   "execution_count": null,
   "metadata": {},
   "outputs": [],
   "source": [
    "jobs[0]"
   ]
  },
  {
   "cell_type": "code",
   "execution_count": null,
   "metadata": {},
   "outputs": [],
   "source": [
    "nb_achievable = 0\n",
    "\n",
    "for learner in learners:\n",
    "    achievability, nb_courses = learner_skill_achievability(\n",
    "        learner, \"Motivieren\", 1, courses\n",
    "    )\n",
    "    if achievability > 0:\n",
    "        nb_achievable += 1\n",
    "        print(f\"Achievability: {achievability:.2f}\")\n",
    "        print(f\"Number of courses: {nb_courses}\")\n",
    "        print(f\"Learner: {learner['possessed_skills']}\")\n",
    "        print(f\"Skill: Motivieren\")\n",
    "        if nb_achievable > 5:\n",
    "            break"
   ]
  },
  {
   "cell_type": "code",
   "execution_count": null,
   "metadata": {},
   "outputs": [],
   "source": [
    "def max(a):\n",
    "    max = a[0]\n",
    "    for i in range(1, len(a)):\n",
    "        if a[i] > max:\n",
    "            max = a[i]\n",
    "    return max\n",
    "\n",
    "\n",
    "max([7, 8, 3, 4, 5])"
   ]
  },
  {
   "cell_type": "markdown",
   "metadata": {},
   "source": []
  }
 ],
 "metadata": {
  "kernelspec": {
   "display_name": "proto",
   "language": "python",
   "name": "python3"
  },
  "language_info": {
   "codemirror_mode": {
    "name": "ipython",
    "version": 3
   },
   "file_extension": ".py",
   "mimetype": "text/x-python",
   "name": "python",
   "nbconvert_exporter": "python",
   "pygments_lexer": "ipython3",
   "version": "3.9.18"
  },
  "orig_nbformat": 4
 },
 "nbformat": 4,
 "nbformat_minor": 2
}
