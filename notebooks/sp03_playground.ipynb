{
 "cells": [
  {
   "cell_type": "code",
   "execution_count": 1,
   "metadata": {},
   "outputs": [],
   "source": [
    "import random\n",
    "import numpy as np\n",
    "import pandas as pd\n",
    "from collections import Counter"
   ]
  },
  {
   "cell_type": "code",
   "execution_count": 2,
   "metadata": {},
   "outputs": [],
   "source": [
    "path = '../data/raw/evrlearn/taxonomy_V4.csv'"
   ]
  },
  {
   "cell_type": "code",
   "execution_count": 3,
   "metadata": {},
   "outputs": [],
   "source": [
    "taxonomy = pd.read_csv(path)\n",
    "\n",
    "# remove all rows where the column 'ElementID' is null\n",
    "taxonomy = taxonomy[taxonomy['ElementID'].notna()]\n",
    "\n",
    "keep = ['ElementID', 'Dimension', 'Type Level 1', 'Type Level 1 E',\n",
    "       'Type Level 2', 'Type Level 2 E', 'Type Level 3', 'Type Level 4']\n",
    "\n",
    "# keep only the columns in the list 'keep'\n",
    "taxonomy = taxonomy[keep]\n",
    "names = ['Type Level 1', 'Type Level 2', 'Type Level 3', 'Type Level 4']\n",
    "\n",
    "taxonomy['last_name'] = (taxonomy['ElementID'].str.len() - 1 )//2\n",
    "taxonomy['last_name'] = taxonomy['last_name'].map(lambda x: names[x])\n",
    "taxonomy['last_name'] = taxonomy.apply(lambda x: x[x['last_name']], axis=1)"
   ]
  },
  {
   "cell_type": "code",
   "execution_count": 121,
   "metadata": {},
   "outputs": [
    {
     "data": {
      "text/html": [
       "<div>\n",
       "<style scoped>\n",
       "    .dataframe tbody tr th:only-of-type {\n",
       "        vertical-align: middle;\n",
       "    }\n",
       "\n",
       "    .dataframe tbody tr th {\n",
       "        vertical-align: top;\n",
       "    }\n",
       "\n",
       "    .dataframe thead th {\n",
       "        text-align: right;\n",
       "    }\n",
       "</style>\n",
       "<table border=\"1\" class=\"dataframe\">\n",
       "  <thead>\n",
       "    <tr style=\"text-align: right;\">\n",
       "      <th></th>\n",
       "      <th>ElementID</th>\n",
       "      <th>Dimension</th>\n",
       "      <th>Type Level 1</th>\n",
       "      <th>Type Level 1 E</th>\n",
       "      <th>Type Level 2</th>\n",
       "      <th>Type Level 2 E</th>\n",
       "      <th>Type Level 3</th>\n",
       "      <th>Type Level 4</th>\n",
       "      <th>last_name</th>\n",
       "    </tr>\n",
       "  </thead>\n",
       "  <tbody>\n",
       "    <tr>\n",
       "      <th>0</th>\n",
       "      <td>2.1</td>\n",
       "      <td>Deskriptor</td>\n",
       "      <td>Fertigkeit</td>\n",
       "      <td>Skill</td>\n",
       "      <td>Kognitive Fertigkeit</td>\n",
       "      <td>Cognitive Skills</td>\n",
       "      <td>NaN</td>\n",
       "      <td>NaN</td>\n",
       "      <td>Kognitive Fertigkeit</td>\n",
       "    </tr>\n",
       "    <tr>\n",
       "      <th>1</th>\n",
       "      <td>2.1.1</td>\n",
       "      <td>Deskriptor</td>\n",
       "      <td>Fertigkeit</td>\n",
       "      <td>Skill</td>\n",
       "      <td>Kognitive Fertigkeit</td>\n",
       "      <td>Cognitive Skills</td>\n",
       "      <td>Problemlösungsfähigkeit</td>\n",
       "      <td>NaN</td>\n",
       "      <td>Problemlösungsfähigkeit</td>\n",
       "    </tr>\n",
       "    <tr>\n",
       "      <th>2</th>\n",
       "      <td>2.1.1.1</td>\n",
       "      <td>Deskriptor</td>\n",
       "      <td>Fertigkeit</td>\n",
       "      <td>Skill</td>\n",
       "      <td>Kognitive Fertigkeit</td>\n",
       "      <td>Cognitive Skills</td>\n",
       "      <td>Problemlösungsfähigkeit</td>\n",
       "      <td>Problembewusstsein</td>\n",
       "      <td>Problembewusstsein</td>\n",
       "    </tr>\n",
       "    <tr>\n",
       "      <th>3</th>\n",
       "      <td>2.1.1.2</td>\n",
       "      <td>Deskriptor</td>\n",
       "      <td>Fertigkeit</td>\n",
       "      <td>Skill</td>\n",
       "      <td>Kognitive Fertigkeit</td>\n",
       "      <td>Cognitive Skills</td>\n",
       "      <td>Problemlösungsfähigkeit</td>\n",
       "      <td>Verarbeiten von Informationen</td>\n",
       "      <td>Verarbeiten von Informationen</td>\n",
       "    </tr>\n",
       "    <tr>\n",
       "      <th>4</th>\n",
       "      <td>2.1.1.3</td>\n",
       "      <td>Deskriptor</td>\n",
       "      <td>Fertigkeit</td>\n",
       "      <td>Skill</td>\n",
       "      <td>Kognitive Fertigkeit</td>\n",
       "      <td>Cognitive Skills</td>\n",
       "      <td>Problemlösungsfähigkeit</td>\n",
       "      <td>Analysieren von Daten oder Informationen</td>\n",
       "      <td>Analysieren von Daten oder Informationen</td>\n",
       "    </tr>\n",
       "    <tr>\n",
       "      <th>...</th>\n",
       "      <td>...</td>\n",
       "      <td>...</td>\n",
       "      <td>...</td>\n",
       "      <td>...</td>\n",
       "      <td>...</td>\n",
       "      <td>...</td>\n",
       "      <td>...</td>\n",
       "      <td>...</td>\n",
       "      <td>...</td>\n",
       "    </tr>\n",
       "    <tr>\n",
       "      <th>367</th>\n",
       "      <td>7.2.1</td>\n",
       "      <td>Kompetenz</td>\n",
       "      <td>Selbstkompetenz</td>\n",
       "      <td>Personal Competency</td>\n",
       "      <td>Selbstorganisation</td>\n",
       "      <td>Self-Organisation</td>\n",
       "      <td>Zeitmanagement</td>\n",
       "      <td>NaN</td>\n",
       "      <td>Zeitmanagement</td>\n",
       "    </tr>\n",
       "    <tr>\n",
       "      <th>368</th>\n",
       "      <td>7.2.2</td>\n",
       "      <td>Kompetenz</td>\n",
       "      <td>Selbstkompetenz</td>\n",
       "      <td>Personal Competency</td>\n",
       "      <td>Selbstorganisation</td>\n",
       "      <td>Self-Organisation</td>\n",
       "      <td>Emotionale Regulierung</td>\n",
       "      <td>NaN</td>\n",
       "      <td>Emotionale Regulierung</td>\n",
       "    </tr>\n",
       "    <tr>\n",
       "      <th>369</th>\n",
       "      <td>7.2.3</td>\n",
       "      <td>Kompetenz</td>\n",
       "      <td>Selbstkompetenz</td>\n",
       "      <td>Personal Competency</td>\n",
       "      <td>Selbstorganisation</td>\n",
       "      <td>Self-Organisation</td>\n",
       "      <td>Resilienz</td>\n",
       "      <td>NaN</td>\n",
       "      <td>Resilienz</td>\n",
       "    </tr>\n",
       "    <tr>\n",
       "      <th>370</th>\n",
       "      <td>7.2.4</td>\n",
       "      <td>Kompetenz</td>\n",
       "      <td>Selbstkompetenz</td>\n",
       "      <td>Personal Competency</td>\n",
       "      <td>Selbstorganisation</td>\n",
       "      <td>Self-Organisation</td>\n",
       "      <td>Ressourcenakquise</td>\n",
       "      <td>NaN</td>\n",
       "      <td>Ressourcenakquise</td>\n",
       "    </tr>\n",
       "    <tr>\n",
       "      <th>371</th>\n",
       "      <td>7.3</td>\n",
       "      <td>Kompetenz</td>\n",
       "      <td>Selbstkompetenz</td>\n",
       "      <td>Personal Competency</td>\n",
       "      <td>Selbsttransformation</td>\n",
       "      <td>Self-Transformation</td>\n",
       "      <td>NaN</td>\n",
       "      <td>NaN</td>\n",
       "      <td>Selbsttransformation</td>\n",
       "    </tr>\n",
       "  </tbody>\n",
       "</table>\n",
       "<p>133 rows × 9 columns</p>\n",
       "</div>"
      ],
      "text/plain": [
       "    ElementID   Dimension     Type Level 1       Type Level 1 E  \\\n",
       "0         2.1  Deskriptor       Fertigkeit                Skill   \n",
       "1       2.1.1  Deskriptor       Fertigkeit                Skill   \n",
       "2     2.1.1.1  Deskriptor       Fertigkeit                Skill   \n",
       "3     2.1.1.2  Deskriptor       Fertigkeit                Skill   \n",
       "4     2.1.1.3  Deskriptor       Fertigkeit                Skill   \n",
       "..        ...         ...              ...                  ...   \n",
       "367     7.2.1   Kompetenz  Selbstkompetenz  Personal Competency   \n",
       "368     7.2.2   Kompetenz  Selbstkompetenz  Personal Competency   \n",
       "369     7.2.3   Kompetenz  Selbstkompetenz  Personal Competency   \n",
       "370     7.2.4   Kompetenz  Selbstkompetenz  Personal Competency   \n",
       "371       7.3   Kompetenz  Selbstkompetenz  Personal Competency   \n",
       "\n",
       "             Type Level 2       Type Level 2 E             Type Level 3  \\\n",
       "0    Kognitive Fertigkeit     Cognitive Skills                      NaN   \n",
       "1    Kognitive Fertigkeit     Cognitive Skills  Problemlösungsfähigkeit   \n",
       "2    Kognitive Fertigkeit     Cognitive Skills  Problemlösungsfähigkeit   \n",
       "3    Kognitive Fertigkeit     Cognitive Skills  Problemlösungsfähigkeit   \n",
       "4    Kognitive Fertigkeit     Cognitive Skills  Problemlösungsfähigkeit   \n",
       "..                    ...                  ...                      ...   \n",
       "367    Selbstorganisation    Self-Organisation           Zeitmanagement   \n",
       "368    Selbstorganisation    Self-Organisation   Emotionale Regulierung   \n",
       "369    Selbstorganisation    Self-Organisation                Resilienz   \n",
       "370    Selbstorganisation    Self-Organisation        Ressourcenakquise   \n",
       "371  Selbsttransformation  Self-Transformation                      NaN   \n",
       "\n",
       "                                 Type Level 4  \\\n",
       "0                                         NaN   \n",
       "1                                         NaN   \n",
       "2                          Problembewusstsein   \n",
       "3               Verarbeiten von Informationen   \n",
       "4    Analysieren von Daten oder Informationen   \n",
       "..                                        ...   \n",
       "367                                       NaN   \n",
       "368                                       NaN   \n",
       "369                                       NaN   \n",
       "370                                       NaN   \n",
       "371                                       NaN   \n",
       "\n",
       "                                    last_name  \n",
       "0                        Kognitive Fertigkeit  \n",
       "1                     Problemlösungsfähigkeit  \n",
       "2                          Problembewusstsein  \n",
       "3               Verarbeiten von Informationen  \n",
       "4    Analysieren von Daten oder Informationen  \n",
       "..                                        ...  \n",
       "367                            Zeitmanagement  \n",
       "368                    Emotionale Regulierung  \n",
       "369                                 Resilienz  \n",
       "370                         Ressourcenakquise  \n",
       "371                      Selbsttransformation  \n",
       "\n",
       "[133 rows x 9 columns]"
      ]
     },
     "execution_count": 121,
     "metadata": {},
     "output_type": "execute_result"
    }
   ],
   "source": [
    "taxonomy"
   ]
  },
  {
   "cell_type": "markdown",
   "metadata": {},
   "source": [
    "# Mastery Levels\n"
   ]
  },
  {
   "cell_type": "code",
   "execution_count": 4,
   "metadata": {},
   "outputs": [],
   "source": [
    "mastery_levels = [1, 2, 3, 4]\n",
    "nb_mastery_levels = len(mastery_levels)\n",
    "mastery_levels_probabilities = [1/np.log(i+1) for i in range(1, nb_mastery_levels + 1)]\n",
    "mastery_levels_normalized_probabilities = np.array(mastery_levels_probabilities) / sum(mastery_levels_probabilities)\n"
   ]
  },
  {
   "cell_type": "markdown",
   "metadata": {},
   "source": [
    "# Skills"
   ]
  },
  {
   "cell_type": "code",
   "execution_count": 5,
   "metadata": {},
   "outputs": [],
   "source": [
    "skills = taxonomy['last_name'].to_list()\n",
    "random.shuffle(skills)\n",
    "nb_skills = len(skills)\n",
    "skills_probabilities = [1/np.log(i+1) for i in range(1, nb_skills + 1)]\n",
    "skills_normalized_probabilities = np.array(skills_probabilities) / sum(skills_probabilities)"
   ]
  },
  {
   "cell_type": "markdown",
   "metadata": {},
   "source": [
    "# Years"
   ]
  },
  {
   "cell_type": "code",
   "execution_count": 6,
   "metadata": {},
   "outputs": [],
   "source": [
    "years = [i for i in range(2023, 2017, -1)]\n",
    "years_probabilities = [1/np.log(i+1) for i in range(1, len(years) + 1)]\n",
    "years_normalized_probabilities = np.array(years_probabilities) / sum(years_probabilities)"
   ]
  },
  {
   "cell_type": "markdown",
   "metadata": {},
   "source": [
    "# Learners"
   ]
  },
  {
   "cell_type": "code",
   "execution_count": 7,
   "metadata": {},
   "outputs": [
    {
     "data": {
      "text/plain": [
       "{'possessed_skills': {'Emotionale Regulierung': 1,\n",
       "  'Kommunikation in Präsentations- und Vortragssituationen': 3,\n",
       "  'Dynamische Kraft': 3,\n",
       "  'Zusammenarbeit in stabilen Teams': 1,\n",
       "  'Analysieren von Daten oder Informationen': 2},\n",
       " 'year': 2023}"
      ]
     },
     "execution_count": 7,
     "metadata": {},
     "output_type": "execute_result"
    }
   ],
   "source": [
    "def get_random_learner(skills, mastery_levels, years, min_n_skills=5, max_n_skills=10):\n",
    "    n_skills = random.randint(min_n_skills, max_n_skills)\n",
    "    possessed = {skill: level for skill, level in zip(np.random.choice(skills, n_skills, p=skills_normalized_probabilities, replace=False), np.random.choice(mastery_levels, n_skills, p=mastery_levels_normalized_probabilities, replace=True)) }\n",
    "    year = np.random.choice(years, 1, p=years_normalized_probabilities)[0]\n",
    "    return {'possessed_skills':possessed, 'year':year}\n",
    "\n",
    "def get_all_learners(skills, mastery_levels, years, min_n_skills=5, max_n_skills=10, n_learners=100):\n",
    "    return [get_random_learner(skills, mastery_levels, years, min_n_skills, max_n_skills) for _ in range(n_learners)]\n",
    "\n",
    "learners = get_all_learners(skills, mastery_levels, years, min_n_skills=5, max_n_skills=10, n_learners=1000)\n",
    "\n",
    "learners[0]"
   ]
  },
  {
   "cell_type": "markdown",
   "metadata": {},
   "source": [
    "# Skill Supply"
   ]
  },
  {
   "cell_type": "code",
   "execution_count": 123,
   "metadata": {},
   "outputs": [
    {
     "data": {
      "text/plain": [
       "[(('Räumliches Vorstellungsvermögen', 1), 31),\n",
       " (('Network Engineering', 1), 24),\n",
       " (('Räumliches Vorstellungsvermögen', 2), 21),\n",
       " (('Risikomanagement', 1), 17),\n",
       " (('Räumliches Vorstellungsvermögen', 3), 17),\n",
       " (('Qualitätsmanagement', 1), 15),\n",
       " (('Mitfühlen', 1), 14),\n",
       " (('Sprachliche Fertigkeiten', 1), 14),\n",
       " (('Motivieren', 1), 14),\n",
       " (('Reaktionszeit und Schnelligkeit', 1), 13)]"
      ]
     },
     "execution_count": 123,
     "metadata": {},
     "output_type": "execute_result"
    }
   ],
   "source": [
    "def get_skill_supply(learners, years):\n",
    "    skill_supply = {year: Counter() for year in years}\n",
    "    for learner in learners:\n",
    "        for skill, level in learner['possessed_skills'].items():\n",
    "            skill_supply[learner['year']][(skill, level)] += 1\n",
    "    return skill_supply\n",
    "\n",
    "skill_supply = get_skill_supply(learners, years)\n",
    "skill_supply[2023].most_common(10)"
   ]
  },
  {
   "cell_type": "markdown",
   "metadata": {},
   "source": [
    "# Jobs"
   ]
  },
  {
   "cell_type": "code",
   "execution_count": 9,
   "metadata": {},
   "outputs": [
    {
     "data": {
      "text/plain": [
       "{'required_skills': {'Verarbeiten von Informationen': 2,\n",
       "  'Reaktionszeit und Schnelligkeit': 3,\n",
       "  'Motivieren': 1,\n",
       "  'Network Engineering': 1,\n",
       "  'Risikomanagement': 3},\n",
       " 'year': 2022}"
      ]
     },
     "execution_count": 9,
     "metadata": {},
     "output_type": "execute_result"
    }
   ],
   "source": [
    "def get_random_job(skills, skills_normalized_probabilities, mastery_levels, mastery_levels_normalized_probabilities, years, years_normalized_probabilities, min_n_skills=2, max_n_skills=5):\n",
    "    n_skills = random.randint(min_n_skills, max_n_skills)\n",
    "    required = {skill: level for skill, level in zip(np.random.choice(skills, n_skills, p=skills_normalized_probabilities, replace=False), np.random.choice(mastery_levels, n_skills, p=mastery_levels_normalized_probabilities, replace=True)) }\n",
    "    year = np.random.choice(years, 1, p=years_normalized_probabilities)[0]\n",
    "    return {'required_skills':required, 'year':year}\n",
    "\n",
    "def get_all_jobs(skills, skills_normalized_probabilities, mastery_levels, mastery_levels_normalized_probabilities, years, years_normalized_probabilities, min_n_skills=2, max_n_skills=5, n_jobs=1000):\n",
    "    return [get_random_job(skills, skills_normalized_probabilities, mastery_levels, mastery_levels_normalized_probabilities, years, years_normalized_probabilities, min_n_skills, max_n_skills) for _ in range(n_jobs)]\n",
    "\n",
    "jobs = get_all_jobs(skills, skills_normalized_probabilities, mastery_levels, mastery_levels_normalized_probabilities, years, years_normalized_probabilities, min_n_skills=2, max_n_skills=5, n_jobs=1000)\n",
    "\n",
    "jobs[0]"
   ]
  },
  {
   "cell_type": "markdown",
   "metadata": {},
   "source": [
    "# Skill Demand"
   ]
  },
  {
   "cell_type": "code",
   "execution_count": 10,
   "metadata": {},
   "outputs": [
    {
     "data": {
      "text/plain": [
       "[(('Räumliches Vorstellungsvermögen', 1), 18),\n",
       " (('Network Engineering', 2), 11),\n",
       " (('Network Engineering', 1), 10),\n",
       " (('Network Engineering', 3), 9),\n",
       " (('Zusammenarbeit in stabilen Teams', 1), 8),\n",
       " (('Steuerungsfähigkeit', 1), 7),\n",
       " (('Analysieren von Daten oder Informationen', 1), 7),\n",
       " (('Qualitätsmanagement', 1), 7),\n",
       " (('Verhandeln', 1), 7),\n",
       " (('Zusammenarbeit in Projektteams', 1), 7)]"
      ]
     },
     "execution_count": 10,
     "metadata": {},
     "output_type": "execute_result"
    }
   ],
   "source": [
    "def get_skill_demand(jobs, years):\n",
    "    skill_demand = {year: Counter() for year in years}\n",
    "    for job in jobs:\n",
    "        for skill, level in job['required_skills'].items():\n",
    "            skill_demand[job['year']][(skill, level)] += 1\n",
    "    return skill_demand\n",
    "\n",
    "skill_demand = get_skill_demand(jobs, years)\n",
    "skill_demand[2023].most_common(10)"
   ]
  },
  {
   "cell_type": "markdown",
   "metadata": {},
   "source": [
    "# Skill Attractiveness"
   ]
  },
  {
   "cell_type": "code",
   "execution_count": 11,
   "metadata": {},
   "outputs": [],
   "source": [
    "def skill_attractiveness(skill, years, skill_supply, skill_demand):\n",
    "    skill_attractiveness = 0\n",
    "    noramlization_factor = 0\n",
    "    for i, year in enumerate(years):\n",
    "        if skill in skill_supply[year]:\n",
    "            skill_attractiveness += skill_demand[year][skill] / (skill_supply[year][skill] * (i+1))\n",
    "        noramlization_factor += 1 / (i+1)\n",
    "    return skill_attractiveness/noramlization_factor"
   ]
  },
  {
   "cell_type": "code",
   "execution_count": 12,
   "metadata": {},
   "outputs": [
    {
     "name": "stdout",
     "output_type": "stream",
     "text": [
      "Skill demand in 2023: 3\n",
      "Skill supply in 2023: 5\n",
      "Skill demand in 2022: 2\n",
      "Skill supply in 2022: 3\n",
      "Skill attractiveness: 0.52\n"
     ]
    }
   ],
   "source": [
    "print(f\"Skill demand in 2023: {skill_demand[2023][('Konzentrationsfähigkeit', 1)]}\")\n",
    "print(f\"Skill supply in 2023: {skill_supply[2023][('Konzentrationsfähigkeit', 1)]}\")\n",
    "print(f\"Skill demand in 2022: {skill_demand[2022][('Konzentrationsfähigkeit', 1)]}\")\n",
    "print(f\"Skill supply in 2022: {skill_supply[2022][('Konzentrationsfähigkeit', 1)]}\")\n",
    "print(f\"Skill attractiveness: {skill_attractiveness(('Konzentrationsfähigkeit', 1), years, skill_supply, skill_demand):.2f}\")"
   ]
  },
  {
   "cell_type": "markdown",
   "metadata": {},
   "source": [
    "# Learner - job Matching"
   ]
  },
  {
   "cell_type": "code",
   "execution_count": 120,
   "metadata": {},
   "outputs": [
    {
     "name": "stdout",
     "output_type": "stream",
     "text": [
      "Matching: 37.50\n",
      "Number of skills in common: 2\n",
      "Job: {'Business- und Requirements-Engineerin': 3, 'Kommunikation in Präsentations- und Vortragssituationen': 3, 'Ergonomie, Usability': 2, 'Ambition': 1}\n",
      "Learner: {'Service Engineering': 4, 'ICT Service Operation': 4, 'Gebäudeautomation': 2, 'Kommunikation in Präsentations- und Vortragssituationen': 3, 'Ergonomie, Usability': 1, 'Analysieren von Daten oder Informationen': 4, 'Führung als Empowerment': 2, 'Führung in der strategischen Ausrichtung': 1}\n",
      "\n",
      "Matching: 66.67\n",
      "Number of skills in common: 2\n",
      "Job: {'Application Engineering': 1, 'Sprachliche Fertigkeiten': 1, 'Dynamische Kraft': 2}\n",
      "Learner: {'Management der ICT': 3, 'Dynamische Kraft': 3, 'Genauigkeit': 1, 'Verarbeiten von Informationen': 2, 'Application Engineering': 1, 'Kommunikation in Feedbacksituationen': 1, 'Leistungsorientierung': 1, 'Problembewusstsein': 2, 'Physische Fertigkeit': 1}\n",
      "\n",
      "Matching: 50.00\n",
      "Number of skills in common: 1\n",
      "Job: {'Motivieren': 4, 'Reaktionszeit und Schnelligkeit': 1}\n",
      "Learner: {'Kommunikation in Ambiguitätssituationen': 2, 'Service Design': 1, 'Tätigkeiten priorisieren': 1, 'Fokuswechsel': 1, 'Leistungsorientierung': 3, 'Schriftliches Verstehen': 1, 'Reaktionszeit und Schnelligkeit': 1, 'Merkfähigkeit': 2, 'Ambition': 3}\n",
      "\n"
     ]
    }
   ],
   "source": [
    "def learner_job_matching(learner, job):\n",
    "    matching = 0\n",
    "    for skill in job['required_skills']:\n",
    "        if skill in learner['possessed_skills']:\n",
    "            sim = min(learner['possessed_skills'][skill], job['required_skills'][skill]) / job['required_skills'][skill]\n",
    "            matching += sim\n",
    "    matching = 100 * matching / len(job['required_skills'])\n",
    "    return matching\n",
    "\n",
    "\n",
    "nb_matching = 0\n",
    "for learner, job in zip(learners, jobs):\n",
    "    matching = learner_job_matching(learner, job)\n",
    "    if matching > 30:\n",
    "        print(f\"Matching: {matching:.2f}\")\n",
    "        print(f\"Number of skills in common: {len(set(learner['possessed_skills'].keys()).intersection(set(job['required_skills'].keys())))}\")\n",
    "        print(f\"Job: {job['required_skills']}\")\n",
    "        print(f\"Learner: {learner['possessed_skills']}\")\n",
    "        print()\n",
    "        nb_matching += 1\n",
    "    if nb_matching > 2:\n",
    "        break"
   ]
  },
  {
   "cell_type": "markdown",
   "metadata": {},
   "source": [
    "# Courses"
   ]
  },
  {
   "cell_type": "code",
   "execution_count": 44,
   "metadata": {},
   "outputs": [
    {
     "data": {
      "text/plain": [
       "{'required_skills': {'Fokuswechsel': 2,\n",
       "  'Psychomotorische Fertigkeit': 2,\n",
       "  'Kommunikation in Feedbacksituationen': 4},\n",
       " 'provided_skills': {'Kommunikation in Präsentations- und Vortragssituationen': 3,\n",
       "  'Beurteilung der Qualitäten von Objekten, Dienstleistungen oder Personen': 2}}"
      ]
     },
     "execution_count": 44,
     "metadata": {},
     "output_type": "execute_result"
    }
   ],
   "source": [
    "def get_random_provided_skills(skills, mastery_levels, required_skills, n_provided_skills):\n",
    "    provided_skills = dict()\n",
    "    while len(provided_skills) < n_provided_skills:\n",
    "        candidate_skill = random.choice(skills)\n",
    "        candidate_level = random.choice(mastery_levels)\n",
    "        if (\n",
    "            candidate_skill not in required_skills\n",
    "            and candidate_skill not in provided_skills\n",
    "        ):\n",
    "            provided_skills[candidate_skill] = candidate_level\n",
    "        elif (\n",
    "            candidate_skill in required_skills\n",
    "            and candidate_level > required_skills[candidate_skill]\n",
    "        ):\n",
    "            provided_skills[candidate_skill] = candidate_level\n",
    "\n",
    "    return provided_skills\n",
    "\n",
    "\n",
    "def get_random_course(skills, mastery_levels, min_n_required_skills=1, max_n_required_skills=5, min_n_provided_skills=1, max_n_provided_skills=2):\n",
    "    n_required_skills = random.randint(min_n_required_skills, max_n_required_skills)\n",
    "    required = {skill: level for skill, level in zip(np.random.choice(skills, n_required_skills, replace=False), np.random.choice(mastery_levels, n_required_skills, replace=True)) }\n",
    "\n",
    "    n_provided_skills = random.randint(min_n_provided_skills, max_n_provided_skills)\n",
    "    provided = get_random_provided_skills(skills, mastery_levels, required, n_provided_skills)\n",
    "\n",
    "    return {'required_skills':required, 'provided_skills':provided}\n",
    "\n",
    "def get_all_courses(skills, mastery_levels, min_n_required_skills=1, max_n_required_skills=5, min_n_provided_skills=1, max_n_provided_skills=2, n_courses=1000):\n",
    "    return [get_random_course(skills, mastery_levels, min_n_required_skills=1, max_n_required_skills=5, min_n_provided_skills=1, max_n_provided_skills=2) for _ in range(n_courses)]\n",
    "\n",
    "courses = get_all_courses(skills, mastery_levels, min_n_required_skills=1, max_n_required_skills=5, min_n_provided_skills=1, max_n_provided_skills=2, n_courses=1000)\n",
    "\n",
    "courses[0]"
   ]
  },
  {
   "cell_type": "markdown",
   "metadata": {},
   "source": [
    "# Learner-Course Matching"
   ]
  },
  {
   "cell_type": "code",
   "execution_count": 97,
   "metadata": {},
   "outputs": [],
   "source": [
    "def learner_course_required_matching(learner, course):\n",
    "    required_matching = 0\n",
    "    for skill in course['required_skills']:\n",
    "        if skill in learner['possessed_skills']:\n",
    "            sim = min(learner['possessed_skills'][skill], course['required_skills'][skill]) / course['required_skills'][skill]\n",
    "            required_matching += sim\n",
    "    return required_matching / len(course['required_skills'])\n",
    "\n",
    "def learner_course_provided_matching(learner, course):\n",
    "    provided_matching = 0\n",
    "    for skill in course['provided_skills']:\n",
    "        if skill in learner['possessed_skills']:\n",
    "            sim = min(learner['possessed_skills'][skill], course['provided_skills'][skill]) / course['provided_skills'][skill]\n",
    "            provided_matching += sim\n",
    "    return provided_matching / len(course['provided_skills'])\n",
    "\n",
    "def learner_course_matching(learner, course):\n",
    "    required_matching = learner_course_required_matching(learner, course)\n",
    "    provided_matching = learner_course_provided_matching(learner, course)\n",
    "\n",
    "    if provided_matching >= 1.0:\n",
    "        return 0\n",
    "\n",
    "    return required_matching / (provided_matching + 1)"
   ]
  },
  {
   "cell_type": "code",
   "execution_count": 98,
   "metadata": {},
   "outputs": [
    {
     "name": "stdout",
     "output_type": "stream",
     "text": [
      "Matching: 0.50\n",
      "Course required: {'Tatkraft': 4, 'Ergonomie, Usability': 1}\n",
      "Course provided: {'Architekturen': 4}\n",
      "Learner: {'Risikomanagement': 4, 'Führung in der strategischen Ausrichtung': 2, 'Unabhängigkeit': 4, 'Zusammenarbeit in virtuellen Teams': 4, 'Gleichgewicht': 2, 'Mitfühlen': 3, 'Raumwahrnehmung und -vorstellung': 3, 'Ergonomie, Usability': 1, 'Führung in Veränderungssituationen': 1, 'Räumliches Vorstellungsvermögen': 4}\n",
      "Matching: 0.10\n",
      "Course required: {'Risikomanagement': 4, 'Vergleichsfähigkeit': 2, 'Reaktionszeit und Schnelligkeit': 2, 'Führung in Konfliktsituationen': 2, 'ICT Service Operation': 4}\n",
      "Course provided: {'Anleiten und Begleiten': 3}\n",
      "Learner: {'Feinmotorik': 1, 'Durchhaltevermögen': 2, 'Beurteilung der Qualitäten von Objekten, Dienstleistungen oder Personen': 3, 'Originalität ': 3, 'Führung in Konfliktsituationen': 1, 'Führung in der strategischen Ausrichtung': 1, 'Kognitive Fertigkeit': 2, 'Informationssicherheit': 4, 'Teamorientierung': 2, 'Aufmerksamkeit': 4}\n",
      "Matching: 0.20\n",
      "Course required: {'Analysieren von Daten oder Informationen': 3, 'Aktivitäten und Arbeiten planen': 4, 'Selbsttransformation': 3, 'Vergleichsfähigkeit': 4, 'Flexibilität': 2}\n",
      "Course provided: {'Erinnerungsvermögen': 4}\n",
      "Learner: {'Gleichgewicht': 4, 'Network Engineering': 1, 'Anleiten und Begleiten': 1, 'Aktivitäten und Arbeiten planen': 2, 'Flexibilität': 1, 'Ergonomie, Usability': 1, 'Hardware Operation': 1, 'Verhandeln': 4, 'Tatkraft': 2}\n",
      "Matching: 0.25\n",
      "Course required: {'Beziehungsorientierung': 2, 'Mitfühlen': 3, 'Räumliches Vorstellungsvermögen': 1, 'Network Operation': 1}\n",
      "Course provided: {'Organisationsfähigkeit': 1}\n",
      "Learner: {'Tatkraft': 1, 'Selbstreflexion': 2, 'Motivieren': 1, 'Räumliches Vorstellungsvermögen': 1, 'Zusammenarbeit in stabilen Teams': 2, 'Teamorientierung': 1, 'Gliedmaßen-Geschwindigkeit': 2, 'Wahrnehmungsfähigkeiten': 1}\n",
      "Matching: 0.20\n",
      "Course required: {'Relevantes Wissen auffrischen und nutzen': 1, 'Zusammenarbeit in agilen Teams': 2, 'Tatkraft': 4, 'Service Design': 1, 'Kommunikation in Feedbacksituationen': 2}\n",
      "Course provided: {'Kommunikation in Mediensituationen': 4, 'Selbstbeherrschung': 4}\n",
      "Learner: {'Betriebswirtschaft der ICT': 1, 'Relevantes Wissen auffrischen und nutzen': 1, 'Hardware Engineering': 2, 'Problembewusstsein': 3, 'Qualitätsmanagement': 1, 'Zusammenarbeit in virtuellen Teams': 2, 'Entwicklung von Zielen und Strategien': 4, 'Unabhängigkeit': 1, 'Vergleichsfähigkeit': 1, 'Kommunikation in Präsentations- und Vortragssituationen': 1}\n",
      "Matching: 0.33\n",
      "Course required: {'Informationssicherheit': 2, 'Entscheidungen treffen': 1, 'Arm-Hand-Stabilität': 1}\n",
      "Course provided: {'Körperkoordination': 1}\n",
      "Learner: {'Informationssicherheit': 2, 'Management der ICT': 4, 'Merkfähigkeit': 4, 'Originalität ': 2, 'Gleichgewicht': 4}\n"
     ]
    }
   ],
   "source": [
    "nb_matching = 0\n",
    "for learner, course in zip(learners, courses):\n",
    "    matching = learner_course_matching(learner, course)\n",
    "    if matching >= 0.1:\n",
    "        print(f\"Matching: {matching:.2f}\")\n",
    "        print(f\"Course required: {course['required_skills']}\")\n",
    "        print(f\"Course provided: {course['provided_skills']}\")\n",
    "        print(f\"Learner: {learner['possessed_skills']}\")\n",
    "        nb_matching += 1\n",
    "    if nb_matching > 5:\n",
    "        break"
   ]
  },
  {
   "cell_type": "markdown",
   "metadata": {},
   "source": [
    "# Learner-skill Achievability"
   ]
  },
  {
   "cell_type": "code",
   "execution_count": 113,
   "metadata": {},
   "outputs": [],
   "source": [
    "def learner_skill_achievability(learner, skill, mastery_level, courses):\n",
    "    achievability = 0\n",
    "    nb_courses = 0\n",
    "    for course in courses:\n",
    "        if skill in course['provided_skills'] and mastery_level == course['provided_skills'][skill]:\n",
    "            achievability += learner_course_required_matching(learner, course)\n",
    "            nb_courses += 1\n",
    "    return achievability, nb_courses"
   ]
  },
  {
   "cell_type": "code",
   "execution_count": 114,
   "metadata": {},
   "outputs": [
    {
     "data": {
      "text/plain": [
       "{'possessed_skills': {'Emotionale Regulierung': 1,\n",
       "  'Kommunikation in Präsentations- und Vortragssituationen': 3,\n",
       "  'Dynamische Kraft': 3,\n",
       "  'Zusammenarbeit in stabilen Teams': 1,\n",
       "  'Analysieren von Daten oder Informationen': 2},\n",
       " 'year': 2023}"
      ]
     },
     "execution_count": 114,
     "metadata": {},
     "output_type": "execute_result"
    }
   ],
   "source": [
    "learners[0]"
   ]
  },
  {
   "cell_type": "code",
   "execution_count": 115,
   "metadata": {},
   "outputs": [
    {
     "data": {
      "text/plain": [
       "{'required_skills': {'Verarbeiten von Informationen': 2,\n",
       "  'Reaktionszeit und Schnelligkeit': 3,\n",
       "  'Motivieren': 1,\n",
       "  'Network Engineering': 1,\n",
       "  'Risikomanagement': 3},\n",
       " 'year': 2022}"
      ]
     },
     "execution_count": 115,
     "metadata": {},
     "output_type": "execute_result"
    }
   ],
   "source": [
    "jobs[0]"
   ]
  },
  {
   "cell_type": "code",
   "execution_count": 117,
   "metadata": {},
   "outputs": [
    {
     "name": "stdout",
     "output_type": "stream",
     "text": [
      "Achievability: 0.25\n",
      "Number of courses: 3\n",
      "Learner: {'Beweglichkeit, Gleichgewicht und Koordination': 3, 'Dehnbarkeit': 1, 'Aufmerksamkeit': 1, 'Schriftlicher Ausdrucksfähigkeit': 1, 'Körperkoordination': 1, 'Network Engineering': 2, 'Numerische Fertigkeiten': 2, 'Mustererkennung': 2, 'Architekturen': 2}\n",
      "Skill: Motivieren\n",
      "Achievability: 0.33\n",
      "Number of courses: 3\n",
      "Learner: {'Problemlösungsfähigkeit': 2, 'Führung in der strategischen Ausrichtung': 1, 'Zeitmanagement': 3, 'Merkfähigkeit': 2, 'Service Design': 3, 'Zusammenarbeit in Projektteams': 1, 'Selbstbeherrschung': 2}\n",
      "Skill: Motivieren\n",
      "Achievability: 0.62\n",
      "Number of courses: 3\n",
      "Learner: {'Führung in Entwicklungssituationen': 1, 'Mündliche Ausdrucksfähigkeit': 3, 'Führung in Veränderungssituationen': 1, 'Aufnahmefähigkeit': 1, 'Durchhaltevermögen': 3, 'Gebäudeautomation': 4, 'Technical Software Engineering': 1, 'Statische Kraft': 1, 'Resilienz': 3, 'Beweglichkeit, Gleichgewicht und Koordination': 2}\n",
      "Skill: Motivieren\n",
      "Achievability: 1.00\n",
      "Number of courses: 3\n",
      "Learner: {'Feinmotorik': 1, 'Durchhaltevermögen': 2, 'Beurteilung der Qualitäten von Objekten, Dienstleistungen oder Personen': 3, 'Originalität ': 3, 'Führung in Konfliktsituationen': 1, 'Führung in der strategischen Ausrichtung': 1, 'Kognitive Fertigkeit': 2, 'Informationssicherheit': 4, 'Teamorientierung': 2, 'Aufmerksamkeit': 4}\n",
      "Skill: Motivieren\n",
      "Achievability: 1.00\n",
      "Number of courses: 3\n",
      "Learner: {'Zusammenarbeit in agilen Teams': 2, 'Genauigkeit': 2, 'Aufmerksamkeit': 4, 'Schriftlicher Ausdrucksfähigkeit': 1, 'Rumpfkraft': 2, 'Fingerfertigkeit': 1, 'Management der ICT': 3}\n",
      "Skill: Motivieren\n",
      "Achievability: 1.25\n",
      "Number of courses: 3\n",
      "Learner: {'Zusammenarbeit in stabilen Teams': 2, 'Kognitive Fertigkeit': 2, 'Genauigkeit': 2, 'Network Engineering': 2, 'Kommunikation in Feedbacksituationen': 4, 'Hardware Operation': 1, 'Service Design': 4, 'Technical Software Engineering': 2, 'Organisation': 1}\n",
      "Skill: Motivieren\n"
     ]
    }
   ],
   "source": [
    "nb_achievable = 0\n",
    "\n",
    "for learner in learners: \n",
    "    achievability, nb_courses = learner_skill_achievability(learner, 'Motivieren', 1, courses)\n",
    "    if achievability > 0:\n",
    "        nb_achievable += 1\n",
    "        print(f\"Achievability: {achievability:.2f}\")\n",
    "        print(f\"Number of courses: {nb_courses}\")\n",
    "        print(f\"Learner: {learner['possessed_skills']}\")\n",
    "        print(f\"Skill: Motivieren\")\n",
    "        if nb_achievable > 5:\n",
    "            break"
   ]
  },
  {
   "cell_type": "code",
   "execution_count": null,
   "metadata": {},
   "outputs": [],
   "source": []
  }
 ],
 "metadata": {
  "kernelspec": {
   "display_name": "proto",
   "language": "python",
   "name": "python3"
  },
  "language_info": {
   "codemirror_mode": {
    "name": "ipython",
    "version": 3
   },
   "file_extension": ".py",
   "mimetype": "text/x-python",
   "name": "python",
   "nbconvert_exporter": "python",
   "pygments_lexer": "ipython3",
   "version": "3.11.4"
  },
  "orig_nbformat": 4
 },
 "nbformat": 4,
 "nbformat_minor": 2
}
