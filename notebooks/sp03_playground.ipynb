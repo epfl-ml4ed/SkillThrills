{
 "cells": [
  {
   "cell_type": "code",
   "execution_count": 1,
   "metadata": {},
   "outputs": [],
   "source": [
    "%load_ext autoreload\n",
    "\n",
    "%autoreload 1"
   ]
  },
  {
   "cell_type": "code",
   "execution_count": 2,
   "metadata": {},
   "outputs": [],
   "source": [
    "import random\n",
    "import numpy as np\n",
    "import pandas as pd\n",
    "from collections import Counter\n",
    "from copy import deepcopy\n",
    "import sys\n",
    "\n",
    "sys.path.append('../protosp03/recommendation/')\n",
    "%aimport matchings\n",
    "%aimport market\n",
    "%aimport upskillings"
   ]
  },
  {
   "cell_type": "code",
   "execution_count": 3,
   "metadata": {},
   "outputs": [],
   "source": [
    "path = '../data/raw/evrlearn/taxonomy_V4.csv'"
   ]
  },
  {
   "cell_type": "code",
   "execution_count": 4,
   "metadata": {},
   "outputs": [],
   "source": [
    "taxonomy = pd.read_csv(path)\n",
    "\n",
    "# remove all rows where the column 'ElementID' is null\n",
    "taxonomy = taxonomy[taxonomy['ElementID'].notna()]\n",
    "\n",
    "keep = ['ElementID', 'Dimension', 'Type Level 1', 'Type Level 1 E',\n",
    "       'Type Level 2', 'Type Level 2 E', 'Type Level 3', 'Type Level 4']\n",
    "\n",
    "# keep only the columns in the list 'keep'\n",
    "taxonomy = taxonomy[keep]\n",
    "names = ['Type Level 1', 'Type Level 2', 'Type Level 3', 'Type Level 4']\n",
    "\n",
    "taxonomy['last_name'] = (taxonomy['ElementID'].str.len() - 1 )//2\n",
    "taxonomy['last_name'] = taxonomy['last_name'].map(lambda x: names[x])\n",
    "taxonomy['last_name'] = taxonomy.apply(lambda x: x[x['last_name']], axis=1)"
   ]
  },
  {
   "cell_type": "markdown",
   "metadata": {},
   "source": [
    "# Mastery Levels\n"
   ]
  },
  {
   "cell_type": "code",
   "execution_count": 5,
   "metadata": {},
   "outputs": [],
   "source": [
    "mastery_levels = [1, 2, 3, 4]\n",
    "nb_mastery_levels = len(mastery_levels)\n",
    "mastery_levels_probabilities = [1/np.log(i+1) for i in range(1, nb_mastery_levels + 1)]\n",
    "mastery_levels_normalized_probabilities = np.array(mastery_levels_probabilities) / sum(mastery_levels_probabilities)"
   ]
  },
  {
   "cell_type": "markdown",
   "metadata": {},
   "source": [
    "# Skills"
   ]
  },
  {
   "cell_type": "code",
   "execution_count": 6,
   "metadata": {},
   "outputs": [],
   "source": [
    "# make a dict from the dataframe taxonomy using the column 'last_name' as key and the column 'Type Level 1 E' as value\n",
    "levels_dict = taxonomy.set_index('last_name')['ElementID'].to_dict()\n",
    "levels_dict = {key:[int(level) for level in value.split('.')] for key, value in levels_dict.items()}\n",
    "groups_dict = taxonomy.set_index('ElementID')['Type Level 1'].to_dict()\n",
    "groups_dict = {int(key.split('.')[0]):value for key, value in groups_dict.items()}\n",
    "# group_dict = {key:int(value.split('.')[0]) for key, value in group_dict.items()}\n",
    "\n",
    "skills = list(levels_dict.keys())\n",
    "random.shuffle(skills)\n",
    "nb_skills = len(skills)\n",
    "skills_probabilities = [1/np.log(i+1) for i in range(1, nb_skills + 1)]\n",
    "skills_normalized_probabilities = np.array(skills_probabilities) / sum(skills_probabilities)"
   ]
  },
  {
   "cell_type": "markdown",
   "metadata": {},
   "source": [
    "# Years"
   ]
  },
  {
   "cell_type": "code",
   "execution_count": 7,
   "metadata": {},
   "outputs": [],
   "source": [
    "years = [i for i in range(2023, 2017, -1)]\n",
    "years_probabilities = [1/np.log(i+1) for i in range(1, len(years) + 1)]\n",
    "years_normalized_probabilities = np.array(years_probabilities) / sum(years_probabilities)"
   ]
  },
  {
   "cell_type": "markdown",
   "metadata": {},
   "source": [
    "# Learners"
   ]
  },
  {
   "cell_type": "code",
   "execution_count": 8,
   "metadata": {},
   "outputs": [
    {
     "data": {
      "text/plain": [
       "{'possessed_skills': {'Kooperieren': 3,\n",
       "  'Überzeugen': 2,\n",
       "  'Dynamik': 2,\n",
       "  'Kommunikation in Feedbacksituationen': 3,\n",
       "  'Zusammenarbeit in virtuellen Teams': 3,\n",
       "  'Hand/Finger-Geschwindigkeit': 2},\n",
       " 'year': 2021}"
      ]
     },
     "execution_count": 8,
     "metadata": {},
     "output_type": "execute_result"
    }
   ],
   "source": [
    "def get_random_learner(skills, mastery_levels, years, min_n_skills=5, max_n_skills=10):\n",
    "    n_skills = random.randint(min_n_skills, max_n_skills)\n",
    "    possessed = {skill: level for skill, level in zip(np.random.choice(skills, n_skills, p=skills_normalized_probabilities, replace=False), np.random.choice(mastery_levels, n_skills, p=mastery_levels_normalized_probabilities, replace=True)) }\n",
    "    year = np.random.choice(years, 1, p=years_normalized_probabilities)[0]\n",
    "    return {'possessed_skills':possessed, 'year':year}\n",
    "\n",
    "def get_all_learners(skills, mastery_levels, years, min_n_skills=5, max_n_skills=10, n_learners=100):\n",
    "    return [get_random_learner(skills, mastery_levels, years, min_n_skills, max_n_skills) for _ in range(n_learners)]\n",
    "\n",
    "learners = get_all_learners(skills, mastery_levels, years, min_n_skills=5, max_n_skills=10, n_learners=1000)\n",
    "\n",
    "learners[0]"
   ]
  },
  {
   "cell_type": "markdown",
   "metadata": {},
   "source": [
    "# Skill Supply"
   ]
  },
  {
   "cell_type": "code",
   "execution_count": 9,
   "metadata": {},
   "outputs": [
    {
     "data": {
      "text/plain": [
       "[(('Dynamik', 1), 30),\n",
       " (('Dynamik', 2), 27),\n",
       " (('Dynamik', 3), 20),\n",
       " (('Gliedmaßenkoordination', 1), 20),\n",
       " (('Kommunikation in Ambiguitätssituationen', 1), 18),\n",
       " (('Konzentrationsfähigkeit', 1), 16),\n",
       " (('Dynamik', 4), 16),\n",
       " (('Application Operation', 1), 15),\n",
       " (('Beziehungsorientierung', 1), 14),\n",
       " (('ICT Service Operation', 1), 14)]"
      ]
     },
     "execution_count": 9,
     "metadata": {},
     "output_type": "execute_result"
    }
   ],
   "source": [
    "def get_skill_supply(learners, years):\n",
    "    skill_supply = {year: Counter() for year in years}\n",
    "    for learner in learners:\n",
    "        for skill, level in learner['possessed_skills'].items():\n",
    "            skill_supply[learner['year']][(skill, level)] += 1\n",
    "    return skill_supply\n",
    "\n",
    "skill_supply = get_skill_supply(learners, years)\n",
    "skill_supply[2023].most_common(10)"
   ]
  },
  {
   "cell_type": "markdown",
   "metadata": {},
   "source": [
    "# Jobs"
   ]
  },
  {
   "cell_type": "code",
   "execution_count": 10,
   "metadata": {},
   "outputs": [
    {
     "data": {
      "text/plain": [
       "{'required_skills': {'Psychische Fertigkeiten': 1,\n",
       "  'Kommunikation in interkulturellen Situationen': 4,\n",
       "  'Technical Software Engineering': 4},\n",
       " 'year': 2022}"
      ]
     },
     "execution_count": 10,
     "metadata": {},
     "output_type": "execute_result"
    }
   ],
   "source": [
    "def get_random_job(skills, skills_normalized_probabilities, mastery_levels, mastery_levels_normalized_probabilities, years, years_normalized_probabilities, min_n_skills=2, max_n_skills=5):\n",
    "    n_skills = random.randint(min_n_skills, max_n_skills)\n",
    "    required = {skill: level for skill, level in zip(np.random.choice(skills, n_skills, p=skills_normalized_probabilities, replace=False), np.random.choice(mastery_levels, n_skills, p=mastery_levels_normalized_probabilities, replace=True)) }\n",
    "    year = np.random.choice(years, 1, p=years_normalized_probabilities)[0]\n",
    "    return {'required_skills':required, 'year':year}\n",
    "\n",
    "def get_all_jobs(skills, skills_normalized_probabilities, mastery_levels, mastery_levels_normalized_probabilities, years, years_normalized_probabilities, min_n_skills=2, max_n_skills=5, n_jobs=1000):\n",
    "    return [get_random_job(skills, skills_normalized_probabilities, mastery_levels, mastery_levels_normalized_probabilities, years, years_normalized_probabilities, min_n_skills, max_n_skills) for _ in range(n_jobs)]\n",
    "\n",
    "jobs = get_all_jobs(skills, skills_normalized_probabilities, mastery_levels, mastery_levels_normalized_probabilities, years, years_normalized_probabilities, min_n_skills=2, max_n_skills=5, n_jobs=1000)\n",
    "\n",
    "jobs[0]"
   ]
  },
  {
   "cell_type": "markdown",
   "metadata": {},
   "source": [
    "# Skill Demand"
   ]
  },
  {
   "cell_type": "code",
   "execution_count": 11,
   "metadata": {},
   "outputs": [
    {
     "data": {
      "text/plain": [
       "[(('Dynamik', 1), 13),\n",
       " (('Dynamik', 2), 11),\n",
       " (('Gliedmaßenkoordination', 1), 10),\n",
       " (('Dynamik', 4), 8),\n",
       " (('Zusammenarbeit in stabilen Teams', 1), 8),\n",
       " (('Gliedmaßenkoordination', 2), 8),\n",
       " (('Hardware Engineering', 1), 7),\n",
       " (('Network Engineering', 1), 7),\n",
       " (('Stresstoleranz', 1), 7),\n",
       " (('Beweglichkeit, Gleichgewicht und Koordination', 1), 7)]"
      ]
     },
     "execution_count": 11,
     "metadata": {},
     "output_type": "execute_result"
    }
   ],
   "source": [
    "def get_skill_demand(jobs, years):\n",
    "    skill_demand = {year: Counter() for year in years}\n",
    "    for job in jobs:\n",
    "        for skill, level in job['required_skills'].items():\n",
    "            skill_demand[job['year']][(skill, level)] += 1\n",
    "    return skill_demand\n",
    "\n",
    "skill_demand = get_skill_demand(jobs, years)\n",
    "skill_demand[2023].most_common(10)"
   ]
  },
  {
   "cell_type": "markdown",
   "metadata": {},
   "source": [
    "# Skill Trend"
   ]
  },
  {
   "cell_type": "code",
   "execution_count": 12,
   "metadata": {},
   "outputs": [],
   "source": [
    "def get_skill_trend(skill_demand, skill, years):\n",
    "    current_year = years[0]\n",
    "    last_year = years[1]\n",
    "    current_demand = skill_demand[current_year][skill]\n",
    "    last_demand = skill_demand[last_year][skill]\n",
    "    if last_demand == 0:\n",
    "        print('last year demand is 0')\n",
    "        return None\n",
    "    return 100*(current_demand - last_demand) / last_demand"
   ]
  },
  {
   "cell_type": "markdown",
   "metadata": {},
   "source": [
    "# Skill Attractiveness"
   ]
  },
  {
   "cell_type": "code",
   "execution_count": 13,
   "metadata": {},
   "outputs": [],
   "source": [
    "def get_skill_attractiveness(skill, years, skill_supply, skill_demand):\n",
    "    skill_attractiveness = 0\n",
    "    normalization_factor = 0\n",
    "    for i, year in enumerate(years):\n",
    "        if skill in skill_supply[year]:\n",
    "            skill_attractiveness += skill_demand[year][skill] / (skill_supply[year][skill] * (i+1))\n",
    "        normalization_factor += 1 / (i+1)\n",
    "    return skill_attractiveness/normalization_factor"
   ]
  },
  {
   "cell_type": "code",
   "execution_count": 14,
   "metadata": {},
   "outputs": [],
   "source": [
    "def get_learner_attractiveness(learner, years, skill_supply, skill_demand):\n",
    "    learner_attractiveness = dict()\n",
    "    for skill, level in learner[\"possessed_skills\"].items():\n",
    "        learner_attractiveness[skill] = get_skill_attractiveness(\n",
    "            (skill, level), years, skill_supply, skill_demand\n",
    "        )\n",
    "    return learner_attractiveness"
   ]
  },
  {
   "cell_type": "markdown",
   "metadata": {},
   "source": [
    "# upskilling advice"
   ]
  },
  {
   "cell_type": "code",
   "execution_count": 15,
   "metadata": {},
   "outputs": [
    {
     "data": {
      "text/plain": [
       "('Psychische Fertigkeiten', 1)"
      ]
     },
     "execution_count": 15,
     "metadata": {},
     "output_type": "execute_result"
    }
   ],
   "source": [
    "\n",
    "matching = matchings.learner_job_matching(learner, job)\n",
    "new_matching = sys.maxsize\n",
    "while new_matching > matching:\n",
    "    upskilling_advice = upskillings.up_skilling_advice(learners[0], jobs[0], market.get_all_skills_attractiveness(\n",
    "        skills, mastery_levels, years, skill_supply, skill_demand\n",
    "    ))\n",
    "    learners[0]['possessed_skills'][upskilling_advice[0]] = upskilling_advice[1]\n"
   ]
  },
  {
   "cell_type": "code",
   "execution_count": 19,
   "metadata": {},
   "outputs": [
    {
     "data": {
      "text/plain": [
       "{'required_skills': {'Business- und Requirements-Engineerin': 4,\n",
       "  'Anleiten und Begleiten': 4,\n",
       "  'Mitfühlen': 2,\n",
       "  'Psychische Fertigkeiten': 2},\n",
       " 'year': 2019}"
      ]
     },
     "execution_count": 19,
     "metadata": {},
     "output_type": "execute_result"
    }
   ],
   "source": [
    "jobs[0]"
   ]
  },
  {
   "cell_type": "code",
   "execution_count": null,
   "metadata": {},
   "outputs": [],
   "source": [
    "learner = {'possessed_skills': {'Business- und Requirements-Engineerin': 1,\n",
    "  'Mitfühlen': 3,\n",
    "  'Psychische Fertigkeiten': 3},\n",
    " 'year': 2023}"
   ]
  },
  {
   "cell_type": "code",
   "execution_count": 30,
   "metadata": {},
   "outputs": [],
   "source": [
    "skills_attractiveness = market.get_all_skills_attractiveness(\n",
    "    skills, mastery_levels, years, skill_supply, skill_demand\n",
    ")"
   ]
  },
  {
   "cell_type": "code",
   "execution_count": 32,
   "metadata": {},
   "outputs": [
    {
     "data": {
      "text/plain": [
       "(0.5464852607709751, 1.1916099773242632)"
      ]
     },
     "execution_count": 32,
     "metadata": {},
     "output_type": "execute_result"
    }
   ],
   "source": [
    "skills_attractiveness[('Business- und Requirements-Engineerin', 2)], skills_attractiveness[('Anleiten und Begleiten', 2)]"
   ]
  },
  {
   "cell_type": "code",
   "execution_count": null,
   "metadata": {},
   "outputs": [],
   "source": [
    "skills_attractiveness = dict()\n",
    "for skill in skills:\n",
    "    for level in mastery_levels:\n",
    "        skills_attractiveness[(skill, level)] = get_skill_attractiveness((skill, level), years, skill_supply, skill_demand)"
   ]
  },
  {
   "cell_type": "code",
   "execution_count": null,
   "metadata": {},
   "outputs": [],
   "source": [
    "skills_attractiveness = market.get_all_skills_attractiveness(skills, mastery_levels, years, skill_supply, skill_demand)"
   ]
  },
  {
   "cell_type": "code",
   "execution_count": null,
   "metadata": {},
   "outputs": [],
   "source": [
    "upskillings.up_skilling_advice(learners[0], jobs[0], skills_attractiveness)"
   ]
  },
  {
   "cell_type": "code",
   "execution_count": null,
   "metadata": {},
   "outputs": [],
   "source": [
    "learners[0], jobs[0]"
   ]
  },
  {
   "cell_type": "markdown",
   "metadata": {},
   "source": [
    "# Courses"
   ]
  },
  {
   "cell_type": "code",
   "execution_count": null,
   "metadata": {},
   "outputs": [],
   "source": [
    "def get_random_provided_skills(skills, mastery_levels, required_skills, n_provided_skills):\n",
    "    provided_skills = dict()\n",
    "    while len(provided_skills) < n_provided_skills:\n",
    "        candidate_skill = random.choice(skills)\n",
    "        candidate_level = random.choice(mastery_levels)\n",
    "        if (\n",
    "            candidate_skill not in required_skills\n",
    "            and candidate_skill not in provided_skills\n",
    "        ):\n",
    "            provided_skills[candidate_skill] = candidate_level\n",
    "        elif (\n",
    "            candidate_skill in required_skills\n",
    "            and candidate_level > required_skills[candidate_skill]\n",
    "        ):\n",
    "            provided_skills[candidate_skill] = candidate_level\n",
    "\n",
    "    return provided_skills\n",
    "\n",
    "\n",
    "def get_random_course(skills, mastery_levels, min_n_required_skills=1, max_n_required_skills=5, min_n_provided_skills=1, max_n_provided_skills=2):\n",
    "    n_required_skills = random.randint(min_n_required_skills, max_n_required_skills)\n",
    "    required = {skill: level for skill, level in zip(np.random.choice(skills, n_required_skills, replace=False), np.random.choice(mastery_levels, n_required_skills, replace=True)) }\n",
    "\n",
    "    n_provided_skills = random.randint(min_n_provided_skills, max_n_provided_skills)\n",
    "    provided = get_random_provided_skills(skills, mastery_levels, required, n_provided_skills)\n",
    "\n",
    "    return {'required_skills':required, 'provided_skills':provided}\n",
    "\n",
    "def get_all_courses(skills, mastery_levels, min_n_required_skills=1, max_n_required_skills=5, min_n_provided_skills=1, max_n_provided_skills=2, n_courses=1000):\n",
    "    return [get_random_course(skills, mastery_levels, min_n_required_skills=1, max_n_required_skills=5, min_n_provided_skills=1, max_n_provided_skills=2) for _ in range(n_courses)]\n",
    "\n",
    "courses = get_all_courses(skills, mastery_levels, min_n_required_skills=1, max_n_required_skills=5, min_n_provided_skills=1, max_n_provided_skills=2, n_courses=1000)\n",
    "\n",
    "courses[0]"
   ]
  },
  {
   "cell_type": "markdown",
   "metadata": {},
   "source": [
    "# Learner-Course Matching"
   ]
  },
  {
   "cell_type": "code",
   "execution_count": null,
   "metadata": {},
   "outputs": [],
   "source": [
    "def learner_course_required_matching(learner, course):\n",
    "    required_matching = 0\n",
    "    for skill in course['required_skills']:\n",
    "        if skill in learner['possessed_skills']:\n",
    "            sim = min(learner['possessed_skills'][skill], course['required_skills'][skill]) / course['required_skills'][skill]\n",
    "            required_matching += sim\n",
    "    return required_matching / len(course['required_skills'])\n",
    "\n",
    "def learner_course_provided_matching(learner, course):\n",
    "    provided_matching = 0\n",
    "    for skill in course['provided_skills']:\n",
    "        if skill in learner['possessed_skills']:\n",
    "            sim = min(learner['possessed_skills'][skill], course['provided_skills'][skill]) / course['provided_skills'][skill]\n",
    "            provided_matching += sim\n",
    "    return provided_matching / len(course['provided_skills'])\n",
    "\n",
    "def learner_course_matching(learner, course):\n",
    "    required_matching = learner_course_required_matching(learner, course)\n",
    "    provided_matching = learner_course_provided_matching(learner, course)\n",
    "\n",
    "    if provided_matching >= 1.0:\n",
    "        return 0\n",
    "\n",
    "    return required_matching / (provided_matching + 1)"
   ]
  },
  {
   "cell_type": "code",
   "execution_count": null,
   "metadata": {},
   "outputs": [],
   "source": [
    "nb_matching = 0\n",
    "for learner, course in zip(learners, courses):\n",
    "    matching = learner_course_matching(learner, course)\n",
    "    if matching >= 0.1:\n",
    "        print(f\"Matching: {matching:.2f}\")\n",
    "        print(f\"Course required: {course['required_skills']}\")\n",
    "        print(f\"Course provided: {course['provided_skills']}\")\n",
    "        print(f\"Learner: {learner['possessed_skills']}\")\n",
    "        nb_matching += 1\n",
    "    if nb_matching > 5:\n",
    "        break"
   ]
  },
  {
   "cell_type": "markdown",
   "metadata": {},
   "source": [
    "# Learner-skill Achievability"
   ]
  },
  {
   "cell_type": "code",
   "execution_count": null,
   "metadata": {},
   "outputs": [],
   "source": [
    "def learner_skill_achievability(learner, skill, mastery_level, courses):\n",
    "    achievability = 0\n",
    "    nb_courses = 0\n",
    "    for course in courses:\n",
    "        if skill in course['provided_skills'] and mastery_level == course['provided_skills'][skill]:\n",
    "            achievability += learner_course_required_matching(learner, course)\n",
    "            nb_courses += 1\n",
    "    return achievability, nb_courses"
   ]
  },
  {
   "cell_type": "code",
   "execution_count": null,
   "metadata": {},
   "outputs": [],
   "source": [
    "learners[0]"
   ]
  },
  {
   "cell_type": "code",
   "execution_count": null,
   "metadata": {},
   "outputs": [],
   "source": [
    "jobs[0]"
   ]
  },
  {
   "cell_type": "code",
   "execution_count": null,
   "metadata": {},
   "outputs": [],
   "source": [
    "nb_achievable = 0\n",
    "\n",
    "for learner in learners: \n",
    "    achievability, nb_courses = learner_skill_achievability(learner, 'Motivieren', 1, courses)\n",
    "    if achievability > 0:\n",
    "        nb_achievable += 1\n",
    "        print(f\"Achievability: {achievability:.2f}\")\n",
    "        print(f\"Number of courses: {nb_courses}\")\n",
    "        print(f\"Learner: {learner['possessed_skills']}\")\n",
    "        print(f\"Skill: Motivieren\")\n",
    "        if nb_achievable > 5:\n",
    "            break"
   ]
  },
  {
   "cell_type": "code",
   "execution_count": null,
   "metadata": {},
   "outputs": [],
   "source": [
    "def max(a):\n",
    "    max = a[0]\n",
    "    for i in range(1, len(a)):\n",
    "        if a[i] > max:\n",
    "            max = a[i]\n",
    "    return max\n",
    "\n",
    "max([7, 8, 3, 4, 5])"
   ]
  },
  {
   "cell_type": "markdown",
   "metadata": {},
   "source": []
  }
 ],
 "metadata": {
  "kernelspec": {
   "display_name": "proto",
   "language": "python",
   "name": "python3"
  },
  "language_info": {
   "codemirror_mode": {
    "name": "ipython",
    "version": 3
   },
   "file_extension": ".py",
   "mimetype": "text/x-python",
   "name": "python",
   "nbconvert_exporter": "python",
   "pygments_lexer": "ipython3",
   "version": "3.11.4"
  },
  "orig_nbformat": 4
 },
 "nbformat": 4,
 "nbformat_minor": 2
}
