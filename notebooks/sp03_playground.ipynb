{
 "cells": [
  {
   "cell_type": "code",
   "execution_count": 4,
   "metadata": {},
   "outputs": [],
   "source": [
    "%load_ext autoreload\n",
    "\n",
    "%autoreload 1"
   ]
  },
  {
   "cell_type": "code",
   "execution_count": 5,
   "metadata": {},
   "outputs": [],
   "source": [
    "import random\n",
    "import numpy as np\n",
    "import pandas as pd\n",
    "from collections import Counter\n",
    "from copy import deepcopy\n",
    "import sys\n",
    "\n",
    "sys.path.append('../protosp03/recommendation/')\n",
    "sys.path.append('../protosp03/data/synthetic/')\n",
    "%aimport matchings\n",
    "%aimport market\n",
    "%aimport upskillings\n",
    "%aimport make_synthetic"
   ]
  },
  {
   "cell_type": "code",
   "execution_count": 6,
   "metadata": {},
   "outputs": [],
   "source": [
    "path = \"../data/taxonomy/taxonomy_V4.csv\"\n",
    "mastery_levels = [1, 2, 3, 4]\n",
    "years = [i for i in range(2023, 2017, -1)]"
   ]
  },
  {
   "cell_type": "code",
   "execution_count": 7,
   "metadata": {},
   "outputs": [],
   "source": [
    "skills, learners, jobs, courses = make_synthetic.get_job_market(path, mastery_levels, years )"
   ]
  },
  {
   "cell_type": "code",
   "execution_count": 8,
   "metadata": {},
   "outputs": [],
   "source": [
    "skill_supply, skill_demand, skill_trends, skills_attractiveness = market.get_all_market_metrics(skills, mastery_levels, learners, jobs, years)"
   ]
  },
  {
   "cell_type": "code",
   "execution_count": null,
   "metadata": {},
   "outputs": [],
   "source": [
    "nb_matching = 0\n",
    "for learner, course in zip(learners, courses):\n",
    "    matching = learner_course_matching(learner, course)\n",
    "    if matching >= 0.1:\n",
    "        print(f\"Matching: {matching:.2f}\")\n",
    "        print(f\"Course required: {course['required_skills']}\")\n",
    "        print(f\"Course provided: {course['provided_skills']}\")\n",
    "        print(f\"Learner: {learner['possessed_skills']}\")\n",
    "        nb_matching += 1\n",
    "    if nb_matching > 5:\n",
    "        break"
   ]
  },
  {
   "cell_type": "markdown",
   "metadata": {},
   "source": [
    "# Learner-skill Achievability"
   ]
  },
  {
   "cell_type": "code",
   "execution_count": null,
   "metadata": {},
   "outputs": [],
   "source": [
    "def learner_skill_achievability(learner, skill, mastery_level, courses):\n",
    "    achievability = 0\n",
    "    nb_courses = 0\n",
    "    for course in courses:\n",
    "        if (\n",
    "            skill in course[\"provided_skills\"]\n",
    "            and mastery_level == course[\"provided_skills\"][skill]\n",
    "        ):\n",
    "            achievability += learner_course_required_matching(learner, course)\n",
    "            nb_courses += 1\n",
    "    return achievability, nb_courses"
   ]
  },
  {
   "cell_type": "code",
   "execution_count": null,
   "metadata": {},
   "outputs": [],
   "source": [
    "nb_achievable = 0\n",
    "\n",
    "for learner in learners:\n",
    "    achievability, nb_courses = learner_skill_achievability(\n",
    "        learner, \"Motivieren\", 1, courses\n",
    "    )\n",
    "    if achievability > 0:\n",
    "        nb_achievable += 1\n",
    "        print(f\"Achievability: {achievability:.2f}\")\n",
    "        print(f\"Number of courses: {nb_courses}\")\n",
    "        print(f\"Learner: {learner['possessed_skills']}\")\n",
    "        print(f\"Skill: Motivieren\")\n",
    "        if nb_achievable > 5:\n",
    "            break"
   ]
  },
  {
   "cell_type": "code",
   "execution_count": null,
   "metadata": {},
   "outputs": [],
   "source": [
    "def max(a):\n",
    "    max = a[0]\n",
    "    for i in range(1, len(a)):\n",
    "        if a[i] > max:\n",
    "            max = a[i]\n",
    "    return max\n",
    "\n",
    "\n",
    "max([7, 8, 3, 4, 5])"
   ]
  }
 ],
 "metadata": {
  "kernelspec": {
   "display_name": "proto",
   "language": "python",
   "name": "python3"
  },
  "language_info": {
   "codemirror_mode": {
    "name": "ipython",
    "version": 3
   },
   "file_extension": ".py",
   "mimetype": "text/x-python",
   "name": "python",
   "nbconvert_exporter": "python",
   "pygments_lexer": "ipython3",
   "version": "3.11.4"
  },
  "orig_nbformat": 4
 },
 "nbformat": 4,
 "nbformat_minor": 2
}
