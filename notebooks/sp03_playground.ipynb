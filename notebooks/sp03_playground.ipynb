{
 "cells": [
  {
   "cell_type": "code",
   "execution_count": null,
   "metadata": {},
   "outputs": [],
   "source": [
    "%load_ext autoreload\n",
    "\n",
    "%autoreload 1"
   ]
  },
  {
   "cell_type": "code",
   "execution_count": null,
   "metadata": {},
   "outputs": [],
   "source": [
    "import random\n",
    "import numpy as np\n",
    "import pandas as pd\n",
    "from collections import Counter\n",
    "\n",
    "import sys\n",
    "\n",
    "sys.path.append('../protosp03/recommendation/')\n",
    "%aimport matchings"
   ]
  },
  {
   "cell_type": "code",
   "execution_count": null,
   "metadata": {},
   "outputs": [],
   "source": [
    "path = '../data/raw/evrlearn/taxonomy_V4.csv'"
   ]
  },
  {
   "cell_type": "code",
   "execution_count": null,
   "metadata": {},
   "outputs": [],
   "source": [
    "taxonomy = pd.read_csv(path)\n",
    "\n",
    "# remove all rows where the column 'ElementID' is null\n",
    "taxonomy = taxonomy[taxonomy['ElementID'].notna()]\n",
    "\n",
    "keep = ['ElementID', 'Dimension', 'Type Level 1', 'Type Level 1 E',\n",
    "       'Type Level 2', 'Type Level 2 E', 'Type Level 3', 'Type Level 4']\n",
    "\n",
    "# keep only the columns in the list 'keep'\n",
    "taxonomy = taxonomy[keep]\n",
    "names = ['Type Level 1', 'Type Level 2', 'Type Level 3', 'Type Level 4']\n",
    "\n",
    "taxonomy['last_name'] = (taxonomy['ElementID'].str.len() - 1 )//2\n",
    "taxonomy['last_name'] = taxonomy['last_name'].map(lambda x: names[x])\n",
    "taxonomy['last_name'] = taxonomy.apply(lambda x: x[x['last_name']], axis=1)"
   ]
  },
  {
   "cell_type": "code",
   "execution_count": null,
   "metadata": {},
   "outputs": [],
   "source": [
    "taxonomy"
   ]
  },
  {
   "cell_type": "markdown",
   "metadata": {},
   "source": [
    "# Mastery Levels\n"
   ]
  },
  {
   "cell_type": "code",
   "execution_count": null,
   "metadata": {},
   "outputs": [],
   "source": [
    "mastery_levels = [1, 2, 3, 4]\n",
    "nb_mastery_levels = len(mastery_levels)\n",
    "mastery_levels_probabilities = [1/np.log(i+1) for i in range(1, nb_mastery_levels + 1)]\n",
    "mastery_levels_normalized_probabilities = np.array(mastery_levels_probabilities) / sum(mastery_levels_probabilities)"
   ]
  },
  {
   "cell_type": "markdown",
   "metadata": {},
   "source": [
    "# Skills"
   ]
  },
  {
   "cell_type": "code",
   "execution_count": null,
   "metadata": {},
   "outputs": [],
   "source": [
    "# make a dict from the dataframe taxonomy using the column 'last_name' as key and the column 'Type Level 1 E' as value\n",
    "levels_dict = taxonomy.set_index('last_name')['ElementID'].to_dict()\n",
    "levels_dict = {key:[int(level) for level in value.split('.')] for key, value in levels_dict.items()}\n",
    "groups_dict = taxonomy.set_index('ElementID')['Type Level 1'].to_dict()\n",
    "groups_dict = {int(key.split('.')[0]):value for key, value in groups_dict.items()}\n",
    "# group_dict = {key:int(value.split('.')[0]) for key, value in group_dict.items()}\n",
    "\n",
    "skills = list(levels_dict.keys())\n",
    "random.shuffle(skills)\n",
    "nb_skills = len(skills)\n",
    "skills_probabilities = [1/np.log(i+1) for i in range(1, nb_skills + 1)]\n",
    "skills_normalized_probabilities = np.array(skills_probabilities) / sum(skills_probabilities)"
   ]
  },
  {
   "cell_type": "markdown",
   "metadata": {},
   "source": [
    "# Years"
   ]
  },
  {
   "cell_type": "code",
   "execution_count": null,
   "metadata": {},
   "outputs": [],
   "source": [
    "years = [i for i in range(2023, 2017, -1)]\n",
    "years_probabilities = [1/np.log(i+1) for i in range(1, len(years) + 1)]\n",
    "years_normalized_probabilities = np.array(years_probabilities) / sum(years_probabilities)"
   ]
  },
  {
   "cell_type": "markdown",
   "metadata": {},
   "source": [
    "# Learners"
   ]
  },
  {
   "cell_type": "code",
   "execution_count": null,
   "metadata": {},
   "outputs": [],
   "source": [
    "def get_random_learner(skills, mastery_levels, years, min_n_skills=5, max_n_skills=10):\n",
    "    n_skills = random.randint(min_n_skills, max_n_skills)\n",
    "    possessed = {skill: level for skill, level in zip(np.random.choice(skills, n_skills, p=skills_normalized_probabilities, replace=False), np.random.choice(mastery_levels, n_skills, p=mastery_levels_normalized_probabilities, replace=True)) }\n",
    "    year = np.random.choice(years, 1, p=years_normalized_probabilities)[0]\n",
    "    return {'possessed_skills':possessed, 'year':year}\n",
    "\n",
    "def get_all_learners(skills, mastery_levels, years, min_n_skills=5, max_n_skills=10, n_learners=100):\n",
    "    return [get_random_learner(skills, mastery_levels, years, min_n_skills, max_n_skills) for _ in range(n_learners)]\n",
    "\n",
    "learners = get_all_learners(skills, mastery_levels, years, min_n_skills=5, max_n_skills=10, n_learners=1000)\n",
    "\n",
    "learners[0]"
   ]
  },
  {
   "cell_type": "markdown",
   "metadata": {},
   "source": [
    "# Skill Supply"
   ]
  },
  {
   "cell_type": "code",
   "execution_count": null,
   "metadata": {},
   "outputs": [],
   "source": [
    "def get_skill_supply(learners, years):\n",
    "    skill_supply = {year: Counter() for year in years}\n",
    "    for learner in learners:\n",
    "        for skill, level in learner['possessed_skills'].items():\n",
    "            skill_supply[learner['year']][(skill, level)] += 1\n",
    "    return skill_supply\n",
    "\n",
    "skill_supply = get_skill_supply(learners, years)\n",
    "skill_supply[2023].most_common(10)"
   ]
  },
  {
   "cell_type": "markdown",
   "metadata": {},
   "source": [
    "# Jobs"
   ]
  },
  {
   "cell_type": "code",
   "execution_count": null,
   "metadata": {},
   "outputs": [],
   "source": [
    "def get_random_job(skills, skills_normalized_probabilities, mastery_levels, mastery_levels_normalized_probabilities, years, years_normalized_probabilities, min_n_skills=2, max_n_skills=5):\n",
    "    n_skills = random.randint(min_n_skills, max_n_skills)\n",
    "    required = {skill: level for skill, level in zip(np.random.choice(skills, n_skills, p=skills_normalized_probabilities, replace=False), np.random.choice(mastery_levels, n_skills, p=mastery_levels_normalized_probabilities, replace=True)) }\n",
    "    year = np.random.choice(years, 1, p=years_normalized_probabilities)[0]\n",
    "    return {'required_skills':required, 'year':year}\n",
    "\n",
    "def get_all_jobs(skills, skills_normalized_probabilities, mastery_levels, mastery_levels_normalized_probabilities, years, years_normalized_probabilities, min_n_skills=2, max_n_skills=5, n_jobs=1000):\n",
    "    return [get_random_job(skills, skills_normalized_probabilities, mastery_levels, mastery_levels_normalized_probabilities, years, years_normalized_probabilities, min_n_skills, max_n_skills) for _ in range(n_jobs)]\n",
    "\n",
    "jobs = get_all_jobs(skills, skills_normalized_probabilities, mastery_levels, mastery_levels_normalized_probabilities, years, years_normalized_probabilities, min_n_skills=2, max_n_skills=5, n_jobs=1000)\n",
    "\n",
    "jobs[0]"
   ]
  },
  {
   "cell_type": "markdown",
   "metadata": {},
   "source": [
    "# Skill Demand"
   ]
  },
  {
   "cell_type": "code",
   "execution_count": null,
   "metadata": {},
   "outputs": [],
   "source": [
    "def get_skill_demand(jobs, years):\n",
    "    skill_demand = {year: Counter() for year in years}\n",
    "    for job in jobs:\n",
    "        for skill, level in job['required_skills'].items():\n",
    "            skill_demand[job['year']][(skill, level)] += 1\n",
    "    return skill_demand\n",
    "\n",
    "skill_demand = get_skill_demand(jobs, years)\n",
    "skill_demand[2023].most_common(10)"
   ]
  },
  {
   "cell_type": "markdown",
   "metadata": {},
   "source": [
    "# Skill Attractiveness"
   ]
  },
  {
   "cell_type": "code",
   "execution_count": null,
   "metadata": {},
   "outputs": [],
   "source": [
    "def skill_attractiveness(skill, years, skill_supply, skill_demand):\n",
    "    skill_attractiveness = 0\n",
    "    noramlization_factor = 0\n",
    "    for i, year in enumerate(years):\n",
    "        if skill in skill_supply[year]:\n",
    "            skill_attractiveness += skill_demand[year][skill] / (skill_supply[year][skill] * (i+1))\n",
    "        noramlization_factor += 1 / (i+1)\n",
    "    return skill_attractiveness/noramlization_factor"
   ]
  },
  {
   "cell_type": "code",
   "execution_count": null,
   "metadata": {},
   "outputs": [],
   "source": [
    "print(f\"Skill demand in 2023: {skill_demand[2023][('Konzentrationsfähigkeit', 1)]}\")\n",
    "print(f\"Skill supply in 2023: {skill_supply[2023][('Konzentrationsfähigkeit', 1)]}\")\n",
    "print(f\"Skill demand in 2022: {skill_demand[2022][('Konzentrationsfähigkeit', 1)]}\")\n",
    "print(f\"Skill supply in 2022: {skill_supply[2022][('Konzentrationsfähigkeit', 1)]}\")\n",
    "print(f\"Skill attractiveness: {skill_attractiveness(('Konzentrationsfähigkeit', 1), years, skill_supply, skill_demand):.2f}\")"
   ]
  },
  {
   "cell_type": "markdown",
   "metadata": {},
   "source": [
    "# Learner - job Matching"
   ]
  },
  {
   "cell_type": "code",
   "execution_count": null,
   "metadata": {},
   "outputs": [],
   "source": [
    "# def learner_job_matching(learner, job):\n",
    "#     matching = 0\n",
    "#     for skill in job['required_skills']:\n",
    "#         if skill in learner['possessed_skills']:\n",
    "#             sim = min(learner['possessed_skills'][skill], job['required_skills'][skill]) / job['required_skills'][skill]\n",
    "#             matching += sim\n",
    "#     matching = 100 * matching / len(job['required_skills'])\n",
    "#     return matching\n",
    "\n",
    "\n",
    "nb_matching = 0\n",
    "for learner, job in zip(learners, jobs):\n",
    "    matching = matchings.learner_job_matching(learner, job)\n",
    "    if matching > 50:\n",
    "        print(f\"Matching: {matching:.2f}\")\n",
    "        print(f\"Number of skills in common: {len(set(learner['possessed_skills'].keys()).intersection(set(job['required_skills'].keys())))}\")\n",
    "        print(f\"Job: {job['required_skills']}\")\n",
    "        print(f\"Learner: {learner['possessed_skills']}\")\n",
    "        print()\n",
    "        nb_matching += 1\n",
    "    if nb_matching > 2:\n",
    "        break"
   ]
  },
  {
   "cell_type": "code",
   "execution_count": null,
   "metadata": {},
   "outputs": [],
   "source": [
    "learner"
   ]
  },
  {
   "cell_type": "code",
   "execution_count": null,
   "metadata": {},
   "outputs": [],
   "source": [
    "learner"
   ]
  },
  {
   "cell_type": "code",
   "execution_count": null,
   "metadata": {},
   "outputs": [],
   "source": [
    "levels_dict = {key:value for key, value in levels_dict.items() if key in learner['possessed_skills'] or key in job['required_skills']}"
   ]
  },
  {
   "cell_type": "code",
   "execution_count": null,
   "metadata": {},
   "outputs": [],
   "source": [
    "groups_dict"
   ]
  },
  {
   "cell_type": "code",
   "execution_count": null,
   "metadata": {},
   "outputs": [],
   "source": [
    "job = {\n",
    "    'required_skills': {\n",
    "        'Fokuswechsel': 1,\n",
    "        'Organisation': 2\n",
    "    },\n",
    "    'year': 2022}\n",
    "\n",
    "learner = {'possessed_skills': {'Organisation': 2,\n",
    "  'Hand/Finger-Geschwindigkeit': 4},\n",
    " 'year': 2019}\n",
    "\n",
    "\n",
    "groups_dict = {2: 'Fertigkeit',\n",
    "  5: 'Fachkompetenz'}\n",
    "\n",
    "\n",
    "\n",
    "levels_dict = {\n",
    " 'Fokuswechsel': [2, 1, 8, 2],\n",
    " 'Hand/Finger-Geschwindigkeit': [2, 3, 3, 2],\n",
    " 'Organisation': [5, 10]}\n",
    "\n",
    "\n",
    "def shortest_distance(node1, node2):\n",
    "    # Find the last common ancestor\n",
    "    min_len = min(len(node1), len(node2))\n",
    "    last_common_index = -1\n",
    "    for i in range(min_len):\n",
    "        if node1[i] == node2[i]:\n",
    "            last_common_index = i\n",
    "        else:\n",
    "            break\n",
    "\n",
    "    # If there's no common ancestor (e.g., [], [1,2,3]), set last_common_index to -1\n",
    "    if last_common_index == -1:\n",
    "        return sys.maxsize\n",
    "\n",
    "    # Calculate distance from last common ancestor to each node and sum them up\n",
    "    distance_node1 = len(node1) - last_common_index - 1\n",
    "    distance_node2 = len(node2) - last_common_index - 1\n",
    "    return distance_node1 + distance_node2\n",
    "\n",
    "\n",
    "\n",
    "\n",
    "def learner_job_group_matching(learner, job, groups_dict, levels_dict):\n",
    "\n",
    "    group_matchings = Counter()\n",
    "\n",
    "    for group_id, group_name in groups_dict.items():\n",
    "        matching = 0\n",
    "        # For each required skill in the job\n",
    "        for job_skill in job[\"required_skills\"]:\n",
    "            if levels_dict[job_skill][0] != group_id:\n",
    "                continue\n",
    "            # Check if the learner possesses the skill\n",
    "            if job_skill in learner[\"possessed_skills\"]:\n",
    "                # Calculate similarity ratio based on mastery levels\n",
    "                matching += matchings.skill_skill_similarity(\n",
    "                    learner[\"possessed_skills\"][job_skill], job[\"required_skills\"][job_skill]\n",
    "                )\n",
    "            else:\n",
    "                # If the learner does not possess the skill, calculate similarity ratio based on the distance between the skill and the learner's skills\n",
    "                learner_skills = list(learner[\"possessed_skills\"].keys())\n",
    "                min_distance  = sys.maxsize\n",
    "                closest_skill = None\n",
    "                for learner_skill in learner_skills:\n",
    "                    distance = shortest_distance(levels_dict[job_skill], levels_dict[learner_skill])\n",
    "                    if distance < min_distance:\n",
    "                        min_distance = distance\n",
    "                        closest_skill = learner_skill\n",
    "                    \n",
    "                matching += matchings.skill_skill_similarity(learner[\"possessed_skills\"][closest_skill], job[\"required_skills\"][job_skill])/(min_distance + 1)\n",
    "\n",
    "        # Convert total similarity into percentage form\n",
    "        matching = 100 * matching / len(job[\"required_skills\"])\n",
    "        group_matchings[group_name] = matching\n",
    "    return group_matchings\n",
    "\n",
    "\n",
    "print(matchings.learner_job_group_matching(learner, job, groups_dict, levels_dict).most_common())"
   ]
  },
  {
   "cell_type": "code",
   "execution_count": null,
   "metadata": {},
   "outputs": [],
   "source": [
    "job = {\n",
    "         'required_skills': {\n",
    "             'Fokuswechsel': 1,\n",
    "             'Organisation': 2\n",
    "         },\n",
    "         'year': 2022}\n",
    "\n",
    "learner = {\n",
    "         'possessed_skills': {\n",
    "             'Organisation': 2,\n",
    "             'Hand/Finger-Geschwindigkeit': 4\n",
    "         },\n",
    "         'year': 2019}\n",
    "\n",
    "groups_dict = {\n",
    "         2: 'Fertigkeit',\n",
    "         5: 'Fachkompetenz'}\n",
    "\n",
    "\n",
    "levels_dict = {\n",
    "         'Fokuswechsel': [2, 1, 8, 2],\n",
    "         'Hand/Finger-Geschwindigkeit': [2, 3, 3, 2],\n",
    "         'Organisation': [5, 10]}\n",
    "\n",
    "matchings = matchings.learner_job_group_matching(learner, job, groups_dict, levels_dict)"
   ]
  },
  {
   "cell_type": "code",
   "execution_count": null,
   "metadata": {},
   "outputs": [],
   "source": [
    "matchings.most_common()"
   ]
  },
  {
   "cell_type": "markdown",
   "metadata": {},
   "source": [
    "# Courses"
   ]
  },
  {
   "cell_type": "code",
   "execution_count": null,
   "metadata": {},
   "outputs": [],
   "source": [
    "def get_random_provided_skills(skills, mastery_levels, required_skills, n_provided_skills):\n",
    "    provided_skills = dict()\n",
    "    while len(provided_skills) < n_provided_skills:\n",
    "        candidate_skill = random.choice(skills)\n",
    "        candidate_level = random.choice(mastery_levels)\n",
    "        if (\n",
    "            candidate_skill not in required_skills\n",
    "            and candidate_skill not in provided_skills\n",
    "        ):\n",
    "            provided_skills[candidate_skill] = candidate_level\n",
    "        elif (\n",
    "            candidate_skill in required_skills\n",
    "            and candidate_level > required_skills[candidate_skill]\n",
    "        ):\n",
    "            provided_skills[candidate_skill] = candidate_level\n",
    "\n",
    "    return provided_skills\n",
    "\n",
    "\n",
    "def get_random_course(skills, mastery_levels, min_n_required_skills=1, max_n_required_skills=5, min_n_provided_skills=1, max_n_provided_skills=2):\n",
    "    n_required_skills = random.randint(min_n_required_skills, max_n_required_skills)\n",
    "    required = {skill: level for skill, level in zip(np.random.choice(skills, n_required_skills, replace=False), np.random.choice(mastery_levels, n_required_skills, replace=True)) }\n",
    "\n",
    "    n_provided_skills = random.randint(min_n_provided_skills, max_n_provided_skills)\n",
    "    provided = get_random_provided_skills(skills, mastery_levels, required, n_provided_skills)\n",
    "\n",
    "    return {'required_skills':required, 'provided_skills':provided}\n",
    "\n",
    "def get_all_courses(skills, mastery_levels, min_n_required_skills=1, max_n_required_skills=5, min_n_provided_skills=1, max_n_provided_skills=2, n_courses=1000):\n",
    "    return [get_random_course(skills, mastery_levels, min_n_required_skills=1, max_n_required_skills=5, min_n_provided_skills=1, max_n_provided_skills=2) for _ in range(n_courses)]\n",
    "\n",
    "courses = get_all_courses(skills, mastery_levels, min_n_required_skills=1, max_n_required_skills=5, min_n_provided_skills=1, max_n_provided_skills=2, n_courses=1000)\n",
    "\n",
    "courses[0]"
   ]
  },
  {
   "cell_type": "markdown",
   "metadata": {},
   "source": [
    "# Learner-Course Matching"
   ]
  },
  {
   "cell_type": "code",
   "execution_count": null,
   "metadata": {},
   "outputs": [],
   "source": [
    "def learner_course_required_matching(learner, course):\n",
    "    required_matching = 0\n",
    "    for skill in course['required_skills']:\n",
    "        if skill in learner['possessed_skills']:\n",
    "            sim = min(learner['possessed_skills'][skill], course['required_skills'][skill]) / course['required_skills'][skill]\n",
    "            required_matching += sim\n",
    "    return required_matching / len(course['required_skills'])\n",
    "\n",
    "def learner_course_provided_matching(learner, course):\n",
    "    provided_matching = 0\n",
    "    for skill in course['provided_skills']:\n",
    "        if skill in learner['possessed_skills']:\n",
    "            sim = min(learner['possessed_skills'][skill], course['provided_skills'][skill]) / course['provided_skills'][skill]\n",
    "            provided_matching += sim\n",
    "    return provided_matching / len(course['provided_skills'])\n",
    "\n",
    "def learner_course_matching(learner, course):\n",
    "    required_matching = learner_course_required_matching(learner, course)\n",
    "    provided_matching = learner_course_provided_matching(learner, course)\n",
    "\n",
    "    if provided_matching >= 1.0:\n",
    "        return 0\n",
    "\n",
    "    return required_matching / (provided_matching + 1)"
   ]
  },
  {
   "cell_type": "code",
   "execution_count": null,
   "metadata": {},
   "outputs": [],
   "source": [
    "nb_matching = 0\n",
    "for learner, course in zip(learners, courses):\n",
    "    matching = learner_course_matching(learner, course)\n",
    "    if matching >= 0.1:\n",
    "        print(f\"Matching: {matching:.2f}\")\n",
    "        print(f\"Course required: {course['required_skills']}\")\n",
    "        print(f\"Course provided: {course['provided_skills']}\")\n",
    "        print(f\"Learner: {learner['possessed_skills']}\")\n",
    "        nb_matching += 1\n",
    "    if nb_matching > 5:\n",
    "        break"
   ]
  },
  {
   "cell_type": "markdown",
   "metadata": {},
   "source": [
    "# Learner-skill Achievability"
   ]
  },
  {
   "cell_type": "code",
   "execution_count": null,
   "metadata": {},
   "outputs": [],
   "source": [
    "def learner_skill_achievability(learner, skill, mastery_level, courses):\n",
    "    achievability = 0\n",
    "    nb_courses = 0\n",
    "    for course in courses:\n",
    "        if skill in course['provided_skills'] and mastery_level == course['provided_skills'][skill]:\n",
    "            achievability += learner_course_required_matching(learner, course)\n",
    "            nb_courses += 1\n",
    "    return achievability, nb_courses"
   ]
  },
  {
   "cell_type": "code",
   "execution_count": null,
   "metadata": {},
   "outputs": [],
   "source": [
    "learners[0]"
   ]
  },
  {
   "cell_type": "code",
   "execution_count": null,
   "metadata": {},
   "outputs": [],
   "source": [
    "jobs[0]"
   ]
  },
  {
   "cell_type": "code",
   "execution_count": null,
   "metadata": {},
   "outputs": [],
   "source": [
    "nb_achievable = 0\n",
    "\n",
    "for learner in learners: \n",
    "    achievability, nb_courses = learner_skill_achievability(learner, 'Motivieren', 1, courses)\n",
    "    if achievability > 0:\n",
    "        nb_achievable += 1\n",
    "        print(f\"Achievability: {achievability:.2f}\")\n",
    "        print(f\"Number of courses: {nb_courses}\")\n",
    "        print(f\"Learner: {learner['possessed_skills']}\")\n",
    "        print(f\"Skill: Motivieren\")\n",
    "        if nb_achievable > 5:\n",
    "            break"
   ]
  },
  {
   "cell_type": "code",
   "execution_count": null,
   "metadata": {},
   "outputs": [],
   "source": []
  }
 ],
 "metadata": {
  "kernelspec": {
   "display_name": "proto",
   "language": "python",
   "name": "python3"
  },
  "language_info": {
   "codemirror_mode": {
    "name": "ipython",
    "version": 3
   },
   "file_extension": ".py",
   "mimetype": "text/x-python",
   "name": "python",
   "nbconvert_exporter": "python",
   "pygments_lexer": "ipython3",
   "version": "3.11.4"
  },
  "orig_nbformat": 4
 },
 "nbformat": 4,
 "nbformat_minor": 2
}
