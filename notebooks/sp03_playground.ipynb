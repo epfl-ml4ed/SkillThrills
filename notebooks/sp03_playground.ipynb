{
 "cells": [
  {
   "cell_type": "code",
   "execution_count": 1,
   "metadata": {},
   "outputs": [],
   "source": [
    "%load_ext autoreload\n",
    "\n",
    "%autoreload 1"
   ]
  },
  {
   "cell_type": "code",
   "execution_count": 2,
   "metadata": {},
   "outputs": [],
   "source": [
    "import random\n",
    "import numpy as np\n",
    "import pandas as pd\n",
    "from collections import Counter\n",
    "from copy import deepcopy\n",
    "import sys\n",
    "\n",
    "sys.path.append('../protosp03/recommendation/')\n",
    "sys.path.append('../protosp03/data/synthetic/')\n",
    "%aimport matchings\n",
    "%aimport market\n",
    "%aimport upskillings\n",
    "%aimport make_synthetic\n",
    "%aimport recommendation"
   ]
  },
  {
   "cell_type": "code",
   "execution_count": 3,
   "metadata": {},
   "outputs": [],
   "source": [
    "path = \"../data/taxonomy/taxonomy_V4.csv\"\n",
    "mastery_levels = [1, 2, 3, 4]\n",
    "years = [i for i in range(2023, 2017, -1)]"
   ]
  },
  {
   "cell_type": "code",
   "execution_count": 4,
   "metadata": {},
   "outputs": [],
   "source": [
    "skills, learners, jobs, courses = make_synthetic.get_job_market(path, mastery_levels, years )"
   ]
  },
  {
   "cell_type": "code",
   "execution_count": 5,
   "metadata": {},
   "outputs": [],
   "source": [
    "skill_supply, skill_demand, skill_trends, skills_attractiveness = market.get_all_market_metrics(skills, mastery_levels, learners, jobs, years)"
   ]
  },
  {
   "cell_type": "code",
   "execution_count": 33,
   "metadata": {},
   "outputs": [
    {
     "data": {
      "text/plain": [
       "('Management der ICT', 4)"
      ]
     },
     "execution_count": 33,
     "metadata": {},
     "output_type": "execute_result"
    }
   ],
   "source": [
    "learner = deepcopy(learners[80])\n",
    "up_skilling_advice = up_skilling_market_advice(learner, skills, skills_attractiveness)\n",
    "up_skilling_advice"
   ]
  },
  {
   "cell_type": "code",
   "execution_count": 30,
   "metadata": {},
   "outputs": [],
   "source": [
    "enrollable_courses = matchings.get_all_enrollable_courses(learner, courses, threshold=0.5)"
   ]
  },
  {
   "cell_type": "code",
   "execution_count": 36,
   "metadata": {},
   "outputs": [
    {
     "name": "stdout",
     "output_type": "stream",
     "text": [
      "{'required_skills': {'Service Engineering': 1}, 'provided_skills': {'Führung in Konfliktsituationen': 4, 'Aufnahmefähigkeit': 1}}\n"
     ]
    }
   ],
   "source": [
    "for course in enrollable_courses:\n",
    "    if ('Führung in Konfliktsituationen', 4) in course[\"provided_skills\"].items():\n",
    "        print(course)"
   ]
  },
  {
   "cell_type": "code",
   "execution_count": 41,
   "metadata": {},
   "outputs": [
    {
     "data": {
      "text/plain": [
       "{'required_skills': {'Service Engineering': 4,\n",
       "  'Zusammenarbeit in virtuellen Teams': 2},\n",
       " 'provided_skills': {'Network Engineering': 3}}"
      ]
     },
     "execution_count": 41,
     "metadata": {},
     "output_type": "execute_result"
    }
   ],
   "source": [
    "recommendation.get_course_recommendation(learner, enrollable_courses, up_skilling_advice)"
   ]
  },
  {
   "cell_type": "code",
   "execution_count": 47,
   "metadata": {},
   "outputs": [],
   "source": [
    "def get_course_recommendation(learner, enrollable_courses, up_skilling_advice):\n",
    "    \"\"\"Get the course recommendation for a learner and a given up-skilling advice.\n",
    "\n",
    "    Args:\n",
    "        learner (dict): Learner's profile including possessed skills and levels.\n",
    "        enrollable_courses (list): List of all enrollable courses.\n",
    "        up_skilling_advice (tuple): A tuple of the skill and level to up-skill to.\n",
    "\n",
    "    Returns:\n",
    "        dict: The course recommendation\n",
    "    \"\"\"\n",
    "    course_recommendation = None\n",
    "    matching = 0\n",
    "    for course in enrollable_courses:\n",
    "        if up_skilling_advice in course[\"provided_skills\"].items():\n",
    "            print(\"Course\", course[\"provided_skills\"], \"is recommended.\")\n",
    "            tmp_matching = matchings.learner_course_matching(learner, course)\n",
    "            if tmp_matching > matching:\n",
    "                matching = tmp_matching\n",
    "                course_recommendation = course\n",
    "    return course_recommendation"
   ]
  },
  {
   "cell_type": "code",
   "execution_count": 49,
   "metadata": {},
   "outputs": [
    {
     "name": "stdout",
     "output_type": "stream",
     "text": [
      "Course {'Network Engineering': 3} is recommended.\n"
     ]
    },
    {
     "data": {
      "text/plain": [
       "{'required_skills': {'Service Engineering': 4,\n",
       "  'Zusammenarbeit in virtuellen Teams': 2},\n",
       " 'provided_skills': {'Network Engineering': 3}}"
      ]
     },
     "execution_count": 49,
     "metadata": {},
     "output_type": "execute_result"
    }
   ],
   "source": [
    "get_course_recommendation(learner, enrollable_courses, ('Network Engineering', 3))"
   ]
  }
 ],
 "metadata": {
  "kernelspec": {
   "display_name": "proto",
   "language": "python",
   "name": "python3"
  },
  "language_info": {
   "codemirror_mode": {
    "name": "ipython",
    "version": 3
   },
   "file_extension": ".py",
   "mimetype": "text/x-python",
   "name": "python",
   "nbconvert_exporter": "python",
   "pygments_lexer": "ipython3",
   "version": "3.11.4"
  },
  "orig_nbformat": 4
 },
 "nbformat": 4,
 "nbformat_minor": 2
}
