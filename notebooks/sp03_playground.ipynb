{
 "cells": [
  {
   "cell_type": "code",
   "execution_count": null,
   "metadata": {},
   "outputs": [],
   "source": [
    "import random\n",
    "import numpy as np\n",
    "import pandas as pd\n",
    "from collections import Counter\n",
    "from copy import deepcopy\n",
    "import sys\n",
    "\n",
    "sys.path.append('../protosp03/recommendation/')\n",
    "sys.path.append('../protosp03/data/synthetic/')\n",
    "import matchings\n",
    "import market\n",
    "import upskillings\n",
    "import make_synthetic"
   ]
  },
  {
   "cell_type": "code",
   "execution_count": null,
   "metadata": {},
   "outputs": [],
   "source": [
    "path = \"../data/taxonomy/taxonomy_V4.csv\"\n",
    "mastery_levels = [1, 2, 3, 4]\n",
    "years = [i for i in range(2023, 2017, -1)]"
   ]
  },
  {
   "cell_type": "code",
   "execution_count": null,
   "metadata": {},
   "outputs": [],
   "source": [
    "skills, learners, jobs, courses = make_synthetic.get_job_market(path, mastery_levels, years )"
   ]
  },
  {
   "cell_type": "code",
   "execution_count": null,
   "metadata": {},
   "outputs": [],
   "source": [
    "skill_supply, skill_demand, skill_trends, skills_attractiveness = market.get_all_market_metrics(skills, mastery_levels, learners, jobs, years)"
   ]
  },
  {
   "cell_type": "code",
   "execution_count": null,
   "metadata": {},
   "outputs": [],
   "source": [
    "applicability_threshold = 40\n",
    "up_skilling_advice = upskillings.up_skilling_advice(learners[0], jobs[0], skills_attractiveness)\n",
    "print(\"Current number of jobs that can be applied to:\", matchings.get_nb_applicable_jobs(learners[0], jobs, applicability_threshold))\n",
    "print(\"Number of new jobs that can be applied to after up_skilling:\", matchings.get_increased_nb_applicable_jobs(learners[0], jobs, up_skilling_advice, applicability_threshold))"
   ]
  },
  {
   "cell_type": "code",
   "execution_count": null,
   "metadata": {},
   "outputs": [],
   "source": [
    "enrollable_courses = matchings.get_all_enrollable_courses(learners[0], courses, threshold=1.0)"
   ]
  },
  {
   "cell_type": "code",
   "execution_count": null,
   "metadata": {},
   "outputs": [],
   "source": [
    "enrollable_courses"
   ]
  },
  {
   "cell_type": "code",
   "execution_count": null,
   "metadata": {},
   "outputs": [],
   "source": [
    "for course in enrollable_courses:\n",
    "    print(matchings.learner_course_provided_matching(learners[0], course), course[\"provided_skills\"])\n"
   ]
  },
  {
   "cell_type": "code",
   "execution_count": null,
   "metadata": {},
   "outputs": [],
   "source": [
    "test"
   ]
  }
 ],
 "metadata": {
  "kernelspec": {
   "display_name": "proto",
   "language": "python",
   "name": "python3"
  },
  "language_info": {
   "codemirror_mode": {
    "name": "ipython",
    "version": 3
   },
   "file_extension": ".py",
   "mimetype": "text/x-python",
   "name": "python",
   "nbconvert_exporter": "python",
   "pygments_lexer": "ipython3",
   "version": "3.11.4"
  },
  "orig_nbformat": 4
 },
 "nbformat": 4,
 "nbformat_minor": 2
}
