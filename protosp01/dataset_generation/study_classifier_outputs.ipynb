{
 "cells": [
  {
   "cell_type": "code",
   "execution_count": 1,
   "metadata": {},
   "outputs": [
    {
     "name": "stderr",
     "output_type": "stream",
     "text": [
      "Some weights of BertModel were not initialized from the model checkpoint at jjzha/jobbert-base-cased and are newly initialized: ['bert.pooler.dense.weight', 'bert.pooler.dense.bias']\n",
      "You should probably TRAIN this model on a down-stream task to be able to use it for predictions and inference.\n",
      "Some weights of BertModel were not initialized from the model checkpoint at jjzha/jobbert-base-cased and are newly initialized: ['bert.pooler.dense.weight', 'bert.pooler.dense.bias']\n",
      "You should probably TRAIN this model on a down-stream task to be able to use it for predictions and inference.\n"
     ]
    }
   ],
   "source": [
    "import pandas as pd\n",
    "import pickle\n",
    "from dataset_evaluation import ESCO_DIR\n",
    "import seaborn as sns\n",
    "import numpy as np"
   ]
  },
  {
   "cell_type": "code",
   "execution_count": 2,
   "metadata": {},
   "outputs": [],
   "source": [
    "with open(ESCO_DIR + \"test.json\") as f:\n",
    "    testsp = pd.DataFrame(eval(f.read().replace(\"\\n\", \",\")))\n",
    "    testsp.columns = [\"idx\", \"sentence\", \"skills\"]\n",
    "\n",
    "with open(ESCO_DIR + \"dev.json\") as f:\n",
    "    devsp = pd.DataFrame(eval(f.read().replace(\"\\n\", \",\")))\n",
    "    devsp.columns = [\"idx\", \"sentence\", \"skills\"]"
   ]
  },
  {
   "cell_type": "code",
   "execution_count": 8,
   "metadata": {},
   "outputs": [],
   "source": [
    "sppreds = pd.read_csv(\"classifiier_outputs/epfl_skillspan_preds.out\", sep=\"\\t\")\n",
    "sppreds[\"predictions\"] = sppreds[\"predictions\"].apply(eval)\n",
    "sppreds[\"gold\"] = sppreds[\"gold\"].apply(eval)\n",
    "sppreds[\"sentence\"] = testsp[\"sentence\"]"
   ]
  },
  {
   "cell_type": "code",
   "execution_count": 28,
   "metadata": {},
   "outputs": [
    {
     "data": {
      "text/plain": [
       "Counter({'UNK': 71,\n",
       "         'communicate with stakeholders': 26,\n",
       "         'develop automated software tests': 20,\n",
       "         'create solutions to problems': 17,\n",
       "         'teamwork principles': 15,\n",
       "         'perform data analysis': 14,\n",
       "         'provide technical documentation': 14,\n",
       "         'software frameworks': 14,\n",
       "         'develop ICT test suite': 11,\n",
       "         'deploy cloud resource': 11,\n",
       "         'JavaScript': 11,\n",
       "         'manage relationships with stakeholders': 10,\n",
       "         'translate texts': 10,\n",
       "         'quality assurance procedures': 10,\n",
       "         'manage sales channels': 10,\n",
       "         'develop test procedures': 10,\n",
       "         'ASP.NET': 10,\n",
       "         'use databases': 10,\n",
       "         'lead a team': 9,\n",
       "         'create prototype of user experience solutions': 9,\n",
       "         'conduct ICT code review': 9,\n",
       "         'control financial resources': 9,\n",
       "         'microscopic techniques': 9,\n",
       "         'operate microscope': 9,\n",
       "         'C#': 9,\n",
       "         'manage schedule of tasks': 8,\n",
       "         'quality assurance methodologies': 8,\n",
       "         'tools for ICT test automation': 8,\n",
       "         'TypeScript': 8,\n",
       "         'execute software tests': 8,\n",
       "         'keep up with digital transformation of industrial processes': 7,\n",
       "         'apply strategic thinking': 7,\n",
       "         'data mining': 7,\n",
       "         'solution deployment': 7,\n",
       "         'Python (computer programming)': 7,\n",
       "         'analyse test data': 7,\n",
       "         'think proactively': 6,\n",
       "         'use communication techniques': 6,\n",
       "         'analyse business objectives': 6,\n",
       "         'Agile development': 6,\n",
       "         'design optical systems': 6,\n",
       "         'provide documentation': 6,\n",
       "         'audio technology': 6,\n",
       "         'Java (computer programming)': 6,\n",
       "         'develop strategy to solve problems': 5,\n",
       "         'encourage teams for continuous improvement': 5,\n",
       "         'analyse cell cultures': 5,\n",
       "         'establish collaborative relations': 5,\n",
       "         'work in an organised manner': 5,\n",
       "         'identify new business opportunities': 5,\n",
       "         'Agile project management': 5,\n",
       "         'develop training programmes': 5,\n",
       "         'machine learning': 5,\n",
       "         'manage data collection systems': 5,\n",
       "         'Angular': 5,\n",
       "         'monitor technology trends': 5,\n",
       "         'assess sound quality': 5,\n",
       "         'Visual Studio .NET': 5,\n",
       "         'design cloud architecture': 5,\n",
       "         'emergent technologies': 5,\n",
       "         'database management systems': 5,\n",
       "         'provide technical expertise': 5,\n",
       "         'video-games functionalities': 5,\n",
       "         'receive goods': 4,\n",
       "         'manage personal professional development': 4,\n",
       "         'market analysis': 4,\n",
       "         'write research proposals': 4,\n",
       "         'motivate employees': 4,\n",
       "         'manage a team': 4,\n",
       "         'DevOps': 4,\n",
       "         'use software design patterns': 4,\n",
       "         'create data models': 4,\n",
       "         'troubleshoot': 4,\n",
       "         'provide tourism related information': 4,\n",
       "         'maintain relationship with customers': 4,\n",
       "         'carry out inventory planning': 4,\n",
       "         'perform software unit testing': 4,\n",
       "         'software design methodologies': 4,\n",
       "         'Objective-C': 4,\n",
       "         'cloud technologies': 4,\n",
       "         'develop with cloud services': 4,\n",
       "         'use functional programming': 4,\n",
       "         'computer science': 4,\n",
       "         'Iterative development': 4,\n",
       "         'PostgreSQL': 4,\n",
       "         'SQL Server': 4,\n",
       "         'Unity (digital game creation systems)': 4,\n",
       "         'accept own accountability': 3,\n",
       "         'personal development': 3,\n",
       "         'perform market research': 3,\n",
       "         'collaborate in the development of marketing strategies': 3,\n",
       "         'define technology strategy': 3,\n",
       "         'pallets loading': 3,\n",
       "         'perform loading and unloading operations': 3,\n",
       "         'encourage teambuilding': 3,\n",
       "         'build business relationships': 3,\n",
       "         'molecular biology': 3,\n",
       "         'ensure information transparency': 3,\n",
       "         'communicate with customers': 3,\n",
       "         'ensure equipment maintenance': 3,\n",
       "         'automation technology': 3,\n",
       "         'MATLAB': 3,\n",
       "         'analyse images': 3,\n",
       "         'design hardware': 3,\n",
       "         'present reports': 3,\n",
       "         'lead technology development of an organisation': 3,\n",
       "         'engage with stakeholders': 3,\n",
       "         'inform visitors at tour sites': 3,\n",
       "         'manage the customer experience': 3,\n",
       "         'digital marketing techniques': 3,\n",
       "         'data extraction, transformation and loading tools': 3,\n",
       "         'animal nutrition': 3,\n",
       "         'web analytics': 3,\n",
       "         'implement front-end website design': 3,\n",
       "         'apply technical communication skills': 3,\n",
       "         'Jenkins (tools for software configuration management)': 3,\n",
       "         'engineering principles': 3,\n",
       "         'computer programming': 3,\n",
       "         'liaise with engineers': 3,\n",
       "         'oversee development of software': 3,\n",
       "         'R': 3,\n",
       "         'lead process optimisation': 3,\n",
       "         'keep written records of cargo': 2,\n",
       "         'pick orders for dispatching': 2,\n",
       "         'show professional responsibility': 2,\n",
       "         'analyse supply chain trends': 2,\n",
       "         'apply business acumen': 2,\n",
       "         'discuss research proposals': 2,\n",
       "         'communication': 2,\n",
       "         'think analytically': 2,\n",
       "         'unload cargo': 2,\n",
       "         'alter management': 2,\n",
       "         'liaise with managers': 2,\n",
       "         'develop data processing applications': 2,\n",
       "         'communication principles': 2,\n",
       "         'implement ICT coding conventions': 2,\n",
       "         'define software architecture': 2,\n",
       "         'software architecture models': 2,\n",
       "         'control systems': 2,\n",
       "         'perform machine maintenance': 2,\n",
       "         'apply teaching strategies': 2,\n",
       "         'manage technical resources stock': 2,\n",
       "         'supply chain management': 2,\n",
       "         'audio mastering': 2,\n",
       "         'manage ICT data architecture': 2,\n",
       "         'evaluate nutritional value of feeds': 2,\n",
       "         'Ansible': 2,\n",
       "         'tools for software configuration management': 2,\n",
       "         'apply information security policies': 2,\n",
       "         'cyber security': 2,\n",
       "         'implement strategic planning': 2,\n",
       "         'research new ideas': 2,\n",
       "         'integrate system components': 2,\n",
       "         'draft design specifications': 2,\n",
       "         'operate open source software': 2,\n",
       "         'collaborate with engineers': 2,\n",
       "         'process incident reports for prevention': 2,\n",
       "         'propose ICT solutions to business problems': 2,\n",
       "         'systems development life-cycle': 2,\n",
       "         'Oracle Relational Database': 2,\n",
       "         'NoSQL': 2,\n",
       "         'architectural theory': 2,\n",
       "         'solve technical problems': 2,\n",
       "         'e-commerce systems': 2,\n",
       "         'design process': 2,\n",
       "         'mechanical components of vehicles': 2,\n",
       "         'distributed computing': 2,\n",
       "         'reinforce positive behaviour': 1,\n",
       "         'engage passers-by in conversation': 1,\n",
       "         'drive vehicles': 1,\n",
       "         'act reliably': 1,\n",
       "         'adapt to different weather conditions': 1,\n",
       "         'work in outdoor conditions': 1,\n",
       "         'carry out strategic research': 1,\n",
       "         'gather data': 1,\n",
       "         'apply numeracy skills': 1,\n",
       "         'develop efficiency plans for logistics operations': 1,\n",
       "         'geographical routes': 1,\n",
       "         'human resource management': 1,\n",
       "         'personnel management': 1,\n",
       "         'manage personnel': 1,\n",
       "         'apply GMP': 1,\n",
       "         'immunohaematology': 1,\n",
       "         'prepare samples for testing': 1,\n",
       "         'prioritise requests': 1,\n",
       "         'handle stressful situations': 1,\n",
       "         'adapt to changing situations': 1,\n",
       "         'adjust priorities': 1,\n",
       "         'manage sales teams': 1,\n",
       "         'international trade': 1,\n",
       "         'communicate by telephone': 1,\n",
       "         'customer segmentation': 1,\n",
       "         'identify process improvements': 1,\n",
       "         'telemarketing': 1,\n",
       "         'use online tools to collaborate': 1,\n",
       "         'monitor centrifugal separators': 1,\n",
       "         'use packaging equipment': 1,\n",
       "         'maintenance operations': 1,\n",
       "         'manage vessel engines and systems': 1,\n",
       "         'adjust manufacturing equipment': 1,\n",
       "         'principles of mechanical engineering': 1,\n",
       "         'use microsoft office': 1,\n",
       "         'analyse big data': 1,\n",
       "         'operate forklift': 1,\n",
       "         'computer engineering': 1,\n",
       "         'write scientific publications': 1,\n",
       "         'manage work': 1,\n",
       "         'scientific modelling': 1,\n",
       "         'visual presentation techniques': 1,\n",
       "         'apply research ethics and scientific integrity principles in research activities': 1,\n",
       "         'maintain work standards': 1,\n",
       "         'organise training': 1,\n",
       "         'execute administration': 1,\n",
       "         'manage administrative systems': 1,\n",
       "         'publish academic research': 1,\n",
       "         'perform business research': 1,\n",
       "         'pedagogy': 1,\n",
       "         'advise on curriculum development': 1,\n",
       "         'maintain store cleanliness': 1,\n",
       "         'speak about your work in public': 1,\n",
       "         'tourism market': 1,\n",
       "         'apply social media marketing': 1,\n",
       "         'analyse supply chain strategies': 1,\n",
       "         'plan resource allocation': 1,\n",
       "         'build international relations': 1,\n",
       "         'regulate chemical reaction': 1,\n",
       "         'acoustical engineering': 1,\n",
       "         'acoustics': 1,\n",
       "         'use an application-specific interface': 1,\n",
       "         'canvassing methods': 1,\n",
       "         'design enterprise architecture': 1,\n",
       "         'SAP R3': 1,\n",
       "         'breed pigs': 1,\n",
       "         'livestock feeding': 1,\n",
       "         'dairy products': 1,\n",
       "         'consult with technical staff': 1,\n",
       "         'ICT system integration': 1,\n",
       "         'manage standard enterprise resource planning system': 1,\n",
       "         'assertiveness': 1,\n",
       "         'define technical requirements': 1,\n",
       "         'attend meetings': 1,\n",
       "         'logging': 1,\n",
       "         'quality standards': 1,\n",
       "         'draw up risk assessment': 1,\n",
       "         'web programming': 1,\n",
       "         'offer financial services': 1,\n",
       "         'manage budgets': 1,\n",
       "         'design engineering components': 1,\n",
       "         'cooperate with colleagues': 1,\n",
       "         'liaise with colleagues': 1,\n",
       "         'analyse financial performance of a company': 1,\n",
       "         'financial forecasting': 1,\n",
       "         'authoring software': 1,\n",
       "         'architectural design': 1,\n",
       "         'use spreadsheets software': 1,\n",
       "         'assist customers': 1,\n",
       "         'object-oriented modelling': 1,\n",
       "         'perform ICT troubleshooting': 1,\n",
       "         'practice humour': 1,\n",
       "         'execute integration testing': 1,\n",
       "         'give constructive feedback': 1,\n",
       "         'levels of software testing': 1,\n",
       "         'coach employees': 1,\n",
       "         'ICT accessibility standards': 1,\n",
       "         'World Wide Web Consortium standards': 1,\n",
       "         'aesthetics': 1,\n",
       "         'design principles': 1,\n",
       "         'debug software': 1,\n",
       "         'LESS': 1,\n",
       "         'SQL': 1,\n",
       "         'product data management': 1,\n",
       "         'deliver outstanding service': 1,\n",
       "         'provide high quality customer service': 1,\n",
       "         'analyse issues': 1,\n",
       "         'circulate information': 1,\n",
       "         'create incident reports': 1,\n",
       "         'implement quality management systems': 1,\n",
       "         'develop revenue generation strategies': 1,\n",
       "         'data storage': 1,\n",
       "         'engineering processes': 1,\n",
       "         'design application interfaces': 1,\n",
       "         'marketing principles': 1})"
      ]
     },
     "execution_count": 28,
     "metadata": {},
     "output_type": "execute_result"
    }
   ],
   "source": [
    "from collections import Counter\n",
    "Counter(sum(list(sppreds[\"predictions\"].values), []))"
   ]
  },
  {
   "cell_type": "code",
   "execution_count": 11,
   "metadata": {},
   "outputs": [],
   "source": [
    "decpreds = pd.read_csv(\"classifiier_outputs/decorte_skillspan.out\", sep=\"\\t\")\n",
    "decpreds[\"predictions\"] = decpreds[\"predictions\"].apply(eval)\n",
    "decpreds[\"gold\"] = decpreds[\"gold\"].apply(eval)\n",
    "decpreds[\"sentence\"] = testsp[\"sentence\"]"
   ]
  },
  {
   "cell_type": "code",
   "execution_count": 30,
   "metadata": {},
   "outputs": [
    {
     "data": {
      "text/plain": [
       "Counter({'Java (computer programming)': 14,\n",
       "         'cloud technologies': 9,\n",
       "         'Agile development': 8,\n",
       "         'develop with cloud services': 8,\n",
       "         'tools for ICT test automation': 7,\n",
       "         'cooperate with colleagues': 6,\n",
       "         'Agile project management': 6,\n",
       "         'perform software unit testing': 6,\n",
       "         'conduct ICT code review': 6,\n",
       "         'apply teaching strategies': 6,\n",
       "         'quality assurance procedures': 6,\n",
       "         'supply chain management': 5,\n",
       "         'publish academic research': 5,\n",
       "         'sales activities': 5,\n",
       "         'DevOps': 5,\n",
       "         'automation technology': 5,\n",
       "         'operate microscope': 5,\n",
       "         'financial engineering': 5,\n",
       "         'C#': 5,\n",
       "         'quality assurance methodologies': 5,\n",
       "         'offer financial services': 5,\n",
       "         'Visual Studio .NET': 5,\n",
       "         'apply strategic thinking': 4,\n",
       "         'discuss research proposals': 4,\n",
       "         'analyse cell cultures': 4,\n",
       "         'inform visitors at tour sites': 4,\n",
       "         'define technology strategy': 4,\n",
       "         'manage standard enterprise resource planning system': 4,\n",
       "         'Python (computer programming)': 4,\n",
       "         'architectural design': 4,\n",
       "         'create solutions to problems': 4,\n",
       "         'execute software tests': 4,\n",
       "         'design information system': 4,\n",
       "         'Unity (digital game creation systems)': 4,\n",
       "         'adapt developed game to the market': 4,\n",
       "         'oversee development of software': 4,\n",
       "         'practice humour': 3,\n",
       "         'keep up with digital transformation of industrial processes': 3,\n",
       "         'implement strategic planning': 3,\n",
       "         'adapt production levels': 3,\n",
       "         'manage a team': 3,\n",
       "         'molecular biology': 3,\n",
       "         'handle tasks independently': 3,\n",
       "         'use an application-specific interface': 3,\n",
       "         'create prototype of user experience solutions': 3,\n",
       "         'work in an international environment': 3,\n",
       "         'design user interface': 3,\n",
       "         'Open source model': 3,\n",
       "         'design cloud architecture': 3,\n",
       "         'pedagogy': 3,\n",
       "         'service-oriented modelling': 3,\n",
       "         'supply chain principles': 3,\n",
       "         'total quality control': 3,\n",
       "         'JavaScript': 3,\n",
       "         'Android (mobile operating systems)': 3,\n",
       "         'use IT tools': 2,\n",
       "         'analyse supply chain trends': 2,\n",
       "         'business knowledge': 2,\n",
       "         'market analysis': 2,\n",
       "         'use microsoft office': 2,\n",
       "         'use specific data analysis software': 2,\n",
       "         'pallets loading': 2,\n",
       "         'coach employees': 2,\n",
       "         'apply GMP': 2,\n",
       "         'build business relationships': 2,\n",
       "         'financial forecasting': 2,\n",
       "         'prioritise requests': 2,\n",
       "         'support ICT system users': 2,\n",
       "         'security threats': 2,\n",
       "         'build international relations': 2,\n",
       "         'canvassing methods': 2,\n",
       "         'Ansible': 2,\n",
       "         'operate open source software': 2,\n",
       "         'monitor centrifugal separators': 2,\n",
       "         'oversee construction project': 2,\n",
       "         'perform machine maintenance': 2,\n",
       "         'principles of mechanical engineering': 2,\n",
       "         'web analytics': 2,\n",
       "         'analyse big data': 2,\n",
       "         'microscopic techniques': 2,\n",
       "         'write scientific publications': 2,\n",
       "         'apply for research funding': 2,\n",
       "         'perform business research': 2,\n",
       "         'evaluate research activities': 2,\n",
       "         'SAP R3': 2,\n",
       "         'audio technology': 2,\n",
       "         'acoustics': 2,\n",
       "         'assess sound quality': 2,\n",
       "         'engage with stakeholders': 2,\n",
       "         'dairy products': 2,\n",
       "         'PostgreSQL': 2,\n",
       "         'provide documentation': 2,\n",
       "         'cyber security': 2,\n",
       "         'innovation processes': 2,\n",
       "         'computer programming': 2,\n",
       "         'engineering principles': 2,\n",
       "         'design process': 2,\n",
       "         'use functional programming': 2,\n",
       "         'monitor technology trends': 2,\n",
       "         'collaborate with engineers': 2,\n",
       "         'computer science': 2,\n",
       "         'web programming': 2,\n",
       "         'aesthetics': 2,\n",
       "         'database management systems': 2,\n",
       "         'use databases': 2,\n",
       "         'ICT system programming': 2,\n",
       "         'database': 2,\n",
       "         'ensure price competitiveness': 2,\n",
       "         'design engineering components': 2,\n",
       "         'software frameworks': 2,\n",
       "         'design application interfaces': 2,\n",
       "         'define technical requirements': 2,\n",
       "         'business analysis': 2,\n",
       "         'mechanical components of vehicles': 2,\n",
       "         'communication': 2,\n",
       "         'principles of artificial intelligence': 2,\n",
       "         'distributed computing': 2,\n",
       "         'information architecture': 2,\n",
       "         'apply person-centred care': 1,\n",
       "         'develop patient treatment strategies': 1,\n",
       "         'formulate a treatment plan': 1,\n",
       "         'analyse goal progress': 1,\n",
       "         'drive two-wheeled vehicles': 1,\n",
       "         'receive goods': 1,\n",
       "         'adapt to different weather conditions': 1,\n",
       "         'work in outdoor conditions': 1,\n",
       "         'promote the transfer of knowledge': 1,\n",
       "         'Internet of Things': 1,\n",
       "         'gather data': 1,\n",
       "         'marketing principles': 1,\n",
       "         'carry out strategic research': 1,\n",
       "         'use geographic information systems': 1,\n",
       "         'pick orders for dispatching': 1,\n",
       "         'motivate employees': 1,\n",
       "         'pharmaceutical processes': 1,\n",
       "         'pharmaceutical technology': 1,\n",
       "         'deal with challenging work conditions': 1,\n",
       "         'liaise with colleagues': 1,\n",
       "         'support managers': 1,\n",
       "         'perform ICT troubleshooting': 1,\n",
       "         'exercise patience': 1,\n",
       "         'manage research and development projects': 1,\n",
       "         'perform product planning': 1,\n",
       "         'perform project management': 1,\n",
       "         'project management': 1,\n",
       "         'alter management': 1,\n",
       "         'manage sales teams': 1,\n",
       "         'maintain relationship with customers': 1,\n",
       "         'telemarketing': 1,\n",
       "         'develop revenue generation strategies': 1,\n",
       "         'develop professional network': 1,\n",
       "         'recruit employees': 1,\n",
       "         'shipping industry': 1,\n",
       "         'ensure equipment maintenance': 1,\n",
       "         'train crew members': 1,\n",
       "         'marine engineering': 1,\n",
       "         'control systems': 1,\n",
       "         'manage data collection systems': 1,\n",
       "         'perform loading and unloading operations': 1,\n",
       "         'operate forklift': 1,\n",
       "         'design hardware': 1,\n",
       "         'optics': 1,\n",
       "         'perform scientific research': 1,\n",
       "         'analyse images': 1,\n",
       "         'MATLAB': 1,\n",
       "         'apply research ethics and scientific integrity principles in research activities': 1,\n",
       "         'research new ideas': 1,\n",
       "         'provide information': 1,\n",
       "         'provide tourism related information': 1,\n",
       "         'encourage teambuilding': 1,\n",
       "         'lead a team': 1,\n",
       "         'maintain store cleanliness': 1,\n",
       "         'vacuum surfaces': 1,\n",
       "         'leadership principles': 1,\n",
       "         'manage the customer experience': 1,\n",
       "         'tourism market': 1,\n",
       "         'apply social media marketing': 1,\n",
       "         'first aid': 1,\n",
       "         'establish collaborative relations': 1,\n",
       "         'attend meetings': 1,\n",
       "         'physics': 1,\n",
       "         'communicate with stakeholders': 1,\n",
       "         'perform market research': 1,\n",
       "         'sales department processes': 1,\n",
       "         'lead technology development of an organisation': 1,\n",
       "         'evaluate nutritional value of feeds': 1,\n",
       "         'develop a pedagogical concept': 1,\n",
       "         'food science': 1,\n",
       "         'machine learning': 1,\n",
       "         'recommend product improvements': 1,\n",
       "         'create data models': 1,\n",
       "         'seek innovation in current practices': 1,\n",
       "         'assertiveness': 1,\n",
       "         'execute integration testing': 1,\n",
       "         'create new concepts': 1,\n",
       "         'monitor ticketing': 1,\n",
       "         'Solidity': 1,\n",
       "         'application usability': 1,\n",
       "         'manage budgets': 1,\n",
       "         'collaborate in the development of marketing strategies': 1,\n",
       "         'Pentaho Data Integration': 1,\n",
       "         'apply technical communication skills': 1,\n",
       "         'analyse business requirements': 1,\n",
       "         'data extraction, transformation and loading tools': 1,\n",
       "         'NoSQL': 1,\n",
       "         'analyse financial performance of a company': 1,\n",
       "         'operate 3D computer graphics software': 1,\n",
       "         'perform failure analysis of production process': 1,\n",
       "         'algorithms': 1,\n",
       "         'troubleshoot': 1,\n",
       "         'monitor system performance': 1,\n",
       "         'e-commerce systems': 1,\n",
       "         'communicate with customers': 1,\n",
       "         'manage personal professional development': 1,\n",
       "         'levels of software testing': 1,\n",
       "         'advise client on technical possibilities': 1,\n",
       "         'Angular': 1,\n",
       "         'ICT accessibility standards': 1,\n",
       "         'debug software': 1,\n",
       "         'communicate test results to other departments': 1,\n",
       "         'SQL Server': 1,\n",
       "         'ASP.NET': 1,\n",
       "         'LESS': 1,\n",
       "         'design enterprise architecture': 1,\n",
       "         'solution deployment': 1,\n",
       "         'computer vision': 1,\n",
       "         'application process': 1,\n",
       "         'Oracle Relational Database': 1,\n",
       "         'data storage': 1,\n",
       "         'define software architecture': 1,\n",
       "         'follow reporting procedures': 1,\n",
       "         'analyse issues': 1,\n",
       "         'administer exams': 1,\n",
       "         'develop automated software tests': 1,\n",
       "         'use communication techniques': 1,\n",
       "         'SQL': 1,\n",
       "         'Jenkins (tools for software configuration management)': 1,\n",
       "         'perform business analysis': 1,\n",
       "         'translate texts': 1,\n",
       "         'design prototypes': 1,\n",
       "         'software architecture models': 1,\n",
       "         'identify talent': 1,\n",
       "         'produce customised tools': 1,\n",
       "         'computer engineering': 1,\n",
       "         'adjust priorities': 1,\n",
       "         'develop new products': 1,\n",
       "         'develop product design': 1,\n",
       "         'solve technical problems': 1,\n",
       "         'coaching techniques': 1,\n",
       "         'perform debt investigation': 1,\n",
       "         'communicate with target community': 1})"
      ]
     },
     "execution_count": 30,
     "metadata": {},
     "output_type": "execute_result"
    }
   ],
   "source": [
    "from collections import Counter\n",
    "Counter(sum(list(decpreds[\"predictions\"].values), []))"
   ]
  },
  {
   "cell_type": "code",
   "execution_count": 7,
   "metadata": {},
   "outputs": [
    {
     "name": "stdout",
     "output_type": "stream",
     "text": [
      "f1 :  0.21208053691275167\n"
     ]
    }
   ],
   "source": [
    "### For new preds\n",
    "\n",
    "TP = decpreds.explode(\"predictions\")[[\"predictions\", \"gold\"]].apply(\n",
    "    lambda x : x[\"predictions\"] in x[\"gold\"]\n",
    ", axis=1).sum() ## TP\n",
    "\n",
    "FP = decpreds.explode(\"predictions\")[[\"predictions\", \"gold\"]].apply(\n",
    "    lambda x : x[\"predictions\"] not in x[\"gold\"]\n",
    ", axis=1).sum()\n",
    "\n",
    "FN = decpreds.explode(\"gold\")[[\"predictions\", \"gold\"]].apply(\n",
    "    lambda x : x[\"gold\"] not in x[\"predictions\"]\n",
    ", axis=1).sum()\n",
    "\n",
    "\n",
    "P = TP / (TP + FP)\n",
    "R = TP / (TP + FN)\n",
    "\n",
    "print(\"f1 : \", 2*R*P / (P + R))"
   ]
  },
  {
   "cell_type": "code",
   "execution_count": 19,
   "metadata": {},
   "outputs": [
    {
     "name": "stdout",
     "output_type": "stream",
     "text": [
      "f1 :  0.20458819104926668\n"
     ]
    }
   ],
   "source": [
    "### For new preds\n",
    "\n",
    "TP = sppreds.explode(\"predictions\")[[\"predictions\", \"gold\"]].apply(\n",
    "    lambda x : x[\"predictions\"] in x[\"gold\"]\n",
    ", axis=1).sum() ## TP\n",
    "\n",
    "FP = sppreds.explode(\"predictions\")[[\"predictions\", \"gold\"]].apply(\n",
    "    lambda x : x[\"predictions\"] not in x[\"gold\"]\n",
    ", axis=1).sum()\n",
    "\n",
    "FN = sppreds.explode(\"gold\")[[\"predictions\", \"gold\"]].apply(\n",
    "    lambda x : x[\"gold\"] not in x[\"predictions\"]\n",
    ", axis=1).sum()\n",
    "\n",
    "\n",
    "P = TP / (TP + FP) if (TP + FP != 0) else 0\n",
    "R = TP / (TP + FN) if (TP + FN != 0) else 0\n",
    "\n",
    "print(\"f1 : \", 2*R*P / (P + R) if (P + R) != 0 else 0)"
   ]
  },
  {
   "cell_type": "markdown",
   "metadata": {},
   "source": [
    "## Studying the discriminant of the prediiction"
   ]
  },
  {
   "cell_type": "code",
   "execution_count": 9,
   "metadata": {},
   "outputs": [
    {
     "data": {
      "text/html": [
       "<div>\n",
       "<style scoped>\n",
       "    .dataframe tbody tr th:only-of-type {\n",
       "        vertical-align: middle;\n",
       "    }\n",
       "\n",
       "    .dataframe tbody tr th {\n",
       "        vertical-align: top;\n",
       "    }\n",
       "\n",
       "    .dataframe thead th {\n",
       "        text-align: right;\n",
       "    }\n",
       "</style>\n",
       "<table border=\"1\" class=\"dataframe\">\n",
       "  <thead>\n",
       "    <tr style=\"text-align: right;\">\n",
       "      <th></th>\n",
       "      <th>predictions</th>\n",
       "      <th>gold</th>\n",
       "      <th>sentence</th>\n",
       "    </tr>\n",
       "  </thead>\n",
       "  <tbody>\n",
       "    <tr>\n",
       "      <th>0</th>\n",
       "      <td>[]</td>\n",
       "      <td>[UNK, apply person-centred care]</td>\n",
       "      <td>Work in a way that is patient-centred and incl...</td>\n",
       "    </tr>\n",
       "    <tr>\n",
       "      <th>1</th>\n",
       "      <td>[]</td>\n",
       "      <td>[develop patient treatment strategies, formula...</td>\n",
       "      <td>Provide your patients with a safe and effectiv...</td>\n",
       "    </tr>\n",
       "    <tr>\n",
       "      <th>2</th>\n",
       "      <td>[keep up with digital transformation of indust...</td>\n",
       "      <td>[UNK]</td>\n",
       "      <td>See IT systems as an aid in your work and do w...</td>\n",
       "    </tr>\n",
       "    <tr>\n",
       "      <th>3</th>\n",
       "      <td>[reinforce positive behaviour]</td>\n",
       "      <td>[UNK, practice humour]</td>\n",
       "      <td>Be good humoured loyal dedicated and flexible .</td>\n",
       "    </tr>\n",
       "    <tr>\n",
       "      <th>4</th>\n",
       "      <td>[communicate with stakeholders, engage passers...</td>\n",
       "      <td>[engage passers-by in conversation, promote th...</td>\n",
       "      <td>As a promotor you therefore need to engage peo...</td>\n",
       "    </tr>\n",
       "    <tr>\n",
       "      <th>...</th>\n",
       "      <td>...</td>\n",
       "      <td>...</td>\n",
       "      <td>...</td>\n",
       "    </tr>\n",
       "    <tr>\n",
       "      <th>746</th>\n",
       "      <td>[]</td>\n",
       "      <td>[UNK]</td>\n",
       "      <td>High aspiration for quality balanced with a go...</td>\n",
       "    </tr>\n",
       "    <tr>\n",
       "      <th>747</th>\n",
       "      <td>[quality assurance methodologies, quality assu...</td>\n",
       "      <td>[quality assurance methodologies]</td>\n",
       "      <td>You understand quality assurance as a task of ...</td>\n",
       "    </tr>\n",
       "    <tr>\n",
       "      <th>748</th>\n",
       "      <td>[emergent technologies, keep up with digital t...</td>\n",
       "      <td>[emergent technologies]</td>\n",
       "      <td>Independently and quick adoption of new techno...</td>\n",
       "    </tr>\n",
       "    <tr>\n",
       "      <th>749</th>\n",
       "      <td>[communicate with stakeholders]</td>\n",
       "      <td>[UNK, communicate with target community]</td>\n",
       "      <td>Willingness to speak at conferences and engage...</td>\n",
       "    </tr>\n",
       "    <tr>\n",
       "      <th>750</th>\n",
       "      <td>[use communication techniques]</td>\n",
       "      <td>[UNK, communication]</td>\n",
       "      <td>Effective oral and written English communicati...</td>\n",
       "    </tr>\n",
       "  </tbody>\n",
       "</table>\n",
       "<p>751 rows × 3 columns</p>\n",
       "</div>"
      ],
      "text/plain": [
       "                                           predictions  \\\n",
       "0                                                   []   \n",
       "1                                                   []   \n",
       "2    [keep up with digital transformation of indust...   \n",
       "3                       [reinforce positive behaviour]   \n",
       "4    [communicate with stakeholders, engage passers...   \n",
       "..                                                 ...   \n",
       "746                                                 []   \n",
       "747  [quality assurance methodologies, quality assu...   \n",
       "748  [emergent technologies, keep up with digital t...   \n",
       "749                    [communicate with stakeholders]   \n",
       "750                     [use communication techniques]   \n",
       "\n",
       "                                                  gold  \\\n",
       "0                     [UNK, apply person-centred care]   \n",
       "1    [develop patient treatment strategies, formula...   \n",
       "2                                                [UNK]   \n",
       "3                               [UNK, practice humour]   \n",
       "4    [engage passers-by in conversation, promote th...   \n",
       "..                                                 ...   \n",
       "746                                              [UNK]   \n",
       "747                  [quality assurance methodologies]   \n",
       "748                            [emergent technologies]   \n",
       "749           [UNK, communicate with target community]   \n",
       "750                               [UNK, communication]   \n",
       "\n",
       "                                              sentence  \n",
       "0    Work in a way that is patient-centred and incl...  \n",
       "1    Provide your patients with a safe and effectiv...  \n",
       "2    See IT systems as an aid in your work and do w...  \n",
       "3      Be good humoured loyal dedicated and flexible .  \n",
       "4    As a promotor you therefore need to engage peo...  \n",
       "..                                                 ...  \n",
       "746  High aspiration for quality balanced with a go...  \n",
       "747  You understand quality assurance as a task of ...  \n",
       "748  Independently and quick adoption of new techno...  \n",
       "749  Willingness to speak at conferences and engage...  \n",
       "750  Effective oral and written English communicati...  \n",
       "\n",
       "[751 rows x 3 columns]"
      ]
     },
     "execution_count": 9,
     "metadata": {},
     "output_type": "execute_result"
    }
   ],
   "source": [
    "sppreds"
   ]
  },
  {
   "cell_type": "code",
   "execution_count": 10,
   "metadata": {},
   "outputs": [],
   "source": [
    "from warnings import filterwarnings\n",
    "filterwarnings('ignore')"
   ]
  },
  {
   "cell_type": "markdown",
   "metadata": {},
   "source": [
    "Research question :\n",
    "\n",
    "- Which model is better at getting negative samples (=> SkillThrills)\n",
    "- Which model performs better when ignoring negative samples\n",
    "- "
   ]
  },
  {
   "cell_type": "code",
   "execution_count": 12,
   "metadata": {},
   "outputs": [
    {
     "name": "stdout",
     "output_type": "stream",
     "text": [
      "R :  0.13852813852813853\n",
      "P :  0.10631229235880399\n",
      "f1 :  0.12030075187969926\n",
      "R :  0.0\n",
      "P :  0.0\n",
      "f1 :  0\n"
     ]
    },
    {
     "data": {
      "text/plain": [
       "(0.0, 0.0, 0)"
      ]
     },
     "execution_count": 12,
     "metadata": {},
     "output_type": "execute_result"
    }
   ],
   "source": [
    "def state_on_conditional_df(subdf):\n",
    "    TP = subdf.explode(\"predictions\")[[\"predictions\", \"gold\"]].apply(\n",
    "    lambda x : x[\"predictions\"] in x[\"gold\"]\n",
    "    , axis=1).sum() ## TP\n",
    "\n",
    "    FP = subdf.explode(\"predictions\")[[\"predictions\", \"gold\"]].apply(\n",
    "        lambda x : x[\"predictions\"] not in x[\"gold\"]\n",
    "    , axis=1).sum()\n",
    "\n",
    "    FN = subdf.explode(\"gold\")[[\"predictions\", \"gold\"]].apply(\n",
    "        lambda x : x[\"gold\"] not in x[\"predictions\"]\n",
    "    , axis=1).sum()\n",
    "\n",
    "    P = TP / (TP + FP) if (TP + FP != 0) else 0\n",
    "    R = TP / (TP + FN) if (TP + FN != 0) else 0\n",
    "    f1 = 2*R*P / (P + R) if (P + R) != 0 else 0\n",
    "    print(\"R : \", R)\n",
    "    print(\"P : \", P)\n",
    "    print(\"f1 : \", 2*R*P / (P + R) if (P + R) != 0 else 0)\n",
    "    return P, R, f1\n",
    "\n",
    "\n",
    "## negative samples :\n",
    "state_on_conditional_df(\n",
    "    sppreds[\n",
    "        ~(sppreds.gold.apply(lambda x : len(x)).astype(bool))\n",
    "        | (sppreds.gold.apply(lambda x : x == [\"UNK\"]).astype(bool))\n",
    "    ]\n",
    ")\n",
    "\n",
    "state_on_conditional_df(\n",
    "    decpreds[\n",
    "        ~(decpreds.gold.apply(lambda x : len(x)).astype(bool))\n",
    "        | (decpreds.gold.apply(lambda x : x == [\"UNK\"]).astype(bool))\n",
    "    ]\n",
    ")"
   ]
  },
  {
   "cell_type": "code",
   "execution_count": 72,
   "metadata": {},
   "outputs": [
    {
     "name": "stdout",
     "output_type": "stream",
     "text": [
      "R :  0.29829545454545453\n",
      "P :  0.29329608938547486\n",
      "f1 :  0.29577464788732394\n",
      "R :  0.33238636363636365\n",
      "P :  0.5\n",
      "f1 :  0.3993174061433447\n"
     ]
    },
    {
     "data": {
      "text/plain": [
       "(0.5, 0.33238636363636365, 0.3993174061433447)"
      ]
     },
     "execution_count": 72,
     "metadata": {},
     "output_type": "execute_result"
    }
   ],
   "source": [
    "## Only positive samples\n",
    "\n",
    "state_on_conditional_df(\n",
    "    sppreds[\n",
    "        (sppreds.gold.apply(lambda x : len(x)).astype(bool))\n",
    "        & (sppreds.gold.apply(lambda x : \"UNK\" not in x).astype(bool))\n",
    "    ]\n",
    ")\n",
    "\n",
    "state_on_conditional_df(\n",
    "    decpreds[\n",
    "        (decpreds.gold.apply(lambda x : len(x)).astype(bool))\n",
    "        & (decpreds.gold.apply(lambda x : \"UNK\" not in x).astype(bool))\n",
    "    ]\n",
    ")"
   ]
  },
  {
   "cell_type": "code",
   "execution_count": 6,
   "metadata": {},
   "outputs": [],
   "source": [
    "from nltk.tokenize import RegexpTokenizer\n",
    "tokenizer = RegexpTokenizer(r'\\w+')\n",
    "decpreds[\"st_len\"] = decpreds[\"sentence\"].apply(lambda x : len(tokenizer.tokenize(x)))\n",
    "sppreds[\"st_len\"] = sppreds[\"sentence\"].apply(lambda x : len(tokenizer.tokenize(x)))\n",
    "sns.histplot(\n",
    "    data=decpreds,\n",
    "    x=\"st_len\"\n",
    ")\n",
    "\n",
    "\n",
    "decpreds.st_len.describe()"
   ]
  },
  {
   "cell_type": "code",
   "execution_count": 73,
   "metadata": {},
   "outputs": [
    {
     "name": "stdout",
     "output_type": "stream",
     "text": [
      "************************* GESYCA : *************************\n",
      "SHORT SENTENCE 1  (LOW QUARTILE more than 7.5  words)\n",
      "R :  0.21935483870967742\n",
      "P :  0.24727272727272728\n",
      "f1 :  0.23247863247863249\n",
      "SHORT SENTENCE 2 (MIDLOW QUARTILE between  (7.5, 12.0)  words)\n",
      "R :  0.24031007751937986\n",
      "P :  0.24313725490196078\n",
      "f1 :  0.24171539961013647\n",
      "LONGER SENTENCE (MIDTOP QUARTILE  between (12.0, 20.0)  words)\n",
      "R :  0.20059880239520958\n",
      "P :  0.22112211221122113\n",
      "f1 :  0.21036106750392464\n",
      "LONG SENTENCE (TOP QUARTILE more than 20.0  words)\n",
      "R :  0.13402061855670103\n",
      "P :  0.18840579710144928\n",
      "f1 :  0.15662650602409636\n",
      "************************* DECORTE : *************************\n",
      "SHORT SENTENCE 1  (LOW QUARTILE more than 7.5  words)\n",
      "R :  0.24838709677419354\n",
      "P :  0.39086294416243655\n",
      "f1 :  0.3037475345167653\n",
      "SHORT SENTENCE 2 (MIDLOW QUARTILE between  (7.5, 12.0)  words)\n",
      "R :  0.17829457364341086\n",
      "P :  0.26285714285714284\n",
      "f1 :  0.21247113163972287\n",
      "LONGER SENTENCE (MIDTOP QUARTILE  between (12.0, 20.0)  words)\n",
      "R :  0.1407185628742515\n",
      "P :  0.23737373737373738\n",
      "f1 :  0.17669172932330826\n",
      "LONG SENTENCE (TOP QUARTILE more than 20.0  words)\n",
      "R :  0.11958762886597939\n",
      "P :  0.2885572139303483\n",
      "f1 :  0.16909620991253646\n"
     ]
    }
   ],
   "source": [
    "lowq = np.percentile(decpreds.st_len, 25)\n",
    "med = np.percentile(decpreds.st_len, 50)\n",
    "topq = np.percentile(decpreds.st_len, 75)\n",
    "\n",
    "\n",
    "def stat_for_sentence_length(df):\n",
    "\n",
    "    low = df[df.st_len < lowq]\n",
    "    midlow = df[(df.st_len >= lowq) & (df.st_len < med)]\n",
    "    midtop = df[(df.st_len >= med) & (df.st_len < topq)]\n",
    "    top = df[df.st_len > topq]\n",
    "\n",
    "    \n",
    "    print(\"SHORT SENTENCE 1  (LOW QUARTILE more than\", lowq, \" words)\")\n",
    "    f1low = state_on_conditional_df(low)[2]\n",
    "    \n",
    "    print(\"SHORT SENTENCE 2 (MIDLOW QUARTILE between \", (lowq, med), \" words)\")\n",
    "    f1midlow = state_on_conditional_df(midlow)[2]\n",
    "\n",
    "    print(\"LONGER SENTENCE (MIDTOP QUARTILE  between\", (med, topq), \" words)\")\n",
    "    f1midtop =state_on_conditional_df(midtop)[2]\n",
    "\n",
    "    print(\"LONG SENTENCE (TOP QUARTILE more than\", (topq), \" words)\")\n",
    "    f1top = state_on_conditional_df(top)[2]\n",
    "    return [f1low, f1midlow, f1midtop, f1top]\n",
    "\n",
    "print(\"*\"*25, \"GESYCA :\", \"*\"*25)\n",
    "f1s_sp = stat_for_sentence_length(sppreds)\n",
    "print(\"*\"*25, \"DECORTE :\", \"*\"*25)\n",
    "f1s_dec = stat_for_sentence_length(decpreds)"
   ]
  },
  {
   "cell_type": "code",
   "execution_count": 74,
   "metadata": {},
   "outputs": [
    {
     "data": {
      "text/plain": [
       "<Axes: xlabel='quantiles', ylabel='f1sp'>"
      ]
     },
     "execution_count": 74,
     "metadata": {},
     "output_type": "execute_result"
    },
    {
     "data": {
      "image/png": "[encoded data removed]",
      "text/plain": [
       "<Figure size 640x480 with 1 Axes>"
      ]
     },
     "metadata": {},
     "output_type": "display_data"
    }
   ],
   "source": [
    "sns.lineplot(\n",
    "        pd.DataFrame.from_dict({\n",
    "        'quantiles': [0, lowq, med, topq],\n",
    "        'f1sp': f1s_sp,\n",
    "    }), x=\"quantiles\", y=\"f1sp\" \n",
    ")\n",
    "\n",
    "sns.lineplot(\n",
    "        pd.DataFrame.from_dict({\n",
    "        'quantiles': [0, lowq, med, topq],\n",
    "        'f1dec': f1s_dec,\n",
    "    }), x=\"quantiles\", y=\"f1dec\" \n",
    ")"
   ]
  },
  {
   "cell_type": "code",
   "execution_count": 75,
   "metadata": {},
   "outputs": [
    {
     "name": "stdout",
     "output_type": "stream",
     "text": [
      "R :  0.3373493975903614\n",
      "P :  0.4444444444444444\n",
      "f1 :  0.3835616438356164\n",
      "R :  0.23943661971830985\n",
      "P :  0.40476190476190477\n",
      "f1 :  0.30088495575221236\n",
      "R :  0.17647058823529413\n",
      "P :  0.3\n",
      "f1 :  0.22222222222222224\n",
      "R :  0.1357142857142857\n",
      "P :  0.20212765957446807\n",
      "f1 :  0.16239316239316237\n",
      "R :  0.2288135593220339\n",
      "P :  0.3333333333333333\n",
      "f1 :  0.27135678391959794\n",
      "R :  0.16447368421052633\n",
      "P :  0.26595744680851063\n",
      "f1 :  0.2032520325203252\n",
      "R :  0.1259259259259259\n",
      "P :  0.2125\n",
      "f1 :  0.15813953488372093\n",
      "R :  0.18\n",
      "P :  0.3375\n",
      "f1 :  0.23478260869565212\n",
      "R :  0.1358695652173913\n",
      "P :  0.3048780487804878\n",
      "f1 :  0.18796992481203006\n",
      "R :  0.0778688524590164\n",
      "P :  0.21348314606741572\n",
      "f1 :  0.11411411411411412\n",
      "R :  0.1686746987951807\n",
      "P :  0.175\n",
      "f1 :  0.17177914110429446\n",
      "R :  0.2605633802816901\n",
      "P :  0.29838709677419356\n",
      "f1 :  0.2781954887218045\n",
      "R :  0.2\n",
      "P :  0.23943661971830985\n",
      "f1 :  0.21794871794871795\n",
      "R :  0.2357142857142857\n",
      "P :  0.2391304347826087\n",
      "f1 :  0.23741007194244607\n",
      "R :  0.2457627118644068\n",
      "P :  0.24786324786324787\n",
      "f1 :  0.24680851063829787\n",
      "R :  0.2236842105263158\n",
      "P :  0.2222222222222222\n",
      "f1 :  0.22295081967213112\n",
      "R :  0.14814814814814814\n",
      "P :  0.17543859649122806\n",
      "f1 :  0.1606425702811245\n",
      "R :  0.21333333333333335\n",
      "P :  0.24242424242424243\n",
      "f1 :  0.22695035460992907\n",
      "R :  0.15760869565217392\n",
      "P :  0.21323529411764705\n",
      "f1 :  0.18125\n",
      "R :  0.10655737704918032\n",
      "P :  0.16774193548387098\n",
      "f1 :  0.13032581453634084\n"
     ]
    }
   ],
   "source": [
    "def stat_for_sentence_length(df):\n",
    "\n",
    "    equalpop_splits = [df.st_len.min()] + [np.percentile(decpreds.st_len, i*10) for i in range(1, 10)] + [df.st_len.max()]\n",
    "    splits = []\n",
    "    stats = []\n",
    "    for i, split in enumerate(equalpop_splits[:-1]):\n",
    "        splits.append(\n",
    "            df[(df.st_len >= split) & (df.st_len < equalpop_splits[i + 1])]\n",
    "        )\n",
    "\n",
    "        stats.append([[split, equalpop_splits[i + 1]], state_on_conditional_df(splits[-1])[2]])\n",
    "    return stats\n",
    "    \n",
    "decstats = stat_for_sentence_length(decpreds)\n",
    "spstats = stat_for_sentence_length(sppreds)"
   ]
  },
  {
   "cell_type": "code",
   "execution_count": 76,
   "metadata": {},
   "outputs": [
    {
     "data": {
      "text/plain": [
       "([[[1, 5.0], 0.3835616438356164],\n",
       "  [[5.0, 7.0], 0.30088495575221236],\n",
       "  [[7.0, 8.0], 0.22222222222222224],\n",
       "  [[8.0, 10.0], 0.16239316239316237],\n",
       "  [[10.0, 12.0], 0.27135678391959794],\n",
       "  [[12.0, 15.0], 0.2032520325203252],\n",
       "  [[15.0, 19.0], 0.15813953488372093],\n",
       "  [[19.0, 23.0], 0.23478260869565212],\n",
       "  [[23.0, 29.0], 0.18796992481203006],\n",
       "  [[29.0, 104], 0.11411411411411412]],\n",
       " [[[1, 5.0], 0.17177914110429446],\n",
       "  [[5.0, 7.0], 0.2781954887218045],\n",
       "  [[7.0, 8.0], 0.21794871794871795],\n",
       "  [[8.0, 10.0], 0.23741007194244607],\n",
       "  [[10.0, 12.0], 0.24680851063829787],\n",
       "  [[12.0, 15.0], 0.22295081967213112],\n",
       "  [[15.0, 19.0], 0.1606425702811245],\n",
       "  [[19.0, 23.0], 0.22695035460992907],\n",
       "  [[23.0, 29.0], 0.18125],\n",
       "  [[29.0, 104], 0.13032581453634084]])"
      ]
     },
     "execution_count": 76,
     "metadata": {},
     "output_type": "execute_result"
    }
   ],
   "source": [
    "decstats, spstats"
   ]
  },
  {
   "cell_type": "code",
   "execution_count": 77,
   "metadata": {},
   "outputs": [
    {
     "name": "stdout",
     "output_type": "stream",
     "text": [
      "(1, 5.0, 7.0, 8.0, 10.0, 12.0, 15.0, 19.0, 23.0, 29.0)\n",
      "(1, 5.0, 7.0, 8.0, 10.0, 12.0, 15.0, 19.0, 23.0, 29.0)\n"
     ]
    },
    {
     "data": {
      "image/png": "[encoded data removed]",
      "text/plain": [
       "<Figure size 640x480 with 1 Axes>"
      ]
     },
     "metadata": {},
     "output_type": "display_data"
    }
   ],
   "source": [
    "def plot_evolution(stats):\n",
    "    bins, f1s = zip(*stats)\n",
    "    bins = list(zip(*bins))[0]\n",
    "    print(bins)\n",
    "\n",
    "    sns.lineplot(\n",
    "            pd.DataFrame.from_dict({\n",
    "            'quantiles': bins,\n",
    "            'f1': f1s,\n",
    "        }), x=\"quantiles\", y=\"f1\" \n",
    ")\n",
    "plot_evolution(decstats)\n",
    "plot_evolution(spstats)"
   ]
  },
  {
   "cell_type": "markdown",
   "metadata": {},
   "source": [
    "### Implicitness of the label :"
   ]
  },
  {
   "cell_type": "code",
   "execution_count": 78,
   "metadata": {},
   "outputs": [
    {
     "name": "stdout",
     "output_type": "stream",
     "text": [
      "R :  0.24736842105263157\n",
      "P :  0.6911764705882353\n",
      "f1 :  0.3643410852713178\n"
     ]
    },
    {
     "data": {
      "text/plain": [
       "(0.6911764705882353, 0.24736842105263157, 0.3643410852713178)"
      ]
     },
     "execution_count": 78,
     "metadata": {},
     "output_type": "execute_result"
    }
   ],
   "source": [
    "full_explicit_labels = decpreds[decpreds[[\"gold\", \"sentence\"]].apply(\n",
    "    lambda x : any(y in x[\"sentence\"] for y in x[\"gold\"] if y != \"UNK\")\n",
    ", axis=1)]\n",
    "state_on_conditional_df(full_explicit_labels)"
   ]
  },
  {
   "cell_type": "code",
   "execution_count": 79,
   "metadata": {},
   "outputs": [
    {
     "name": "stdout",
     "output_type": "stream",
     "text": [
      "R :  0.22631578947368422\n",
      "P :  0.3028169014084507\n",
      "f1 :  0.25903614457831325\n"
     ]
    },
    {
     "data": {
      "text/plain": [
       "(0.3028169014084507, 0.22631578947368422, 0.25903614457831325)"
      ]
     },
     "execution_count": 79,
     "metadata": {},
     "output_type": "execute_result"
    }
   ],
   "source": [
    "full_explicit_labels = sppreds[sppreds[[\"gold\", \"sentence\"]].apply(\n",
    "    lambda x : any(y in x[\"sentence\"] for y in x[\"gold\"] if y != \"UNK\")\n",
    ", axis=1)]\n",
    "state_on_conditional_df(full_explicit_labels)"
   ]
  },
  {
   "cell_type": "code",
   "execution_count": 80,
   "metadata": {},
   "outputs": [
    {
     "name": "stdout",
     "output_type": "stream",
     "text": [
      "R :  0.15236567762630313\n",
      "P :  0.2602739726027397\n",
      "f1 :  0.19221041982802226\n"
     ]
    },
    {
     "data": {
      "text/plain": [
       "(0.2602739726027397, 0.15236567762630313, 0.19221041982802226)"
      ]
     },
     "execution_count": 80,
     "metadata": {},
     "output_type": "execute_result"
    }
   ],
   "source": [
    "implicit_labels = decpreds[decpreds[[\"gold\", \"sentence\"]].apply(\n",
    "    lambda x : not any(y in x[\"sentence\"] for y in x[\"gold\"] if y != \"UNK\")\n",
    ", axis=1)]\n",
    "state_on_conditional_df(implicit_labels)"
   ]
  },
  {
   "cell_type": "code",
   "execution_count": 81,
   "metadata": {},
   "outputs": [
    {
     "name": "stdout",
     "output_type": "stream",
     "text": [
      "R :  0.18364073777064957\n",
      "P :  0.21203703703703702\n",
      "f1 :  0.19681993983669963\n"
     ]
    },
    {
     "data": {
      "text/plain": [
       "(0.21203703703703702, 0.18364073777064957, 0.19681993983669963)"
      ]
     },
     "execution_count": 81,
     "metadata": {},
     "output_type": "execute_result"
    }
   ],
   "source": [
    "implicit_labels = sppreds[sppreds[[\"gold\", \"sentence\"]].apply(\n",
    "    lambda x : not any(y in x[\"sentence\"] for y in x[\"gold\"] if y != \"UNK\")\n",
    ", axis=1)]\n",
    "state_on_conditional_df(implicit_labels)"
   ]
  },
  {
   "cell_type": "code",
   "execution_count": 94,
   "metadata": {},
   "outputs": [
    {
     "data": {
      "text/plain": [
       "<Axes: xlabel='inter', ylabel='Count'>"
      ]
     },
     "execution_count": 94,
     "metadata": {},
     "output_type": "execute_result"
    },
    {
     "data": {
      "image/png": "[encoded data removed]",
      "text/plain": [
       "<Figure size 640x480 with 1 Axes>"
      ]
     },
     "metadata": {},
     "output_type": "display_data"
    }
   ],
   "source": [
    "def gold_and_sentence_inter(gold, sentence):\n",
    "    goldw = list(set(tokenizer.tokenize(gold)))\n",
    "    return len([w for w in goldw if w in sentence]) / len(goldw)\n",
    "\n",
    "exdecpreds = decpreds.explode(\"gold\")\n",
    "exdecpreds = exdecpreds[exdecpreds.gold != \"UNK\"]\n",
    "exdecpreds[\"inter\"]  = exdecpreds[[\"gold\", \"sentence\"]].apply(\n",
    "    lambda x : gold_and_sentence_inter(x[\"gold\"], x[\"sentence\"])\n",
    ", axis=1)\n",
    "\n",
    "sns.histplot(\n",
    "    data=exdecpreds,\n",
    "    x=\"inter\"\n",
    ")"
   ]
  },
  {
   "cell_type": "code",
   "execution_count": 98,
   "metadata": {},
   "outputs": [
    {
     "data": {
      "text/plain": [
       "0.21138211382113822"
      ]
     },
     "execution_count": 98,
     "metadata": {},
     "output_type": "execute_result"
    }
   ],
   "source": [
    "full_implicit = exdecpreds[exdecpreds.inter == 0]\n",
    "full_implicit[[\"gold\", \"predictions\"]].apply(\n",
    "    lambda x : x[\"gold\"] in x[\"predictions\"], axis=1\n",
    ").mean()"
   ]
  },
  {
   "cell_type": "code",
   "execution_count": 99,
   "metadata": {},
   "outputs": [
    {
     "data": {
      "text/plain": [
       "0.1910569105691057"
      ]
     },
     "execution_count": 99,
     "metadata": {},
     "output_type": "execute_result"
    }
   ],
   "source": [
    "exsppreds = sppreds.explode(\"gold\")\n",
    "exsppreds = exsppreds[exsppreds.gold != \"UNK\"]\n",
    "exsppreds[\"inter\"]  = exsppreds[[\"gold\", \"sentence\"]].apply(\n",
    "    lambda x : gold_and_sentence_inter(x[\"gold\"], x[\"sentence\"])\n",
    ", axis=1)\n",
    "\n",
    "\n",
    "full_implicit = exsppreds[exsppreds.inter == 0]\n",
    "full_implicit[[\"gold\", \"predictions\"]].apply(\n",
    "    lambda x : x[\"gold\"] in x[\"predictions\"], axis=1\n",
    ").mean()"
   ]
  },
  {
   "cell_type": "code",
   "execution_count": 103,
   "metadata": {},
   "outputs": [
    {
     "data": {
      "text/plain": [
       "qinter\n",
       "(0.0, 0.25]    0.333333\n",
       "(0.25, 0.5]    0.233766\n",
       "(0.5, 0.75]    0.292683\n",
       "(0.75, 1.0]    0.436170\n",
       "dtype: float64"
      ]
     },
     "execution_count": 103,
     "metadata": {},
     "output_type": "execute_result"
    }
   ],
   "source": [
    "def agg(gdf):\n",
    "    return gdf[[\"gold\", \"predictions\"]].apply(\n",
    "        lambda x : x[\"gold\"] in x[\"predictions\"], axis=1\n",
    "    ).mean()\n",
    "exdecpreds[\"qinter\"] = pd.cut(exdecpreds[\"inter\"], bins = [0, 0.25, 0.5, 0.75, 1])\n",
    "exdecpreds.groupby(\"qinter\").apply(agg)"
   ]
  },
  {
   "cell_type": "code",
   "execution_count": 102,
   "metadata": {},
   "outputs": [
    {
     "data": {
      "text/plain": [
       "qinter\n",
       "(0.0, 0.25]    0.259259\n",
       "(0.25, 0.5]    0.205195\n",
       "(0.5, 0.75]    0.341463\n",
       "(0.75, 1.0]    0.361702\n",
       "dtype: float64"
      ]
     },
     "execution_count": 102,
     "metadata": {},
     "output_type": "execute_result"
    }
   ],
   "source": [
    "def agg(gdf):\n",
    "    return gdf[[\"gold\", \"predictions\"]].apply(\n",
    "        lambda x : x[\"gold\"] in x[\"predictions\"], axis=1\n",
    "    ).mean()\n",
    "exsppreds[\"qinter\"] = pd.cut(exsppreds[\"inter\"], bins = [0, 0.25, 0.5, 0.75, 1])\n",
    "exsppreds.groupby(\"qinter\").apply(agg)"
   ]
  },
  {
   "cell_type": "markdown",
   "metadata": {},
   "source": [
    "### Study the number of labels\n",
    "\n",
    "assumption, the more labels there are ==> the better the prediction for GSP"
   ]
  },
  {
   "cell_type": "code",
   "execution_count": 105,
   "metadata": {},
   "outputs": [
    {
     "data": {
      "text/plain": [
       "<Axes: xlabel='nb_labels', ylabel='Count'>"
      ]
     },
     "execution_count": 105,
     "metadata": {},
     "output_type": "execute_result"
    },
    {
     "data": {
      "image/png": "[encoded data removed]",
      "text/plain": [
       "<Figure size 640x480 with 1 Axes>"
      ]
     },
     "metadata": {},
     "output_type": "display_data"
    }
   ],
   "source": [
    "decpreds[\"nb_labels\"] = decpreds[\"gold\"].apply(len)\n",
    "sns.histplot(\n",
    "    data=decpreds, \n",
    "    x=\"nb_labels\",\n",
    "    binwidth=1\n",
    ")"
   ]
  },
  {
   "cell_type": "code",
   "execution_count": 106,
   "metadata": {},
   "outputs": [
    {
     "name": "stdout",
     "output_type": "stream",
     "text": [
      "R :  0.18361581920903955\n",
      "P :  0.1752021563342318\n",
      "f1 :  0.17931034482758623\n"
     ]
    },
    {
     "data": {
      "text/plain": [
       "(0.1752021563342318, 0.18361581920903955, 0.17931034482758623)"
      ]
     },
     "execution_count": 106,
     "metadata": {},
     "output_type": "execute_result"
    }
   ],
   "source": [
    "state_on_conditional_df(decpreds[decpreds.nb_labels == 1])"
   ]
  },
  {
   "cell_type": "code",
   "execution_count": 108,
   "metadata": {},
   "outputs": [
    {
     "name": "stdout",
     "output_type": "stream",
     "text": [
      "R :  0.10289389067524116\n",
      "P :  0.43243243243243246\n",
      "f1 :  0.16623376623376623\n"
     ]
    },
    {
     "data": {
      "text/plain": [
       "(0.43243243243243246, 0.10289389067524116, 0.16623376623376623)"
      ]
     },
     "execution_count": 108,
     "metadata": {},
     "output_type": "execute_result"
    }
   ],
   "source": [
    "state_on_conditional_df(decpreds[decpreds.nb_labels > 3])"
   ]
  },
  {
   "cell_type": "code",
   "execution_count": 127,
   "metadata": {},
   "outputs": [
    {
     "name": "stdout",
     "output_type": "stream",
     "text": [
      "R :  0.22033898305084745\n",
      "P :  0.15853658536585366\n",
      "f1 :  0.1843971631205674\n",
      "R :  0.203125\n",
      "P :  0.24202127659574468\n",
      "f1 :  0.220873786407767\n",
      "R :  0.19135802469135801\n",
      "P :  0.2980769230769231\n",
      "f1 :  0.23308270676691728\n",
      "R :  0.14473684210526316\n",
      "P :  0.275\n",
      "f1 :  0.18965517241379312\n",
      "R :  0.1076923076923077\n",
      "P :  0.30434782608695654\n",
      "f1 :  0.15909090909090912\n",
      "R :  0.18518518518518517\n",
      "P :  0.3125\n",
      "f1 :  0.2325581395348837\n",
      "R :  0.05\n",
      "P :  0.18181818181818182\n",
      "f1 :  0.07843137254901962\n",
      "R :  0.18361581920903955\n",
      "P :  0.1752021563342318\n",
      "f1 :  0.17931034482758623\n",
      "R :  0.20089285714285715\n",
      "P :  0.3829787234042553\n",
      "f1 :  0.26354319180087854\n",
      "R :  0.15432098765432098\n",
      "P :  0.423728813559322\n",
      "f1 :  0.22624434389140272\n",
      "R :  0.13157894736842105\n",
      "P :  0.46511627906976744\n",
      "f1 :  0.20512820512820512\n",
      "R :  0.03076923076923077\n",
      "P :  0.125\n",
      "f1 :  0.04938271604938272\n",
      "R :  0.1111111111111111\n",
      "P :  0.6\n",
      "f1 :  0.18750000000000003\n",
      "R :  0.1\n",
      "P :  0.8\n",
      "f1 :  0.1777777777777778\n"
     ]
    }
   ],
   "source": [
    "CLIP = 7\n",
    "sppreds[\"nb_labels\"] = sppreds[\"gold\"].apply(len)\n",
    "decpreds[\"nb_labels\"] = decpreds[\"gold\"].apply(len)\n",
    "sppreds[\"nb_labels\"] = sppreds[\"nb_labels\"].apply(lambda x : x if x < CLIP else CLIP) ## clipped at 6\n",
    "decpreds[\"nb_labels\"] = decpreds[\"nb_labels\"].apply(lambda x : x if x < CLIP else CLIP) ## clipped at 6\n",
    "\n",
    "sp_nblabelsres = sppreds.groupby(\"nb_labels\").apply(state_on_conditional_df)\n",
    "dec_nblabelsres = decpreds.groupby(\"nb_labels\").apply(state_on_conditional_df)"
   ]
  },
  {
   "cell_type": "code",
   "execution_count": 128,
   "metadata": {},
   "outputs": [
    {
     "data": {
      "text/plain": [
       "<Axes: xlabel='nb_labels', ylabel='$F_1$'>"
      ]
     },
     "execution_count": 128,
     "metadata": {},
     "output_type": "execute_result"
    },
    {
     "data": {
      "image/png": "[encoded data removed]",
      "text/plain": [
       "<Figure size 640x480 with 1 Axes>"
      ]
     },
     "metadata": {},
     "output_type": "display_data"
    }
   ],
   "source": [
    "spf1 = list(zip(*sp_nblabelsres))[2]\n",
    "decf1 = list(zip(*dec_nblabelsres))[2]\n",
    "nb_labels = sp_nblabelsres.index.values\n",
    "\n",
    "sns.lineplot(\n",
    "    data=pd.DataFrame(\n",
    "        {\n",
    "            \"nb_labels\": nb_labels,\n",
    "            \"$F_1$\": spf1\n",
    "        }\n",
    "    ),\n",
    "    x=\"nb_labels\",\n",
    "    y=\"$F_1$\",\n",
    "    label=\"GSP\"\n",
    "\n",
    ")\n",
    "\n",
    "sns.lineplot(\n",
    "    data=pd.DataFrame(\n",
    "        {\n",
    "            \"nb_labels\": nb_labels,\n",
    "            \"$F_1$\": decf1\n",
    "        }\n",
    "    ),\n",
    "    x=\"nb_labels\",\n",
    "    y=\"$F_1$\",\n",
    "    label=\"Decorte\"\n",
    "\n",
    ")"
   ]
  },
  {
   "cell_type": "markdown",
   "metadata": {},
   "source": [
    "### Study the skill length"
   ]
  },
  {
   "cell_type": "code",
   "execution_count": 174,
   "metadata": {},
   "outputs": [
    {
     "data": {
      "text/plain": [
       "<Axes: xlabel='skill_len', ylabel='Count'>"
      ]
     },
     "execution_count": 174,
     "metadata": {},
     "output_type": "execute_result"
    },
    {
     "data": {
      "image/png": "[encoded data removed]",
      "text/plain": [
       "<Figure size 640x480 with 1 Axes>"
      ]
     },
     "metadata": {},
     "output_type": "display_data"
    }
   ],
   "source": [
    "exdecpreds[\"skill_len\"] = exdecpreds[\"gold\"].apply(lambda x : len(tokenizer.tokenize(x)))\n",
    "sns.histplot(\n",
    "    data=exdecpreds,\n",
    "    x=\"skill_len\",\n",
    "    binwidth=1\n",
    ")"
   ]
  },
  {
   "cell_type": "code",
   "execution_count": 193,
   "metadata": {},
   "outputs": [
    {
     "name": "stdout",
     "output_type": "stream",
     "text": [
      "0.26274944567627495\n",
      "0.2394678492239468\n"
     ]
    }
   ],
   "source": [
    "print(exdecpreds[[\"gold\", \"predictions\"]].apply(\n",
    "    lambda x: x[\"gold\"] in x[\"predictions\"], axis=1\n",
    ").mean())\n",
    "print(exsppreds[[\"gold\", \"predictions\"]].apply(\n",
    "    lambda x: x[\"gold\"] in x[\"predictions\"], axis=1\n",
    ").mean())"
   ]
  },
  {
   "cell_type": "code",
   "execution_count": 191,
   "metadata": {},
   "outputs": [
    {
     "name": "stdout",
     "output_type": "stream",
     "text": [
      "For shots half label on Decorte\n",
      "0.26199261992619927\n",
      "For long half label on Decorte\n",
      "0.2696629213483146\n"
     ]
    }
   ],
   "source": [
    "print(\"For shots half label on Decorte\")\n",
    "print(exdecpreds[exdecpreds.skill_len <= 4][[\"gold\", \"predictions\"]].apply(\n",
    "    lambda x: x[\"gold\"] in x[\"predictions\"], axis=1\n",
    ").mean())\n",
    "\n",
    "print(\"For long half label on Decorte\")\n",
    "print(exdecpreds[exdecpreds.skill_len > 4][[\"gold\", \"predictions\"]].apply(\n",
    "    lambda x: x[\"gold\"] in x[\"predictions\"], axis=1\n",
    ").mean())"
   ]
  },
  {
   "cell_type": "code",
   "execution_count": 192,
   "metadata": {},
   "outputs": [
    {
     "name": "stdout",
     "output_type": "stream",
     "text": [
      "For shots half label on GSP\n",
      "0.23370233702337023\n",
      "For long half label on GSP\n",
      "0.29213483146067415\n"
     ]
    }
   ],
   "source": [
    "exsppreds[\"skill_len\"] = exsppreds[\"gold\"].apply(lambda x : len(tokenizer.tokenize(x)))\n",
    "\n",
    "print(\"For shots half label on GSP\")\n",
    "print(exsppreds[exsppreds.skill_len <= 4][[\"gold\", \"predictions\"]].apply(\n",
    "    lambda x: x[\"gold\"] in x[\"predictions\"], axis=1\n",
    ").mean())\n",
    "\n",
    "print(\"For long half label on GSP\")\n",
    "print(exsppreds[exsppreds.skill_len > 4][[\"gold\", \"predictions\"]].apply(\n",
    "    lambda x: x[\"gold\"] in x[\"predictions\"], axis=1\n",
    ").mean())"
   ]
  },
  {
   "cell_type": "markdown",
   "metadata": {},
   "source": [
    "## Full Analysis"
   ]
  },
  {
   "cell_type": "code",
   "execution_count": 13,
   "metadata": {},
   "outputs": [
    {
     "name": "stdout",
     "output_type": "stream",
     "text": [
      "(1, 5.0, 7.0, 8.0, 10.0, 12.0, 15.0, 19.0, 23.0, 29.0)\n"
     ]
    },
    {
     "name": "stderr",
     "output_type": "stream",
     "text": [
      "/mnt/u14157_ic_nlp_001_files_nfs/nlpdata1/home/magron/miniconda3/envs/nlp1/lib/python3.9/site-packages/seaborn/_oldcore.py:1498: FutureWarning: is_categorical_dtype is deprecated and will be removed in a future version. Use isinstance(dtype, CategoricalDtype) instead\n",
      "  if pd.api.types.is_categorical_dtype(vector):\n",
      "/mnt/u14157_ic_nlp_001_files_nfs/nlpdata1/home/magron/miniconda3/envs/nlp1/lib/python3.9/site-packages/seaborn/_oldcore.py:1498: FutureWarning: is_categorical_dtype is deprecated and will be removed in a future version. Use isinstance(dtype, CategoricalDtype) instead\n",
      "  if pd.api.types.is_categorical_dtype(vector):\n",
      "/mnt/u14157_ic_nlp_001_files_nfs/nlpdata1/home/magron/miniconda3/envs/nlp1/lib/python3.9/site-packages/seaborn/_oldcore.py:1119: FutureWarning: use_inf_as_na option is deprecated and will be removed in a future version. Convert inf values to NaN before operating instead.\n",
      "  with pd.option_context('mode.use_inf_as_na', True):\n",
      "/mnt/u14157_ic_nlp_001_files_nfs/nlpdata1/home/magron/miniconda3/envs/nlp1/lib/python3.9/site-packages/seaborn/_oldcore.py:1119: FutureWarning: use_inf_as_na option is deprecated and will be removed in a future version. Convert inf values to NaN before operating instead.\n",
      "  with pd.option_context('mode.use_inf_as_na', True):\n"
     ]
    },
    {
     "name": "stdout",
     "output_type": "stream",
     "text": [
      "(1, 5.0, 7.0, 8.0, 10.0, 12.0, 15.0, 19.0, 23.0, 29.0)\n"
     ]
    },
    {
     "name": "stderr",
     "output_type": "stream",
     "text": [
      "/mnt/u14157_ic_nlp_001_files_nfs/nlpdata1/home/magron/miniconda3/envs/nlp1/lib/python3.9/site-packages/seaborn/_oldcore.py:1498: FutureWarning: is_categorical_dtype is deprecated and will be removed in a future version. Use isinstance(dtype, CategoricalDtype) instead\n",
      "  if pd.api.types.is_categorical_dtype(vector):\n",
      "/mnt/u14157_ic_nlp_001_files_nfs/nlpdata1/home/magron/miniconda3/envs/nlp1/lib/python3.9/site-packages/seaborn/_oldcore.py:1498: FutureWarning: is_categorical_dtype is deprecated and will be removed in a future version. Use isinstance(dtype, CategoricalDtype) instead\n",
      "  if pd.api.types.is_categorical_dtype(vector):\n",
      "/mnt/u14157_ic_nlp_001_files_nfs/nlpdata1/home/magron/miniconda3/envs/nlp1/lib/python3.9/site-packages/seaborn/_oldcore.py:1119: FutureWarning: use_inf_as_na option is deprecated and will be removed in a future version. Convert inf values to NaN before operating instead.\n",
      "  with pd.option_context('mode.use_inf_as_na', True):\n",
      "/mnt/u14157_ic_nlp_001_files_nfs/nlpdata1/home/magron/miniconda3/envs/nlp1/lib/python3.9/site-packages/seaborn/_oldcore.py:1119: FutureWarning: use_inf_as_na option is deprecated and will be removed in a future version. Convert inf values to NaN before operating instead.\n",
      "  with pd.option_context('mode.use_inf_as_na', True):\n"
     ]
    },
    {
     "data": {
      "image/png": "[encoded data removed]",
      "text/plain": [
       "<Figure size 640x480 with 1 Axes>"
      ]
     },
     "metadata": {},
     "output_type": "display_data"
    },
    {
     "name": "stderr",
     "output_type": "stream",
     "text": [
      "/mnt/u14157_ic_nlp_001_files_nfs/nlpdata1/home/magron/miniconda3/envs/nlp1/lib/python3.9/site-packages/seaborn/_oldcore.py:1498: FutureWarning: is_categorical_dtype is deprecated and will be removed in a future version. Use isinstance(dtype, CategoricalDtype) instead\n",
      "  if pd.api.types.is_categorical_dtype(vector):\n",
      "/mnt/u14157_ic_nlp_001_files_nfs/nlpdata1/home/magron/miniconda3/envs/nlp1/lib/python3.9/site-packages/seaborn/_oldcore.py:1498: FutureWarning: is_categorical_dtype is deprecated and will be removed in a future version. Use isinstance(dtype, CategoricalDtype) instead\n",
      "  if pd.api.types.is_categorical_dtype(vector):\n",
      "/mnt/u14157_ic_nlp_001_files_nfs/nlpdata1/home/magron/miniconda3/envs/nlp1/lib/python3.9/site-packages/seaborn/_oldcore.py:1119: FutureWarning: use_inf_as_na option is deprecated and will be removed in a future version. Convert inf values to NaN before operating instead.\n",
      "  with pd.option_context('mode.use_inf_as_na', True):\n",
      "/mnt/u14157_ic_nlp_001_files_nfs/nlpdata1/home/magron/miniconda3/envs/nlp1/lib/python3.9/site-packages/seaborn/_oldcore.py:1119: FutureWarning: use_inf_as_na option is deprecated and will be removed in a future version. Convert inf values to NaN before operating instead.\n",
      "  with pd.option_context('mode.use_inf_as_na', True):\n",
      "/mnt/u14157_ic_nlp_001_files_nfs/nlpdata1/home/magron/miniconda3/envs/nlp1/lib/python3.9/site-packages/seaborn/_oldcore.py:1498: FutureWarning: is_categorical_dtype is deprecated and will be removed in a future version. Use isinstance(dtype, CategoricalDtype) instead\n",
      "  if pd.api.types.is_categorical_dtype(vector):\n",
      "/mnt/u14157_ic_nlp_001_files_nfs/nlpdata1/home/magron/miniconda3/envs/nlp1/lib/python3.9/site-packages/seaborn/_oldcore.py:1498: FutureWarning: is_categorical_dtype is deprecated and will be removed in a future version. Use isinstance(dtype, CategoricalDtype) instead\n",
      "  if pd.api.types.is_categorical_dtype(vector):\n",
      "/mnt/u14157_ic_nlp_001_files_nfs/nlpdata1/home/magron/miniconda3/envs/nlp1/lib/python3.9/site-packages/seaborn/_oldcore.py:1119: FutureWarning: use_inf_as_na option is deprecated and will be removed in a future version. Convert inf values to NaN before operating instead.\n",
      "  with pd.option_context('mode.use_inf_as_na', True):\n",
      "/mnt/u14157_ic_nlp_001_files_nfs/nlpdata1/home/magron/miniconda3/envs/nlp1/lib/python3.9/site-packages/seaborn/_oldcore.py:1119: FutureWarning: use_inf_as_na option is deprecated and will be removed in a future version. Convert inf values to NaN before operating instead.\n",
      "  with pd.option_context('mode.use_inf_as_na', True):\n",
      "/tmp/ipykernel_23646/2584379431.py:135: FutureWarning: The default of observed=False is deprecated and will be changed to True in a future version of pandas. Pass observed=False to retain current behavior or observed=True to adopt the future default and silence this warning.\n",
      "  print(exsppreds.groupby(\"qinter\").apply(agg))\n",
      "/tmp/ipykernel_23646/2584379431.py:137: FutureWarning: The default of observed=False is deprecated and will be changed to True in a future version of pandas. Pass observed=False to retain current behavior or observed=True to adopt the future default and silence this warning.\n",
      "  print(exdecpreds.groupby(\"qinter\").apply(agg))\n"
     ]
    },
    {
     "name": "stdout",
     "output_type": "stream",
     "text": [
      "Predicted labels per similarity in R-GSP :\n",
      "qinter\n",
      "(0.0, 0.25]    0.259259\n",
      "(0.25, 0.5]    0.205195\n",
      "(0.5, 0.75]    0.341463\n",
      "(0.75, 1.0]    0.361702\n",
      "dtype: float64\n",
      "Predicted labels per similarity in Decorte : \n",
      "qinter\n",
      "(0.0, 0.25]    0.333333\n",
      "(0.25, 0.5]    0.233766\n",
      "(0.5, 0.75]    0.292683\n",
      "(0.75, 1.0]    0.436170\n",
      "dtype: float64\n",
      "For shots half label on R-GSP\n",
      "0.23370233702337023\n",
      "For long half label on R-GSP\n",
      "0.29213483146067415\n",
      "For shots half label on Decorte\n",
      "0.26199261992619927\n",
      "For long half label on Decorte\n",
      "0.2696629213483146\n"
     ]
    },
    {
     "data": {
      "image/png": "[encoded data removed]",
      "text/plain": [
       "<Figure size 640x480 with 1 Axes>"
      ]
     },
     "metadata": {},
     "output_type": "display_data"
    }
   ],
   "source": [
    "from matplotlib import pyplot as plt\n",
    "from nltk.tokenize import RegexpTokenizer\n",
    "tokenizer = RegexpTokenizer(r'\\w+')\n",
    "\n",
    "def study_discriminant(sppreds, decpreds, model_type1, model_type2, label1, label2):\n",
    "    def gold_and_sentence_inter(gold, sentence):\n",
    "        goldw = list(set(tokenizer.tokenize(gold)))\n",
    "        return len([w for w in goldw if w in sentence]) / len(goldw)\n",
    "\n",
    "\n",
    "    def state_on_conditional_df(subdf, modtype):\n",
    "        TP = subdf.explode(\"predictions\")[[\"predictions\", \"gold\"]].apply(\n",
    "            lambda x : x[\"predictions\"] in x[\"gold\"]\n",
    "        , axis=1).sum() ## TP\n",
    "\n",
    "        FP = subdf.explode(\"predictions\")[[\"predictions\", \"gold\"]].apply(\n",
    "            lambda x : x[\"predictions\"] not in x[\"gold\"]\n",
    "        , axis=1).sum()\n",
    "\n",
    "        exgold = subdf.explode(\"gold\")\n",
    "        if(modtype != \"classif\"):\n",
    "            exgold = exgold[exgold.gold != \"UNK\"]\n",
    "        FN = exgold[[\"predictions\", \"gold\"]].apply(\n",
    "            lambda x : x[\"gold\"] not in x[\"predictions\"]\n",
    "        , axis=1).sum()\n",
    "\n",
    "        P = TP / (TP + FP) if (TP + FP != 0) else 0\n",
    "        R = TP / (TP + FN) if (TP + FN != 0) else 0\n",
    "        f1 = 2*R*P / (P + R) if (P + R) != 0 else 0\n",
    "\n",
    "        return P, R, f1\n",
    "\n",
    "\n",
    "    def stat_for_sentence_length(df, modtype):\n",
    "\n",
    "        equalpop_splits = [df.st_len.min()] + [np.percentile(decpreds.st_len, i*10) for i in range(1, 10)] + [df.st_len.max()]\n",
    "        splits = []\n",
    "        stats = []\n",
    "        for i, split in enumerate(equalpop_splits[:-1]):\n",
    "            splits.append(\n",
    "                df[(df.st_len >= split) & (df.st_len < equalpop_splits[i + 1])]\n",
    "            )\n",
    "\n",
    "            stats.append([[split, equalpop_splits[i + 1]], state_on_conditional_df(splits[-1], modtype)[2]])\n",
    "        return stats\n",
    "\n",
    "    def plot_evolution_length(stats, label):\n",
    "        bins, f1s = zip(*stats)\n",
    "        bins = list(zip(*bins))[0]\n",
    "        print(bins)\n",
    "\n",
    "        return sns.lineplot(\n",
    "                pd.DataFrame.from_dict({\n",
    "                'quantiles': bins,\n",
    "                'f1': f1s,\n",
    "            }), x=\"quantiles\", y=\"f1\", label=label\n",
    "        )\n",
    "\n",
    "\n",
    "\n",
    "    decpreds[\"st_len\"] = decpreds[\"sentence\"].apply(lambda x : len(tokenizer.tokenize(x)))\n",
    "    sppreds[\"st_len\"] = sppreds[\"sentence\"].apply(lambda x : len(tokenizer.tokenize(x)))\n",
    "    ### Sentence length #####################################################\n",
    "    plot_evolution_length(stat_for_sentence_length(sppreds, model_type1), label1)\n",
    "    g = plot_evolution_length(stat_for_sentence_length(decpreds, model_type2), label2)\n",
    "    g.set_title(\"F1 for different sentence length\")\n",
    "    g.set_xlabel('Sentence length')\n",
    "    plt.show()\n",
    "\n",
    "\n",
    "    ### Number of labels ######################################################\n",
    "    CLIP = 7\n",
    "    sppreds[\"nb_labels\"] = sppreds[\"gold\"].apply(len)\n",
    "    decpreds[\"nb_labels\"] = decpreds[\"gold\"].apply(len)\n",
    "    sppreds[\"nb_labels\"] = sppreds[\"nb_labels\"].apply(lambda x : x if x < CLIP else CLIP) ## clipped at 6\n",
    "    decpreds[\"nb_labels\"] = decpreds[\"nb_labels\"].apply(lambda x : x if x < CLIP else CLIP) ## clipped at 6\n",
    "\n",
    "    sp_nblabelsres = sppreds.groupby(\"nb_labels\").apply(\n",
    "        lambda x : state_on_conditional_df(x, model_type1)\n",
    "    )\n",
    "    dec_nblabelsres = decpreds.groupby(\"nb_labels\").apply(\n",
    "        lambda x : state_on_conditional_df(x, model_type2)\n",
    "    )\n",
    "    spf1 = list(zip(*sp_nblabelsres))[2]\n",
    "    decf1 = list(zip(*dec_nblabelsres))[2]\n",
    "    nb_labels = sp_nblabelsres.index.values\n",
    "\n",
    "    sns.lineplot(\n",
    "        data=pd.DataFrame(\n",
    "            {\n",
    "                \"nb_labels\": nb_labels,\n",
    "                \"$F_1$\": spf1\n",
    "            }\n",
    "        ),\n",
    "        x=\"nb_labels\",\n",
    "        y=\"$F_1$\",\n",
    "        label=label1\n",
    "    )\n",
    "\n",
    "    g = sns.lineplot(\n",
    "        data=pd.DataFrame(\n",
    "            {\n",
    "                \"nb_labels\": nb_labels,\n",
    "                \"$F_1$\": decf1\n",
    "            }\n",
    "        ),\n",
    "        x=\"nb_labels\",\n",
    "        y=\"$F_1$\",\n",
    "        label=label2\n",
    "    )\n",
    "    g.set_title(\"F1 score for different nb of labels\")\n",
    "    g.set_xlabel(\"number of labels in the setence\")\n",
    "\n",
    "\n",
    "    #### IMPLCIT AND EXPLICITNESS #####################\n",
    "    exsppreds = sppreds.explode(\"gold\")\n",
    "    exsppreds = exsppreds[exsppreds.gold != \"UNK\"]\n",
    "    exsppreds[\"inter\"]  = exsppreds[[\"gold\", \"sentence\"]].apply(\n",
    "        lambda x : gold_and_sentence_inter(x[\"gold\"], x[\"sentence\"])\n",
    "    , axis=1)\n",
    "\n",
    "    exdecpreds = decpreds.explode(\"gold\")\n",
    "    exdecpreds = exdecpreds[exdecpreds.gold != \"UNK\"]\n",
    "    exdecpreds[\"inter\"]  = exdecpreds[[\"gold\", \"sentence\"]].apply(\n",
    "        lambda x : gold_and_sentence_inter(x[\"gold\"], x[\"sentence\"])\n",
    "    , axis=1)\n",
    "\n",
    "    def agg(gdf):\n",
    "        return gdf[[\"gold\", \"predictions\"]].apply(\n",
    "            lambda x : x[\"gold\"] in x[\"predictions\"], axis=1\n",
    "        ).mean()\n",
    "    exsppreds[\"qinter\"] = pd.cut(exsppreds[\"inter\"], bins = [0, 0.25, 0.5, 0.75, 1])\n",
    "    exdecpreds[\"qinter\"] = pd.cut(exdecpreds[\"inter\"], bins = [0, 0.25, 0.5, 0.75, 1])\n",
    "    print(f\"Predicted labels per similarity in {label1} :\")\n",
    "    print(exsppreds.groupby(\"qinter\").apply(agg))\n",
    "    print(f\"Predicted labels per similarity in {label2} : \")\n",
    "    print(exdecpreds.groupby(\"qinter\").apply(agg))\n",
    "\n",
    "\n",
    "    exsppreds[\"skill_len\"] = exsppreds[\"gold\"].apply(lambda x : len(tokenizer.tokenize(x)))\n",
    "    exdecpreds[\"skill_len\"] = exdecpreds[\"gold\"].apply(lambda x : len(tokenizer.tokenize(x)))\n",
    "\n",
    "    print(f\"For shots half label on {label1}\")\n",
    "    print(exsppreds[exsppreds.skill_len <= 4][[\"gold\", \"predictions\"]].apply(\n",
    "        lambda x: x[\"gold\"] in x[\"predictions\"], axis=1\n",
    "    ).mean())\n",
    "\n",
    "    print(f\"For long half label on {label1}\")\n",
    "    print(exsppreds[exsppreds.skill_len > 4][[\"gold\", \"predictions\"]].apply(\n",
    "        lambda x: x[\"gold\"] in x[\"predictions\"], axis=1\n",
    "    ).mean())\n",
    "\n",
    "    print(f\"For shots half label on {label2}\")\n",
    "    print(exdecpreds[exdecpreds.skill_len <= 4][[\"gold\", \"predictions\"]].apply(\n",
    "        lambda x: x[\"gold\"] in x[\"predictions\"], axis=1\n",
    "    ).mean())\n",
    "\n",
    "    print(f\"For long half label on {label2}\")\n",
    "    print(exdecpreds[exdecpreds.skill_len > 4][[\"gold\", \"predictions\"]].apply(\n",
    "        lambda x: x[\"gold\"] in x[\"predictions\"], axis=1\n",
    "    ).mean())\n",
    "\n",
    "\n",
    "study_discriminant(sppreds, decpreds, model_type1=\"classif\", model_type2=\"classif\", label1=\"R-GSP\", label2=\"Decorte\")\n",
    "    "
   ]
  },
  {
   "cell_type": "code",
   "execution_count": 146,
   "metadata": {},
   "outputs": [],
   "source": [
    "from datasets import load_dataset\n",
    "ds = pd.DataFrame(\n",
    "    load_dataset(\"jensjorisdecorte/Synthetic-ESCO-skill-sentences\")[\"train\"]\n",
    ")\n"
   ]
  },
  {
   "cell_type": "code",
   "execution_count": 150,
   "metadata": {},
   "outputs": [
    {
     "data": {
      "text/plain": [
       "count    138260.000000\n",
       "mean         15.985737\n",
       "std           4.240586\n",
       "min           4.000000\n",
       "25%          13.000000\n",
       "50%          16.000000\n",
       "75%          19.000000\n",
       "max          53.000000\n",
       "Name: ds_len, dtype: float64"
      ]
     },
     "execution_count": 150,
     "metadata": {},
     "output_type": "execute_result"
    },
    {
     "data": {
      "image/png": "[encoded data removed]",
      "text/plain": [
       "<Figure size 640x480 with 1 Axes>"
      ]
     },
     "metadata": {},
     "output_type": "display_data"
    }
   ],
   "source": [
    "ds[\"ds_len\"] = ds[\"sentence\"].apply(lambda x : len(tokenizer.tokenize(x)))\n",
    "sns.histplot(\n",
    "    data=ds, \n",
    "    x=\"ds_len\",\n",
    "    binwidth=1,\n",
    ")\n",
    "\n",
    "ds.ds_len.describe()"
   ]
  },
  {
   "cell_type": "code",
   "execution_count": 158,
   "metadata": {},
   "outputs": [
    {
     "data": {
      "text/plain": [
       "count    6353.000000\n",
       "mean       28.868566\n",
       "std         8.657611\n",
       "min        11.000000\n",
       "25%        23.000000\n",
       "50%        28.000000\n",
       "75%        33.000000\n",
       "max       274.000000\n",
       "Name: slen, dtype: float64"
      ]
     },
     "execution_count": 158,
     "metadata": {},
     "output_type": "execute_result"
    },
    {
     "data": {
      "image/png": "[encoded data removed]",
      "text/plain": [
       "<Figure size 640x480 with 1 Axes>"
      ]
     },
     "metadata": {},
     "output_type": "display_data"
    }
   ],
   "source": [
    "sp = pd.read_csv(\"./generation/generated/SKILLSPAN/train_final.csv\").dropna()\n",
    "sp[\"slen\"] = sp[\"sentence\"].apply(\n",
    "    lambda x: len(tokenizer.tokenize(x))\n",
    ")\n",
    "\n",
    "\n",
    "sns.histplot(\n",
    "    data=sp, x=\"slen\"\n",
    ")\n",
    "sp.slen.describe()"
   ]
  },
  {
   "cell_type": "code",
   "execution_count": 169,
   "metadata": {},
   "outputs": [
    {
     "data": {
      "text/plain": [
       "(5107, 0)"
      ]
     },
     "execution_count": 169,
     "metadata": {},
     "output_type": "execute_result"
    }
   ],
   "source": [
    "len(ds[ds.ds_len < 10]), len(sp[sp.slen < 10])"
   ]
  },
  {
   "cell_type": "code",
   "execution_count": 199,
   "metadata": {},
   "outputs": [
    {
     "data": {
      "application/vnd.jupyter.widget-view+json": {
       "model_id": "174aecc115dd4a388e7d161ee3c3d771",
       "version_major": 2,
       "version_minor": 0
      },
      "text/plain": [
       "  0%|          | 0/9987 [00:00<?, ?it/s]"
      ]
     },
     "metadata": {},
     "output_type": "display_data"
    }
   ],
   "source": [
    "from tqdm.notebook import tqdm\n",
    "\n",
    "tqdm.pandas()\n",
    "\n",
    "with open(\"generation/generated/DECORTE/ANNOTATED_SUPPORT_SET.pkl\", 'rb') as f:\n",
    "    annot_dec = pickle.load(f)\n",
    "\n",
    "annot_dec = annot_dec.explode(\"annot_spans\")\n",
    "annot_dec[\"span_len\"] = annot_dec.annot_spans.progress_apply(\n",
    "    lambda x : len(tokenizer.tokenize(x))\n",
    ")"
   ]
  },
  {
   "cell_type": "code",
   "execution_count": 200,
   "metadata": {},
   "outputs": [
    {
     "data": {
      "text/plain": [
       "count    9987.000000\n",
       "mean        7.326024\n",
       "std         4.893605\n",
       "min         0.000000\n",
       "25%         3.000000\n",
       "50%         6.000000\n",
       "75%        10.000000\n",
       "max        44.000000\n",
       "Name: span_len, dtype: float64"
      ]
     },
     "execution_count": 200,
     "metadata": {},
     "output_type": "execute_result"
    }
   ],
   "source": [
    "annot_dec[\"span_len\"].describe()"
   ]
  },
  {
   "cell_type": "code",
   "execution_count": 202,
   "metadata": {},
   "outputs": [
    {
     "data": {
      "text/plain": [
       "<Axes: xlabel='span_len', ylabel='Count'>"
      ]
     },
     "execution_count": 202,
     "metadata": {},
     "output_type": "execute_result"
    },
    {
     "data": {
      "image/png": "[encoded data removed]",
      "text/plain": [
       "<Figure size 640x480 with 1 Axes>"
      ]
     },
     "metadata": {},
     "output_type": "display_data"
    }
   ],
   "source": [
    "sns.histplot(data=annot_dec, x=\"span_len\", binwidth=1)"
   ]
  },
  {
   "cell_type": "code",
   "execution_count": 210,
   "metadata": {},
   "outputs": [
    {
     "data": {
      "application/vnd.jupyter.widget-view+json": {
       "model_id": "40dc474bff874db3a66c0f3e492e6a1f",
       "version_major": 2,
       "version_minor": 0
      },
      "text/plain": [
       "  0%|          | 0/12958 [00:00<?, ?it/s]"
      ]
     },
     "metadata": {},
     "output_type": "display_data"
    }
   ],
   "source": [
    "from tqdm.notebook import tqdm\n",
    "\n",
    "tqdm.pandas()\n",
    "\n",
    "with open(\"generation/generated/R-SKILLSPAN/ANNOTATED_SUPPORT_SET.pkl\", 'rb') as f:\n",
    "    annot_sp = pickle.load(f)\n",
    "\n",
    "annot_sp = annot_sp.explode(\"annot_spans\")\n",
    "annot_sp[\"span_len\"] = annot_sp.annot_spans.progress_apply(\n",
    "    lambda x : len(tokenizer.tokenize(x))\n",
    ")"
   ]
  },
  {
   "cell_type": "code",
   "execution_count": 211,
   "metadata": {},
   "outputs": [
    {
     "data": {
      "text/plain": [
       "count    12958.000000\n",
       "mean         5.085276\n",
       "std          2.911771\n",
       "min          1.000000\n",
       "25%          3.000000\n",
       "50%          4.000000\n",
       "75%          6.000000\n",
       "max         36.000000\n",
       "Name: span_len, dtype: float64"
      ]
     },
     "execution_count": 211,
     "metadata": {},
     "output_type": "execute_result"
    },
    {
     "data": {
      "image/png": "[encoded data removed]",
      "text/plain": [
       "<Figure size 640x480 with 1 Axes>"
      ]
     },
     "metadata": {},
     "output_type": "display_data"
    }
   ],
   "source": [
    "sns.histplot(data=annot_sp, x=\"span_len\", binwidth=1)\n",
    "annot_sp[\"span_len\"].describe()"
   ]
  },
  {
   "cell_type": "markdown",
   "metadata": {},
   "source": [
    "### Applied for pipeline results :"
   ]
  },
  {
   "cell_type": "code",
   "execution_count": 6,
   "metadata": {},
   "outputs": [],
   "source": [
    "## is it the last GENSS predictions\n",
    "with open(\"/mnt/u14157_ic_nlp_001_files_nfs/nlpdata1/home/magron/SkillThrills/protosp01/dataset_generation/preds_support_type_kNN_support_size_match_1_nb_candidates_5_support_size_extr_7_test.pkl\", \"rb\") as f:\n",
    "    rgss = pickle.load(f)"
   ]
  },
  {
   "cell_type": "code",
   "execution_count": 50,
   "metadata": {},
   "outputs": [
    {
     "data": {
      "text/plain": [
       "(0.125544267053701, 0.23747426218256693, 0.16425350106812248)"
      ]
     },
     "execution_count": 50,
     "metadata": {},
     "output_type": "execute_result"
    }
   ],
   "source": [
    "def prepare_preds(pred_file):\n",
    "    with open(pred_file, \"rb\") as f:\n",
    "        rgss = pickle.load(f)\n",
    "    prep = []\n",
    "    for rgss_entry in rgss:\n",
    "        rgss_entry = rgss_entry[0]\n",
    "\n",
    "        extracted_spans = [sk for sk in rgss_entry[\"extracted_skills\"]]\n",
    "        matched_skills = [\n",
    "            rgss_entry[\"matched_skills\"][sk][\"name+definition\"].split(\" : \") for sk in extracted_spans\n",
    "            if sk in rgss_entry[\"matched_skills\"]\n",
    "        ]\n",
    "        \n",
    "        prep.append({\n",
    "            \"gold\": rgss_entry[\"skills\"],\n",
    "            \"predictions\": sum(matched_skills, []),\n",
    "            \"sentence\": rgss_entry[\"sentence\"]\n",
    "        })\n",
    "    return pd.DataFrame(prep)\n"
   ]
  },
  {
   "cell_type": "code",
   "execution_count": 74,
   "metadata": {},
   "outputs": [
    {
     "name": "stdout",
     "output_type": "stream",
     "text": [
      "(1, 5.0, 7.0, 8.0, 10.0, 12.0, 15.0, 19.0, 23.0, 29.0)\n"
     ]
    },
    {
     "name": "stderr",
     "output_type": "stream",
     "text": [
      "/mnt/u14157_ic_nlp_001_files_nfs/nlpdata1/home/magron/miniconda3/envs/nlp1/lib/python3.9/site-packages/seaborn/_oldcore.py:1498: FutureWarning: is_categorical_dtype is deprecated and will be removed in a future version. Use isinstance(dtype, CategoricalDtype) instead\n",
      "  if pd.api.types.is_categorical_dtype(vector):\n",
      "/mnt/u14157_ic_nlp_001_files_nfs/nlpdata1/home/magron/miniconda3/envs/nlp1/lib/python3.9/site-packages/seaborn/_oldcore.py:1498: FutureWarning: is_categorical_dtype is deprecated and will be removed in a future version. Use isinstance(dtype, CategoricalDtype) instead\n",
      "  if pd.api.types.is_categorical_dtype(vector):\n",
      "/mnt/u14157_ic_nlp_001_files_nfs/nlpdata1/home/magron/miniconda3/envs/nlp1/lib/python3.9/site-packages/seaborn/_oldcore.py:1119: FutureWarning: use_inf_as_na option is deprecated and will be removed in a future version. Convert inf values to NaN before operating instead.\n",
      "  with pd.option_context('mode.use_inf_as_na', True):\n",
      "/mnt/u14157_ic_nlp_001_files_nfs/nlpdata1/home/magron/miniconda3/envs/nlp1/lib/python3.9/site-packages/seaborn/_oldcore.py:1119: FutureWarning: use_inf_as_na option is deprecated and will be removed in a future version. Convert inf values to NaN before operating instead.\n",
      "  with pd.option_context('mode.use_inf_as_na', True):\n"
     ]
    },
    {
     "name": "stdout",
     "output_type": "stream",
     "text": [
      "(1, 5.0, 7.0, 8.0, 10.0, 12.0, 15.0, 19.0, 23.0, 29.0)\n"
     ]
    },
    {
     "name": "stderr",
     "output_type": "stream",
     "text": [
      "/mnt/u14157_ic_nlp_001_files_nfs/nlpdata1/home/magron/miniconda3/envs/nlp1/lib/python3.9/site-packages/seaborn/_oldcore.py:1498: FutureWarning: is_categorical_dtype is deprecated and will be removed in a future version. Use isinstance(dtype, CategoricalDtype) instead\n",
      "  if pd.api.types.is_categorical_dtype(vector):\n",
      "/mnt/u14157_ic_nlp_001_files_nfs/nlpdata1/home/magron/miniconda3/envs/nlp1/lib/python3.9/site-packages/seaborn/_oldcore.py:1498: FutureWarning: is_categorical_dtype is deprecated and will be removed in a future version. Use isinstance(dtype, CategoricalDtype) instead\n",
      "  if pd.api.types.is_categorical_dtype(vector):\n",
      "/mnt/u14157_ic_nlp_001_files_nfs/nlpdata1/home/magron/miniconda3/envs/nlp1/lib/python3.9/site-packages/seaborn/_oldcore.py:1119: FutureWarning: use_inf_as_na option is deprecated and will be removed in a future version. Convert inf values to NaN before operating instead.\n",
      "  with pd.option_context('mode.use_inf_as_na', True):\n",
      "/mnt/u14157_ic_nlp_001_files_nfs/nlpdata1/home/magron/miniconda3/envs/nlp1/lib/python3.9/site-packages/seaborn/_oldcore.py:1119: FutureWarning: use_inf_as_na option is deprecated and will be removed in a future version. Convert inf values to NaN before operating instead.\n",
      "  with pd.option_context('mode.use_inf_as_na', True):\n"
     ]
    },
    {
     "data": {
      "image/png": "[encoded data removed]",
      "text/plain": [
       "<Figure size 640x480 with 1 Axes>"
      ]
     },
     "metadata": {},
     "output_type": "display_data"
    },
    {
     "name": "stderr",
     "output_type": "stream",
     "text": [
      "/mnt/u14157_ic_nlp_001_files_nfs/nlpdata1/home/magron/miniconda3/envs/nlp1/lib/python3.9/site-packages/seaborn/_oldcore.py:1498: FutureWarning: is_categorical_dtype is deprecated and will be removed in a future version. Use isinstance(dtype, CategoricalDtype) instead\n",
      "  if pd.api.types.is_categorical_dtype(vector):\n",
      "/mnt/u14157_ic_nlp_001_files_nfs/nlpdata1/home/magron/miniconda3/envs/nlp1/lib/python3.9/site-packages/seaborn/_oldcore.py:1498: FutureWarning: is_categorical_dtype is deprecated and will be removed in a future version. Use isinstance(dtype, CategoricalDtype) instead\n",
      "  if pd.api.types.is_categorical_dtype(vector):\n",
      "/mnt/u14157_ic_nlp_001_files_nfs/nlpdata1/home/magron/miniconda3/envs/nlp1/lib/python3.9/site-packages/seaborn/_oldcore.py:1119: FutureWarning: use_inf_as_na option is deprecated and will be removed in a future version. Convert inf values to NaN before operating instead.\n",
      "  with pd.option_context('mode.use_inf_as_na', True):\n",
      "/mnt/u14157_ic_nlp_001_files_nfs/nlpdata1/home/magron/miniconda3/envs/nlp1/lib/python3.9/site-packages/seaborn/_oldcore.py:1119: FutureWarning: use_inf_as_na option is deprecated and will be removed in a future version. Convert inf values to NaN before operating instead.\n",
      "  with pd.option_context('mode.use_inf_as_na', True):\n",
      "/mnt/u14157_ic_nlp_001_files_nfs/nlpdata1/home/magron/miniconda3/envs/nlp1/lib/python3.9/site-packages/seaborn/_oldcore.py:1498: FutureWarning: is_categorical_dtype is deprecated and will be removed in a future version. Use isinstance(dtype, CategoricalDtype) instead\n",
      "  if pd.api.types.is_categorical_dtype(vector):\n",
      "/mnt/u14157_ic_nlp_001_files_nfs/nlpdata1/home/magron/miniconda3/envs/nlp1/lib/python3.9/site-packages/seaborn/_oldcore.py:1498: FutureWarning: is_categorical_dtype is deprecated and will be removed in a future version. Use isinstance(dtype, CategoricalDtype) instead\n",
      "  if pd.api.types.is_categorical_dtype(vector):\n",
      "/mnt/u14157_ic_nlp_001_files_nfs/nlpdata1/home/magron/miniconda3/envs/nlp1/lib/python3.9/site-packages/seaborn/_oldcore.py:1119: FutureWarning: use_inf_as_na option is deprecated and will be removed in a future version. Convert inf values to NaN before operating instead.\n",
      "  with pd.option_context('mode.use_inf_as_na', True):\n",
      "/mnt/u14157_ic_nlp_001_files_nfs/nlpdata1/home/magron/miniconda3/envs/nlp1/lib/python3.9/site-packages/seaborn/_oldcore.py:1119: FutureWarning: use_inf_as_na option is deprecated and will be removed in a future version. Convert inf values to NaN before operating instead.\n",
      "  with pd.option_context('mode.use_inf_as_na', True):\n",
      "/tmp/ipykernel_14296/2584379431.py:135: FutureWarning: The default of observed=False is deprecated and will be changed to True in a future version of pandas. Pass observed=False to retain current behavior or observed=True to adopt the future default and silence this warning.\n",
      "  print(exsppreds.groupby(\"qinter\").apply(agg))\n",
      "/tmp/ipykernel_14296/2584379431.py:137: FutureWarning: The default of observed=False is deprecated and will be changed to True in a future version of pandas. Pass observed=False to retain current behavior or observed=True to adopt the future default and silence this warning.\n",
      "  print(exdecpreds.groupby(\"qinter\").apply(agg))\n"
     ]
    },
    {
     "name": "stdout",
     "output_type": "stream",
     "text": [
      "Predicted labels per similarity in Pipeline R-GSS :\n",
      "qinter\n",
      "(0.0, 0.25]    0.462963\n",
      "(0.25, 0.5]    0.348052\n",
      "(0.5, 0.75]    0.390244\n",
      "(0.75, 1.0]    0.521277\n",
      "dtype: float64\n",
      "Predicted labels per similarity in Pipeline Decorte : \n",
      "qinter\n",
      "(0.0, 0.25]    0.351852\n",
      "(0.25, 0.5]    0.327273\n",
      "(0.5, 0.75]    0.463415\n",
      "(0.75, 1.0]    0.500000\n",
      "dtype: float64\n",
      "For shots half label on Pipeline R-GSS\n",
      "0.34809348093480935\n",
      "For long half label on Pipeline R-GSS\n",
      "0.4157303370786517\n",
      "For shots half label on Pipeline Decorte\n",
      "0.3284132841328413\n",
      "For long half label on Pipeline Decorte\n",
      "0.43820224719101125\n"
     ]
    },
    {
     "data": {
      "image/png": "[encoded data removed]",
      "text/plain": [
       "<Figure size 640x480 with 1 Axes>"
      ]
     },
     "metadata": {},
     "output_type": "display_data"
    }
   ],
   "source": [
    "study_discriminant(\n",
    "    prepare_preds(\"/mnt/u14157_ic_nlp_001_files_nfs/nlpdata1/home/magron/SkillThrills/protosp01/dataset_generation/pred_RGSS_SkillSpan.out\"),\n",
    "    prepare_preds(\"/mnt/u14157_ic_nlp_001_files_nfs/nlpdata1/home/magron/SkillThrills/protosp01/dataset_generation/preds_Decorte_SkillSpan.out\"),\n",
    "    model_type1=\"pipe\",\n",
    "    model_type2=\"pipe\",\n",
    "    label1=\"Pipeline R-GSS\",\n",
    "    label2=\"Pipeline Decorte\"\n",
    ")"
   ]
  },
  {
   "cell_type": "code",
   "execution_count": 14,
   "metadata": {},
   "outputs": [
    {
     "data": {
      "application/vnd.jupyter.widget-view+json": {
       "model_id": "1e60aabc02184b9d89f7d6fc103fde60",
       "version_major": 2,
       "version_minor": 0
      },
      "text/plain": [
       "  0%|          | 0/138260 [00:00<?, ?it/s]"
      ]
     },
     "metadata": {},
     "output_type": "display_data"
    },
    {
     "data": {
      "application/vnd.jupyter.widget-view+json": {
       "model_id": "ec4885ef768c4c8c8b11c3c69af70c4b",
       "version_major": 2,
       "version_minor": 0
      },
      "text/plain": [
       "  0%|          | 0/6353 [00:00<?, ?it/s]"
      ]
     },
     "metadata": {},
     "output_type": "display_data"
    }
   ],
   "source": [
    "from datasets import load_dataset\n",
    "from tqdm.notebook import tqdm\n",
    "tqdm.pandas()\n",
    "\n",
    "ds = pd.DataFrame(\n",
    "    load_dataset(\"jensjorisdecorte/Synthetic-ESCO-skill-sentences\")[\"train\"]\n",
    ")\n",
    "ds[\"slen\"] = ds[\"sentence\"].progress_apply(lambda x : len(tokenizer.tokenize(x)))\n",
    "\n",
    "\n",
    "sp = pd.read_csv(\"./generation/generated/SKILLSPAN/train_final.csv\").dropna()\n",
    "sp[\"slen\"] = sp[\"sentence\"].progress_apply(\n",
    "    lambda x: len(tokenizer.tokenize(x))\n",
    ")\n",
    "\n",
    "testsp[\"slen\"] = testsp.sentence.apply(\n",
    "    lambda x : len(tokenizer.tokenize(x))\n",
    ")\n"
   ]
  },
  {
   "cell_type": "code",
   "execution_count": 15,
   "metadata": {},
   "outputs": [
    {
     "name": "stdout",
     "output_type": "stream",
     "text": [
      "For 50% : \n",
      "RGSS :  [23.0, 33.0]\n",
      "Decorte :  [13.0, 19.0]\n",
      "SkillSpan :  [7.5, 20.0]\n",
      "For 90% : \n",
      "RGSS :  [19.0, 43.0]\n",
      "Decorte :  [10.0, 24.0]\n",
      "SkillSpan :  [3.0, 39.0]\n"
     ]
    }
   ],
   "source": [
    "def bounds(df, percent=90):\n",
    "    lb = 50 - percent / 2\n",
    "    ub = 50 + percent / 2\n",
    "    return [np.percentile(df.slen, lb), np.percentile(df.slen, ub)]\n",
    "\n",
    "\n",
    "PERCENT = 50\n",
    "print(\"For 50% : \")\n",
    "print(\"RGSS : \", bounds(sp, percent=PERCENT))\n",
    "print(\"Decorte : \", bounds(ds, percent=PERCENT))\n",
    "print(\"SkillSpan : \", bounds(testsp, percent=PERCENT))\n",
    "\n",
    "\n",
    "PERCENT = 90\n",
    "print(\"For 90% : \")\n",
    "print(\"RGSS : \", bounds(sp, percent=PERCENT))\n",
    "print(\"Decorte : \", bounds(ds, percent=PERCENT))\n",
    "print(\"SkillSpan : \", bounds(testsp, percent=PERCENT))"
   ]
  },
  {
   "cell_type": "code",
   "execution_count": 19,
   "metadata": {},
   "outputs": [
    {
     "name": "stderr",
     "output_type": "stream",
     "text": [
      "/mnt/u14157_ic_nlp_001_files_nfs/nlpdata1/home/magron/miniconda3/envs/nlp1/lib/python3.9/site-packages/seaborn/_oldcore.py:1498: FutureWarning: is_categorical_dtype is deprecated and will be removed in a future version. Use isinstance(dtype, CategoricalDtype) instead\n",
      "  if pd.api.types.is_categorical_dtype(vector):\n",
      "/mnt/u14157_ic_nlp_001_files_nfs/nlpdata1/home/magron/miniconda3/envs/nlp1/lib/python3.9/site-packages/seaborn/_oldcore.py:1498: FutureWarning: is_categorical_dtype is deprecated and will be removed in a future version. Use isinstance(dtype, CategoricalDtype) instead\n",
      "  if pd.api.types.is_categorical_dtype(vector):\n",
      "/mnt/u14157_ic_nlp_001_files_nfs/nlpdata1/home/magron/miniconda3/envs/nlp1/lib/python3.9/site-packages/seaborn/_oldcore.py:1498: FutureWarning: is_categorical_dtype is deprecated and will be removed in a future version. Use isinstance(dtype, CategoricalDtype) instead\n",
      "  if pd.api.types.is_categorical_dtype(vector):\n"
     ]
    },
    {
     "data": {
      "image/png": "[encoded data removed]",
      "text/plain": [
       "<Figure size 640x480 with 1 Axes>"
      ]
     },
     "metadata": {},
     "output_type": "display_data"
    }
   ],
   "source": [
    "sp[\"origin\"] = \"R-GenSS\"\n",
    "testsp[\"origin\"] = \"SkillSpan\"\n",
    "ds[\"origin\"] = \"Decorte\"\n",
    "\n",
    "g = sns.boxplot(\n",
    "    data=pd.concat([sp, testsp, ds]),\n",
    "    x=\"origin\",\n",
    "    y=\"slen\"\n",
    ")\n",
    "\n",
    "g.set_ylabel(\"Number of words in sentence\")\n",
    "g.set_xlabel(\"Dataset\")\n",
    "\n",
    "\n",
    "g.set_ylim((0, 100))\n",
    "\n",
    "plt.savefig(\"sentence_len_distrib.pdf\", dpi=1000)"
   ]
  },
  {
   "cell_type": "markdown",
   "metadata": {},
   "source": [
    "## Error analysis conclusion"
   ]
  },
  {
   "cell_type": "markdown",
   "metadata": {},
   "source": [
    "#### Sentence length disrtibution is really different"
   ]
  },
  {
   "cell_type": "code",
   "execution_count": 18,
   "metadata": {},
   "outputs": [
    {
     "name": "stdout",
     "output_type": "stream",
     "text": [
      "For 50% : \n",
      "RGSS :  [23.0, 33.0]\n",
      "Decorte :  [13.0, 19.0]\n",
      "SkillSpan :  [7.5, 20.0]\n",
      "For 90% : \n",
      "RGSS :  [19.0, 43.0]\n",
      "Decorte :  [10.0, 24.0]\n",
      "SkillSpan :  [3.0, 39.0]\n"
     ]
    }
   ],
   "source": [
    "def bounds(df, percent=90):\n",
    "    lb = 50 - percent / 2\n",
    "    ub = 50 + percent / 2\n",
    "    return [np.percentile(df.slen, lb), np.percentile(df.slen, ub)]\n",
    "\n",
    "\n",
    "PERCENT = 50\n",
    "print(\"For 50% : \")\n",
    "print(\"RGSS : \", bounds(sp, percent=PERCENT))\n",
    "print(\"Decorte : \", bounds(ds, percent=PERCENT))\n",
    "print(\"SkillSpan : \", bounds(testsp, percent=PERCENT))\n",
    "\n",
    "\n",
    "PERCENT = 90\n",
    "print(\"For 90% : \")\n",
    "print(\"RGSS : \", bounds(sp, percent=PERCENT))\n",
    "print(\"Decorte : \", bounds(ds, percent=PERCENT))\n",
    "print(\"SkillSpan : \", bounds(testsp, percent=PERCENT))"
   ]
  },
  {
   "cell_type": "markdown",
   "metadata": {},
   "source": [
    "#### Proportion of sentence not starting with Maj in TEST and DEV SKILLSPAn"
   ]
  },
  {
   "cell_type": "code",
   "execution_count": 20,
   "metadata": {},
   "outputs": [
    {
     "name": "stdout",
     "output_type": "stream",
     "text": [
      "Proprtion of test not starting with a Maj, Proprtion of dev not starting with a Maj : \n"
     ]
    },
    {
     "data": {
      "text/plain": [
       "(0.8548601864181092, 0.6179775280898876)"
      ]
     },
     "execution_count": 20,
     "metadata": {},
     "output_type": "execute_result"
    }
   ],
   "source": [
    "print(\"Proprtion of test not starting with a Maj, Proprtion of dev not starting with a Maj : \")\n",
    "(testsp.sentence.apply(lambda x: x[0].isalpha() and x[0].upper() == x[0]).mean(),\n",
    "devsp.sentence.apply(lambda x: x[0].isalpha() and x[0].upper() == x[0]).mean())"
   ]
  },
  {
   "cell_type": "markdown",
   "metadata": {},
   "source": [
    "#### Proportion of predicted `UNK` for classifier"
   ]
  },
  {
   "cell_type": "code",
   "execution_count": 25,
   "metadata": {},
   "outputs": [
    {
     "name": "stdout",
     "output_type": "stream",
     "text": [
      "Portion of predicted UNK for R-GSS\n",
      "0.10467289719626169\n",
      "Portion of predicted UNK for Decorte\n",
      "0.0\n"
     ]
    }
   ],
   "source": [
    "print(\"Portion of predicted UNK for R-GSS\")\n",
    "print(sppreds[sppreds.gold.apply(lambda x : \"UNK\" in x)]\\\n",
    "        .predictions.apply(lambda x : \"UNK\" in x).mean())\n",
    "print(\"Portion of predicted UNK for Decorte\")\n",
    "print(decpreds[decpreds.gold.apply(lambda x : \"UNK\" in x)]\\\n",
    "        .predictions.apply(lambda x : \"UNK\" in x).mean())\n"
   ]
  },
  {
   "cell_type": "markdown",
   "metadata": {},
   "source": [
    "### Proportion of prediction when the only label is `UNK`"
   ]
  },
  {
   "cell_type": "code",
   "execution_count": 28,
   "metadata": {},
   "outputs": [
    {
     "name": "stdout",
     "output_type": "stream",
     "text": [
      "Portion of predicted UNK for R-GSS\n",
      "0.13852813852813853\n",
      "Portion of predicted UNK for Decorte\n",
      "0.0\n"
     ]
    }
   ],
   "source": [
    "print(\"Portion of predicted UNK for R-GSS\")\n",
    "print(sppreds[sppreds.gold.apply(lambda x : [\"UNK\"] == x)]\\\n",
    "        .predictions.apply(lambda x : \"UNK\" in x).mean())\n",
    "print(\"Portion of predicted UNK for Decorte\")\n",
    "print(decpreds[decpreds.gold.apply(lambda x : [\"UNK\"] == x)]\\\n",
    "        .predictions.apply(lambda x : \"UNK\" in x).mean())\n"
   ]
  },
  {
   "cell_type": "markdown",
   "metadata": {},
   "source": [
    "#### Performance for sentence length"
   ]
  },
  {
   "cell_type": "code",
   "execution_count": 63,
   "metadata": {},
   "outputs": [
    {
     "name": "stdout",
     "output_type": "stream",
     "text": [
      "FOR MODEL TRAIN ON R-gss :\n",
      "Performance on the longest half of the sentence\n",
      "R :  0.16069221260815822\n",
      "P :  0.20569620253164558\n",
      "f1 :  0.1804302567661346\n",
      "****************************************************************************************************\n",
      "Performance on the shortest half of the sentence\n",
      "R :  0.22887323943661972\n",
      "P :  0.24528301886792453\n",
      "f1 :  0.23679417122040075\n"
     ]
    },
    {
     "data": {
      "text/plain": [
       "(0.24528301886792453, 0.22887323943661972, 0.23679417122040075)"
      ]
     },
     "execution_count": 63,
     "metadata": {},
     "output_type": "execute_result"
    }
   ],
   "source": [
    "CUT = testsp.slen.median()\n",
    "\n",
    "print(\"FOR MODEL TRAIN ON R-gss :\")\n",
    "print(\"Performance on the longest half of the sentence\")\n",
    "state_on_conditional_df(sppreds[sppreds.st_len > CUT])\n",
    "print(\"*\"*100)\n",
    "print(\"Performance on the shortest half of the sentence\")\n",
    "state_on_conditional_df(sppreds[sppreds.st_len < CUT])"
   ]
  },
  {
   "cell_type": "code",
   "execution_count": 50,
   "metadata": {},
   "outputs": [
    {
     "name": "stdout",
     "output_type": "stream",
     "text": [
      "FOR MODEL TRAINED ON Decorte :\n",
      "Performance on the longest half of the sentence\n",
      "R :  0.12855377008652658\n",
      "P :  0.26735218508997427\n",
      "f1 :  0.17362270450751252\n",
      "****************************************************************************************************\n",
      "Performance on the shortest half of the sentence\n",
      "R :  0.21654929577464788\n",
      "P :  0.33064516129032256\n",
      "f1 :  0.26170212765957446\n"
     ]
    },
    {
     "data": {
      "text/plain": [
       "(0.33064516129032256, 0.21654929577464788, 0.26170212765957446)"
      ]
     },
     "execution_count": 50,
     "metadata": {},
     "output_type": "execute_result"
    }
   ],
   "source": [
    "CUT = testsp.slen.median()\n",
    "\n",
    "\n",
    "print(\"FOR MODEL TRAINED ON Decorte :\")\n",
    "print(\"Performance on the longest half of the sentence\")\n",
    "state_on_conditional_df(decpreds[decpreds.st_len > CUT])\n",
    "print(\"*\"*100)\n",
    "print(\"Performance on the shortest half of the sentence\")\n",
    "state_on_conditional_df(decpreds[decpreds.st_len < CUT])"
   ]
  },
  {
   "cell_type": "code",
   "execution_count": 62,
   "metadata": {},
   "outputs": [
    {
     "name": "stdout",
     "output_type": "stream",
     "text": [
      "Perf of R-GSS on the top 20% of longuest sentences: \n",
      "R :  0.13267813267813267\n",
      "P :  0.1956521739130435\n",
      "f1 :  0.1581259150805271\n",
      "****************************************************************************************************\n",
      "Perf of R-GSS on the bottom 20% of longuest sentences: \n",
      "R :  0.22666666666666666\n",
      "P :  0.25\n",
      "f1 :  0.23776223776223773\n"
     ]
    },
    {
     "data": {
      "text/plain": [
       "(0.25, 0.22666666666666666, 0.23776223776223773)"
      ]
     },
     "execution_count": 62,
     "metadata": {},
     "output_type": "execute_result"
    }
   ],
   "source": [
    "CUT_H = np.percentile(testsp.slen.values, 80)\n",
    "CUT_L = np.percentile(testsp.slen.values, 20)\n",
    "\n",
    "print(\"Perf of R-GSS on the top 20% of longuest sentences: \")\n",
    "state_on_conditional_df(sppreds[sppreds.st_len > CUT_H])\n",
    "print(\"*\"*100)\n",
    "print(\"Perf of R-GSS on the bottom 20% of longuest sentences: \")\n",
    "state_on_conditional_df(sppreds[sppreds.st_len < CUT_L])"
   ]
  },
  {
   "cell_type": "code",
   "execution_count": 61,
   "metadata": {},
   "outputs": [
    {
     "name": "stdout",
     "output_type": "stream",
     "text": [
      "Perf of Decorte on the top 10% of longuest sentences: \n",
      "R :  0.10319410319410319\n",
      "P :  0.2641509433962264\n",
      "f1 :  0.14840989399293283\n",
      "****************************************************************************************************\n",
      "Perf of Decorte on the bottom 10% of longuest sentences: \n",
      "R :  0.27555555555555555\n",
      "P :  0.4217687074829932\n",
      "f1 :  0.3333333333333333\n"
     ]
    },
    {
     "data": {
      "text/plain": [
       "(0.4217687074829932, 0.27555555555555555, 0.3333333333333333)"
      ]
     },
     "execution_count": 61,
     "metadata": {},
     "output_type": "execute_result"
    }
   ],
   "source": [
    "CUT_H = np.percentile(testsp.slen.values, 80)\n",
    "CUT_L = np.percentile(testsp.slen.values, 20)\n",
    "\n",
    "print(\"Perf of Decorte on the top 20% of longuest sentences: \")\n",
    "state_on_conditional_df(decpreds[decpreds.st_len > CUT_H])\n",
    "print(\"*\"*100)\n",
    "print(\"Perf of Decorte on the bottom 20% of longuest sentences: \")\n",
    "state_on_conditional_df(decpreds[decpreds.st_len < CUT_L])"
   ]
  },
  {
   "cell_type": "markdown",
   "metadata": {},
   "source": [
    "With all the sentences length :\n",
    "\n",
    "``````\n",
    "************************* R-GSS : *************************\n",
    "SHORT SENTENCE 1  (LOW QUARTILE more than 7.5  words)\n",
    "R :  0.21935483870967742\n",
    "P :  0.24727272727272728\n",
    "f1 :  0.23247863247863249\n",
    "SHORT SENTENCE 2 (MIDLOW QUARTILE between  (7.5, 12.0)  words)\n",
    "R :  0.24031007751937986\n",
    "P :  0.24313725490196078\n",
    "f1 :  0.24171539961013647\n",
    "LONGER SENTENCE (MIDTOP QUARTILE  between (12.0, 20.0)  words)\n",
    "R :  0.20059880239520958\n",
    "P :  0.22112211221122113\n",
    "f1 :  0.21036106750392464\n",
    "LONG SENTENCE (TOP QUARTILE more than 20.0  words)\n",
    "R :  0.13402061855670103\n",
    "P :  0.18840579710144928\n",
    "f1 :  0.15662650602409636\n",
    "************************* DECORTE : *************************\n",
    "SHORT SENTENCE 1  (LOW QUARTILE more than 7.5  words)\n",
    "R :  0.24838709677419354\n",
    "P :  0.39086294416243655\n",
    "f1 :  0.3037475345167653\n",
    "SHORT SENTENCE 2 (MIDLOW QUARTILE between  (7.5, 12.0)  words)\n",
    "R :  0.17829457364341086\n",
    "P :  0.26285714285714284\n",
    "f1 :  0.21247113163972287\n",
    "LONGER SENTENCE (MIDTOP QUARTILE  between (12.0, 20.0)  words)\n",
    "R :  0.1407185628742515\n",
    "P :  0.23737373737373738\n",
    "f1 :  0.17669172932330826\n",
    "LONG SENTENCE (TOP QUARTILE more than 20.0  words)\n",
    "R :  0.11958762886597939\n",
    "P :  0.2885572139303483\n",
    "f1 :  0.16909620991253646\n",
    "``````"
   ]
  },
  {
   "cell_type": "markdown",
   "metadata": {},
   "source": [
    "See that for longuest sentences, R-GSS works better than Decorte and the latter works better on the shortest sentences."
   ]
  },
  {
   "cell_type": "markdown",
   "metadata": {},
   "source": [
    "#### Number of sentences : "
   ]
  },
  {
   "cell_type": "code",
   "execution_count": 57,
   "metadata": {},
   "outputs": [
    {
     "data": {
      "text/plain": [
       "nb_sentence\n",
       "1     6022\n",
       "2      318\n",
       "3        7\n",
       "5        2\n",
       "4        2\n",
       "9        1\n",
       "16       1\n",
       "Name: count, dtype: int64"
      ]
     },
     "execution_count": 57,
     "metadata": {},
     "output_type": "execute_result"
    }
   ],
   "source": [
    "from nltk import tokenize\n",
    "\n",
    "sp[\"nb_sentence\"] = sp.sentence.apply(\n",
    "    lambda x : len(tokenize.sent_tokenize(x))\n",
    ")\n",
    "\n",
    "sp.nb_sentence.value_counts()"
   ]
  },
  {
   "cell_type": "markdown",
   "metadata": {},
   "source": [
    "#### Implicitness of label\n",
    "\n",
    "\n",
    "```\n",
    "Predicted labels per similarity in R-GSP :\n",
    "qinter\n",
    "(0.0, 0.25]    0.259259\n",
    "(0.25, 0.5]    0.205195\n",
    "(0.5, 0.75]    0.341463\n",
    "(0.75, 1.0]    0.361702\n",
    "dtype: float64\n",
    "Predicted labels per similarity in Decorte : \n",
    "qinter\n",
    "(0.0, 0.25]    0.333333\n",
    "(0.25, 0.5]    0.233766\n",
    "(0.5, 0.75]    0.292683\n",
    "(0.75, 1.0]    0.436170\n",
    "```\n",
    "\n",
    "We can see the perf for the 25% lowest similarity, the top 25% etc... they are quartile."
   ]
  },
  {
   "cell_type": "markdown",
   "metadata": {},
   "source": [
    "### For matching, R-GSS is slightly above, similar stats, slightly above for R-GSS\n",
    "\n",
    "- interesting point : R-GENSS and Decorte are retrieved with same proba for both parts (extraction, matching)"
   ]
  }
 ],
 "metadata": {
  "kernelspec": {
   "display_name": "nlp1",
   "language": "python",
   "name": "python3"
  },
  "language_info": {
   "codemirror_mode": {
    "name": "ipython",
    "version": 3
   },
   "file_extension": ".py",
   "mimetype": "text/x-python",
   "name": "python",
   "nbconvert_exporter": "python",
   "pygments_lexer": "ipython3",
   "version": "3.9.18"
  }
 },
 "nbformat": 4,
 "nbformat_minor": 2
}
