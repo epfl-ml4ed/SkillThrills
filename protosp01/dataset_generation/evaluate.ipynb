{
 "cells": [
  {
   "cell_type": "code",
   "execution_count": 8,
   "metadata": {},
   "outputs": [
    {
     "name": "stdout",
     "output_type": "stream",
     "text": [
      "The autoreload extension is already loaded. To reload it, use:\n",
      "  %reload_ext autoreload\n"
     ]
    }
   ],
   "source": [
    "from dataset_evaluation import (sentence_level_quality,\n",
    "                                entity_level_quality,\n",
    "                                esco_blink_predictions,\n",
    "                                pipeline_prediction,\n",
    "                                fidelity)\n",
    "\n",
    "# import sys\n",
    "# sys.path.append(\"../evaluation/\")\n",
    "# from evaluate_src import skill_level_metrics\n",
    "import dataset_evaluation as dse\n",
    "from importlib import reload\n",
    "%load_ext autoreload\n",
    "%autoreload 2"
   ]
  },
  {
   "cell_type": "code",
   "execution_count": 2,
   "metadata": {},
   "outputs": [],
   "source": [
    "import pandas as pd\n",
    "import seaborn as sns\n",
    "import os\n",
    "import json\n",
    "from datasets import load_dataset\n",
    "import random"
   ]
  },
  {
   "cell_type": "markdown",
   "metadata": {},
   "source": [
    "# Annotated dataset\n",
    "\n",
    "\n",
    "### Fidelity\n",
    "\n",
    "\n",
    "On the real data :"
   ]
  },
  {
   "cell_type": "code",
   "execution_count": 8,
   "metadata": {},
   "outputs": [
    {
     "name": "stderr",
     "output_type": "stream",
     "text": [
      "Using pad_token, but it is not set yet.\n"
     ]
    },
    {
     "data": {
      "application/vnd.jupyter.widget-view+json": {
       "model_id": "58302323283c4848a97048f543d5d1f2",
       "version_major": 2,
       "version_minor": 0
      },
      "text/plain": [
       "  0%|          | 0/76 [00:00<?, ?it/s]"
      ]
     },
     "metadata": {},
     "output_type": "display_data"
    }
   ],
   "source": [
    "vacancies = pd.read_csv(\"../../data/processed/real/job_offers_compound_2.csv\")\n",
    "\n",
    "metric = fidelity(list(vacancies[\"enhanced_sentences\"]), model_id=\"gpt2\")"
   ]
  },
  {
   "cell_type": "code",
   "execution_count": 10,
   "metadata": {},
   "outputs": [
    {
     "data": {
      "text/plain": [
       "111.46399115887662"
      ]
     },
     "execution_count": 10,
     "metadata": {},
     "output_type": "execute_result"
    }
   ],
   "source": [
    "annot_fidelity = metric[\"mean_perplexity\"]\n",
    "annot_fidelity"
   ]
  },
  {
   "cell_type": "markdown",
   "metadata": {},
   "source": [
    "### ELQ"
   ]
  },
  {
   "cell_type": "code",
   "execution_count": 13,
   "metadata": {},
   "outputs": [
    {
     "name": "stderr",
     "output_type": "stream",
     "text": [
      "[autoreload of utils failed: Traceback (most recent call last):\n",
      "  File \"/mnt/u14157_ic_nlp_001_files_nfs/nlpdata1/home/magron/miniconda3/envs/nlp1/lib/python3.9/site-packages/IPython/extensions/autoreload.py\", line 276, in check\n",
      "    superreload(m, reload, self.old_objects)\n",
      "  File \"/mnt/u14157_ic_nlp_001_files_nfs/nlpdata1/home/magron/miniconda3/envs/nlp1/lib/python3.9/site-packages/IPython/extensions/autoreload.py\", line 500, in superreload\n",
      "    update_generic(old_obj, new_obj)\n",
      "  File \"/mnt/u14157_ic_nlp_001_files_nfs/nlpdata1/home/magron/miniconda3/envs/nlp1/lib/python3.9/site-packages/IPython/extensions/autoreload.py\", line 397, in update_generic\n",
      "    update(a, b)\n",
      "  File \"/mnt/u14157_ic_nlp_001_files_nfs/nlpdata1/home/magron/miniconda3/envs/nlp1/lib/python3.9/site-packages/IPython/extensions/autoreload.py\", line 365, in update_class\n",
      "    update_instances(old, new)\n",
      "  File \"/mnt/u14157_ic_nlp_001_files_nfs/nlpdata1/home/magron/miniconda3/envs/nlp1/lib/python3.9/site-packages/IPython/extensions/autoreload.py\", line 319, in update_instances\n",
      "    refs = gc.get_referrers(old)\n",
      "KeyboardInterrupt\n",
      "]\n"
     ]
    }
   ],
   "source": [
    "test = pd.read_csv(\"https://raw.githubusercontent.com/jensjorisdecorte/Skill-Extraction-benchmark/main/tech_test_annotations.csv\")\n",
    "multilabel = test.groupby(\"sentence\").agg({\"label\": lambda x : x.tolist() , \"span\": lambda x : x.tolist()}).reset_index()\n",
    "annotated_records = multilabel.to_dict(orient='records')"
   ]
  },
  {
   "cell_type": "code",
   "execution_count": null,
   "metadata": {},
   "outputs": [],
   "source": [
    "import random\n",
    "\n",
    "subs = random.sample(annotated_records, 10)\n",
    "pip_annot_predictions_short = pipeline_prediction(subs)"
   ]
  },
  {
   "cell_type": "code",
   "execution_count": 24,
   "metadata": {},
   "outputs": [
    {
     "name": "stdout",
     "output_type": "stream",
     "text": [
      "new\n"
     ]
    },
    {
     "data": {
      "application/vnd.jupyter.widget-view+json": {
       "model_id": "a55ed855957d40dcafe5bb183edc9cb8",
       "version_major": 2,
       "version_minor": 0
      },
      "text/plain": [
       "  0%|          | 0/10 [00:00<?, ?it/s]"
      ]
     },
     "metadata": {},
     "output_type": "display_data"
    },
    {
     "name": "stdout",
     "output_type": "stream",
     "text": [
      "[['Visual Studio .NET', '.net development experience'], ['manage quality', 'quality'], ['computer technology', 'LABEL NOT PRESENT'], ['perform product planning', 'engineers and developers'], ['liaise with shareholders', 'openness to work with many different stakeholders in the organization'], ['Jenkins (tools for software configuration management)', 'git jenkins'], ['adapt developed game to the market', 'developing mobile games'], ['Agile development', 'LABEL NOT PRESENT'], ['financial engineering', 'LABEL NOT PRESENT']]\n"
     ]
    },
    {
     "name": "stderr",
     "output_type": "stream",
     "text": [
      "/mnt/u14157_ic_nlp_001_files_nfs/nlpdata1/home/magron/miniconda3/envs/nlp1/lib/python3.9/site-packages/sklearn/metrics/_classification.py:1469: UndefinedMetricWarning: Precision is ill-defined and being set to 0.0 in labels with no predicted samples. Use `zero_division` parameter to control this behavior.\n",
      "  _warn_prf(average, modifier, msg_start, len(result))\n",
      "/mnt/u14157_ic_nlp_001_files_nfs/nlpdata1/home/magron/miniconda3/envs/nlp1/lib/python3.9/site-packages/sklearn/metrics/_classification.py:1469: UndefinedMetricWarning: Recall is ill-defined and being set to 0.0 in labels with no true samples. Use `zero_division` parameter to control this behavior.\n",
      "  _warn_prf(average, modifier, msg_start, len(result))\n",
      "/mnt/u14157_ic_nlp_001_files_nfs/nlpdata1/home/magron/SkillThrills/protosp01/dataset_generation/dataset_evaluation.py:137: RuntimeWarning: invalid value encountered in scalar divide\n",
      "  \"F1_micro\": (2*precision_micro*recall_micro / (precision_micro + recall_micro)),\n",
      "/mnt/u14157_ic_nlp_001_files_nfs/nlpdata1/home/magron/SkillThrills/protosp01/dataset_generation/dataset_evaluation.py:138: RuntimeWarning: invalid value encountered in scalar divide\n",
      "  \"F1_macro\": (2*precision_macro*recall_macro / (precision_macro + recall_macro))\n"
     ]
    },
    {
     "data": {
      "text/plain": [
       "{'1_to_1': {'accuracy': 0.0,\n",
       "  'precision_micro': 0.0,\n",
       "  'precision_macro': 0.0,\n",
       "  'recall_micro': 0.0,\n",
       "  'recall_macro': 0.0,\n",
       "  'F1_micro': nan,\n",
       "  'F1_macro': nan},\n",
       " 'many_to_many': {'jaccard_accuracy': 0.0}}"
      ]
     },
     "execution_count": 24,
     "metadata": {},
     "output_type": "execute_result"
    }
   ],
   "source": [
    "entity_level_quality(pip_annot_predictions_short[0])"
   ]
  },
  {
   "cell_type": "code",
   "execution_count": 18,
   "metadata": {},
   "outputs": [
    {
     "name": "stdout",
     "output_type": "stream",
     "text": [
      "------------------------------------------------------------------------------------------------------------------------------------------------------\n",
      "sentence :  The role will require proficiency in all aspects of software development including:\n",
      "labels :  ['oversee development of software']\n",
      "spans :  ['software development']\n",
      "extracted_skills :  ['software development']\n",
      "~~~~~~~~~~~~~~~~~~~~~~~~~~~~~~~~~~~~~~~~~~~~~~~~~~~~~~~~~~~~\n",
      "software development\n",
      "~~~~~~~~~~~~~~~~~~~~~~~~~~~~~~~~~~~~~~~~~~~~~~~~~~~~~~~~~~~~\n",
      "matched skill : software development\n",
      "------------------------------------------------------------------------------------------------------------------------------------------------------\n",
      "sentence :  <LOCATION> or <LOCATION> work permit is a must\n",
      "labels :  ['UNDERSPECIFIED']\n",
      "spans :  ['<LOCATION> or <LOCATION> work permit']\n",
      "extracted_skills :  ['<location> or <location> work permit is a must']\n",
      "~~~~~~~~~~~~~~~~~~~~~~~~~~~~~~~~~~~~~~~~~~~~~~~~~~~~~~~~~~~~\n",
      "<location> or <location> work permit is a must\n",
      "~~~~~~~~~~~~~~~~~~~~~~~~~~~~~~~~~~~~~~~~~~~~~~~~~~~~~~~~~~~~\n",
      "matched skill : <location> or <location> work permit is a must\n",
      "------------------------------------------------------------------------------------------------------------------------------------------------------\n",
      "sentence :  * Proficiency in multiple modern programming languages\n",
      "labels :  ['computer programming']\n",
      "spans :  ['programming languages']\n",
      "extracted_skills :  ['programming languages']\n",
      "~~~~~~~~~~~~~~~~~~~~~~~~~~~~~~~~~~~~~~~~~~~~~~~~~~~~~~~~~~~~\n",
      "programming languages\n",
      "~~~~~~~~~~~~~~~~~~~~~~~~~~~~~~~~~~~~~~~~~~~~~~~~~~~~~~~~~~~~\n",
      "matched skill : programming languages\n",
      "------------------------------------------------------------------------------------------------------------------------------------------------------\n",
      "sentence :  equally are effusive about functional programming .\n",
      "labels :  ['use functional programming']\n",
      "spans :  ['functional programming .']\n",
      "extracted_skills :  ['functional programming']\n",
      "~~~~~~~~~~~~~~~~~~~~~~~~~~~~~~~~~~~~~~~~~~~~~~~~~~~~~~~~~~~~\n",
      "functional programming\n",
      "~~~~~~~~~~~~~~~~~~~~~~~~~~~~~~~~~~~~~~~~~~~~~~~~~~~~~~~~~~~~\n",
      "matched skill : functional programming\n",
      "------------------------------------------------------------------------------------------------------------------------------------------------------\n",
      "sentence :  Transfer your excellent intuition for design UI and UX to our app\n",
      "labels :  ['UNDERSPECIFIED', 'UNDERSPECIFIED', 'UNDERSPECIFIED']\n",
      "spans :  ['UI', 'design', 'UX']\n",
      "extracted_skills :  ['ui and ux']\n",
      "~~~~~~~~~~~~~~~~~~~~~~~~~~~~~~~~~~~~~~~~~~~~~~~~~~~~~~~~~~~~\n",
      "ui and ux\n",
      "~~~~~~~~~~~~~~~~~~~~~~~~~~~~~~~~~~~~~~~~~~~~~~~~~~~~~~~~~~~~\n",
      "matched skill : ui and ux\n",
      "------------------------------------------------------------------------------------------------------------------------------------------------------\n",
      "sentence :  You have experience designing multi-threaded systems and algorithms\n",
      "labels :  ['LABEL NOT PRESENT', 'LABEL NOT PRESENT']\n",
      "spans :  ['designing multi-threaded systems and algorithms', 'designing multi-threaded systems and algorithms']\n",
      "extracted_skills :  ['multi-threaded systems and algorithms']\n",
      "~~~~~~~~~~~~~~~~~~~~~~~~~~~~~~~~~~~~~~~~~~~~~~~~~~~~~~~~~~~~\n",
      "multi-threaded systems and algorithms\n",
      "~~~~~~~~~~~~~~~~~~~~~~~~~~~~~~~~~~~~~~~~~~~~~~~~~~~~~~~~~~~~\n",
      "matched skill : multi-threaded systems and algorithms\n",
      "------------------------------------------------------------------------------------------------------------------------------------------------------\n",
      "sentence :  Experience in quality assurance preferably in the same industry .\n",
      "labels :  ['quality assurance methodologies']\n",
      "spans :  ['quality assurance']\n",
      "extracted_skills :  ['quality assurance']\n",
      "~~~~~~~~~~~~~~~~~~~~~~~~~~~~~~~~~~~~~~~~~~~~~~~~~~~~~~~~~~~~\n",
      "quality assurance\n",
      "~~~~~~~~~~~~~~~~~~~~~~~~~~~~~~~~~~~~~~~~~~~~~~~~~~~~~~~~~~~~\n",
      "matched skill : quality assurance\n",
      "------------------------------------------------------------------------------------------------------------------------------------------------------\n",
      "sentence :  * Keen understanding of financial control and budget management\n",
      "labels :  ['control financial resources', 'manage budgets']\n",
      "spans :  ['financial control', 'budget management']\n",
      "extracted_skills :  ['financial control and budget management']\n",
      "~~~~~~~~~~~~~~~~~~~~~~~~~~~~~~~~~~~~~~~~~~~~~~~~~~~~~~~~~~~~\n",
      "financial control and budget management\n",
      "~~~~~~~~~~~~~~~~~~~~~~~~~~~~~~~~~~~~~~~~~~~~~~~~~~~~~~~~~~~~\n",
      "matched skill : financial control and budget management\n",
      "------------------------------------------------------------------------------------------------------------------------------------------------------\n",
      "sentence :  Industry: Collaboration Tools Computer Software Open-Source\n",
      "labels :  ['use online tools to collaborate', 'LABEL NOT PRESENT', 'Open source model']\n",
      "spans :  ['Collaboration Tools', 'Computer Software', 'Open-Source']\n",
      "extracted_skills :  []\n",
      "~~~~~~~~~~~~~~~~~~~~~~~~~~~~~~~~~~~~~~~~~~~~~~~~~~~~~~~~~~~~\n",
      "~~~~~~~~~~~~~~~~~~~~~~~~~~~~~~~~~~~~~~~~~~~~~~~~~~~~~~~~~~~~\n",
      "matched skill : ------------------------------------------------------------------------------------------------------------------------------------------------------\n",
      "sentence :  * Ability to support the developers in your team leading supporting and coaching others\n",
      "labels :  ['manage a team', 'lead others', 'mentor individuals', 'coach employees']\n",
      "spans :  ['support the developers in your team', 'leading', 'supporting', 'coaching']\n",
      "extracted_skills :  ['ability to support the developers in your team']\n",
      "~~~~~~~~~~~~~~~~~~~~~~~~~~~~~~~~~~~~~~~~~~~~~~~~~~~~~~~~~~~~\n",
      "ability to support the developers in your team\n",
      "~~~~~~~~~~~~~~~~~~~~~~~~~~~~~~~~~~~~~~~~~~~~~~~~~~~~~~~~~~~~\n",
      "matched skill : ability to support the developers in your team\n"
     ]
    }
   ],
   "source": [
    "for tentry in pip_annot_predictions_short[0]:\n",
    "    entry = tentry[0]\n",
    "    print(\"-\"*150)\n",
    "    print(\"sentence : \", entry[\"sentence\"])\n",
    "    print(\"labels : \", entry[\"label\"])\n",
    "    print(\"spans : \", entry[\"span\"])\n",
    "    print(\"extracted_skills : \", entry[\"extracted_skills\"])\n",
    "    print(\"~\"*60)\n",
    "    for cand in entry[\"skill_candidates\"]:\n",
    "        print(cand)\n",
    "    print(\"~\"*60)\n",
    "    print(\"matched skill : \", end=\"\")\n",
    "    for msk in entry[\"matched_skills\"]:\n",
    "        print(msk)"
   ]
  },
  {
   "cell_type": "code",
   "execution_count": null,
   "metadata": {},
   "outputs": [],
   "source": [
    "if(os.path.isfile(\"preds.json\")):\n",
    "    print(\"> Loading precomputed results\")\n",
    "    with open('preds.json', 'w') as f:\n",
    "        pip_annot_predictions = json.load(f)\n",
    "else :\n",
    "    print(\"> Computing predictions\")\n",
    "    pip_annot_predictions = pipeline_prediction(annotated_records)\n",
    "    with open('preds.json', 'w') as f:\n",
    "        json.dump(pip_annot_predictions, f)"
   ]
  },
  {
   "cell_type": "code",
   "execution_count": 64,
   "metadata": {},
   "outputs": [
    {
     "name": "stderr",
     "output_type": "stream",
     "text": [
      "Some weights of BertModel were not initialized from the model checkpoint at jjzha/jobbert-base-cased and are newly initialized: ['bert.pooler.dense.bias', 'bert.pooler.dense.weight']\n",
      "You should probably TRAIN this model on a down-stream task to be able to use it for predictions and inference.\n",
      "/mnt/u14157_ic_nlp_001_files_nfs/nlpdata1/home/magron/miniconda3/envs/nlp1/lib/python3.9/site-packages/sklearn/metrics/_classification.py:1469: UndefinedMetricWarning: Precision is ill-defined and being set to 0.0 in labels with no predicted samples. Use `zero_division` parameter to control this behavior.\n",
      "  _warn_prf(average, modifier, msg_start, len(result))\n",
      "/mnt/u14157_ic_nlp_001_files_nfs/nlpdata1/home/magron/miniconda3/envs/nlp1/lib/python3.9/site-packages/sklearn/metrics/_classification.py:1469: UndefinedMetricWarning: Recall is ill-defined and being set to 0.0 in labels with no true samples. Use `zero_division` parameter to control this behavior.\n",
      "  _warn_prf(average, modifier, msg_start, len(result))\n"
     ]
    },
    {
     "data": {
      "text/plain": [
       "{'1_to_1': {'accuracy': 0.01483679525222552,\n",
       "  'precision_micro': 0.01483679525222552,\n",
       "  'precision_macro': 0.010204081632653062,\n",
       "  'recall_micro': 0.01483679525222552,\n",
       "  'recall_macro': 0.005473505191550304,\n",
       "  'F1_micro': 0.01483679525222552,\n",
       "  'F1_macro': 0.007125088116891062},\n",
       " 'many_to_many': {'jaccard_accuracy': 0.008316526610644259}}"
      ]
     },
     "execution_count": 64,
     "metadata": {},
     "output_type": "execute_result"
    }
   ],
   "source": [
    "pip_annot_ELQ = entity_level_quality(pip_annot_predictions[0])\n",
    "pip_annot_ELQ"
   ]
  },
  {
   "cell_type": "markdown",
   "metadata": {},
   "source": [
    "### SLQ"
   ]
  },
  {
   "cell_type": "code",
   "execution_count": 22,
   "metadata": {},
   "outputs": [
    {
     "name": "stderr",
     "output_type": "stream",
     "text": [
      "Some weights of BertModel were not initialized from the model checkpoint at jjzha/jobbert-base-cased and are newly initialized: ['bert.pooler.dense.weight', 'bert.pooler.dense.bias']\n",
      "You should probably TRAIN this model on a down-stream task to be able to use it for predictions and inference.\n"
     ]
    },
    {
     "data": {
      "application/vnd.jupyter.widget-view+json": {
       "model_id": "782d4c209c5b49c2a122532d2c12fd13",
       "version_major": 2,
       "version_minor": 0
      },
      "text/plain": [
       "  0%|          | 0/1164 [00:00<?, ?it/s]"
      ]
     },
     "metadata": {},
     "output_type": "display_data"
    },
    {
     "data": {
      "application/vnd.jupyter.widget-view+json": {
       "model_id": "5333dcbff68346aaae3fa9273950e0cf",
       "version_major": 2,
       "version_minor": 0
      },
      "text/plain": [
       "  0%|          | 0/1164 [00:00<?, ?it/s]"
      ]
     },
     "metadata": {},
     "output_type": "display_data"
    }
   ],
   "source": [
    "annot_SLQ = sentence_level_quality(pd.DataFrame(annotated_records).explode(\"label\"))"
   ]
  },
  {
   "cell_type": "code",
   "execution_count": 28,
   "metadata": {},
   "outputs": [
    {
     "name": "stderr",
     "output_type": "stream",
     "text": [
      "/mnt/u14157_ic_nlp_001_files_nfs/nlpdata1/home/magron/miniconda3/envs/nlp1/lib/python3.9/site-packages/seaborn/_oldcore.py:1498: FutureWarning: is_categorical_dtype is deprecated and will be removed in a future version. Use isinstance(dtype, CategoricalDtype) instead\n",
      "  if pd.api.types.is_categorical_dtype(vector):\n",
      "/mnt/u14157_ic_nlp_001_files_nfs/nlpdata1/home/magron/miniconda3/envs/nlp1/lib/python3.9/site-packages/seaborn/_oldcore.py:1119: FutureWarning: use_inf_as_na option is deprecated and will be removed in a future version. Convert inf values to NaN before operating instead.\n",
      "  with pd.option_context('mode.use_inf_as_na', True):\n"
     ]
    },
    {
     "data": {
      "image/png": "[encoded data removed]",
      "text/plain": [
       "<Figure size 640x480 with 1 Axes>"
      ]
     },
     "metadata": {},
     "output_type": "display_data"
    }
   ],
   "source": [
    "g = sns.histplot(data=annot_SLQ.reset_index(), x=\"sim\")\n",
    "g.set_xlim((0, 1))\n",
    "g.set_title(\"Distribution of the semantic similarity between the sentence and the annotated skill\")\n",
    "g.set_xlabel(\"Cosine similarity\")\n",
    "g.set_ylabel(\"Number of (sentence, skill) pair\");"
   ]
  },
  {
   "cell_type": "code",
   "execution_count": 27,
   "metadata": {},
   "outputs": [],
   "source": [
    "annot_SLQ_metrics = {\n",
    "    'mean': annot_SLQ.sim.mean(),\n",
    "    'median': annot_SLQ.sim.median(),\n",
    "    'var': annot_SLQ.sim.var()\n",
    "}"
   ]
  },
  {
   "cell_type": "markdown",
   "metadata": {},
   "source": [
    "### Conlusion"
   ]
  },
  {
   "cell_type": "code",
   "execution_count": null,
   "metadata": {},
   "outputs": [],
   "source": [
    "metrics = {\n",
    "    \"annotated\" : {\n",
    "        \"fidelity\" : annot_fidelity,\n",
    "        \"SLQ\": annot_SLQ_metrics,\n",
    "        \"pip_ELQ\": pip_annot_ELQ,\n",
    "    }\n",
    "}"
   ]
  },
  {
   "cell_type": "markdown",
   "metadata": {},
   "source": [
    "# Synthetic dataset"
   ]
  },
  {
   "cell_type": "code",
   "execution_count": 3,
   "metadata": {},
   "outputs": [],
   "source": [
    "ds = load_dataset(\"jensjorisdecorte/Synthetic-ESCO-skill-sentences\")[\"train\"]"
   ]
  },
  {
   "cell_type": "markdown",
   "metadata": {},
   "source": [
    "### Fidelity"
   ]
  },
  {
   "cell_type": "code",
   "execution_count": 14,
   "metadata": {},
   "outputs": [
    {
     "name": "stderr",
     "output_type": "stream",
     "text": [
      "Using pad_token, but it is not set yet.\n"
     ]
    },
    {
     "data": {
      "application/vnd.jupyter.widget-view+json": {
       "model_id": "b52937932528409ebcb8069f55318388",
       "version_major": 2,
       "version_minor": 0
      },
      "text/plain": [
       "  0%|          | 0/8642 [00:00<?, ?it/s]"
      ]
     },
     "metadata": {},
     "output_type": "display_data"
    }
   ],
   "source": [
    "metric = fidelity(ds[\"sentence\"], model_id=\"gpt2\")"
   ]
  },
  {
   "cell_type": "code",
   "execution_count": 15,
   "metadata": {},
   "outputs": [
    {
     "data": {
      "text/plain": [
       "104.67401827280452"
      ]
     },
     "execution_count": 15,
     "metadata": {},
     "output_type": "execute_result"
    }
   ],
   "source": [
    "synth_fidelity = metric[\"mean_perplexity\"]\n",
    "synth_fidelity"
   ]
  },
  {
   "cell_type": "markdown",
   "metadata": {},
   "source": [
    "### ELQ"
   ]
  },
  {
   "cell_type": "code",
   "execution_count": 4,
   "metadata": {},
   "outputs": [],
   "source": [
    "synth_ds = pd.DataFrame(ds)\n",
    "csynth_ds = synth_ds.groupby(\"sentence\").agg({'skill' : lambda x: x.tolist()}).reset_index()\n",
    "csynth_records = csynth_ds.to_dict(orient='records')"
   ]
  },
  {
   "cell_type": "code",
   "execution_count": null,
   "metadata": {},
   "outputs": [],
   "source": [
    "subs_csr = random.sample(csynth_records, 15)\n",
    "pip_synth_predictions = pipeline_prediction(subs_csr)"
   ]
  },
  {
   "cell_type": "code",
   "execution_count": 15,
   "metadata": {},
   "outputs": [
    {
     "name": "stdout",
     "output_type": "stream",
     "text": [
      "new\n"
     ]
    },
    {
     "data": {
      "application/vnd.jupyter.widget-view+json": {
       "model_id": "71243c851b2a4b9bbf62f14ae7776994",
       "version_major": 2,
       "version_minor": 0
      },
      "text/plain": [
       "  0%|          | 0/15 [00:00<?, ?it/s]"
      ]
     },
     "metadata": {},
     "output_type": "display_data"
    },
    {
     "name": "stdout",
     "output_type": "stream",
     "text": [
      "[[[\"report on customers' complaints related to toilet facilities\"], ['communication skills']], [['repair clocks'], ['disassemble and assemble clocks and their parts']], [['use content management system software'], ['content management systems']], [['interpret radiology examinations'], ['ability to communicate effectively with referring physicians and other medical professionals']], [['maintain stage weapons'], []], [['supervise children'], ['snacks or bathroom breaks']], [['compare production forecasts with actual results'], ['compare production forecasts with actual results']], [['rear food fish'], ['breeding and rearing of food fish']], [['host trade delegations'], [\"ability to anticipate and address issues that may arise during a delegation's visit\"]], [['install lighting'], []], [['manage casino'], ['financial management, employee relations, and compliance with local and federal regulations']], [['verify formal ICT specifications'], ['efficiency and correctness of algorithms and systems']], [['IBM WebSphere'], ['installation, configuration and troubleshooting of various components']], [['clean printed circuit board'], ['ability to identify factors that can impact printing on the circuit board and remedy the issues to ensure the cleanest possible result']], [['support distressed emergency callers'], ['fast-paced environment']]]\n"
     ]
    },
    {
     "name": "stderr",
     "output_type": "stream",
     "text": [
      "/mnt/u14157_ic_nlp_001_files_nfs/nlpdata1/home/magron/miniconda3/envs/nlp1/lib/python3.9/site-packages/sklearn/metrics/_classification.py:1469: UndefinedMetricWarning: Precision is ill-defined and being set to 0.0 in labels with no predicted samples. Use `zero_division` parameter to control this behavior.\n",
      "  _warn_prf(average, modifier, msg_start, len(result))\n",
      "/mnt/u14157_ic_nlp_001_files_nfs/nlpdata1/home/magron/miniconda3/envs/nlp1/lib/python3.9/site-packages/sklearn/metrics/_classification.py:1469: UndefinedMetricWarning: Recall is ill-defined and being set to 0.0 in labels with no true samples. Use `zero_division` parameter to control this behavior.\n",
      "  _warn_prf(average, modifier, msg_start, len(result))\n"
     ]
    }
   ],
   "source": [
    "pip_synth_ELQ = entity_level_quality(pip_synth_predictions[0], label_key=\"skill\")"
   ]
  },
  {
   "cell_type": "markdown",
   "metadata": {},
   "source": [
    "### SLQ"
   ]
  },
  {
   "cell_type": "code",
   "execution_count": 13,
   "metadata": {},
   "outputs": [
    {
     "name": "stderr",
     "output_type": "stream",
     "text": [
      "Some weights of BertModel were not initialized from the model checkpoint at jjzha/jobbert-base-cased and are newly initialized: ['bert.pooler.dense.bias', 'bert.pooler.dense.weight']\n",
      "You should probably TRAIN this model on a down-stream task to be able to use it for predictions and inference.\n"
     ]
    },
    {
     "data": {
      "application/vnd.jupyter.widget-view+json": {
       "model_id": "f03eff842bd04ddba90a59f2a01f2d0a",
       "version_major": 2,
       "version_minor": 0
      },
      "text/plain": [
       "  0%|          | 0/10000 [00:00<?, ?it/s]"
      ]
     },
     "metadata": {},
     "output_type": "display_data"
    },
    {
     "name": "stderr",
     "output_type": "stream",
     "text": [
      "/mnt/u14157_ic_nlp_001_files_nfs/nlpdata1/home/magron/SkillThrills/protosp01/dataset_generation/dataset_evaluation.py:86: SettingWithCopyWarning: \n",
      "A value is trying to be set on a copy of a slice from a DataFrame.\n",
      "Try using .loc[row_indexer,col_indexer] = value instead\n",
      "\n",
      "See the caveats in the documentation: https://pandas.pydata.org/pandas-docs/stable/user_guide/indexing.html#returning-a-view-versus-a-copy\n",
      "  dataset[\"embeddings\"] = dataset[\"sentence\"]\\\n",
      "/mnt/u14157_ic_nlp_001_files_nfs/nlpdata1/home/magron/SkillThrills/protosp01/dataset_generation/dataset_evaluation.py:91: SettingWithCopyWarning: \n",
      "A value is trying to be set on a copy of a slice from a DataFrame.\n",
      "Try using .loc[row_indexer,col_indexer] = value instead\n",
      "\n",
      "See the caveats in the documentation: https://pandas.pydata.org/pandas-docs/stable/user_guide/indexing.html#returning-a-view-versus-a-copy\n",
      "  dataset[\"embeddings\"] = dataset[\"embeddings\"].apply(lambda x : x.detach())\n"
     ]
    },
    {
     "data": {
      "application/vnd.jupyter.widget-view+json": {
       "model_id": "5811e014a5a54422bb95819ac7cc5455",
       "version_major": 2,
       "version_minor": 0
      },
      "text/plain": [
       "  0%|          | 0/10000 [00:02<?, ?it/s]"
      ]
     },
     "metadata": {},
     "output_type": "display_data"
    },
    {
     "name": "stderr",
     "output_type": "stream",
     "text": [
      "/mnt/u14157_ic_nlp_001_files_nfs/nlpdata1/home/magron/SkillThrills/protosp01/dataset_generation/dataset_evaluation.py:92: SettingWithCopyWarning: \n",
      "A value is trying to be set on a copy of a slice from a DataFrame.\n",
      "Try using .loc[row_indexer,col_indexer] = value instead\n",
      "\n",
      "See the caveats in the documentation: https://pandas.pydata.org/pandas-docs/stable/user_guide/indexing.html#returning-a-view-versus-a-copy\n",
      "  dataset[\"sim\"] = dataset[[\"embeddings\", label_key]].progress_apply(compute_cos_sim, axis=1)\n"
     ]
    }
   ],
   "source": [
    "synth_SLQ = sentence_level_quality(synth_ds[:10_000], label_key=\"skill\")"
   ]
  },
  {
   "cell_type": "code",
   "execution_count": 14,
   "metadata": {},
   "outputs": [
    {
     "name": "stderr",
     "output_type": "stream",
     "text": [
      "/mnt/u14157_ic_nlp_001_files_nfs/nlpdata1/home/magron/miniconda3/envs/nlp1/lib/python3.9/site-packages/seaborn/_oldcore.py:1498: FutureWarning: is_categorical_dtype is deprecated and will be removed in a future version. Use isinstance(dtype, CategoricalDtype) instead\n",
      "  if pd.api.types.is_categorical_dtype(vector):\n",
      "/mnt/u14157_ic_nlp_001_files_nfs/nlpdata1/home/magron/miniconda3/envs/nlp1/lib/python3.9/site-packages/seaborn/_oldcore.py:1119: FutureWarning: use_inf_as_na option is deprecated and will be removed in a future version. Convert inf values to NaN before operating instead.\n",
      "  with pd.option_context('mode.use_inf_as_na', True):\n"
     ]
    },
    {
     "data": {
      "image/png": "[encoded data removed]",
      "text/plain": [
       "<Figure size 640x480 with 1 Axes>"
      ]
     },
     "metadata": {},
     "output_type": "display_data"
    }
   ],
   "source": [
    "g = sns.histplot(data=synth_SLQ.reset_index(), x=\"sim\")\n",
    "g.set_xlim((0, 1))\n",
    "g.set_title(\"Distribution of the semantic similarity between the sentence and the annotated skill\")\n",
    "g.set_xlabel(\"Cosine similarity\")\n",
    "g.set_ylabel(\"Number of (sentence, skill) pair\");"
   ]
  },
  {
   "cell_type": "markdown",
   "metadata": {},
   "source": [
    "## Slightly deeper SkillSpan Analysis"
   ]
  },
  {
   "cell_type": "code",
   "execution_count": 21,
   "metadata": {},
   "outputs": [
    {
     "data": {
      "text/plain": [
       "[['Visual Studio .NET', 'LABEL NOT PRESENT'],\n",
       " ['manage quality'],\n",
       " ['UNDERSPECIFIED',\n",
       "  'UNDERSPECIFIED',\n",
       "  'LABEL NOT PRESENT',\n",
       "  'LABEL NOT PRESENT',\n",
       "  'LABEL NOT PRESENT',\n",
       "  'LABEL NOT PRESENT'],\n",
       " ['computer technology', 'LABEL NOT PRESENT'],\n",
       " ['perform product planning'],\n",
       " ['liaise with shareholders'],\n",
       " ['LABEL NOT PRESENT',\n",
       "  'LABEL NOT PRESENT',\n",
       "  'Jenkins (tools for software configuration management)'],\n",
       " ['adapt developed game to the market', 'LABEL NOT PRESENT'],\n",
       " ['Agile development', 'financial engineering'],\n",
       " ['LABEL NOT PRESENT']]"
      ]
     },
     "execution_count": 21,
     "metadata": {},
     "output_type": "execute_result"
    }
   ],
   "source": [
    "[ar[\"label\"] for ar in subs]"
   ]
  },
  {
   "cell_type": "code",
   "execution_count": 22,
   "metadata": {},
   "outputs": [
    {
     "data": {
      "text/plain": [
       "([[{'sentence': '. NET development experience within an MS Dynamics 365 environment',\n",
       "    'label': ['Visual Studio .NET', 'LABEL NOT PRESENT'],\n",
       "    'span': ['. NET', 'MS Dynamics 365'],\n",
       "    'extracted_skills': ['.net development experience'],\n",
       "    'skill_candidates': {'.net development experience': [{'unique_id': 2600,\n",
       "       'Type Level 2': 'knowledge',\n",
       "       'name+definition': 'Octopus Deploy : The tool Octopus Deploy is a software program used to automate ASP.NET applications deployment to local or on the cloud servers.'},\n",
       "      {'unique_id': 4752,\n",
       "       'Type Level 2': 'knowledge',\n",
       "       'name+definition': 'ASP.NET : The techniques and principles of software development, such as analysis, algorithms, coding, testing and compiling of programming paradigms in ASP.NET.'},\n",
       "      {'unique_id': 6210,\n",
       "       'Type Level 2': 'knowledge',\n",
       "       'name+definition': 'Oracle WebLogic : The application server Oracle WebLogic is Java EE based application server which serves as a middle tier that links the back-end databases to the related applications.'},\n",
       "      {'unique_id': 7414,\n",
       "       'Type Level 2': 'knowledge',\n",
       "       'name+definition': 'Oracle Application Development Framework : The Java framework software development environment which provide specific features and components (such as enhanced reusability features, visual and declarative programming) that support and guide enterprise applications development.'},\n",
       "      {'unique_id': 8618,\n",
       "       'Type Level 2': 'knowledge',\n",
       "       'name+definition': 'tools for software configuration management : The software programs to perform configuration identification, control, status accounting and audit, such as CVS, ClearCase, Subversion, GIT and TortoiseSVN\\xa0perform this management.'},\n",
       "      {'unique_id': 8999,\n",
       "       'Type Level 2': 'knowledge',\n",
       "       'name+definition': 'IBM WebSphere : The application server IBM WebSphere provides flexible and secure Java EE runtime environments to support application infrastructure and deployments.'},\n",
       "      {'unique_id': 9327,\n",
       "       'Type Level 2': 'knowledge',\n",
       "       'name+definition': 'database management systems : The tools for creating, updating and managing databases, such as Oracle, MySQL and Microsoft SQL Server.'},\n",
       "      {'unique_id': 10155,\n",
       "       'Type Level 2': 'knowledge',\n",
       "       'name+definition': 'SAP R3 : The techniques and principles of software development, such as analysis, algorithms, coding, testing and compiling of programming paradigms in SAP R3.'},\n",
       "      {'unique_id': 11129,\n",
       "       'Type Level 2': 'knowledge',\n",
       "       'name+definition': 'business ICT systems : The software packages, hardware devices and new technologies used in supporting business processes such as enterprise resource planning (ERP), customer relationship management (CRM), mobile devices and network solutions.'},\n",
       "      {'unique_id': 11331,\n",
       "       'Type Level 2': 'skill/competence',\n",
       "       'name+definition': 'apply operations for an ITIL-based environment : Properly operate ITIL (Information Technology Infrastructure Library) based service desk procedures.'},\n",
       "      {'unique_id': 13000,\n",
       "       'Type Level 2': 'skill/competence',\n",
       "       'name+definition': 'manage standard enterprise resource planning system : Collect, manage and interpret data relevant for companies related to shipping, payment, inventory, resources and manufacturing using specific business management software. Such software as Microsoft Dynamics\\u200b, SAP ERP, Oracle ERP.'}]},\n",
       "    'matched_skills': {'.net development experience': {'unique_id': 4752,\n",
       "      'Type Level 2': 'knowledge',\n",
       "      'name+definition': 'ASP.NET : The techniques and principles of software development, such as analysis, algorithms, coding, testing and compiling of programming paradigms in ASP.NET.'}}}],\n",
       "  [{'sentence': \"You'll be encouraged to maintain quality and be pushed past your own expectations .\",\n",
       "    'label': ['manage quality'],\n",
       "    'span': ['maintain quality'],\n",
       "    'extracted_skills': ['quality', 'expectations'],\n",
       "    'skill_candidates': {'quality': [{'unique_id': 994,\n",
       "       'Type Level 2': 'skill/competence',\n",
       "       'name+definition': 'maintain pricing database : Maintain internal and external database to ensure that all pricing data are permanently accurate and up-to-date.'},\n",
       "      {'unique_id': 2108,\n",
       "       'Type Level 2': 'skill/competence',\n",
       "       'name+definition': 'ensure continuous preparedness for audits : Ensure constant compliance with standards and requirements, such as keeping certifications up to date and monitoring activities to ensure correct procedures are followed, so that audits can occur smoothly and no negative aspects can be identified.'},\n",
       "      {'unique_id': 3898,\n",
       "       'Type Level 2': 'skill/competence',\n",
       "       'name+definition': 'manage radiology information system : Develop and maintain a database to store, manage and distribute radiological images and data.'},\n",
       "      {'unique_id': 4328,\n",
       "       'Type Level 2': 'skill/competence',\n",
       "       'name+definition': 'manage findable accessible interoperable and reusable data : Produce, describe, store, preserve and (re) use scientific data based on FAIR (Findable, Accessible, Interoperable, and Reusable) principles, making data as open as possible, and as closed as necessary.'},\n",
       "      {'unique_id': 4975,\n",
       "       'Type Level 2': 'skill/competence',\n",
       "       'name+definition': 'manage water distribution procedures : Ensure the supply systems are maintained and the operations occur efficiently and in compliance with regulations  to ensure proper distribution and supply of water from the facility.'},\n",
       "      {'unique_id': 5342,\n",
       "       'Type Level 2': 'skill/competence',\n",
       "       'name+definition': 'store digital data and systems : Use software tools to archive data by copying and backing them up, in order to ensure their integrity and to prevent data loss.'},\n",
       "      {'unique_id': 10334,\n",
       "       'Type Level 2': 'skill/competence',\n",
       "       'name+definition': 'keep records of merchandise delivery : Keep records of goods deliveries; report discrepancies to control costs in order to maintain correct inventory levels.'},\n",
       "      {'unique_id': 10521,\n",
       "       'Type Level 2': 'skill/competence',\n",
       "       'name+definition': 'ensure proper document management : Guarantee that the tracking and recording standards and rules for document management are followed, such as\\xa0ensuring that changes are identified, that documents remain readable and that obsoleted documents are not used.'},\n",
       "      {'unique_id': 12228,\n",
       "       'Type Level 2': 'skill/competence',\n",
       "       'name+definition': 'keep track of expenses : Make sure that project expenses are duly recorded. Ensure careful bookkeeping, regularly review the budget, respect budget allocations, and take all necessary steps to keep the expenses transparent.'},\n",
       "      {'unique_id': 13197,\n",
       "       'Type Level 2': 'skill/competence',\n",
       "       'name+definition': 'maintain inventory of tools : Keep an inventory of tools utilised in the provision of services. Ensure that tool sets remain complete and suitable for use.'},\n",
       "      {'unique_id': 13657,\n",
       "       'Type Level 2': 'skill/competence',\n",
       "       'name+definition': 'liaise with logistics management teams : Communicate with logistics management in order to optimise service levels; optimise the supply chain while keeping expenditures at a minimum.'}],\n",
       "     'expectations': [{'unique_id': 580,\n",
       "       'Type Level 2': 'skill/competence',\n",
       "       'name+definition': 'perform multiple tasks at the same time : Execute multiple tasks at the same time, being aware of key priorities.'},\n",
       "      {'unique_id': 4187,\n",
       "       'Type Level 2': 'skill/competence',\n",
       "       'name+definition': 'update budget : Make sure that a given budget remains up to date using most recent and most accurate information. Anticipate possible variations and ensure that the set budgetary goals can be reached within the given context.'},\n",
       "      {'unique_id': 4874,\n",
       "       'Type Level 2': 'skill/competence',\n",
       "       'name+definition': 'evaluate writings in response to feedback : Edit and adapt work in response to comments from peers and publishers.'},\n",
       "      {'unique_id': 5775,\n",
       "       'Type Level 2': 'knowledge',\n",
       "       'name+definition': 'crowdsourcing strategy : The high level planning for managing and optimising business processes, ideas or content by gathering contributions from a big community of people, including on-line groups.'},\n",
       "      {'unique_id': 5859,\n",
       "       'Type Level 2': 'skill/competence',\n",
       "       'name+definition': 'implement operational business plans : Implement the strategic business and operational plan for an organisation by engaging and delegating to others, monitoring progress and making adjustments along the way. Evaluate the extent to which strategic objectives have been achieved, learn lessons, celebrate success and recognise people’s contributions.'},\n",
       "      {'unique_id': 6373,\n",
       "       'Type Level 2': 'skill/competence',\n",
       "       'name+definition': 'manage personal finances : Identify personal financial objectives and set up a strategy to match this target in seeking support and advice when necessary.'},\n",
       "      {'unique_id': 6856,\n",
       "       'Type Level 2': 'skill/competence',\n",
       "       'name+definition': 'finish project within budget : Make sure to stay within budget. Adapt work and materials to budget.'},\n",
       "      {'unique_id': 7971,\n",
       "       'Type Level 2': 'skill/competence',\n",
       "       'name+definition': 'monitor production developments : Monitor parameters to keep an eye on the production, developments and costs within your area of control.'},\n",
       "      {'unique_id': 9424,\n",
       "       'Type Level 2': 'skill/competence',\n",
       "       'name+definition': 'provide performance feedback : Provide performance feedback and observation remarks to third parties with regard to quality'},\n",
       "      {'unique_id': 11618,\n",
       "       'Type Level 2': 'skill/competence',\n",
       "       'name+definition': 'make decisions : Make a choice from several alternative possibilities.'},\n",
       "      {'unique_id': 12228,\n",
       "       'Type Level 2': 'skill/competence',\n",
       "       'name+definition': 'keep track of expenses : Make sure that project expenses are duly recorded. Ensure careful bookkeeping, regularly review the budget, respect budget allocations, and take all necessary steps to keep the expenses transparent.'}]},\n",
       "    'matched_skills': {'quality': {'unique_id': 994,\n",
       "      'Type Level 2': 'skill/competence',\n",
       "      'name+definition': 'maintain pricing database : Maintain internal and external database to ensure that all pricing data are permanently accurate and up-to-date.'},\n",
       "     'expectations': {'unique_id': 580,\n",
       "      'Type Level 2': 'skill/competence',\n",
       "      'name+definition': 'perform multiple tasks at the same time : Execute multiple tasks at the same time, being aware of key priorities.'}}}],\n",
       "  [{'sentence': 'Experience in design development and delivery experience across the Dynamics 365 landscape ( historically Dynamics CRM ) Strong understanding of the Dynamics 365 platform core modules and technologies',\n",
       "    'label': ['UNDERSPECIFIED',\n",
       "     'UNDERSPECIFIED',\n",
       "     'LABEL NOT PRESENT',\n",
       "     'LABEL NOT PRESENT',\n",
       "     'LABEL NOT PRESENT',\n",
       "     'LABEL NOT PRESENT'],\n",
       "    'span': ['design',\n",
       "     'development',\n",
       "     'Dynamics 365',\n",
       "     'Dynamics CRM )',\n",
       "     'delivery',\n",
       "     'Dynamics 365'],\n",
       "    'extracted_skills': ['design development and delivery experience across the dynamics 365 landscape',\n",
       "     'core modules and technologies'],\n",
       "    'skill_candidates': {'design development and delivery experience across the dynamics 365 landscape': [{'unique_id': 5966,\n",
       "       'Type Level 2': 'skill/competence',\n",
       "       'name+definition': 'apply strategic thinking : Apply generation and effective application of business insights and possible opportunities, in order to achieve competitive business advantage on a long-term basis.'},\n",
       "      {'unique_id': 6133,\n",
       "       'Type Level 2': 'knowledge',\n",
       "       'name+definition': 'outsourcing strategy : The high level planning for managing and optimising external services of providers to execute business processes.'},\n",
       "      {'unique_id': 6738,\n",
       "       'Type Level 2': 'skill/competence',\n",
       "       'name+definition': 'manage workflow processes : Develop, document and implement traffic and workflow processes across the company for different functions. Liaise with several departments and services such as account management and the creative director to plan and resource work.'},\n",
       "      {'unique_id': 7678,\n",
       "       'Type Level 2': 'skill/competence',\n",
       "       'name+definition': 'advise on efficiency improvements : Analyse information and details of processes and products in order to advise on possible efficiency improvements that could be implemented and would signify a better use of resources.'},\n",
       "      {'unique_id': 8156,\n",
       "       'Type Level 2': 'skill/competence',\n",
       "       'name+definition': 'coordinate membership work : Provide internal coordination for membership work such as oversee implementation of efficient membership processes, systems and strategies and ensure affiliate information is accurate and up to date.'},\n",
       "      {'unique_id': 8977,\n",
       "       'Type Level 2': 'skill/competence',\n",
       "       'name+definition': 'design information system : Define the architecture, composition, components, modules, interfaces and data for integrated information systems (hardware, software and network), based on system requirements and specifications.'},\n",
       "      {'unique_id': 8984,\n",
       "       'Type Level 2': 'skill/competence',\n",
       "       'name+definition': 'define integration strategy : Specify strategies for system integration, incorporating the time schedule, the processes required to combine components into subsystems and systems, the means on how components will interface as well as the risks associated with the integration.'},\n",
       "      {'unique_id': 10500,\n",
       "       'Type Level 2': 'skill/competence',\n",
       "       'name+definition': 'analyse ICT technical proposals : Compare and assess technical requirements of an ICT product, service or solution in terms of quality, costs and compliance to specifications'},\n",
       "      {'unique_id': 10734,\n",
       "       'Type Level 2': 'skill/competence',\n",
       "       'name+definition': 'liaise with engineers : Collaborate with engineers to ensure common understanding and discuss product design, development and improvement.'},\n",
       "      {'unique_id': 11813,\n",
       "       'Type Level 2': 'skill/competence',\n",
       "       'name+definition': 'define technical requirements : Specify technical properties of goods, materials, methods, processes, services, systems, software and functionalities by identifying and responding to the particular needs that are to be satisfied according to customer requirements.'},\n",
       "      {'unique_id': 13000,\n",
       "       'Type Level 2': 'skill/competence',\n",
       "       'name+definition': 'manage standard enterprise resource planning system : Collect, manage and interpret data relevant for companies related to shipping, payment, inventory, resources and manufacturing using specific business management software. Such software as Microsoft Dynamics\\u200b, SAP ERP, Oracle ERP.'}],\n",
       "     'core modules and technologies': [{'unique_id': 1640,\n",
       "       'Type Level 2': 'skill/competence',\n",
       "       'name+definition': 'interpret current data : Analyse data gathered from sources such as market data, scientific papers, customer requirements and questionnaires which are current and up-to-date in order to assess development and innovation in areas of expertise.'},\n",
       "      {'unique_id': 1765,\n",
       "       'Type Level 2': 'skill/competence',\n",
       "       'name+definition': 'keep up with the latest information systems solutions : Gather the latest information on existing information systems solutions which integrate software and hardware, as well as network components.'},\n",
       "      {'unique_id': 3596,\n",
       "       'Type Level 2': 'skill/competence',\n",
       "       'name+definition': 'manage business knowledge : Set up structures and distribution policies to enable or improve information exploitation using appropriate tools to extract, create and expand business mastery.'},\n",
       "      {'unique_id': 6736,\n",
       "       'Type Level 2': 'skill/competence',\n",
       "       'name+definition': 'analyse ICT system : Analyse the functioning and performance of information systems in order to define their goals, architecture and services and set procedures and operations to meet end users requirements.'},\n",
       "      {'unique_id': 8156,\n",
       "       'Type Level 2': 'skill/competence',\n",
       "       'name+definition': 'coordinate membership work : Provide internal coordination for membership work such as oversee implementation of efficient membership processes, systems and strategies and ensure affiliate information is accurate and up to date.'},\n",
       "      {'unique_id': 8977,\n",
       "       'Type Level 2': 'skill/competence',\n",
       "       'name+definition': 'design information system : Define the architecture, composition, components, modules, interfaces and data for integrated information systems (hardware, software and network), based on system requirements and specifications.'},\n",
       "      {'unique_id': 8984,\n",
       "       'Type Level 2': 'skill/competence',\n",
       "       'name+definition': 'define integration strategy : Specify strategies for system integration, incorporating the time schedule, the processes required to combine components into subsystems and systems, the means on how components will interface as well as the risks associated with the integration.'},\n",
       "      {'unique_id': 9769,\n",
       "       'Type Level 2': 'skill/competence',\n",
       "       'name+definition': 'configure ICT system : Set up and customise an ICT system to meet requirements during initial implementation as well as when new business needs arise.'},\n",
       "      {'unique_id': 12846,\n",
       "       'Type Level 2': 'skill/competence',\n",
       "       'name+definition': 'integrate system components : Select and use integration techniques and tools to plan and implement integration of hardware and software modules and components in a system. '},\n",
       "      {'unique_id': 13000,\n",
       "       'Type Level 2': 'skill/competence',\n",
       "       'name+definition': 'manage standard enterprise resource planning system : Collect, manage and interpret data relevant for companies related to shipping, payment, inventory, resources and manufacturing using specific business management software. Such software as Microsoft Dynamics\\u200b, SAP ERP, Oracle ERP.'},\n",
       "      {'unique_id': 13611,\n",
       "       'Type Level 2': 'skill/competence',\n",
       "       'name+definition': 'lead the brand strategic planning process : Manage the strategic planning process of the brand as well as provide innovation and progress in the strategy planning methodologies and improvements for consumer communication in order to base innovation and strategies on consumer insights and needs.'}]},\n",
       "    'matched_skills': {'design development and delivery experience across the dynamics 365 landscape': {'unique_id': 5966,\n",
       "      'Type Level 2': 'skill/competence',\n",
       "      'name+definition': 'apply strategic thinking : Apply generation and effective application of business insights and possible opportunities, in order to achieve competitive business advantage on a long-term basis.'},\n",
       "     'core modules and technologies': {'unique_id': 1765,\n",
       "      'Type Level 2': 'skill/competence',\n",
       "      'name+definition': 'keep up with the latest information systems solutions : Gather the latest information on existing information systems solutions which integrate software and hardware, as well as network components.'}}}],\n",
       "  [{'sentence': 'Industry: Information Technology Online Travel',\n",
       "    'label': ['computer technology', 'LABEL NOT PRESENT'],\n",
       "    'span': ['Information Technology', 'Online Travel'],\n",
       "    'extracted_skills': [],\n",
       "    'skill_candidates': {},\n",
       "    'matched_skills': {}}],\n",
       "  [{'sentence': 'You will be responsible for a successful product launch together with engineers and developers .',\n",
       "    'label': ['perform product planning'],\n",
       "    'span': ['responsible for a successful product launch'],\n",
       "    'extracted_skills': ['engineers and developers'],\n",
       "    'skill_candidates': {'engineers and developers': [{'unique_id': 408,\n",
       "       'Type Level 2': 'skill/competence',\n",
       "       'name+definition': 'cooperate with colleagues : Cooperate with colleagues in order to ensure that operations run effectively.'},\n",
       "      {'unique_id': 2208,\n",
       "       'Type Level 2': 'skill/competence',\n",
       "       'name+definition': 'align software with system architectures : Put system design and technical specifications in line with software architecture in order to ensure the integration and interoperability between components of the system.'},\n",
       "      {'unique_id': 3347,\n",
       "       'Type Level 2': 'skill/competence',\n",
       "       'name+definition': 'report well results : Document and share well results in a transparent way; communicate results to business partners, auditors, collaborating teams and internal management.'},\n",
       "      {'unique_id': 5582,\n",
       "       'Type Level 2': 'skill/competence',\n",
       "       'name+definition': 'test pharmaceutical process : Test the systems used to manufacture pharmaceuticals measuring and analysing the processes to ensure that the products are produced according to specifications.'},\n",
       "      {'unique_id': 6630,\n",
       "       'Type Level 2': 'skill/competence',\n",
       "       'name+definition': 'provide software testing documentation : Describe software testing procedures to technical team and analysis of test outcomes to users and clients in order to inform them about state and efficiency of software.'},\n",
       "      {'unique_id': 6738,\n",
       "       'Type Level 2': 'skill/competence',\n",
       "       'name+definition': 'manage workflow processes : Develop, document and implement traffic and workflow processes across the company for different functions. Liaise with several departments and services such as account management and the creative director to plan and resource work.'},\n",
       "      {'unique_id': 7229,\n",
       "       'Type Level 2': 'skill/competence',\n",
       "       'name+definition': 'oversee development of software : Organise, plan and supervise the development of the applications and frameworks in order to create a software product, from the earliest planning stages to the final product test.'},\n",
       "      {'unique_id': 7619,\n",
       "       'Type Level 2': 'skill/competence',\n",
       "       'name+definition': 'enhance production workflow : Enhance the product workflow by analysing and developing logistics plans that impact production as well as distribution.'},\n",
       "      {'unique_id': 8155,\n",
       "       'Type Level 2': 'skill/competence',\n",
       "       'name+definition': 'collaborate with engineers : Work closely and communicate with engineers on designs or new products.'},\n",
       "      {'unique_id': 9165,\n",
       "       'Type Level 2': 'skill/competence',\n",
       "       'name+definition': 'manage data collection systems : Develop and manage methods and strategies used to maximise data quality and statistical efficiency in the collection of data, in order to ensure the gathered data are optimised for further processing.'},\n",
       "      {'unique_id': 10734,\n",
       "       'Type Level 2': 'skill/competence',\n",
       "       'name+definition': 'liaise with engineers : Collaborate with engineers to ensure common understanding and discuss product design, development and improvement.'}]},\n",
       "    'matched_skills': {'engineers and developers': {'unique_id': 8155,\n",
       "      'Type Level 2': 'skill/competence',\n",
       "      'name+definition': 'collaborate with engineers : Work closely and communicate with engineers on designs or new products.'}}}],\n",
       "  [{'sentence': 'Openness to work with many different stakeholders in the organization',\n",
       "    'label': ['liaise with shareholders'],\n",
       "    'span': ['work with many different stakeholders'],\n",
       "    'extracted_skills': ['openness to work with many different stakeholders in the organization'],\n",
       "    'skill_candidates': {'openness to work with many different stakeholders in the organization': [{'unique_id': 580,\n",
       "       'Type Level 2': 'skill/competence',\n",
       "       'name+definition': 'perform multiple tasks at the same time : Execute multiple tasks at the same time, being aware of key priorities.'},\n",
       "      {'unique_id': 2755,\n",
       "       'Type Level 2': 'skill/competence',\n",
       "       'name+definition': 'use ICT systems : Select and use ICT systems for a variety of complex tasks in order to meet a variety of needs.'},\n",
       "      {'unique_id': 3347,\n",
       "       'Type Level 2': 'skill/competence',\n",
       "       'name+definition': 'report well results : Document and share well results in a transparent way; communicate results to business partners, auditors, collaborating teams and internal management.'},\n",
       "      {'unique_id': 3887,\n",
       "       'Type Level 2': 'skill/competence',\n",
       "       'name+definition': 'communicate with stakeholders : Facilitate communication between organisations and interested third parties such as suppliers, distributors, shareholders and other stakeholders in order to inform them of the organisation and its objectives.'},\n",
       "      {'unique_id': 6738,\n",
       "       'Type Level 2': 'skill/competence',\n",
       "       'name+definition': 'manage workflow processes : Develop, document and implement traffic and workflow processes across the company for different functions. Liaise with several departments and services such as account management and the creative director to plan and resource work.'},\n",
       "      {'unique_id': 6839,\n",
       "       'Type Level 2': 'skill/competence',\n",
       "       'name+definition': 'use IT systems for commercial purposes : Convey and communicate data and make commercial decisions by using internal and external IT-systems where appropriate.'},\n",
       "      {'unique_id': 10625,\n",
       "       'Type Level 2': 'skill/competence',\n",
       "       'name+definition': 'consult with stakeholders on implementation of a production : Consult with different people and groups who hold a stake in the production. Be on the same page on the practical side of the production, and keep them up to date.'},\n",
       "      {'unique_id': 10779,\n",
       "       'Type Level 2': 'skill/competence',\n",
       "       'name+definition': 'promote communication between parties : Encourage parties to communicate among them and share their views on events and happenings in order to find cooperation paths.'},\n",
       "      {'unique_id': 11933,\n",
       "       'Type Level 2': 'skill/competence',\n",
       "       'name+definition': 'communicate price changes : Transparent, straightforward and effective communication with all departments involved; clearly communicate about price changes and their possible consequences.'},\n",
       "      {'unique_id': 12215,\n",
       "       'Type Level 2': 'skill/competence',\n",
       "       'name+definition': 'build international relations : Build positive communication dynamics with organisations from different countries in order to build a cooperative relationship and optimise information exchange.'},\n",
       "      {'unique_id': 13601,\n",
       "       'Type Level 2': 'skill/competence',\n",
       "       'name+definition': 'manage information sources : Identify relevant internal and external information sources and providers. Organise the information workflow and define information deliverables.'}]},\n",
       "    'matched_skills': {'openness to work with many different stakeholders in the organization': {'unique_id': 3887,\n",
       "      'Type Level 2': 'skill/competence',\n",
       "      'name+definition': 'communicate with stakeholders : Facilitate communication between organisations and interested third parties such as suppliers, distributors, shareholders and other stakeholders in order to inform them of the organisation and its objectives.'}}}],\n",
       "  [{'sentence': '• Continuous Integration ( CI ) exposure to GIT Jenkins,',\n",
       "    'label': ['LABEL NOT PRESENT',\n",
       "     'LABEL NOT PRESENT',\n",
       "     'Jenkins (tools for software configuration management)'],\n",
       "    'span': ['Continuous Integration ( CI )', 'GIT', 'Jenkins,'],\n",
       "    'extracted_skills': ['git jenkins'],\n",
       "    'skill_candidates': {'git jenkins': [{'unique_id': 699,\n",
       "       'Type Level 2': 'knowledge',\n",
       "       'name+definition': 'Apache Maven : The tool Apache Maven is a software program to perform configuration identification, control, status accounting and audit of software during its development and maintenance.'},\n",
       "      {'unique_id': 1920,\n",
       "       'Type Level 2': 'knowledge',\n",
       "       'name+definition': 'Oracle Warehouse Builder : The computer program Oracle Warehouse Builder is a tool for integration of information from multiple applications, created and maintained by organisations, into one consistent and transparent data structure, developed by the software company Oracle.'},\n",
       "      {'unique_id': 3104,\n",
       "       'Type Level 2': 'skill/competence',\n",
       "       'name+definition': 'do cloud refactoring : Optimize application to best use cloud services and features, migrate existing application code to run on cloud infrastructure.'},\n",
       "      {'unique_id': 4328,\n",
       "       'Type Level 2': 'skill/competence',\n",
       "       'name+definition': 'manage findable accessible interoperable and reusable data : Produce, describe, store, preserve and (re) use scientific data based on FAIR (Findable, Accessible, Interoperable, and Reusable) principles, making data as open as possible, and as closed as necessary.'},\n",
       "      {'unique_id': 6630,\n",
       "       'Type Level 2': 'skill/competence',\n",
       "       'name+definition': 'provide software testing documentation : Describe software testing procedures to technical team and analysis of test outcomes to users and clients in order to inform them about state and efficiency of software.'},\n",
       "      {'unique_id': 7342,\n",
       "       'Type Level 2': 'skill/competence',\n",
       "       'name+definition': 'manage ICT legacy implication : Oversee the transfer process from a legacy (an outdated system) to a current system by mapping, interfacing, migrating, documenting and transforming data.'},\n",
       "      {'unique_id': 7837,\n",
       "       'Type Level 2': 'knowledge',\n",
       "       'name+definition': 'cloud monitoring and reporting : The metrics and alarms utilizing cloud monitoring services, in particular performance and availability metrics. '},\n",
       "      {'unique_id': 8616,\n",
       "       'Type Level 2': 'knowledge',\n",
       "       'name+definition': 'data extraction, transformation and loading tools : The tools for integration of information from multiple applications, created and maintained by organisations, into one consistent and transparent data structure.'},\n",
       "      {'unique_id': 8618,\n",
       "       'Type Level 2': 'knowledge',\n",
       "       'name+definition': 'tools for software configuration management : The software programs to perform configuration identification, control, status accounting and audit, such as CVS, ClearCase, Subversion, GIT and TortoiseSVN\\xa0perform this management.'},\n",
       "      {'unique_id': 11331,\n",
       "       'Type Level 2': 'skill/competence',\n",
       "       'name+definition': 'apply operations for an ITIL-based environment : Properly operate ITIL (Information Technology Infrastructure Library) based service desk procedures.'},\n",
       "      {'unique_id': 13258,\n",
       "       'Type Level 2': 'knowledge',\n",
       "       'name+definition': 'Jenkins (tools for software configuration management) : The tool Jenkins is a software program to perform configuration identification, control, status accounting and audit of software during its development and maintenance.'}]},\n",
       "    'matched_skills': {'git jenkins': {'unique_id': 1920,\n",
       "      'Type Level 2': 'knowledge',\n",
       "      'name+definition': 'Oracle Warehouse Builder : The computer program Oracle Warehouse Builder is a tool for integration of information from multiple applications, created and maintained by organisations, into one consistent and transparent data structure, developed by the software company Oracle.'}}}],\n",
       "  [{'sentence': 'Previous experience with developing mobile games with a large amount of content delivery and a good sense of F2P game design',\n",
       "    'label': ['adapt developed game to the market', 'LABEL NOT PRESENT'],\n",
       "    'span': ['developing mobile games with a large amount of content delivery',\n",
       "     'sense of F2P game design'],\n",
       "    'extracted_skills': ['developing mobile games',\n",
       "     'content delivery',\n",
       "     'f2p game design'],\n",
       "    'skill_candidates': {'developing mobile games': [{'unique_id': 5382,\n",
       "       'Type Level 2': 'skill/competence',\n",
       "       'name+definition': 'rear game : Rear and care for juvenile game in accordance with a game production plan.'},\n",
       "      {'unique_id': 6953,\n",
       "       'Type Level 2': 'skill/competence',\n",
       "       'name+definition': 'control games : Be fully aware of table action, taking control of games to ensure smooth running and appropriate speed, prioritising attention according to the experience of the dealer and the level of the action.'},\n",
       "      {'unique_id': 8602,\n",
       "       'Type Level 2': 'skill/competence',\n",
       "       'name+definition': 'edit digital moving images : Use specialised software to edit video images for use in an artistic production.'},\n",
       "      {'unique_id': 8878,\n",
       "       'Type Level 2': 'knowledge',\n",
       "       'name+definition': 'Project Anarchy : The mobile game engine which\\xa0is a software framework that consists of integrated development environments and specialised design tools, designed for the rapid iteration of user-derived computer games. \\n\\xa0'},\n",
       "      {'unique_id': 9238,\n",
       "       'Type Level 2': 'skill/competence',\n",
       "       'name+definition': \"specify digital game scenes : Describe scenes of digital games by communicating and cooperating with artistic crew, designers and artists in order to define the scope of the game's virtual environments.\"},\n",
       "      {'unique_id': 9661,\n",
       "       'Type Level 2': 'skill/competence',\n",
       "       'name+definition': 'design materials for multimedia campaigns : Draft and develop materials to be produced for a multimedia campaign, keeping in mind budgeting, scheduling and production.'},\n",
       "      {'unique_id': 9916,\n",
       "       'Type Level 2': 'skill/competence',\n",
       "       'name+definition': 'demonstrate functionality of video games : Demonstrate to customers the features and functionalities of video games.'},\n",
       "      {'unique_id': 10506,\n",
       "       'Type Level 2': 'skill/competence',\n",
       "       'name+definition': 'manage online content : Ensure the website content is up to date, organised, attractive and meets the target audience needs, the requirements of the company and international standards by checking the links, setting the publishing time framework and order.'},\n",
       "      {'unique_id': 10901,\n",
       "       'Type Level 2': 'knowledge',\n",
       "       'name+definition': 'Source (digital game creation systems) : The game engine Source which\\xa0is a software framework that consists of integrated development environments and specialised design tools, designed for the rapid iteration of user-derived computer games.'},\n",
       "      {'unique_id': 11365,\n",
       "       'Type Level 2': 'knowledge',\n",
       "       'name+definition': 'Unity (digital game creation systems) : The game engine Unity which\\xa0is a software framework that consists of integrated development environments and specialised design tools, designed for the rapid iteration of user-derived computer games.'},\n",
       "      {'unique_id': 12673,\n",
       "       'Type Level 2': 'skill/competence',\n",
       "       'name+definition': 'adapt developed game to the market : Follow gaming trends in order to adjust the development of new games to the current needs of the market.'}],\n",
       "     'content delivery': [{'unique_id': 3065,\n",
       "       'Type Level 2': 'skill/competence',\n",
       "       'name+definition': 'apply tools for content development : Use specialised content development tools such as content and terminology management systems, translation memory systems, language checker and editors to generate, compile and transform content according to specified standards.'},\n",
       "      {'unique_id': 4228,\n",
       "       'Type Level 2': 'skill/competence',\n",
       "       'name+definition': 'manage data, information and digital content : Organise, store and retrieve data, information and content in digital environments. Organise and process them in a structured environment.'},\n",
       "      {'unique_id': 4748,\n",
       "       'Type Level 2': 'skill/competence',\n",
       "       'name+definition': 'use content management system software : Use software that allows publishing, editing and modifying content as well as maintenance from a central interface.'},\n",
       "      {'unique_id': 4971,\n",
       "       'Type Level 2': 'skill/competence',\n",
       "       'name+definition': 'integrate and re-elaborate digital content : Modify, refine, improve and integrate information and content into an existing body of knowledge to create new, original and relevant content and knowledge.'},\n",
       "      {'unique_id': 8285,\n",
       "       'Type Level 2': 'skill/competence',\n",
       "       'name+definition': 'manage content metadata : Apply content management methods and procedures to define and use metadata concepts, such as the data of creation, in order to describe, organise and archive content such as documents, video and audio files, applications and images.'},\n",
       "      {'unique_id': 9398,\n",
       "       'Type Level 2': 'skill/competence',\n",
       "       'name+definition': 'manage content development projects : Plan and implement the creation, delivery and management of digital or printed content, develop a system that describes the entire editorial content development and publishing process and use ICT tools to support the process.'},\n",
       "      {'unique_id': 9661,\n",
       "       'Type Level 2': 'skill/competence',\n",
       "       'name+definition': 'design materials for multimedia campaigns : Draft and develop materials to be produced for a multimedia campaign, keeping in mind budgeting, scheduling and production.'},\n",
       "      {'unique_id': 10506,\n",
       "       'Type Level 2': 'skill/competence',\n",
       "       'name+definition': 'manage online content : Ensure the website content is up to date, organised, attractive and meets the target audience needs, the requirements of the company and international standards by checking the links, setting the publishing time framework and order.'},\n",
       "      {'unique_id': 11646,\n",
       "       'Type Level 2': 'knowledge',\n",
       "       'name+definition': 'publishing strategy : The methods, rules, media and tools of publishing content from content management systems in single sources or cross media.'},\n",
       "      {'unique_id': 12502,\n",
       "       'Type Level 2': 'knowledge',\n",
       "       'name+definition': 'content development processes : The specialised techniques used to design, write, compile, edit and organise digital content, such as text, graphics and videos for publishing purposes.'},\n",
       "      {'unique_id': 12654,\n",
       "       'Type Level 2': 'knowledge',\n",
       "       'name+definition': 'document management : The methodology of tracking, managing and storing documents in a systematic and organised manner as well as keeping a record of the versions created and modified by specific users (history tracking).'}],\n",
       "     'f2p game design': [{'unique_id': 764,\n",
       "       'Type Level 2': 'knowledge',\n",
       "       'name+definition': 'digital game genres : The classification of video games based on their interaction with the game media, such as simulation games, strategy games, adventure games and arcade games.'},\n",
       "      {'unique_id': 4630,\n",
       "       'Type Level 2': 'skill/competence',\n",
       "       'name+definition': 'create digital game characters : Develop a typology of characters for digital games and identify their exact role in the gameplay and the narrative.'},\n",
       "      {'unique_id': 5382,\n",
       "       'Type Level 2': 'skill/competence',\n",
       "       'name+definition': 'rear game : Rear and care for juvenile game in accordance with a game production plan.'},\n",
       "      {'unique_id': 6908,\n",
       "       'Type Level 2': 'skill/competence',\n",
       "       'name+definition': 'design the digital interface of gambling, betting and lottery games : Create the digital outlook of gambling, betting and lottery games to make them appealing to the audience.'},\n",
       "      {'unique_id': 8878,\n",
       "       'Type Level 2': 'knowledge',\n",
       "       'name+definition': 'Project Anarchy : The mobile game engine which\\xa0is a software framework that consists of integrated development environments and specialised design tools, designed for the rapid iteration of user-derived computer games. \\n\\xa0'},\n",
       "      {'unique_id': 9238,\n",
       "       'Type Level 2': 'skill/competence',\n",
       "       'name+definition': \"specify digital game scenes : Describe scenes of digital games by communicating and cooperating with artistic crew, designers and artists in order to define the scope of the game's virtual environments.\"},\n",
       "      {'unique_id': 9916,\n",
       "       'Type Level 2': 'skill/competence',\n",
       "       'name+definition': 'demonstrate functionality of video games : Demonstrate to customers the features and functionalities of video games.'},\n",
       "      {'unique_id': 10506,\n",
       "       'Type Level 2': 'skill/competence',\n",
       "       'name+definition': 'manage online content : Ensure the website content is up to date, organised, attractive and meets the target audience needs, the requirements of the company and international standards by checking the links, setting the publishing time framework and order.'},\n",
       "      {'unique_id': 10901,\n",
       "       'Type Level 2': 'knowledge',\n",
       "       'name+definition': 'Source (digital game creation systems) : The game engine Source which\\xa0is a software framework that consists of integrated development environments and specialised design tools, designed for the rapid iteration of user-derived computer games.'},\n",
       "      {'unique_id': 11161,\n",
       "       'Type Level 2': 'skill/competence',\n",
       "       'name+definition': 'design the physical outlook of games : Creat physical appealing gambling, betting and lottery games, gaming tools and equipment such as lottery tickects, gaming tables, slot machines, etc.'},\n",
       "      {'unique_id': 11365,\n",
       "       'Type Level 2': 'knowledge',\n",
       "       'name+definition': 'Unity (digital game creation systems) : The game engine Unity which\\xa0is a software framework that consists of integrated development environments and specialised design tools, designed for the rapid iteration of user-derived computer games.'}]},\n",
       "    'matched_skills': {'developing mobile games': {'unique_id': 8878,\n",
       "      'Type Level 2': 'knowledge',\n",
       "      'name+definition': 'Project Anarchy : The mobile game engine which\\xa0is a software framework that consists of integrated development environments and specialised design tools, designed for the rapid iteration of user-derived computer games. \\n\\xa0'},\n",
       "     'content delivery': {'unique_id': 4228,\n",
       "      'Type Level 2': 'skill/competence',\n",
       "      'name+definition': 'manage data, information and digital content : Organise, store and retrieve data, information and content in digital environments. Organise and process them in a structured environment.'},\n",
       "     'f2p game design': {'unique_id': 4630,\n",
       "      'Type Level 2': 'skill/competence',\n",
       "      'name+definition': 'create digital game characters : Develop a typology of characters for digital games and identify their exact role in the gameplay and the narrative.'}}}],\n",
       "  [{'sentence': 'Industry: Agile Software Development Financial Technology',\n",
       "    'label': ['Agile development', 'financial engineering'],\n",
       "    'span': ['Agile Software Development', 'Financial Technology'],\n",
       "    'extracted_skills': [],\n",
       "    'skill_candidates': {},\n",
       "    'matched_skills': {}}],\n",
       "  [{'sentence': 'Ensure to maintain strong Backend code quality with good practices .',\n",
       "    'label': ['LABEL NOT PRESENT'],\n",
       "    'span': ['maintain strong Backend code quality'],\n",
       "    'extracted_skills': ['backend code quality'],\n",
       "    'skill_candidates': {'backend code quality': [{'unique_id': 713,\n",
       "       'Type Level 2': 'skill/competence',\n",
       "       'name+definition': 'gather data : Extract exportable data from multiple sources.'},\n",
       "      {'unique_id': 994,\n",
       "       'Type Level 2': 'skill/competence',\n",
       "       'name+definition': 'maintain pricing database : Maintain internal and external database to ensure that all pricing data are permanently accurate and up-to-date.'},\n",
       "      {'unique_id': 1640,\n",
       "       'Type Level 2': 'skill/competence',\n",
       "       'name+definition': 'interpret current data : Analyse data gathered from sources such as market data, scientific papers, customer requirements and questionnaires which are current and up-to-date in order to assess development and innovation in areas of expertise.'},\n",
       "      {'unique_id': 3104,\n",
       "       'Type Level 2': 'skill/competence',\n",
       "       'name+definition': 'do cloud refactoring : Optimize application to best use cloud services and features, migrate existing application code to run on cloud infrastructure.'},\n",
       "      {'unique_id': 4328,\n",
       "       'Type Level 2': 'skill/competence',\n",
       "       'name+definition': 'manage findable accessible interoperable and reusable data : Produce, describe, store, preserve and (re) use scientific data based on FAIR (Findable, Accessible, Interoperable, and Reusable) principles, making data as open as possible, and as closed as necessary.'},\n",
       "      {'unique_id': 5342,\n",
       "       'Type Level 2': 'skill/competence',\n",
       "       'name+definition': 'store digital data and systems : Use software tools to archive data by copying and backing them up, in order to ensure their integrity and to prevent data loss.'},\n",
       "      {'unique_id': 5466,\n",
       "       'Type Level 2': 'skill/competence',\n",
       "       'name+definition': 'proofread text : Read a text thoroughly, search for, review and correct errors to ensure content is valid for publishing.'},\n",
       "      {'unique_id': 8156,\n",
       "       'Type Level 2': 'skill/competence',\n",
       "       'name+definition': 'coordinate membership work : Provide internal coordination for membership work such as oversee implementation of efficient membership processes, systems and strategies and ensure affiliate information is accurate and up to date.'},\n",
       "      {'unique_id': 10513,\n",
       "       'Type Level 2': 'skill/competence',\n",
       "       'name+definition': 'compile data for navigation publications : Compile data for navigational publications; gather and process authentic and valid data.'},\n",
       "      {'unique_id': 10671,\n",
       "       'Type Level 2': 'skill/competence',\n",
       "       'name+definition': 'implement front-end website design : Develop website layout and enhance user experience based on provided design concepts.'},\n",
       "      {'unique_id': 11649,\n",
       "       'Type Level 2': 'skill/competence',\n",
       "       'name+definition': 'maintain database performance : Calculate values for database parameters. Implement new releases and execute regular maintenance tasks such as establishing backup strategies and eliminating index fragmentation. '}]},\n",
       "    'matched_skills': {'backend code quality': {'unique_id': 994,\n",
       "      'Type Level 2': 'skill/competence',\n",
       "      'name+definition': 'maintain pricing database : Maintain internal and external database to ensure that all pricing data are permanently accurate and up-to-date.'}}}]],\n",
       " 0.005693,\n",
       " 0.0097625)"
      ]
     },
     "execution_count": 22,
     "metadata": {},
     "output_type": "execute_result"
    }
   ],
   "source": [
    "pip_annot_predictions_short"
   ]
  },
  {
   "cell_type": "code",
   "execution_count": 17,
   "metadata": {},
   "outputs": [],
   "source": [
    "import pickle\n",
    "emb_sh = \"_jbEn\"\n",
    "with open(f\"../../data/taxonomy/taxonomy_embeddings{emb_sh}.pkl\", \"rb\") as f:\n",
    "    emb_tax = pickle.load(f)"
   ]
  },
  {
   "cell_type": "code",
   "execution_count": 18,
   "metadata": {},
   "outputs": [],
   "source": [
    "skills_names = emb_tax[\"name+definition\"].apply(lambda x : x.split(\" : \")[0]).to_list()"
   ]
  },
  {
   "cell_type": "code",
   "execution_count": 20,
   "metadata": {},
   "outputs": [
    {
     "name": "stdout",
     "output_type": "stream",
     "text": [
      "l not in : 0 , p not in :  17\n"
     ]
    }
   ],
   "source": [
    "l = [[['electronic components'], []], [['hot forging'], ['hot forging experience']], [['interact verbally in Dutch'], ['dutch', 'dutch-speaking stakeholders']], [['repair orthopedic goods'], ['repairing and maintaining orthopedic products']], [['cold winding'], ['cold winding experience']], [['apply knowledge of science, technology and engineering'], ['science, technology, and engineering']], [['supervise aquaculture circulation system'], ['monitoring water chemistry', 'supervising aquaculture circulation systems']], [['write work-related reports'], ['written and verbal communication skills']], [['apply strategic thinking'], ['experience with strategic thinking and long-term planning']], [['microsensors'], ['microsensors']], [['polygraphy'], ['printing techniques and machinery associated with printing and polygraphy']], [['teach principles of literature'], ['analytical reading and writing', 'love of literature']], [['coordinate government activities in foreign institutions'], ['leading and managing the day-to-day activities of a delegation']], [['advise on financial matters'], ['asset management and investment strategies']], [['teach dance'], ['teaching dance', 'choreography']]]\n",
    "\n",
    "\n",
    "\n",
    "labels_not_in_tax = 0\n",
    "preds_not_in_tax = 0\n",
    "for labels, preds in l:\n",
    "    for label in labels:\n",
    "        if(label not in skills_names):\n",
    "            labels_not_in_tax += 1\n",
    "    for pred in preds:\n",
    "        if(pred not in skills_names):\n",
    "            preds_not_in_tax += 1\n",
    "print(\"l not in :\", labels_not_in_tax, \", p not in : \", preds_not_in_tax)"
   ]
  },
  {
   "cell_type": "code",
   "execution_count": 19,
   "metadata": {},
   "outputs": [
    {
     "name": "stdout",
     "output_type": "stream",
     "text": [
      "attention to detail isn't in labels\n",
      "hot forging experience isn't in labels\n",
      "dutch isn't in labels\n",
      "dutch-speaking stakeholders isn't in labels\n",
      "repairing and maintaining orthopedic products isn't in labels\n",
      "cold winding experience isn't in labels\n",
      "science, technology, and engineering isn't in labels\n",
      "monitoring water chemistry isn't in labels\n",
      "supervising aquaculture circulation systems isn't in labels\n",
      "written and verbal communication skills isn't in labels\n",
      "experience with strategic thinking and long-term planning isn't in labels\n",
      "printing techniques and machinery associated with printing and polygraphy isn't in labels\n",
      "analytical reading and writing isn't in labels\n",
      "love of literature isn't in labels\n",
      "leading and managing the day-to-day activities of a delegation isn't in labels\n",
      "asset management and investment strategies isn't in labels\n",
      "teaching dance isn't in labels\n",
      "choreography isn't in labels\n"
     ]
    }
   ],
   "source": [
    "for te in pip_synth_predictions[0]:\n",
    "    e = te[0]\n",
    "    candis = list(e[\"skill_candidates\"].keys())\n",
    "    for cand in candis:\n",
    "        if(cand not in skills_names):\n",
    "            print(cand, \"isn't in labels\")"
   ]
  },
  {
   "cell_type": "code",
   "execution_count": 22,
   "metadata": {},
   "outputs": [
    {
     "name": "stderr",
     "output_type": "stream",
     "text": [
      "Some weights of BertModel were not initialized from the model checkpoint at jjzha/jobbert-base-cased and are newly initialized: ['bert.pooler.dense.bias', 'bert.pooler.dense.weight']\n",
      "You should probably TRAIN this model on a down-stream task to be able to use it for predictions and inference.\n"
     ]
    }
   ],
   "source": [
    "cols = [\"conceptType\", \"skillType\", \"reuseLevel\", \"preferredLabel\", \"altLabels\", \"description\"]\n",
    "tax = pd.read_csv(\"../../../esco/skills_en.csv\")[cols]\n",
    "tax = tax.reset_index()\n",
    "tax.columns = [\"unique_id\",\n",
    "            \"Type Level 1\",\n",
    "            \"Type Level 2\",\n",
    "            \"Type Level 3\",\n",
    "            \"name\",\n",
    "            \"Example\",\n",
    "            \"Definition\"\n",
    "            ]\n",
    "tax[\"name+definition\"] = tax[[\"name\", \"Definition\"]].apply(lambda x : x[\"name\"] + \" : \" + x[\"Definition\"], axis=1)\n",
    "    "
   ]
  }
 ],
 "metadata": {
  "kernelspec": {
   "display_name": "Python 3 (ipykernel)",
   "language": "python",
   "name": "python3"
  },
  "language_info": {
   "codemirror_mode": {
    "name": "ipython",
    "version": 3
   },
   "file_extension": ".py",
   "mimetype": "text/x-python",
   "name": "python",
   "nbconvert_exporter": "python",
   "pygments_lexer": "ipython3",
   "version": "3.9.18"
  }
 },
 "nbformat": 4,
 "nbformat_minor": 2
}
