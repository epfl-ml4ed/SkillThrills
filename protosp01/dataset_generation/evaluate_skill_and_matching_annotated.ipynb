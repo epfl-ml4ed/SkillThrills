{
 "cells": [
  {
   "cell_type": "code",
   "execution_count": 2,
   "metadata": {},
   "outputs": [],
   "source": [
    "import sys\n",
    "sys.path.append(\"../skillExtract/\")\n",
    "import pandas as pd\n",
    "%load_ext autoreload\n",
    "%autoreload 2\n",
    "\n",
    "\n",
    "test = pd.read_csv(\"https://raw.githubusercontent.com/jensjorisdecorte/Skill-Extraction-benchmark/main/tech_test_annotations.csv\")"
   ]
  },
  {
   "cell_type": "code",
   "execution_count": 2,
   "metadata": {},
   "outputs": [
    {
     "data": {
      "text/html": [
       "<div>\n",
       "<style scoped>\n",
       "    .dataframe tbody tr th:only-of-type {\n",
       "        vertical-align: middle;\n",
       "    }\n",
       "\n",
       "    .dataframe tbody tr th {\n",
       "        vertical-align: top;\n",
       "    }\n",
       "\n",
       "    .dataframe thead th {\n",
       "        text-align: right;\n",
       "    }\n",
       "</style>\n",
       "<table border=\"1\" class=\"dataframe\">\n",
       "  <thead>\n",
       "    <tr style=\"text-align: right;\">\n",
       "      <th></th>\n",
       "      <th>sentence</th>\n",
       "      <th>span</th>\n",
       "      <th>sub_span</th>\n",
       "      <th>label</th>\n",
       "    </tr>\n",
       "  </thead>\n",
       "  <tbody>\n",
       "    <tr>\n",
       "      <th>394</th>\n",
       "      <td>As a part of the Games Team you will have the ...</td>\n",
       "      <td>work closely with other programmers designers ...</td>\n",
       "      <td>work closely with other designers</td>\n",
       "      <td>collaborate with designers</td>\n",
       "    </tr>\n",
       "    <tr>\n",
       "      <th>279</th>\n",
       "      <td>Knowledge of tools procedures and programming ...</td>\n",
       "      <td>tools procedures and programming languages for...</td>\n",
       "      <td>programming languages for test automation</td>\n",
       "      <td>tools for ICT test automation</td>\n",
       "    </tr>\n",
       "    <tr>\n",
       "      <th>619</th>\n",
       "      <td>This along with the capture &amp; analysis of requ...</td>\n",
       "      <td>capture &amp; analysis of requirements</td>\n",
       "      <td>capture requirements</td>\n",
       "      <td>LABEL NOT PRESENT</td>\n",
       "    </tr>\n",
       "    <tr>\n",
       "      <th>236</th>\n",
       "      <td>Coding/scripting and basic DevOps skills to bu...</td>\n",
       "      <td>DevOps</td>\n",
       "      <td>NaN</td>\n",
       "      <td>DevOps</td>\n",
       "    </tr>\n",
       "    <tr>\n",
       "      <th>749</th>\n",
       "      <td>Experience with development frameworks ( SCRUM...</td>\n",
       "      <td>SCRUM/Agile )</td>\n",
       "      <td>NaN</td>\n",
       "      <td>LABEL NOT PRESENT</td>\n",
       "    </tr>\n",
       "  </tbody>\n",
       "</table>\n",
       "</div>"
      ],
      "text/plain": [
       "                                              sentence  \\\n",
       "394  As a part of the Games Team you will have the ...   \n",
       "279  Knowledge of tools procedures and programming ...   \n",
       "619  This along with the capture & analysis of requ...   \n",
       "236  Coding/scripting and basic DevOps skills to bu...   \n",
       "749  Experience with development frameworks ( SCRUM...   \n",
       "\n",
       "                                                  span  \\\n",
       "394  work closely with other programmers designers ...   \n",
       "279  tools procedures and programming languages for...   \n",
       "619                 capture & analysis of requirements   \n",
       "236                                             DevOps   \n",
       "749                                      SCRUM/Agile )   \n",
       "\n",
       "                                      sub_span                          label  \n",
       "394          work closely with other designers     collaborate with designers  \n",
       "279  programming languages for test automation  tools for ICT test automation  \n",
       "619                       capture requirements              LABEL NOT PRESENT  \n",
       "236                                        NaN                         DevOps  \n",
       "749                                        NaN              LABEL NOT PRESENT  "
      ]
     },
     "execution_count": 2,
     "metadata": {},
     "output_type": "execute_result"
    }
   ],
   "source": [
    "test.sample(5)"
   ]
  },
  {
   "cell_type": "markdown",
   "metadata": {},
   "source": [
    "### Laoding records"
   ]
  },
  {
   "cell_type": "code",
   "execution_count": 3,
   "metadata": {},
   "outputs": [],
   "source": [
    "multilabel = test.groupby(\"sentence\").agg({\"label\": lambda x : x.tolist() , \"span\": lambda x : x.tolist()}).reset_index()\n",
    "annotated_records = multilabel.to_dict(orient='records')"
   ]
  },
  {
   "cell_type": "markdown",
   "metadata": {},
   "source": [
    "### Loading word emebdding model"
   ]
  },
  {
   "cell_type": "code",
   "execution_count": 4,
   "metadata": {},
   "outputs": [
    {
     "data": {
      "application/vnd.jupyter.widget-view+json": {
       "model_id": "3b703de934e74cc8947981397cf81b06",
       "version_major": 2,
       "version_minor": 0
      },
      "text/plain": [
       "Downloading (…)lve/main/config.json:   0%|          | 0.00/603 [00:00<?, ?B/s]"
      ]
     },
     "metadata": {},
     "output_type": "display_data"
    },
    {
     "data": {
      "application/vnd.jupyter.widget-view+json": {
       "model_id": "123bc8f55b6547578055a1f63d205376",
       "version_major": 2,
       "version_minor": 0
      },
      "text/plain": [
       "Downloading model.safetensors:   0%|          | 0.00/433M [00:00<?, ?B/s]"
      ]
     },
     "metadata": {},
     "output_type": "display_data"
    },
    {
     "name": "stderr",
     "output_type": "stream",
     "text": [
      "Some weights of BertModel were not initialized from the model checkpoint at jjzha/jobbert-base-cased and are newly initialized: ['bert.pooler.dense.weight', 'bert.pooler.dense.bias']\n",
      "You should probably TRAIN this model on a down-stream task to be able to use it for predictions and inference.\n"
     ]
    },
    {
     "data": {
      "application/vnd.jupyter.widget-view+json": {
       "model_id": "f8d2606a54144633ae4acf7a156451d5",
       "version_major": 2,
       "version_minor": 0
      },
      "text/plain": [
       "Downloading (…)okenizer_config.json:   0%|          | 0.00/316 [00:00<?, ?B/s]"
      ]
     },
     "metadata": {},
     "output_type": "display_data"
    },
    {
     "data": {
      "application/vnd.jupyter.widget-view+json": {
       "model_id": "e4fb634f21b04c9492a1a7d56d912296",
       "version_major": 2,
       "version_minor": 0
      },
      "text/plain": [
       "Downloading (…)solve/main/vocab.txt:   0%|          | 0.00/213k [00:00<?, ?B/s]"
      ]
     },
     "metadata": {},
     "output_type": "display_data"
    },
    {
     "data": {
      "application/vnd.jupyter.widget-view+json": {
       "model_id": "8b50fe70ddbd49f7acd64475d3dd8308",
       "version_major": 2,
       "version_minor": 0
      },
      "text/plain": [
       "Downloading (…)cial_tokens_map.json:   0%|          | 0.00/112 [00:00<?, ?B/s]"
      ]
     },
     "metadata": {},
     "output_type": "display_data"
    }
   ],
   "source": [
    "from transformers import (AutoModel, AutoTokenizer)\n",
    "\n",
    "word_emb = \"jjzha/jobbert-base-cased\"\n",
    "word_emb_model = AutoModel.from_pretrained(word_emb)\n",
    "word_emb_tokenizer = AutoTokenizer.from_pretrained(word_emb)"
   ]
  },
  {
   "cell_type": "markdown",
   "metadata": {},
   "source": [
    "### Load the taxonomy"
   ]
  },
  {
   "cell_type": "code",
   "execution_count": 5,
   "metadata": {},
   "outputs": [],
   "source": [
    "from utils import load_taxonomy\n",
    "from api_key import API_KEY\n",
    "class Args():\n",
    "    def __init__(self):\n",
    "        self.taxonomy = \"../../../esco/skills_en.csv\" \n",
    "\n",
    "        ## RELATED TO PROMPT CREATION\n",
    "        self.datapath = \"remote-annotated-en\"\n",
    "        self.candidates_method=\"rules\"\n",
    "        self.shots = 6\n",
    "        self.prompt_type = \"inde\"\n",
    "        \n",
    "        ## RELATED TO CHAT GPT GENERATION\n",
    "        self.max_tokens = 200      ## ?? default value but JobBERT suposedly takes 512\n",
    "        self.api_key = API_KEY\n",
    "        self.model = \"gpt-3.5-turbo\"\n",
    "        self.temperature = 0       ## default val\n",
    "        self.top_p = 1             ## default val\n",
    "        self.frequency_penalty = 0 ## default val\n",
    "        self.presence_penalty = 0  ## default val\n",
    "\n",
    "args = Args()"
   ]
  },
  {
   "cell_type": "code",
   "execution_count": 6,
   "metadata": {},
   "outputs": [],
   "source": [
    "cols = [\"conceptType\", \"skillType\", \"reuseLevel\", \"preferredLabel\", \"altLabels\", \"description\"]\n",
    "tax = pd.read_csv(args.taxonomy)[cols]\n",
    "tax = tax.reset_index()\n",
    "tax.columns = [\"unique_id\",\n",
    "               \"Type Level 1\",\n",
    "               \"Type Level 2\",\n",
    "               \"Type Level 3\",\n",
    "               \"name\",\n",
    "               \"Example\",\n",
    "               \"Definition\"\n",
    "               ]\n",
    "tax[\"name+definition\"] = tax[[\"name\", \"Definition\"]].apply(lambda x : x[\"name\"] + \" : \" + x[\"Definition\"], axis=1)"
   ]
  },
  {
   "cell_type": "markdown",
   "metadata": {},
   "source": [
    "### Generate embedded taxonomy"
   ]
  },
  {
   "cell_type": "code",
   "execution_count": 7,
   "metadata": {},
   "outputs": [
    {
     "name": "stdout",
     "output_type": "stream",
     "text": [
      "Loading embedded taxonomy for jjzha/jobbert-base-cased\n"
     ]
    }
   ],
   "source": [
    "import pickle\n",
    "from utils import embed_taxonomy\n",
    "\n",
    "emb_sh = \"_jbEn\"\n",
    "try:\n",
    "    print(f\"Loading embedded taxonomy for {word_emb}\")\n",
    "    with open(f\"../../data/taxonomy/taxonomy_embeddings{emb_sh}.pkl\", \"rb\") as f:\n",
    "        emb_tax = pickle.load(f)\n",
    "except:\n",
    "    print(f\"Loading failed, generating embedded taxonomy for {word_emb}\")\n",
    "    emb_tax = embed_taxonomy(tax, word_emb_model, word_emb_tokenizer)\n",
    "    with open(f\"../../data/taxonomy/taxonomy_embeddings{emb_sh}.pkl\", \"wb\") as f:\n",
    "        pickle.dump(emb_tax, f)"
   ]
  },
  {
   "cell_type": "markdown",
   "metadata": {},
   "source": [
    "### Running through the annotated records"
   ]
  },
  {
   "cell_type": "code",
   "execution_count": 34,
   "metadata": {},
   "outputs": [
    {
     "data": {
      "application/vnd.jupyter.widget-view+json": {
       "model_id": "1202824ed98440cd8af69345f709f838",
       "version_major": 2,
       "version_minor": 0
      },
      "text/plain": [
       "0it [00:00, ?it/s]"
      ]
     },
     "metadata": {},
     "output_type": "display_data"
    },
    {
     "name": "stdout",
     "output_type": "stream",
     "text": [
      "{'sentence': '( Cypress for frontend is a must have pytest for backend and truffle for Solidity is a good addition) .', 'label': ['LABEL NOT PRESENT', 'LABEL NOT PRESENT', 'LABEL NOT PRESENT', 'Solidity'], 'span': ['Cypress', 'pytest', 'truffle', 'Solidity'], 'extracted_skills': ['pytest', 'truffle'], 'skill_candidates': {'pytest': [{'unique_id': 1478, 'Type Level 2': 'knowledge', 'name+definition': 'Estonian : The\\xa0Estonian language. Estonian is an official and working language of the EU.'}, {'unique_id': 1765, 'Type Level 2': 'skill/competence', 'name+definition': 'keep up with the latest information systems solutions : Gather the latest information on existing information systems solutions which integrate software and hardware, as well as network components.'}, {'unique_id': 1936, 'Type Level 2': 'skill/competence', 'name+definition': 'plan tanning finishing operations : Plan the finishing operations to produce leather. Adjust the formulation of finishing operation according to each type of leather market destination. Avoid volatile organic compounds (VOCs) emissions.'}, {'unique_id': 2382, 'Type Level 2': 'knowledge', 'name+definition': 'forestry regulations : The legal rules applicable to forestry: agricultural law, rural law, and laws on hunting and fishing.'}, {'unique_id': 2823, 'Type Level 2': 'skill/competence', 'name+definition': 'estimate repair priority : Estimate the urgency of a certain repair or replacement, based on the severity of the defect, the importance of the damaged or worn element, any other planned repairs and the expected lifespan of the bridge.'}, {'unique_id': 3038, 'Type Level 2': 'skill/competence', 'name+definition': \"provide healthcare services to patients in general medical practice : In the exercise of the medical doctor's profession, provide healthcare services to patients in order to assess, maintain and restore patients' state of health.\"}, {'unique_id': 6935, 'Type Level 2': 'skill/competence', 'name+definition': 'deliver outstanding service : Provide outstanding customer service by exceeding customer expectations; establish reputation as an exceptional service provider.'}, {'unique_id': 11127, 'Type Level 2': 'knowledge', 'name+definition': 'Python (computer programming) : The techniques and principles of software development, such as analysis, algorithms, coding, testing and compiling of programming paradigms in Python.'}, {'unique_id': 12353, 'Type Level 2': 'skill/competence', 'name+definition': 'process harvested honey : Harvest and process honey according to health, safety and biosecurity regulations.'}, {'unique_id': 12736, 'Type Level 2': 'skill/competence', 'name+definition': 'assist in the placement of gravestones : Provide assistance to companies or other professionals that place tombstones on graves.'}], 'truffle': [{'unique_id': 2002, 'Type Level 2': 'knowledge', 'name+definition': 'decentralized application frameworks : The different software frameworks, and their characteristics, advantages and disadvantages, that allow the development of decentralized applications on blockchain infrastructure. Examples are truffle, embark, epirus, openzeppelin, etc.'}]}, 'matched_skills': {'pytest': {'unique_id': 1765, 'Type Level 2': 'skill/competence', 'name+definition': 'keep up with the latest information systems solutions : Gather the latest information on existing information systems solutions which integrate software and hardware, as well as network components.'}}}\n"
     ]
    },
    {
     "name": "stderr",
     "output_type": "stream",
     "text": [
      "100%|██████████| 1/1 [00:01<00:00,  1.03s/it]\n"
     ]
    },
    {
     "name": "stdout",
     "output_type": "stream",
     "text": [
      "Costs:  extraction 0.000642\n",
      "extracted skill: pytest\n",
      "checking for matches in name+definition\n",
      "checking for matches in example\n",
      "checking for matches in subwords\n",
      "extracted skill: truffle\n",
      "checking for matches in name+definition\n"
     ]
    },
    {
     "name": "stderr",
     "output_type": "stream",
     "text": [
      "100%|██████████| 1/1 [00:00<00:00,  1.29it/s]\n"
     ]
    },
    {
     "name": "stdout",
     "output_type": "stream",
     "text": [
      "Costs:  matching 0.0012005000000000002\n",
      "{'sentence': '* Ability to analyse requirements and interact directly with business users', 'label': ['analyse business requirements', 'communicate with stakeholders'], 'span': ['analyse requirements', 'interact directly with business users'], 'extracted_skills': ['analyse requirements', 'business users'], 'skill_candidates': {'analyse requirements': [{'unique_id': 13499, 'Type Level 2': 'skill/competence', 'name+definition': 'analyse requirements for moving goods : Analyse goods to be relocated and their moving requirements. Check requirements and prepare actions to ensure appropriate transport of goods.'}], 'business users': [{'unique_id': 1061, 'Type Level 2': 'skill/competence', 'name+definition': 'organise quality circle : Create a quality circle, where small groups of users come together with a circle leader to discuss significant issues in the quality of the product or its use.'}, {'unique_id': 5679, 'Type Level 2': 'skill/competence', 'name+definition': 'inspect aircraft cleanliness : Conduct inspections to ensure the aircraft is clean; inspect whether refuse has been removed, whether the seats are arranged properly, and the cleanliness of galleys and lavatories.'}, {'unique_id': 6006, 'Type Level 2': 'knowledge', 'name+definition': 'WordPress : The open-source web-based software systems used for creating, editing, publishing and archiving blogs, articles, web pages or press releases which are mostly managed by users with limited web programming knowledge.'}, {'unique_id': 7146, 'Type Level 2': 'skill/competence', 'name+definition': \"advise on healthcare users' informed consent : Ensure patients/clients are fully informed about the risks and benefits of proposed treatments so they can give informed consent, engaging patients/clients in the process of their care and treatment.\"}, {'unique_id': 8130, 'Type Level 2': 'skill/competence', 'name+definition': 'apply import strategies : Follow and implement strategies for importing according to the size of the company, the nature of its products, the available expertise, and business conditions on the international markets. These strategies include procedural and strategic issues and involve the use of customs agencies or brokers.'}, {'unique_id': 8453, 'Type Level 2': 'skill/competence', 'name+definition': 'establish green roof : Establish vegetation on roofs, takinig into account water and drainage, filters and soil. Plant suitable grasses, and possibly bushes and trees. Establish the green roof with regards to health and safety regulations.'}, {'unique_id': 9485, 'Type Level 2': 'skill/competence', 'name+definition': \"integrate shareholders' interests in business plans : Listen to the perspectives, interests, and vision of the owners of the company in order to translate those guidelines into pragmatic business actions and plans.\"}, {'unique_id': 11385, 'Type Level 2': 'skill/competence', 'name+definition': 'identify new business opportunities : Pursue potential customers or products in order to generate additional sales and ensure growth.'}, {'unique_id': 11559, 'Type Level 2': 'skill/competence', 'name+definition': 'operate dealership management system : Operate and maintain the management information system that caters to the needs of the finance, sales, parts, inventory and administrative aspects of running the business.'}, {'unique_id': 11601, 'Type Level 2': 'knowledge', 'name+definition': 'alcohol fuels : The alcohols such as ethanol and methanol used for improving power performance of engines by injecting them into the air intake of forced induction internal combustion engines.'}]}, 'matched_skills': {'analyse requirements': {'unique_id': 13499, 'Type Level 2': 'skill/competence', 'name+definition': 'analyse requirements for moving goods : Analyse goods to be relocated and their moving requirements. Check requirements and prepare actions to ensure appropriate transport of goods.'}, 'business users': {'unique_id': 7146, 'Type Level 2': 'skill/competence', 'name+definition': \"advise on healthcare users' informed consent : Ensure patients/clients are fully informed about the risks and benefits of proposed treatments so they can give informed consent, engaging patients/clients in the process of their care and treatment.\"}}}\n"
     ]
    },
    {
     "name": "stderr",
     "output_type": "stream",
     "text": [
      "100%|██████████| 1/1 [00:00<00:00,  1.76it/s]\n"
     ]
    },
    {
     "name": "stdout",
     "output_type": "stream",
     "text": [
      "Costs:  extraction 0.0006055\n",
      "extracted skill: analyse requirements\n",
      "checking for matches in name+definition\n",
      "extracted skill: business users\n",
      "checking for matches in name+definition\n",
      "checking for matches in example\n",
      "checking for matches in subwords\n"
     ]
    },
    {
     "name": "stderr",
     "output_type": "stream",
     "text": [
      "100%|██████████| 1/1 [00:00<00:00,  1.19it/s]\n"
     ]
    },
    {
     "name": "stdout",
     "output_type": "stream",
     "text": [
      "Costs:  matching 0.0011424999999999999\n",
      "{'sentence': '* Ability to support the developers in your team leading supporting and coaching others', 'label': ['manage a team', 'lead others', 'mentor individuals', 'coach employees'], 'span': ['support the developers in your team', 'leading', 'supporting', 'coaching'], 'extracted_skills': ['support the developers in your team'], 'skill_candidates': {'support the developers in your team': [{'unique_id': 224, 'Type Level 2': 'skill/competence', 'name+definition': 'provide technical documentation : Prepare documentation for existing and upcoming products or services, describing their functionality and composition in such a way that it is understandable for a wide audience without technical background and compliant with defined requirements and standards. Keep documentation up to date.'}, {'unique_id': 794, 'Type Level 2': 'skill/competence', 'name+definition': 'write research proposals : Synthetise and write proposals aiming to solve research problems. Draft the proposal baseline and objectives, the estimated budget, risks and impact. Document the advances and new developments on the relevant subject and field of study.'}, {'unique_id': 1248, 'Type Level 2': 'skill/competence', 'name+definition': 'study sales levels of products : Collect and analyse sales levels of products and services in order to use this information for determining the quantities to be produced in the following batches, customer feedback, price trends, and the efficiency of sales methods.'}, {'unique_id': 1390, 'Type Level 2': 'knowledge', 'name+definition': 'lip reading : The methods used to understand speech by interpreting the movements of the lips, face and tongue for people affected by hearing impairment or to understand people from a distance.'}, {'unique_id': 5582, 'Type Level 2': 'skill/competence', 'name+definition': 'test pharmaceutical process : Test the systems used to manufacture pharmaceuticals measuring and analysing the processes to ensure that the products are produced according to specifications.'}, {'unique_id': 7138, 'Type Level 2': 'skill/competence', 'name+definition': 'analyse education system : Analyse various aspects of the school and education system, such as the relation between the cultural origin of the students and their educational opportunities, the apprenticeship programmes or the objectives of adult education, in order to make recommendations to education professionals and decision makers.'}, {'unique_id': 8846, 'Type Level 2': 'skill/competence', 'name+definition': 'prepare workpieces for etching : Prepare mechanical tools and work pieces for etching by polishing their surface and bevelling the work piece to remove sharp edges. Polishing is done using different sandpapers and sand films which are applied and vary from rough to very fine ones.'}, {'unique_id': 11791, 'Type Level 2': 'skill/competence', 'name+definition': 'establish investment funds : Set up a mutual fund in order to aggregate the funds of a larger number of investors and benefit from the advantages of working as part of a group.'}, {'unique_id': 11829, 'Type Level 2': 'skill/competence', 'name+definition': 'revise translation works : Compare and perform bilingual editing by reading the translated work and comparing it to the original text.'}, {'unique_id': 13420, 'Type Level 2': 'skill/competence', 'name+definition': 'implement workplace drug policies : Implement strict policy of alcohol and drug prohibition in the workplace and take immediate action in the case of infringement.'}]}, 'matched_skills': {'support the developers in your team': {'unique_id': 224, 'Type Level 2': 'skill/competence', 'name+definition': 'provide technical documentation : Prepare documentation for existing and upcoming products or services, describing their functionality and composition in such a way that it is understandable for a wide audience without technical background and compliant with defined requirements and standards. Keep documentation up to date.'}}}\n"
     ]
    },
    {
     "name": "stderr",
     "output_type": "stream",
     "text": [
      "100%|██████████| 1/1 [00:00<00:00,  1.66it/s]\n"
     ]
    },
    {
     "name": "stdout",
     "output_type": "stream",
     "text": [
      "Costs:  extraction 0.000608\n",
      "extracted skill: support the developers in your team\n",
      "checking for matches in name+definition\n",
      "checking for matches in example\n",
      "checking for matches in subwords\n"
     ]
    },
    {
     "name": "stderr",
     "output_type": "stream",
     "text": [
      "100%|██████████| 1/1 [00:00<00:00,  2.71it/s]\n"
     ]
    },
    {
     "name": "stdout",
     "output_type": "stream",
     "text": [
      "Costs:  matching 0.0008185\n",
      "{'sentence': '* Ability to work in large collaborative teams to achieve organizational goals', 'label': ['work in teams', 'meet commitments', 'work in teams', 'meet commitments'], 'span': ['work in large collaborative teams', 'achieve organizational goals', 'work in large collaborative teams', 'achieve organizational goals'], 'extracted_skills': ['ability to work in large collaborative teams'], 'skill_candidates': {'ability to work in large collaborative teams': [{'unique_id': 941, 'Type Level 2': 'skill/competence', 'name+definition': 'coordinate greenhouse environment : Take care of the heating and cooling of greenhouses. Work together with the Grounds and Buildings Manager in keeping the irrigation systems and the horticultural equipment in good condition.'}, {'unique_id': 1382, 'Type Level 2': 'skill/competence', 'name+definition': 'assess data collected to improve community arts programme : Interpret and evaluate data collected during your community arts programme. Use it to offer signposting to individuals in your groups for their development, to extract actions that you can take to improve your professional practice, and to create a report appropriate to your requirements providing your analyse of data collected and possible solutions, with or without specifying needed resources as necessary.'}, {'unique_id': 3240, 'Type Level 2': 'skill/competence', 'name+definition': 'encourage teams for continuous improvement : Empower teams to identify opportunities for continuous improvement and then drive the process to improve the results.'}, {'unique_id': 3351, 'Type Level 2': 'skill/competence', 'name+definition': 'investigate mine accidents : Conduct investigation of mining accidents; identify unsafe working conditions and develop measures for improvement.'}, {'unique_id': 6228, 'Type Level 2': 'skill/competence', 'name+definition': 'maintain wood board machinery : Handle various machinery and equipment used to join wood together to create wooden or cork boards, to ensure that it is clean and in safe, working order. Perform routine maintenance on equipment and adjust when necessary, using hand and power tools.'}, {'unique_id': 7654, 'Type Level 2': 'skill/competence', 'name+definition': 'lead research activities in nursing : Lead nursing research initiatives, support research activity, working within individual Care Groups and with other agencies, identifying, applying and disseminating research findings related to specialist nursing.'}, {'unique_id': 8878, 'Type Level 2': 'knowledge', 'name+definition': 'Project Anarchy : The mobile game engine which\\xa0is a software framework that consists of integrated development environments and specialised design tools, designed for the rapid iteration of user-derived computer games. \\n\\xa0'}, {'unique_id': 10384, 'Type Level 2': 'skill/competence', 'name+definition': 'build miniature props : Build miniature props from a variety of materials, working with the design staff to create the appropriate prop for the production.'}, {'unique_id': 10471, 'Type Level 2': nan, 'name+definition': 'implement cloud security and compliance : Implement and manage security policies and access controls on cloud. Differentiate between the roles and responsibilities within the shared responsibility model.'}, {'unique_id': 12833, 'Type Level 2': 'skill/competence', 'name+definition': 'pay attention to safety while performing forestry operations : Accomplish forestry related tasks by paying attention to small details which can contribute to a safer work environment.'}]}, 'matched_skills': {}}\n"
     ]
    },
    {
     "name": "stderr",
     "output_type": "stream",
     "text": [
      "100%|██████████| 1/1 [00:00<00:00,  1.74it/s]\n"
     ]
    },
    {
     "name": "stdout",
     "output_type": "stream",
     "text": [
      "Costs:  extraction 0.000603\n",
      "extracted skill: organizational goals\n",
      "checking for matches in name+definition\n",
      "checking for matches in example\n",
      "checking for matches in subwords\n"
     ]
    },
    {
     "name": "stderr",
     "output_type": "stream",
     "text": [
      "100%|██████████| 1/1 [00:00<00:00,  2.39it/s]\n"
     ]
    },
    {
     "name": "stdout",
     "output_type": "stream",
     "text": [
      "Costs:  matching 0.0008455\n",
      "{'sentence': '* Ability to work in large collaborative teams to achieve organizational goals and passionate about building an innovative culture', 'label': ['work in teams', 'meet commitments', 'think innovately', 'work in teams', 'meet commitments', 'think innovately'], 'span': ['work in large collaborative teams', 'achieve organizational goals', 'building an innovative culture', 'work in large collaborative teams', 'achieve organizational goals', 'building an innovative culture'], 'extracted_skills': ['ability to work in large collaborative teams'], 'skill_candidates': {'ability to work in large collaborative teams': [{'unique_id': 3054, 'Type Level 2': 'skill/competence', 'name+definition': 'use metalworking tools : Use the appropriate metalworking tools to manipulate metal objects or surfaces. Use adequate instruments to grind, smoothen or sharpen metals.'}, {'unique_id': 4459, 'Type Level 2': 'skill/competence', 'name+definition': 'administer contrast media : Use and administer contrast agents to enhance the visibility of the body in medical imaging.'}, {'unique_id': 5159, 'Type Level 2': 'knowledge', 'name+definition': 'legislation in agriculture : Body of regional, national and European laws enacted in the field of agriculture and forestry concerning various issues such as product quality, environmental protection and trade.'}, {'unique_id': 5424, 'Type Level 2': 'skill/competence', 'name+definition': 'interpret performance concepts in the creative process : Learn and research a part, in personal and collective research and rehearsal, build an acting performance respecting the concept of the show.'}, {'unique_id': 5557, 'Type Level 2': 'skill/competence', 'name+definition': 'read technical datasheet : Read and understand the technical specifications describing the characteristics and functionality mode of a product, component or machine, usually provided by the manufacturer.'}, {'unique_id': 8157, 'Type Level 2': 'skill/competence', 'name+definition': 'monitor artwork market : Estimate value and price of artwork. Permanently monitor art market in order to notice trends or sudden price changes. Identify which kind of artwork is selling well during a certain period of time.'}, {'unique_id': 8858, 'Type Level 2': 'knowledge', 'name+definition': 'wicker weaving techniques : Techniques to weave materials with various degrees of flexibility and thickness, and producing different patterns such as the hole-to-hole chair caning, the press cane webbing or the natural hand-twisted bulrush.'}, {'unique_id': 9999, 'Type Level 2': 'skill/competence', 'name+definition': 'analyse transport business networks : Analyse various transport business networks in order to organise the most efficient setting of modes of transport. Analyse those networks that aim to achieve lowest costs and maximum efficiency.'}, {'unique_id': 11719, 'Type Level 2': 'skill/competence', 'name+definition': 'perform quality audits : Execute regular, systematic and documented examinations of a quality system for verifying conformity with a standard based on objective evidence such as the implementation of processes, effectiveness in achieving quality goals and reduction and elimination of quality problems.'}, {'unique_id': 12563, 'Type Level 2': 'skill/competence', 'name+definition': \"communicate with social service users : Use verbal, non-verbal, written, and electronic communication. Pay attention to the specific social service users' needs, characteristics, abilities, preferences, age, developmental stage, and culture.\"}]}, 'matched_skills': {'ability to work in large collaborative teams': {'unique_id': 3054, 'Type Level 2': 'skill/competence', 'name+definition': 'use metalworking tools : Use the appropriate metalworking tools to manipulate metal objects or surfaces. Use adequate instruments to grind, smoothen or sharpen metals.'}}}\n"
     ]
    },
    {
     "name": "stderr",
     "output_type": "stream",
     "text": [
      "100%|██████████| 1/1 [00:01<00:00,  1.29s/it]\n"
     ]
    },
    {
     "name": "stdout",
     "output_type": "stream",
     "text": [
      "Costs:  extraction 0.0006315\n",
      "extracted skill: innovative culture\n",
      "checking for matches in name+definition\n",
      "checking for matches in example\n",
      "checking for matches in subwords\n"
     ]
    },
    {
     "name": "stderr",
     "output_type": "stream",
     "text": [
      "100%|██████████| 1/1 [00:00<00:00,  2.85it/s]\n"
     ]
    },
    {
     "name": "stdout",
     "output_type": "stream",
     "text": [
      "Costs:  matching 0.0008455\n",
      "{'sentence': '* Advanced knowledge of architecture and design across all systems', 'label': ['information architecture', 'LABEL NOT PRESENT'], 'span': ['architecture and design', 'architecture and design'], 'extracted_skills': [], 'skill_candidates': {}, 'matched_skills': {}}\n"
     ]
    },
    {
     "name": "stderr",
     "output_type": "stream",
     "text": [
      "100%|██████████| 1/1 [00:00<00:00,  1.78it/s]\n"
     ]
    },
    {
     "name": "stdout",
     "output_type": "stream",
     "text": [
      "Costs:  extraction 0.000594\n",
      "extracted skill: architecture and design\n",
      "checking for matches in name+definition\n"
     ]
    },
    {
     "name": "stderr",
     "output_type": "stream",
     "text": [
      "100%|██████████| 1/1 [00:00<00:00,  2.64it/s]\n"
     ]
    },
    {
     "name": "stdout",
     "output_type": "stream",
     "text": [
      "Costs:  matching 0.00033700000000000006\n",
      "{'sentence': '* Awareness of cloud micro-service and container deployment patterns', 'label': ['deploy cloud resource', 'deploy cloud resource'], 'span': ['cloud micro-service and container deployment patterns', 'cloud micro-service and container deployment patterns'], 'extracted_skills': [], 'skill_candidates': {}, 'matched_skills': {}}\n"
     ]
    },
    {
     "name": "stderr",
     "output_type": "stream",
     "text": [
      "100%|██████████| 1/1 [00:00<00:00,  2.04it/s]\n"
     ]
    },
    {
     "name": "stdout",
     "output_type": "stream",
     "text": [
      "Costs:  extraction 0.000598\n",
      "extracted skill: cloud micro-service\n",
      "checking for matches in name+definition\n",
      "checking for matches in example\n",
      "checking for matches in subwords\n",
      "extracted skill: container deployment patterns\n",
      "checking for matches in name+definition\n",
      "checking for matches in example\n",
      "checking for matches in subwords\n"
     ]
    },
    {
     "name": "stderr",
     "output_type": "stream",
     "text": [
      "100%|██████████| 1/1 [00:00<00:00,  1.28it/s]\n"
     ]
    },
    {
     "name": "stdout",
     "output_type": "stream",
     "text": [
      "Costs:  matching 0.0016475\n",
      "{'sentence': '* BS/BA degree or equivalent experience', 'label': ['LABEL NOT PRESENT', 'LABEL NOT PRESENT', 'LABEL NOT PRESENT'], 'span': ['BS/BA degree', 'BS/BA degree', 'BS/BA degree'], 'extracted_skills': [], 'skill_candidates': {}, 'matched_skills': {}}\n"
     ]
    },
    {
     "name": "stderr",
     "output_type": "stream",
     "text": [
      "100%|██████████| 1/1 [00:00<00:00,  2.05it/s]\n"
     ]
    },
    {
     "name": "stdout",
     "output_type": "stream",
     "text": [
      "Costs:  extraction 0.0005870000000000001\n",
      "extracted skill: bs/ba degree\n",
      "checking for matches in name+definition\n",
      "checking for matches in example\n",
      "checking for matches in subwords\n"
     ]
    },
    {
     "name": "stderr",
     "output_type": "stream",
     "text": [
      "100%|██████████| 1/1 [00:00<00:00,  2.78it/s]\n"
     ]
    },
    {
     "name": "stdout",
     "output_type": "stream",
     "text": [
      "Costs:  matching 0.0008965\n",
      "{'sentence': '* Beneficial if you have experience with Oracle or equivalent relational database', 'label': ['UNDERSPECIFIED'], 'span': ['Oracle']}\n"
     ]
    },
    {
     "name": "stderr",
     "output_type": "stream",
     "text": [
      "100%|██████████| 1/1 [00:00<00:00,  1.72it/s]\n"
     ]
    },
    {
     "name": "stdout",
     "output_type": "stream",
     "text": [
      "Costs:  extraction 0.0006025000000000001\n",
      "extracted skill: oracle\n",
      "checking for matches in name+definition\n"
     ]
    },
    {
     "name": "stderr",
     "output_type": "stream",
     "text": [
      "100%|██████████| 1/1 [00:00<00:00,  2.54it/s]\n"
     ]
    },
    {
     "name": "stdout",
     "output_type": "stream",
     "text": [
      "Costs:  matching 0.0007915\n",
      "{'sentence': '* Experience in designing and building reusable services', 'label': ['LABEL NOT PRESENT', 'LABEL NOT PRESENT'], 'span': ['designing and building reusable services', 'designing and building reusable services']}\n"
     ]
    },
    {
     "name": "stderr",
     "output_type": "stream",
     "text": [
      "100%|██████████| 1/1 [00:00<00:00,  1.74it/s]\n"
     ]
    },
    {
     "name": "stdout",
     "output_type": "stream",
     "text": [
      "Costs:  extraction 0.000589\n",
      "extracted skill: designing and building reusable services\n",
      "checking for matches in name+definition\n",
      "checking for matches in example\n",
      "checking for matches in subwords\n"
     ]
    },
    {
     "name": "stderr",
     "output_type": "stream",
     "text": [
      "100%|██████████| 1/1 [00:00<00:00,  2.82it/s]\n"
     ]
    },
    {
     "name": "stdout",
     "output_type": "stream",
     "text": [
      "Costs:  matching 0.0008110000000000001\n",
      "{'sentence': '* Experience of Databases and ETL tools', 'label': ['database', 'data extraction, transformation and loading tools'], 'span': ['Databases', 'ETL tools']}\n"
     ]
    },
    {
     "name": "stderr",
     "output_type": "stream",
     "text": [
      "100%|██████████| 1/1 [00:00<00:00,  1.89it/s]\n"
     ]
    },
    {
     "name": "stdout",
     "output_type": "stream",
     "text": [
      "Costs:  extraction 0.0005945\n",
      "extracted skill: databases\n",
      "checking for matches in name+definition\n",
      "extracted skill: etl tools\n",
      "checking for matches in name+definition\n",
      "checking for matches in example\n",
      "checking for matches in subwords\n"
     ]
    },
    {
     "name": "stderr",
     "output_type": "stream",
     "text": [
      "100%|██████████| 1/1 [00:00<00:00,  1.06it/s]\n"
     ]
    },
    {
     "name": "stdout",
     "output_type": "stream",
     "text": [
      "Costs:  matching 0.0015055\n",
      "{'sentence': '* Experience with Docker or similar container technologies', 'label': ['LABEL NOT PRESENT'], 'span': ['Docker']}\n"
     ]
    },
    {
     "name": "stderr",
     "output_type": "stream",
     "text": [
      "100%|██████████| 1/1 [00:00<00:00,  2.11it/s]\n"
     ]
    },
    {
     "name": "stdout",
     "output_type": "stream",
     "text": [
      "Costs:  extraction 0.0005870000000000001\n",
      "extracted skill: docker\n",
      "checking for matches in name+definition\n"
     ]
    },
    {
     "name": "stderr",
     "output_type": "stream",
     "text": [
      "100%|██████████| 1/1 [00:00<00:00,  1.04it/s]\n"
     ]
    },
    {
     "name": "stdout",
     "output_type": "stream",
     "text": [
      "Costs:  matching 0.00033450000000000005\n",
      "{'sentence': '* Experience with cloud technologies such as AWS and Kubernetes', 'label': ['LABEL NOT PRESENT', 'LABEL NOT PRESENT'], 'span': ['AWS', 'Kubernetes']}\n"
     ]
    },
    {
     "name": "stderr",
     "output_type": "stream",
     "text": [
      "100%|██████████| 1/1 [00:00<00:00,  1.67it/s]\n"
     ]
    },
    {
     "name": "stdout",
     "output_type": "stream",
     "text": [
      "Costs:  extraction 0.0006\n",
      "extracted skill: aws\n",
      "checking for matches in name+definition\n",
      "extracted skill: kubernetes\n",
      "checking for matches in name+definition\n"
     ]
    },
    {
     "name": "stderr",
     "output_type": "stream",
     "text": [
      "100%|██████████| 1/1 [00:00<00:00,  1.53it/s]\n"
     ]
    },
    {
     "name": "stdout",
     "output_type": "stream",
     "text": [
      "Costs:  matching 0.0011935000000000001\n",
      "{'sentence': '* Experience working on high throughput mission critical high performance STP platforms', 'label': ['LABEL NOT PRESENT'], 'span': ['high throughput mission critical high performance STP platforms']}\n"
     ]
    },
    {
     "name": "stderr",
     "output_type": "stream",
     "text": [
      "100%|██████████| 1/1 [00:00<00:00,  2.00it/s]\n"
     ]
    },
    {
     "name": "stdout",
     "output_type": "stream",
     "text": [
      "Costs:  extraction 0.0006045\n",
      "extracted skill: high throughput mission critical high performance stp platforms\n",
      "checking for matches in name+definition\n",
      "checking for matches in example\n",
      "checking for matches in subwords\n"
     ]
    },
    {
     "name": "stderr",
     "output_type": "stream",
     "text": [
      "100%|██████████| 1/1 [00:00<00:00,  2.60it/s]\n"
     ]
    },
    {
     "name": "stdout",
     "output_type": "stream",
     "text": [
      "Costs:  matching 0.0009145000000000001\n",
      "{'sentence': '* Expertise in application data and infrastructure architecture & design disciplines', 'label': ['application process', 'manage ICT data architecture', 'information architecture', 'LABEL NOT PRESENT'], 'span': ['application data and infrastructure architecture & design disciplines', 'application data and infrastructure architecture & design disciplines', 'application data and infrastructure architecture & design disciplines', 'application data and infrastructure architecture & design disciplines']}\n"
     ]
    },
    {
     "name": "stderr",
     "output_type": "stream",
     "text": [
      "100%|██████████| 1/1 [00:00<00:00,  1.85it/s]\n"
     ]
    },
    {
     "name": "stdout",
     "output_type": "stream",
     "text": [
      "Costs:  extraction 0.0006050000000000001\n",
      "extracted skill: application data\n",
      "checking for matches in name+definition\n",
      "extracted skill: infrastructure architecture & design disciplines\n",
      "checking for matches in name+definition\n",
      "checking for matches in example\n",
      "checking for matches in subwords\n"
     ]
    },
    {
     "name": "stderr",
     "output_type": "stream",
     "text": [
      "100%|██████████| 1/1 [00:00<00:00,  1.35it/s]\n"
     ]
    },
    {
     "name": "stdout",
     "output_type": "stream",
     "text": [
      "Costs:  matching 0.001262\n",
      "{'sentence': '* Expertise in application data and infrastructure architecture disciplines', 'label': ['UNDERSPECIFIED', 'UNDERSPECIFIED', 'ICT infrastructure'], 'span': ['application', 'data', 'infrastructure architecture disciplines']}\n"
     ]
    },
    {
     "name": "stderr",
     "output_type": "stream",
     "text": [
      "100%|██████████| 1/1 [00:00<00:00,  1.14it/s]\n"
     ]
    },
    {
     "name": "stdout",
     "output_type": "stream",
     "text": [
      "Costs:  extraction 0.000598\n",
      "extracted skill: application data\n",
      "checking for matches in name+definition\n",
      "extracted skill: infrastructure architecture\n",
      "checking for matches in name+definition\n",
      "checking for matches in example\n",
      "checking for matches in subwords\n"
     ]
    },
    {
     "name": "stderr",
     "output_type": "stream",
     "text": [
      "100%|██████████| 1/1 [00:00<00:00,  1.42it/s]\n"
     ]
    },
    {
     "name": "stdout",
     "output_type": "stream",
     "text": [
      "Costs:  matching 0.0010249999999999999\n",
      "{'sentence': '* Hands-on experience in Core Java Spring Boot and Microservices', 'label': ['Java (computer programming)', 'LABEL NOT PRESENT', 'LABEL NOT PRESENT'], 'span': ['Core Java', 'Spring Boot', 'Microservices']}\n"
     ]
    },
    {
     "name": "stderr",
     "output_type": "stream",
     "text": [
      "100%|██████████| 1/1 [00:00<00:00,  1.70it/s]\n"
     ]
    },
    {
     "name": "stdout",
     "output_type": "stream",
     "text": [
      "Costs:  extraction 0.0006090000000000001\n",
      "extracted skill: core java\n",
      "checking for matches in name+definition\n",
      "checking for matches in example\n",
      "checking for matches in subwords\n",
      "extracted skill: spring boot\n",
      "checking for matches in name+definition\n",
      "checking for matches in example\n",
      "checking for matches in subwords\n",
      "extracted skill: microservices\n",
      "checking for matches in name+definition\n",
      "checking for matches in example\n",
      "checking for matches in subwords\n"
     ]
    },
    {
     "name": "stderr",
     "output_type": "stream",
     "text": [
      "100%|██████████| 1/1 [00:01<00:00,  1.06s/it]\n"
     ]
    },
    {
     "name": "stdout",
     "output_type": "stream",
     "text": [
      "Costs:  matching 0.00246\n",
      "{'sentence': '* Keen understanding of financial control and budget management', 'label': ['control financial resources', 'manage budgets'], 'span': ['financial control', 'budget management']}\n"
     ]
    },
    {
     "name": "stderr",
     "output_type": "stream",
     "text": [
      "100%|██████████| 1/1 [00:00<00:00,  1.40it/s]\n"
     ]
    },
    {
     "name": "stdout",
     "output_type": "stream",
     "text": [
      "Costs:  extraction 0.000596\n",
      "extracted skill: financial control\n",
      "checking for matches in name+definition\n",
      "extracted skill: budget management\n",
      "checking for matches in name+definition\n"
     ]
    },
    {
     "name": "stderr",
     "output_type": "stream",
     "text": [
      "100%|██████████| 1/1 [00:01<00:00,  1.34s/it]\n"
     ]
    },
    {
     "name": "stdout",
     "output_type": "stream",
     "text": [
      "Costs:  matching 0.0006485000000000001\n",
      "{'sentence': '* Knowledge of Big Data/NoSql solutions is beneficial', 'label': ['UNDERSPECIFIED'], 'span': ['Big']}\n"
     ]
    },
    {
     "name": "stderr",
     "output_type": "stream",
     "text": [
      "100%|██████████| 1/1 [00:00<00:00,  1.70it/s]\n"
     ]
    },
    {
     "name": "stdout",
     "output_type": "stream",
     "text": [
      "Costs:  extraction 0.0005975\n",
      "extracted skill: big data/nosql solutions\n",
      "checking for matches in name+definition\n",
      "checking for matches in example\n",
      "checking for matches in subwords\n"
     ]
    },
    {
     "name": "stderr",
     "output_type": "stream",
     "text": [
      "100%|██████████| 1/1 [00:00<00:00,  2.69it/s]\n"
     ]
    },
    {
     "name": "stdout",
     "output_type": "stream",
     "text": [
      "Costs:  matching 0.0007285000000000001\n",
      "{'sentence': '* Knowledge of R or Python with machine learning & Data Tables is a big plus', 'label': ['R', 'Python (computer programming)', 'machine learning', 'data storage'], 'span': ['R', 'Python', 'machine learning', 'Data Tables']}\n"
     ]
    },
    {
     "name": "stderr",
     "output_type": "stream",
     "text": [
      "100%|██████████| 1/1 [00:00<00:00,  1.51it/s]\n"
     ]
    },
    {
     "name": "stdout",
     "output_type": "stream",
     "text": [
      "Costs:  extraction 0.000627\n",
      "extracted skill: r\n",
      "checking for matches in name+definition\n",
      "extracted skill: python\n",
      "checking for matches in name+definition\n",
      "extracted skill: machine learning\n",
      "checking for matches in name+definition\n",
      "extracted skill: data tables\n",
      "checking for matches in name+definition\n"
     ]
    },
    {
     "name": "stderr",
     "output_type": "stream",
     "text": []
    },
    {
     "name": "stdout",
     "output_type": "stream",
     "text": [
      "Timed out. Waiting for 1 minute.\n"
     ]
    },
    {
     "name": "stderr",
     "output_type": "stream",
     "text": [
      "100%|██████████| 1/1 [01:01<00:00, 61.79s/it]\n"
     ]
    },
    {
     "name": "stdout",
     "output_type": "stream",
     "text": [
      "Costs:  matching 0.0021950000000000003\n",
      "{'sentence': '* Knowledge of best practices in DevOps and CI/CD automation', 'label': ['DevOps', 'LABEL NOT PRESENT'], 'span': ['DevOps', 'CI/CD automation']}\n"
     ]
    },
    {
     "name": "stderr",
     "output_type": "stream",
     "text": [
      "100%|██████████| 1/1 [00:00<00:00,  1.63it/s]\n"
     ]
    },
    {
     "name": "stdout",
     "output_type": "stream",
     "text": [
      "Costs:  extraction 0.0006105\n",
      "extracted skill: devops\n",
      "checking for matches in name+definition\n",
      "extracted skill: ci/cd automation\n",
      "checking for matches in name+definition\n",
      "checking for matches in example\n",
      "checking for matches in subwords\n"
     ]
    },
    {
     "name": "stderr",
     "output_type": "stream",
     "text": [
      "100%|██████████| 1/1 [00:00<00:00,  1.50it/s]"
     ]
    },
    {
     "name": "stdout",
     "output_type": "stream",
     "text": [
      "Costs:  matching 0.0010985\n"
     ]
    },
    {
     "name": "stderr",
     "output_type": "stream",
     "text": [
      "\n"
     ]
    }
   ],
   "source": [
    "from tqdm.notebook import tqdm\n",
    "from utils import (OPENAI,\n",
    "                   Splitter,\n",
    "                   select_candidates_from_taxonomy)\n",
    "from api_key import API_KEY\n",
    "\n",
    "extraction_cost = 0\n",
    "matching_cost = 0\n",
    "ress = []\n",
    "for i, annotated_record in tqdm(enumerate(annotated_records)):\n",
    "    if(i>20):\n",
    "        break\n",
    "    print(annotated_record)\n",
    "\n",
    "    ## EXTRACTION\n",
    "    api = OPENAI(args, [annotated_record])\n",
    "    sentences_res_list, cost = api.do_prediction(\"extraction\")\n",
    "    extraction_cost += cost\n",
    "    \n",
    "\n",
    "    ## CANDIDATE SELECTION\n",
    "    if \"extracted_skills\" in sentences_res_list[0]:\n",
    "        splitter = Splitter()\n",
    "        max_candidates = 10\n",
    "        for idxx, sample in enumerate(sentences_res_list):\n",
    "            sample = select_candidates_from_taxonomy(\n",
    "                sample,\n",
    "                tax,\n",
    "                splitter,\n",
    "                word_emb_model,\n",
    "                word_emb_tokenizer,\n",
    "                max_candidates,\n",
    "                method=args.candidates_method,\n",
    "                emb_tax=None if args.candidates_method == \"rules\" else emb_tax,\n",
    "            )\n",
    "            sentences_res_list[idxx] = sample\n",
    "\n",
    "\n",
    "    if(\"skill_candidates\" in sentences_res_list[0]):\n",
    "        api = OPENAI(args, sentences_res_list)\n",
    "        sentences_res_list, cost = api.do_prediction(\"matching\")\n",
    "        matching_cost += cost\n",
    "\n",
    "\n",
    "\n",
    "    ress.append(sentences_res_list)"
   ]
  },
  {
   "cell_type": "code",
   "execution_count": 51,
   "metadata": {},
   "outputs": [
    {
     "name": "stdout",
     "output_type": "stream",
     "text": [
      "( Cypress for frontend is a must have pytest for backend and truffle for Solidity is a good addition) .\n",
      "['LABEL NOT PRESENT', 'LABEL NOT PRESENT', 'LABEL NOT PRESENT', 'Solidity']\n",
      "['Cypress', 'pytest', 'truffle', 'Solidity']\n",
      "-  pytest  >  demonstrate proficiency in packaging standards : Work in accordance with the latest developments in domestic and international packaging standards and procedures.\n",
      "----------------------------------------------------------------------------------------------------\n",
      "* Ability to analyse requirements and interact directly with business users\n",
      "['analyse business requirements', 'communicate with stakeholders']\n",
      "['analyse requirements', 'interact directly with business users']\n",
      "-  analyse requirements  >  analyse requirements for moving goods : Analyse goods to be relocated and their moving requirements. Check requirements and prepare actions to ensure appropriate transport of goods.\n",
      "-  business users  >  propose ICT solutions to business problems : Suggest how to solve business issues, using ICT means, so that business processes are improved.\n",
      "----------------------------------------------------------------------------------------------------\n",
      "* Ability to support the developers in your team leading supporting and coaching others\n",
      "['manage a team', 'lead others', 'mentor individuals', 'coach employees']\n",
      "['support the developers in your team', 'leading', 'supporting', 'coaching']\n",
      "-  support the developers in your team  >  create base for products : Manufacture the base or pedestal for a product so it can be mounted on top of it so the product can maintain its position and is easier to place.\n",
      "----------------------------------------------------------------------------------------------------\n",
      "* Ability to work in large collaborative teams to achieve organizational goals\n",
      "['work in teams', 'meet commitments', 'work in teams', 'meet commitments']\n",
      "['work in large collaborative teams', 'achieve organizational goals', 'work in large collaborative teams', 'achieve organizational goals']\n",
      "-  organizational goals  >  promote inclusion in organisations : Promote diversity and equal treatment of genders, ethnicities and minority groups in organisations in order to prevent discrimination and ensure inclusion and a positive environment.\n",
      "----------------------------------------------------------------------------------------------------\n",
      "* Ability to work in large collaborative teams to achieve organizational goals and passionate about building an innovative culture\n",
      "['work in teams', 'meet commitments', 'think innovately', 'work in teams', 'meet commitments', 'think innovately']\n",
      "['work in large collaborative teams', 'achieve organizational goals', 'building an innovative culture', 'work in large collaborative teams', 'achieve organizational goals', 'building an innovative culture']\n",
      "-  innovative culture  >  business incubation : The process through which an individual or an organization contributes to the development and growth of a business start-up. It includes physical facility support (such as offices), networking support (such as connecting with partners or investors) and support services (such as providing coaching session on business development, technological innovation, scaling up a business, etc).\n",
      "----------------------------------------------------------------------------------------------------\n",
      "* Advanced knowledge of architecture and design across all systems\n",
      "['information architecture', 'LABEL NOT PRESENT']\n",
      "['architecture and design', 'architecture and design']\n",
      "-  architecture and design  >  landscape architecture : The principles and practices used in the architecture and design of outdoor areas.\n",
      "----------------------------------------------------------------------------------------------------\n",
      "* Awareness of cloud micro-service and container deployment patterns\n",
      "['deploy cloud resource', 'deploy cloud resource']\n",
      "['cloud micro-service and container deployment patterns', 'cloud micro-service and container deployment patterns']\n",
      "----------------------------------------------------------------------------------------------------\n",
      "* BS/BA degree or equivalent experience\n",
      "['LABEL NOT PRESENT', 'LABEL NOT PRESENT', 'LABEL NOT PRESENT']\n",
      "['BS/BA degree', 'BS/BA degree', 'BS/BA degree']\n",
      "-  bs/ba degree  >  promote free trade : Develop strategies for the promotion of free trade, open competition between businesses for the development of economic growth, in order to gain support for free trade and competition regulation policies.\n",
      "----------------------------------------------------------------------------------------------------\n",
      "* Beneficial if you have experience with Oracle or equivalent relational database\n",
      "['UNDERSPECIFIED']\n",
      "['Oracle']\n",
      "-  oracle  >  Oracle Warehouse Builder : The computer program Oracle Warehouse Builder is a tool for integration of information from multiple applications, created and maintained by organisations, into one consistent and transparent data structure, developed by the software company Oracle.\n",
      "----------------------------------------------------------------------------------------------------\n",
      "* Experience in designing and building reusable services\n",
      "['LABEL NOT PRESENT', 'LABEL NOT PRESENT']\n",
      "['designing and building reusable services', 'designing and building reusable services']\n",
      "-  designing and building reusable services  >  market trends in sporting equipment : Latest trends and developments on the sports equipment market.\n",
      "----------------------------------------------------------------------------------------------------\n",
      "* Experience of Databases and ETL tools\n",
      "['database', 'data extraction, transformation and loading tools']\n",
      "['Databases', 'ETL tools']\n",
      "-  databases  >  Microsoft Access : The computer program Access is a tool for creating, updating and managing databases, developed by the software company Microsoft.\n",
      "-  etl tools  >  business intelligence : The tools used to transform large amounts of raw data into relevant and helpful business information.\n",
      "----------------------------------------------------------------------------------------------------\n",
      "* Experience with Docker or similar container technologies\n",
      "['LABEL NOT PRESENT']\n",
      "['Docker']\n",
      "-  docker  >  manage ICT virtualisation environments : Oversee tools, such as VMware, kvm, Xen, Docker, Kubernetes, and others, used to enable a virtual environments for different purposes such as hardware virtualization, desktop virtualisation, and operating system level virtualisation.\n",
      "----------------------------------------------------------------------------------------------------\n",
      "* Experience with cloud technologies such as AWS and Kubernetes\n",
      "['LABEL NOT PRESENT', 'LABEL NOT PRESENT']\n",
      "['AWS', 'Kubernetes']\n",
      "-  aws  >  drive ambulance under emergency conditions : Drive and operate ambulance in response to emergency situations, at a safe and controlled speed, complying with laws, regulations and standards for this type of activity.\n",
      "-  kubernetes  >  manage ICT virtualisation environments : Oversee tools, such as VMware, kvm, Xen, Docker, Kubernetes, and others, used to enable a virtual environments for different purposes such as hardware virtualization, desktop virtualisation, and operating system level virtualisation.\n",
      "----------------------------------------------------------------------------------------------------\n",
      "* Experience working on high throughput mission critical high performance STP platforms\n",
      "['LABEL NOT PRESENT']\n",
      "['high throughput mission critical high performance STP platforms']\n",
      "-  high throughput mission critical high performance stp platforms  >  well testing operations : Testing procedures, such as volumetric flow testing and pressure testing, which describe the ability of the well to produce oil.\n",
      "----------------------------------------------------------------------------------------------------\n",
      "* Expertise in application data and infrastructure architecture & design disciplines\n",
      "['application process', 'manage ICT data architecture', 'information architecture', 'LABEL NOT PRESENT']\n",
      "['application data and infrastructure architecture & design disciplines', 'application data and infrastructure architecture & design disciplines', 'application data and infrastructure architecture & design disciplines', 'application data and infrastructure architecture & design disciplines']\n",
      "-  infrastructure architecture & design disciplines  >  design a solar absorption cooling system : Design an absorption cooling generation system with solar regeneration by heat tube collectors. Calculate accurate cooling demand of the building in order to select the right capacity (kW). Make a detailed design of the installation, principle, automatisation strategy, using available products and concepts, select fitted products.\n",
      "----------------------------------------------------------------------------------------------------\n",
      "* Expertise in application data and infrastructure architecture disciplines\n",
      "['UNDERSPECIFIED', 'UNDERSPECIFIED', 'ICT infrastructure']\n",
      "['application', 'data', 'infrastructure architecture disciplines']\n",
      "-  infrastructure architecture  >  organisational structure : Framework of the different departments within the organisation, as well its people, their roles and responsibilities.\n",
      "----------------------------------------------------------------------------------------------------\n",
      "* Hands-on experience in Core Java Spring Boot and Microservices\n",
      "['Java (computer programming)', 'LABEL NOT PRESENT', 'LABEL NOT PRESENT']\n",
      "['Core Java', 'Spring Boot', 'Microservices']\n",
      "-  core java  >  understand written Javanese : Read and comprehend written texts in Javanese.\n",
      "-  spring boot  >  monitor drilling fluid : Monitor and maintain the drilling fluids, or \"mud\". Add different chemicals to the fluid to perform various function in well operations: keep the drill bit cool, provide hydrostatic pressure, etc.\n",
      "-  microservices  >  test microelectronics : Test microelectronics using appropriate equipment. Gather and analyse data. Monitor and evaluate system performance and take action if needed.\n",
      "----------------------------------------------------------------------------------------------------\n",
      "* Keen understanding of financial control and budget management\n",
      "['control financial resources', 'manage budgets']\n",
      "['financial control', 'budget management']\n",
      "-  financial control  >  apply certification and payment procedures : Apply the verification principles and the financial control framework which ensure that the relevant supplies, services or works are delivered in compliance with the terms and conditions of the contract and all applicable financial and accounting rules in order to proceed to the payment.\n",
      "-  budget management  >  financial capability : Financial operations such as calculations, cost estimations, budget management taking relevant commercial and statistical data into account such as data for materials, supplies and manpower.\n",
      "----------------------------------------------------------------------------------------------------\n",
      "* Knowledge of Big Data/NoSql solutions is beneficial\n",
      "['UNDERSPECIFIED']\n",
      "['Big']\n",
      "-  big data/nosql solutions  >  ensure regulatory compliance in pipeline infrastructures : Ensure that the regulations for pipeline operations are met. Ensure pipeline infrastructure compliance with legal mandates, and compliance with regulations governing the transportation of goods via the pipelines.\n",
      "----------------------------------------------------------------------------------------------------\n",
      "* Knowledge of R or Python with machine learning & Data Tables is a big plus\n",
      "['R', 'Python (computer programming)', 'machine learning', 'data storage']\n",
      "['R', 'Python', 'machine learning', 'Data Tables']\n",
      "-  r  >  wet tumbling : Process of tumbling, employing water and other agents inside a wet tumbling barrel to clean and remove burrs from metal parts and stones in order to smoothen them.\n",
      "-  python  >  Python (computer programming) : The techniques and principles of software development, such as analysis, algorithms, coding, testing and compiling of programming paradigms in Python.\n",
      "-  machine learning  >  machine learning : The principles, methods and algorithms of machine learning, a subfield of artificial intelligence. Common machine learning models such as supervised or unsupervised models, semi- supervised models and reinforcement learning models.\n",
      "----------------------------------------------------------------------------------------------------\n",
      "* Knowledge of best practices in DevOps and CI/CD automation\n",
      "['DevOps', 'LABEL NOT PRESENT']\n",
      "['DevOps', 'CI/CD automation']\n",
      "-  devops  >  DevOps : The DevOps development approach is a methodology to design software systems and applications focused on the collaboration and between software programmers and other ICT professionals and automation.\n",
      "-  ci/cd automation  >  use scripting programming : Utilise specialised ICT tools to create computer code that is interpreted by the corresponding run-time environments in order to extend applications and automate common computer operations. Use programming languages which support this method such as Unix Shell scripts, JavaScript, Python and Ruby.\n",
      "----------------------------------------------------------------------------------------------------\n"
     ]
    }
   ],
   "source": [
    "for i, [res] in enumerate(ress):\n",
    "    print(res[\"sentence\"])\n",
    "    print(res[\"label\"])\n",
    "    print(res[\"span\"])\n",
    "    for extracted_skill in res[\"matched_skills\"].keys():\n",
    "        print(\"- \", extracted_skill, \" > \", res[\"matched_skills\"][extracted_skill][\"name+definition\"])\n",
    "    print(\"-\"*100)\n"
   ]
  },
  {
   "cell_type": "markdown",
   "metadata": {},
   "source": [
    "### Metrics"
   ]
  },
  {
   "cell_type": "code",
   "execution_count": null,
   "metadata": {},
   "outputs": [],
   "source": []
  }
 ],
 "metadata": {
  "kernelspec": {
   "display_name": "Python 3 (ipykernel)",
   "language": "python",
   "name": "python3"
  }
 },
 "nbformat": 4,
 "nbformat_minor": 2
}
