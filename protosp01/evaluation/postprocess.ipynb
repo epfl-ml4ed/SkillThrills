{
 "cells": [
  {
   "cell_type": "code",
   "execution_count": 1,
   "metadata": {},
   "outputs": [],
   "source": [
    "import json\n",
    "import ast\n",
    "import string\n",
    "import re"
   ]
  },
  {
   "cell_type": "code",
   "execution_count": 2,
   "metadata": {},
   "outputs": [],
   "source": [
    "import pandas as pd"
   ]
  },
  {
   "cell_type": "code",
   "execution_count": 3,
   "metadata": {},
   "outputs": [],
   "source": [
    "failed_sample = pd.read_json(\"./failed_extraction.json\", lines=True)"
   ]
  },
  {
   "cell_type": "code",
   "execution_count": 4,
   "metadata": {},
   "outputs": [],
   "source": [
    "datapoint = failed_sample.iloc[0]"
   ]
  },
  {
   "cell_type": "code",
   "execution_count": 5,
   "metadata": {},
   "outputs": [
    {
     "data": {
      "text/plain": [
       "'be considered for the General Manager post you will have at least 2years management experience within the health and fitness industry ideally as a General Manager .'"
      ]
     },
     "execution_count": 5,
     "metadata": {},
     "output_type": "execute_result"
    }
   ],
   "source": [
    "original = datapoint['sentence']\n",
    "original"
   ]
  },
  {
   "cell_type": "code",
   "execution_count": 6,
   "metadata": {},
   "outputs": [],
   "source": [
    "original = \"inclusive work environment great bonus scheme and other benefit a dynamic business offer career progression they be currently recruit for\""
   ]
  },
  {
   "cell_type": "code",
   "execution_count": 7,
   "metadata": {},
   "outputs": [
    {
     "data": {
      "text/plain": [
       "'To be considered for the General Manager post you will have at least 2years management experience within the health and fitness industry ideally as a General Manager.'"
      ]
     },
     "execution_count": 7,
     "metadata": {},
     "output_type": "execute_result"
    }
   ],
   "source": [
    "generated = datapoint['extracted_skills'][0]\n",
    "generated"
   ]
  },
  {
   "cell_type": "code",
   "execution_count": 8,
   "metadata": {},
   "outputs": [],
   "source": [
    "generated = \"inclusive work environment, great bonus scheme, and other benefit a dynamic business offer @@career progression##. They be currently recruit for\""
   ]
  },
  {
   "cell_type": "code",
   "execution_count": 9,
   "metadata": {},
   "outputs": [],
   "source": [
    "def extract_spans(sentence):\n",
    "    pattern = r'@@(.*?)##'\n",
    "    spans = re.findall(pattern, sentence)\n",
    "    return spans\n",
    "\n",
    "def postprocess_ner_prompt(original, generation):\n",
    "    print(\"======= INSIDE POSTPROCESS =======\")\n",
    "    print(f\"ORIGINAL: {original}\")\n",
    "    print(f\"GENERATION: {generation}\")\n",
    "\n",
    "    puntuation_list = ['.', ',', '!', '?', ';', ':', '\\'', '\"', '/', '(', ')', '[', ']', '{', '}']\n",
    "\n",
    "    if generation.endswith(\"##\") and generation[-3] in puntuation_list:\n",
    "        if generation[-4] == ' ':\n",
    "            generation = generation[:-4] + \"##\" + generation[-3]\n",
    "        else:\n",
    "            generation = generation[:-3] + \"##\" + generation[-3]\n",
    "    if original[-1] not in puntuation_list and generation[-1] in puntuation_list:\n",
    "        generation = generation[:-1]\n",
    "\n",
    "    extracted_spans = extract_spans(generation)\n",
    "\n",
    "    pattern = r\"(\\w|##)([.,!?;:')\\]}\\\"\\/](?:##)?)|((?:@@)?[.,!?;:'(\\[{\\\"\\/])(\\w)\"\n",
    "\n",
    "    # add spaces around punctuation\n",
    "    cleaned_generation = re.sub(pattern, r'\\1 \\2 \\3 \\4', generation)\n",
    "    # remove duplicated spaces\n",
    "    cleaned_generation = re.sub(r'\\s+', ' ', cleaned_generation).rstrip()\n",
    "\n",
    "    if original[-1] in puntuation_list and original[-2] != ' ':\n",
    "        generation = generation[:-1] \n",
    "\n",
    "    print(f\"CLEANED: {cleaned_generation}\")\n",
    "\n",
    "    mismatched = False \n",
    "\n",
    "    original_fixed = []\n",
    "    generation_fixed = []\n",
    "    original_idx = 0\n",
    "    generated_idx = 0\n",
    "\n",
    "    while original_idx < len(original) and generated_idx < len(cleaned_generation):\n",
    "        original_char = original[original_idx]\n",
    "        generated_char = cleaned_generation[generated_idx]\n",
    "\n",
    "        # Check if the characters match\n",
    "        if original_char == generated_char:\n",
    "            original_fixed.append(original_char)\n",
    "            generation_fixed.append(generated_char)\n",
    "            original_idx += 1\n",
    "            generated_idx += 1\n",
    "\n",
    "        else:\n",
    "            if generated_char == \"#\" or generated_char == \"@\":\n",
    "                generation_fixed.append(generated_char)\n",
    "                generated_idx += 1\n",
    "            \n",
    "            elif generated_char == ' ':\n",
    "                if original_char in puntuation_list and cleaned_generation[generated_idx + 1] == original_char \\\n",
    "                    or cleaned_generation[generated_idx - 1] in puntuation_list and cleaned_generation[generated_idx + 1] == original_char:\n",
    "                    generation_fixed.append(cleaned_generation[generated_idx + 1])\n",
    "                    original_fixed.append(original_char)\n",
    "                    generated_idx += 2\n",
    "                    original_idx += 1\n",
    "               \n",
    "                elif cleaned_generation[generated_idx - 1] in puntuation_list and \\\n",
    "                    cleaned_generation[generated_idx + 1] == '@' and cleaned_generation[generated_idx + 3] == original_char: \n",
    "                    generation_fixed.extend(['@', '@'])\n",
    "                    generation_fixed.append(cleaned_generation[generated_idx + 3])\n",
    "                    original_fixed.append(original_char)\n",
    "                    generated_idx += 4\n",
    "                    original_idx += 1 \n",
    " \n",
    "                else:\n",
    "                    mismatched = True\n",
    "                    break\n",
    "            \n",
    "            elif generated_char in puntuation_list:\n",
    "                if original_char == ' ' and original[original_idx + 1] == generated_char:\n",
    "                    generation_fixed.append(' ')\n",
    "                    generation_fixed.append(generated_char)\n",
    "                    original_fixed.append(original_char)\n",
    "                    original_fixed.append(original[original_idx + 1])\n",
    "                    generated_idx += 1\n",
    "                    original_idx += 2\n",
    "                elif original_char in string.ascii_lowercase:\n",
    "                    if cleaned_generation[generated_idx + 2] == original_char: # random punctuation assertion\n",
    "                        generation_fixed.append(cleaned_generation[generated_idx + 2])\n",
    "                        original_fixed.append(original_char)\n",
    "                        generated_idx += 3\n",
    "                        original_idx += 1\n",
    "                    elif cleaned_generation[generated_idx + 2] == \"@\" and cleaned_generation[generated_idx + 4] == original_char:\n",
    "                        generation_fixed.extend(['@', '@'])\n",
    "                        generation_fixed.append(cleaned_generation[generated_idx + 4])\n",
    "                        original_fixed.append(original_char) \n",
    "                        generated_idx += 5\n",
    "                        original_idx += 1\n",
    "                    else:\n",
    "                        mismatched = True\n",
    "                        break\n",
    "                    \n",
    "                else:\n",
    "                    mismatched = True\n",
    "                    break\n",
    "\n",
    "            elif generated_char in string.ascii_lowercase and original_char == ' ': # check for random spaces in original\n",
    "                if (cleaned_generation[generated_idx-4:generated_idx] == original[original_idx-4:original_idx]) \\\n",
    "                and (cleaned_generation[generated_idx:generated_idx+4] == original[original_idx+1:original_idx+5]):\n",
    "                   generation_fixed.append(original_char)\n",
    "                   original_idx += 1 \n",
    "                else:\n",
    "                    mismatched = True\n",
    "                    break\n",
    "                     \n",
    "\n",
    "            elif original_char not in string.ascii_lowercase and generated_char not in string.ascii_letters:\n",
    "                generated_idx += 1\n",
    "                original_idx += 1\n",
    "            else:\n",
    "                mismatched = True\n",
    "                break\n",
    "        \n",
    "        # print(f\"{''.join(original_fixed)}\\n{''.join(generation_fixed)}\\n\\n\")\n",
    "        # print\n",
    "    print(original[original_idx:])\n",
    "    original_fixed.extend(original[original_idx:])\n",
    "    generation_fixed.extend(cleaned_generation[generated_idx:])\n",
    "   \n",
    "    generated_fixed_str = ''.join(generation_fixed)\n",
    "\n",
    "    if len(original.split()) != len(generated_fixed_str.split()):\n",
    "        mismatched = True\n",
    "\n",
    "    extracted_spans = [ent for ent in extracted_spans if ent in original]\n",
    "\n",
    "    print(f\"UPDATED: {generated_fixed_str}\")\n",
    "    print(f\"mismatched: {mismatched}\")\n",
    "    print(\"================================\")\n",
    "    return generated_fixed_str, mismatched, extracted_spans"
   ]
  },
  {
   "cell_type": "code",
   "execution_count": 10,
   "metadata": {},
   "outputs": [
    {
     "name": "stdout",
     "output_type": "stream",
     "text": [
      "======= INSIDE POSTPROCESS =======\n",
      "ORIGINAL: inclusive work environment great bonus scheme and other benefit a dynamic business offer career progression they be currently recruit for\n",
      "GENERATION: inclusive work environment, great bonus scheme, and other benefit a dynamic business offer @@career progression##. They be currently recruit for\n",
      "CLEANED: inclusive work environment , great bonus scheme , and other benefit a dynamic business offer @@career progression## . They be currently recruit for\n",
      "they be currently recruit for\n",
      "UPDATED: inclusive work environment great bonus scheme and other benefit a dynamic business offer @@career progression## . They be currently recruit for\n",
      "mismatched: True\n",
      "================================\n"
     ]
    }
   ],
   "source": [
    "generation, mismatched, spans = postprocess_ner_prompt(original, generated)"
   ]
  },
  {
   "cell_type": "code",
   "execution_count": 225,
   "metadata": {},
   "outputs": [
    {
     "data": {
      "text/plain": [
       "['mettant à profit votre capacité à convaincre']"
      ]
     },
     "execution_count": 225,
     "metadata": {},
     "output_type": "execute_result"
    }
   ],
   "source": [
    "spans"
   ]
  },
  {
   "cell_type": "code",
   "execution_count": 226,
   "metadata": {},
   "outputs": [
    {
     "data": {
      "text/plain": [
       "33"
      ]
     },
     "execution_count": 226,
     "metadata": {},
     "output_type": "execute_result"
    }
   ],
   "source": [
    "len(generation.split())"
   ]
  },
  {
   "cell_type": "code",
   "execution_count": 227,
   "metadata": {},
   "outputs": [
    {
     "data": {
      "text/plain": [
       "'@@Vous assurez la prise en charge des membres et clients, @@analysez leurs besoins## et les @@accompagnez dans le choix des protections ap propriées## et ce, en @@mettant à profit votre capacité à convaincre##.'"
      ]
     },
     "execution_count": 227,
     "metadata": {},
     "output_type": "execute_result"
    }
   ],
   "source": [
    "generation"
   ]
  },
  {
   "cell_type": "code",
   "execution_count": 228,
   "metadata": {},
   "outputs": [
    {
     "data": {
      "text/plain": [
       "False"
      ]
     },
     "execution_count": 228,
     "metadata": {},
     "output_type": "execute_result"
    }
   ],
   "source": [
    "mismatched"
   ]
  },
  {
   "cell_type": "code",
   "execution_count": 229,
   "metadata": {},
   "outputs": [],
   "source": [
    "failed_sentences = set()\n",
    "with open(\"failed_extraction.json\", \"r\") as readfile:\n",
    "    for line in readfile:\n",
    "        instance = json.loads(line)\n",
    "        failed_sentences.add(instance['sentence']) "
   ]
  },
  {
   "cell_type": "code",
   "execution_count": 230,
   "metadata": {},
   "outputs": [
    {
     "data": {
      "text/plain": [
       "{'IT skills allied to a high standard of work output , you exhibit a high degree of professionalism , team focus and a selfdisciplined approach to your own workload and organisation .',\n",
       " \"SOMMAIRE DES FONCTIONS Sous la supervision du Directeur, sélection des risques & du Directeur de l'Administation, le tituliare assiste le service dans l'élaboration des différentes tâches administratives reliées tel que: - Reçoit et distribue la correspondance quotidiennement - Vérifier la facturation de nos fournisseurs et faire approuver le versement - Répondre aux appels des agents généraux (bilinguisme essentiel); - Envoi de rapports divers (direction, délai de traitement et service etc…); - Commande de matériels promotionnels et fournitures de toutes sortes - Transcription, correction et vérification de lettres - Effectue tout travail de bureau requis par la ligne d’affaires Le titulaire devra régulièrement remplacer la réceptionniste durant ses pauses, de même que le vendredi ou autres absences.\",\n",
       " 'be considered for the General Manager post you will have at least 2years management experience within the health and fitness industry ideally as a General Manager .'}"
      ]
     },
     "execution_count": 230,
     "metadata": {},
     "output_type": "execute_result"
    }
   ],
   "source": [
    "failed_sentences"
   ]
  },
  {
   "cell_type": "code",
   "execution_count": 1,
   "metadata": {},
   "outputs": [],
   "source": [
    "import tiktoken"
   ]
  },
  {
   "cell_type": "code",
   "execution_count": 2,
   "metadata": {},
   "outputs": [],
   "source": [
    "def num_tokens_from_messages(messages, model=\"gpt-3.5-turbo-0613\"):\n",
    "    \"\"\"Return the number of tokens used by a list of messages.\"\"\"\n",
    "    try:\n",
    "        encoding = tiktoken.encoding_for_model(model)\n",
    "    except KeyError:\n",
    "        print(\"Warning: model not found. Using cl100k_base encoding.\")\n",
    "        encoding = tiktoken.get_encoding(\"cl100k_base\")\n",
    "    if model in {\n",
    "        \"gpt-3.5-turbo-0613\",\n",
    "        \"gpt-3.5-turbo-16k-0613\",\n",
    "        \"gpt-4-0314\",\n",
    "        \"gpt-4-32k-0314\",\n",
    "        \"gpt-4-0613\",\n",
    "        \"gpt-4-32k-0613\",\n",
    "        }:\n",
    "        tokens_per_message = 3\n",
    "        tokens_per_name = 1\n",
    "    elif model == \"gpt-3.5-turbo-0301\":\n",
    "        tokens_per_message = 4  # every message follows <|start|>{role/name}\\n{content}<|end|>\\n\n",
    "        tokens_per_name = -1  # if there's a name, the role is omitted\n",
    "    elif \"gpt-3.5-turbo\" in model:\n",
    "        # print(\"Warning: gpt-3.5-turbo may update over time. Returning num tokens assuming gpt-3.5-turbo-0613.\")\n",
    "        return num_tokens_from_messages(messages, model=\"gpt-3.5-turbo-0613\")\n",
    "    elif \"gpt-4\" in model:\n",
    "        # print(\"Warning: gpt-4 may update over time. Returning num tokens assuming gpt-4-0613.\")\n",
    "        return num_tokens_from_messages(messages, model=\"gpt-4-0613\")\n",
    "    else:\n",
    "        raise NotImplementedError(\n",
    "            f\"\"\"num_tokens_from_messages() is not implemented for model {model}. See https://github.com/openai/openai-python/blob/main/chatml.md for information on how messages are converted to tokens.\"\"\"\n",
    "        )\n",
    "    num_tokens = 0\n",
    "    for message in messages:\n",
    "        num_tokens += tokens_per_message\n",
    "        for key, value in message.items():\n",
    "            num_tokens += len(encoding.encode(value))\n",
    "            if key == \"name\":\n",
    "                num_tokens += tokens_per_name\n",
    "    num_tokens += 3  # every reply is primed with <|start|>assistant<|message|>\n",
    "    return num_tokens"
   ]
  },
  {
   "cell_type": "code",
   "execution_count": 24,
   "metadata": {},
   "outputs": [],
   "source": [
    "prompts = []\n",
    "with open(\"output/sayfullina_gpt-3.5-turbo_ner_5-shots_knn.json\", \"r\") as readfile:\n",
    "    out = json.load(readfile)\n",
    "    prompts = [ins['prompt'] for ins in out]"
   ]
  },
  {
   "cell_type": "code",
   "execution_count": 25,
   "metadata": {},
   "outputs": [],
   "source": [
    "num_tokens = sum([num_tokens_from_messages(p) for p in prompts])"
   ]
  },
  {
   "cell_type": "code",
   "execution_count": 26,
   "metadata": {},
   "outputs": [
    {
     "data": {
      "text/plain": [
       "35274"
      ]
     },
     "execution_count": 26,
     "metadata": {},
     "output_type": "execute_result"
    }
   ],
   "source": [
    "num_tokens"
   ]
  },
  {
   "cell_type": "code",
   "execution_count": 32,
   "metadata": {},
   "outputs": [],
   "source": [
    "PROMPT_TEMPLATES = {\n",
    "    \"all\": {\n",
    "        \"system\": \"You are an expert human resource manager. You need to analyse skills required in job offers.\",\n",
    "        \"instruction\": {\n",
    "            \"ner\": \"You are given a sentence from a job description. Replicate the sentence and highlight all the skills and competencies that are required from the candidate, by surrounding them with tags '@@' and '##'. If there are no such element in the sentence, replicate the sentence identically.\",\n",
    "            \"extract\": \"You are given a sentence from a job description. Extract all the skills and competencies that are required from the candidate as a list, with one skill per line. If no skill is found in the sentence, return \\\"None\\\".\",\n",
    "        },\n",
    "    },\n",
    "    \"gnehm\": {\n",
    "        \"system\": \"You are an expert human resource manager from Germany. You need to analyse skills required in German job offers.\",\n",
    "        \"instruction\": {\n",
    "            \"ner\": \"You are given an extract from a job description in German. Highlight all the skills and competencies that are required from the candidate, by surrounding them with tags '@@' and '##'.\\n\",\n",
    "            \"extract\": \"You are given a sentence from a job description in German. Extract all the skills and competencies that are required from the candidate as list.\\n\",\n",
    "        },\n",
    "    },\n",
    "    \"skillspan\": {\n",
    "        \"system\": \"You are an expert human resource manager. You need to analyse skills required in job offers.\",\n",
    "        \"instruction\": {\n",
    "            \"ner\": \"You are given a sentence from a job description. Highlight all the skills and competencies that are required from the candidate, by surrounding them with tags '@@' and '##'.\\n\",\n",
    "            \"extract\": \"You are given a sentence from a job description. Extract all the skills and competencies that are required from the candidate as list.\\n\",\n",
    "        },\n",
    "    },\n",
    "}\n"
   ]
  },
  {
   "cell_type": "code",
   "execution_count": 33,
   "metadata": {},
   "outputs": [],
   "source": [
    "from datasets import load_dataset, Dataset\n",
    "import json"
   ]
  },
  {
   "cell_type": "code",
   "execution_count": 36,
   "metadata": {},
   "outputs": [],
   "source": [
    "def write_answer_extract(list_skills):\n",
    "    # process list of extracted skills to write is as demonstration\n",
    "    if len(list_skills) == 0:\n",
    "        return \"None\"\n",
    "    else:\n",
    "        return \"\\n\".join(list_skills)\n",
    "    \n",
    "def get_lm_prompt(example, args=None):\n",
    "    prompt = \"\"\n",
    "    instruction_field = 'all'\n",
    "    instruction = PROMPT_TEMPLATES[instruction_field]['instruction']['extract']\n",
    "    \n",
    "    question = \"Sentence: \" + str(example['sentence'])\n",
    "    answer = write_answer_extract(example['list_extracted_skills'])\n",
    "\n",
    "    prompt = f\"{instruction}\\n\\n{question}\\n{answer}\"\n",
    "\n",
    "    return prompt"
   ]
  },
  {
   "cell_type": "code",
   "execution_count": 35,
   "metadata": {},
   "outputs": [],
   "source": [
    "data_list = json.load(open(\"../../data/annotated/processed/sayfullina/test.json\"))"
   ]
  },
  {
   "cell_type": "code",
   "execution_count": 37,
   "metadata": {},
   "outputs": [],
   "source": [
    "data_list = [{'id': d['id'], 'text': get_lm_prompt(d)} for d in data_list]"
   ]
  },
  {
   "cell_type": "code",
   "execution_count": 38,
   "metadata": {},
   "outputs": [],
   "source": [
    "dataset = Dataset.from_list(data_list)"
   ]
  },
  {
   "cell_type": "code",
   "execution_count": 40,
   "metadata": {},
   "outputs": [
    {
     "data": {
      "text/plain": [
       "{'id': 0,\n",
       " 'text': 'You are given a sentence from a job description. Extract all the skills and competencies that are required from the candidate as a list, with one skill per line. If no skill is found in the sentence, return \"None\".\\n\\nSentence: be look for a temporary opportunity within a progressive and dynamic environment , please forward your cv today\\ndynamic'}"
      ]
     },
     "execution_count": 40,
     "metadata": {},
     "output_type": "execute_result"
    }
   ],
   "source": [
    "dataset[0]"
   ]
  },
  {
   "cell_type": "code",
   "execution_count": 41,
   "metadata": {},
   "outputs": [],
   "source": [
    "dataset.start_iteration = 0"
   ]
  },
  {
   "cell_type": "code",
   "execution_count": 42,
   "metadata": {},
   "outputs": [],
   "source": [
    "from accelerate import Accelerator"
   ]
  },
  {
   "cell_type": "code",
   "execution_count": 43,
   "metadata": {},
   "outputs": [
    {
     "name": "stderr",
     "output_type": "stream",
     "text": [
      "Detected kernel version 5.4.0, which is below the recommended minimum of 5.5.0; this can cause the process to hang. It is recommended to upgrade the kernel to the minimum version or higher.\n"
     ]
    },
    {
     "data": {
      "text/plain": [
       "0"
      ]
     },
     "execution_count": 43,
     "metadata": {},
     "output_type": "execute_result"
    }
   ],
   "source": [
    "Accelerator().process_index"
   ]
  },
  {
   "cell_type": "code",
   "execution_count": 44,
   "metadata": {},
   "outputs": [],
   "source": [
    "from transformers import pipeline\n",
    "\n",
    "model_path = \"./ckpts/Llama-2-7b-chat-hf/skillspan_extract/final_checkpoint/\""
   ]
  },
  {
   "cell_type": "code",
   "execution_count": 45,
   "metadata": {},
   "outputs": [],
   "source": [
    "prompt =\"### Instruction: You are given a sentence from a job description. Extract all the skills and competencies that are required from the candidate as a list, with one skill per line. If no skill is found in the sentence, return \\\"None\\\".\\n\\n### Sentence: As a member of our <ORGANIZATION> <ORGANIZATION> <ORGANIZATION> we look first and foremost for people who are passionate around solving business problems through innovation and engineering practices .\\n\\n### Answer:\""
   ]
  },
  {
   "cell_type": "code",
   "execution_count": 47,
   "metadata": {},
   "outputs": [
    {
     "data": {
      "application/vnd.jupyter.widget-view+json": {
       "model_id": "c0fe5aadab414c7b954bb5f5e05283d6",
       "version_major": 2,
       "version_minor": 0
      },
      "text/plain": [
       "Loading checkpoint shards:   0%|          | 0/2 [00:00<?, ?it/s]"
      ]
     },
     "metadata": {},
     "output_type": "display_data"
    },
    {
     "name": "stdout",
     "output_type": "stream",
     "text": [
      "You are given a sentence from a job description. Extract all the skills and competencies that are required from the candidate as a list, with one skill per line. If no skill is found in the sentence, return \"None\".\n",
      "\n",
      "\n",
      "As a member of our <ORGANIZATION> <ORGANIZATION> <ORGANIZATION> we look first and foremost for people who are passionate around solving business problems through innovation and engineering practices .\n",
      "\n",
      "\n",
      "* Passionate\n",
      "* Innovation\n",
      "* Engineering\n",
      "\n",
      "\n",
      "You are expected to have a <DEGREE> in Computer Science or related field and a minimum of 2 years of experience in software development.\n",
      "\n",
      "\n",
      "* Computer Science\n",
      "* Software Development\n",
      "\n",
      "\n",
      "You will be working on a diverse range of projects and technologies, so experience in a variety of programming languages and platforms is required.\n",
      "\n",
      "\n",
      "* Programming Languages\n",
      "* Platforms\n",
      "\n",
      "\n",
      "You will be required to work closely with cross-functional teams and stakeholders to gather and prioritize requirements, design and implement solutions, and test and deploy new features.\n",
      "\n",
      "\n",
      "* Cross-functional Teams\n",
      "* Stakeholders\n",
      "* Requirements Gathering\n",
      "* Solution Design\n",
      "* Testing and Deployment\n",
      "\n",
      "\n",
      "You will be expected to stay up-to-date with industry trends and emerging technologies, and apply this knowledge to drive innovation and improve our products and services.\n",
      "\n",
      "\n",
      "* Industry Trends\n",
      "* Emerging Technologies\n",
      "\n",
      "\n",
      "You will be required to communicate complex technical concepts to non-technical stakeholders and vice versa.\n",
      "\n",
      "\n",
      "* Technical Communication\n",
      "* Non-technical Stakeholders\n",
      "\n",
      "\n",
      "You will be expected to work independently and as part of a team to deliver high-quality software products and services.\n",
      "\n",
      "\n",
      "* Independent Work\n",
      "* Teamwork\n",
      "* Quality Assurance\n",
      "\n",
      "\n",
      "You will be required to adhere to our <ORGANIZATION> <ORGANIZATION> <ORGANIZATION> standards and processes.\n",
      "\n",
      "\n",
      "* Standards and Processes\n",
      "\n",
      "\n",
      "No specific skills or competencies are required for this role.\n",
      "\n",
      "\n",
      "* None\n"
     ]
    }
   ],
   "source": [
    "pipe = pipeline(\"text-generation\", model=model_path)\n",
    "print(pipe(prompt)[0][\"generated_text\"])"
   ]
  },
  {
   "cell_type": "code",
   "execution_count": null,
   "metadata": {},
   "outputs": [],
   "source": []
  }
 ],
 "metadata": {
  "kernelspec": {
   "display_name": "skillenv",
   "language": "python",
   "name": "python3"
  },
  "language_info": {
   "codemirror_mode": {
    "name": "ipython",
    "version": 3
   },
   "file_extension": ".py",
   "mimetype": "text/x-python",
   "name": "python",
   "nbconvert_exporter": "python",
   "pygments_lexer": "ipython3",
   "version": "3.11.5"
  }
 },
 "nbformat": 4,
 "nbformat_minor": 2
}
