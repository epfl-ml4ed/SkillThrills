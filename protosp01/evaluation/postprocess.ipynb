{
 "cells": [
  {
   "cell_type": "code",
   "execution_count": 1,
   "metadata": {},
   "outputs": [],
   "source": [
    "import json\n",
    "import ast\n",
    "import string\n",
    "import re"
   ]
  },
  {
   "cell_type": "code",
   "execution_count": 2,
   "metadata": {},
   "outputs": [],
   "source": [
    "import pandas as pd"
   ]
  },
  {
   "cell_type": "code",
   "execution_count": 3,
   "metadata": {},
   "outputs": [],
   "source": [
    "failed_sample = pd.read_json(\"./failed_extraction.json\", lines=True)"
   ]
  },
  {
   "cell_type": "code",
   "execution_count": 4,
   "metadata": {},
   "outputs": [],
   "source": [
    "datapoint = failed_sample.iloc[9]"
   ]
  },
  {
   "cell_type": "code",
   "execution_count": 122,
   "metadata": {},
   "outputs": [
    {
     "data": {
      "text/plain": [
       "\"Responsabilités principales Établir un contact téléphonique personnalisé avec le client créer un climat de confiance favorisant la vente d'un contrat d'assurance entreprise tout en respectant les politiques de souscription de l'entreprise.\""
      ]
     },
     "execution_count": 122,
     "metadata": {},
     "output_type": "execute_result"
    }
   ],
   "source": [
    "original = datapoint['sentence']\n",
    "original"
   ]
  },
  {
   "cell_type": "code",
   "execution_count": 258,
   "metadata": {},
   "outputs": [],
   "source": [
    "original = \"the ability to operate a a senior manager in a dynamic commercially focus environment advance use of m excel and powerpoint\""
   ]
  },
  {
   "cell_type": "code",
   "execution_count": 259,
   "metadata": {},
   "outputs": [
    {
     "data": {
      "text/plain": [
       "\"Responsabilités principales @@Établir un contact téléphonique personnalisé avec le client, créer un climat de confiance favorisant la vente d'un contrat d'assurance entreprise tout en respectant les politiques de souscription de l'entreprise.##\""
      ]
     },
     "execution_count": 259,
     "metadata": {},
     "output_type": "execute_result"
    }
   ],
   "source": [
    "generated = datapoint['extracted_skills'][0]\n",
    "generated"
   ]
  },
  {
   "cell_type": "code",
   "execution_count": 260,
   "metadata": {},
   "outputs": [],
   "source": [
    "generated = \"the ability to operate as a @@senior manager## in a @@dynamic## commercially focus environment advance use of @@m excel## and @@powerpoint##\""
   ]
  },
  {
   "cell_type": "code",
   "execution_count": 261,
   "metadata": {},
   "outputs": [],
   "source": [
    "def extract_spans(sentence):\n",
    "    pattern = r'@@(.*?)##'\n",
    "    spans = re.findall(pattern, sentence)\n",
    "    return spans\n",
    "\n",
    "def postprocess_ner_prompt(original, generation):\n",
    "    print(\"======= INSIDE POSTPROCESS =======\")\n",
    "    print(f\"ORIGINAL: {original}\")\n",
    "    print(f\"GENERATION: {generation}\")\n",
    "\n",
    "    puntuation_list = ['.', ',', '!', '?', ';', ':', '\\'', '\"', '/', '(', ')', '[', ']', '{', '}']\n",
    "\n",
    "    if generation.endswith(\"##\") and generation[-3] in puntuation_list:\n",
    "        if generation[-4] == ' ':\n",
    "            generation = generation[:-4] + \"##\" + generation[-3]\n",
    "        else:\n",
    "            generation = generation[:-3] + \"##\" + generation[-3]\n",
    "    if original[-1] not in puntuation_list and generation[-1] in puntuation_list:\n",
    "        generation = generation[:-1]\n",
    "\n",
    "    extracted_spans = extract_spans(generation)\n",
    "\n",
    "    pattern = r\"(\\w|##)([.,!?;:')\\]}\\\"\\/](?:##)?)|((?:@@)?[.,!?;:'(\\[{\\\"\\/])(\\w)\"\n",
    "\n",
    "    # add spaces around punctuation\n",
    "    cleaned_generation = re.sub(pattern, r'\\1 \\2 \\3 \\4', generation)\n",
    "    # remove duplicated spaces\n",
    "    cleaned_generation = re.sub(r'\\s+', ' ', cleaned_generation).rstrip()\n",
    "\n",
    "    if original[-1] in puntuation_list and original[-2] != ' ':\n",
    "        generation = generation[:-1] \n",
    "\n",
    "    print(f\"CLEANED: {cleaned_generation}\")\n",
    "\n",
    "    mismatched = False \n",
    "\n",
    "    original_fixed = []\n",
    "    generation_fixed = []\n",
    "    original_idx = 0\n",
    "    generated_idx = 0\n",
    "\n",
    "    while original_idx < len(original) and generated_idx < len(cleaned_generation):\n",
    "        original_char = original[original_idx]\n",
    "        generated_char = cleaned_generation[generated_idx]\n",
    "\n",
    "        # Check if the characters match\n",
    "        if original_char == generated_char:\n",
    "            original_fixed.append(original_char)\n",
    "            generation_fixed.append(generated_char)\n",
    "            original_idx += 1\n",
    "            generated_idx += 1\n",
    "\n",
    "        else:\n",
    "            if generated_char == \"#\" or generated_char == \"@\":\n",
    "                generation_fixed.append(generated_char)\n",
    "                generated_idx += 1\n",
    "            \n",
    "            elif generated_char == ' ':\n",
    "                if original_char in puntuation_list and cleaned_generation[generated_idx + 1] == original_char \\\n",
    "                    or cleaned_generation[generated_idx - 1] in puntuation_list and cleaned_generation[generated_idx + 1] == original_char:\n",
    "                    generation_fixed.append(cleaned_generation[generated_idx + 1])\n",
    "                    original_fixed.append(original_char)\n",
    "                    generated_idx += 2\n",
    "                    original_idx += 1\n",
    "               \n",
    "                elif cleaned_generation[generated_idx - 1] in puntuation_list and \\\n",
    "                    cleaned_generation[generated_idx + 1] == '@' and cleaned_generation[generated_idx + 3] == original_char: \n",
    "                    generation_fixed.extend(['@', '@'])\n",
    "                    generation_fixed.append(cleaned_generation[generated_idx + 3])\n",
    "                    original_fixed.append(original_char)\n",
    "                    generated_idx += 4\n",
    "                    original_idx += 1 \n",
    " \n",
    "                else:\n",
    "                    mismatched = True\n",
    "                    break\n",
    "            \n",
    "            elif generated_char in puntuation_list:\n",
    "                if original_char == ' ' and original[original_idx + 1] == generated_char:\n",
    "                    generation_fixed.append(' ')\n",
    "                    generation_fixed.append(generated_char)\n",
    "                    original_fixed.append(original_char)\n",
    "                    original_fixed.append(original[original_idx + 1])\n",
    "                    generated_idx += 1\n",
    "                    original_idx += 2\n",
    "                elif original_char in string.ascii_lowercase:\n",
    "                    if cleaned_generation[generated_idx + 2] == original_char: # random punctuation assertion\n",
    "                        generation_fixed.append(cleaned_generation[generated_idx + 2])\n",
    "                        original_fixed.append(original_char)\n",
    "                        generated_idx += 3\n",
    "                        original_idx += 1\n",
    "                    elif cleaned_generation[generated_idx + 2] == \"@\" and cleaned_generation[generated_idx + 4] == original_char:\n",
    "                        generation_fixed.extend(['@', '@'])\n",
    "                        generation_fixed.append(cleaned_generation[generated_idx + 4])\n",
    "                        original_fixed.append(original_char) \n",
    "                        generated_idx += 5\n",
    "                        original_idx += 1 \n",
    "\n",
    "            elif generated_char in string.ascii_lowercase and original_char == ' ': # check for random spaces in original\n",
    "                if (cleaned_generation[generated_idx-4:generated_idx] == original[original_idx-4:original_idx]) \\\n",
    "                and (cleaned_generation[generated_idx:generated_idx+4] == original[original_idx+1:original_idx+5]):\n",
    "                   generation_fixed.append(original_char)\n",
    "                   original_idx += 1 \n",
    "                else:\n",
    "                    mismatched = True\n",
    "                    break\n",
    "                     \n",
    "\n",
    "            elif original_char not in string.ascii_lowercase and generated_char not in string.ascii_letters:\n",
    "                generated_idx += 1\n",
    "                original_idx += 1\n",
    "            else:\n",
    "                mismatched = True\n",
    "                break\n",
    "        \n",
    "        # print(f\"{''.join(original_fixed)}\\n{''.join(generation_fixed)}\\n\\n\")\n",
    "        # print\n",
    "    print(original[original_idx:])\n",
    "    original_fixed.extend(original[original_idx:])\n",
    "    generation_fixed.extend(cleaned_generation[generated_idx:])\n",
    "   \n",
    "    generated_fixed_str = ''.join(generation_fixed)\n",
    "\n",
    "    if len(original.split()) != len(generated_fixed_str.split()):\n",
    "        mismatched = True\n",
    "\n",
    "    extracted_spans = [ent for ent in extracted_spans if ent in original]\n",
    "\n",
    "    print(f\"UPDATED: {generated_fixed_str}\")\n",
    "    print(f\"mismatched: {mismatched}\")\n",
    "    print(\"================================\")\n",
    "    return generated_fixed_str, mismatched, extracted_spans"
   ]
  },
  {
   "cell_type": "code",
   "execution_count": 262,
   "metadata": {},
   "outputs": [
    {
     "name": "stdout",
     "output_type": "stream",
     "text": [
      "======= INSIDE POSTPROCESS =======\n",
      "ORIGINAL: the ability to operate a a senior manager in a dynamic commercially focus environment advance use of m excel and powerpoint\n",
      "GENERATION: the ability to operate as a @@senior manager## in a @@dynamic## commercially focus environment advance use of @@m excel## and @@powerpoint##\n",
      "CLEANED: the ability to operate as a @@senior manager## in a @@dynamic## commercially focus environment advance use of @@m excel## and @@powerpoint##\n",
      " a senior manager in a dynamic commercially focus environment advance use of m excel and powerpoint\n",
      "UPDATED: the ability to operate as a @@senior manager## in a @@dynamic## commercially focus environment advance use of @@m excel## and @@powerpoint##\n",
      "mismatched: True\n",
      "================================\n"
     ]
    }
   ],
   "source": [
    "generation, mismatched, spans = postprocess_ner_prompt(original, generated)"
   ]
  },
  {
   "cell_type": "code",
   "execution_count": 225,
   "metadata": {},
   "outputs": [
    {
     "data": {
      "text/plain": [
       "['mettant à profit votre capacité à convaincre']"
      ]
     },
     "execution_count": 225,
     "metadata": {},
     "output_type": "execute_result"
    }
   ],
   "source": [
    "spans"
   ]
  },
  {
   "cell_type": "code",
   "execution_count": 226,
   "metadata": {},
   "outputs": [
    {
     "data": {
      "text/plain": [
       "33"
      ]
     },
     "execution_count": 226,
     "metadata": {},
     "output_type": "execute_result"
    }
   ],
   "source": [
    "len(generation.split())"
   ]
  },
  {
   "cell_type": "code",
   "execution_count": 227,
   "metadata": {},
   "outputs": [
    {
     "data": {
      "text/plain": [
       "'@@Vous assurez la prise en charge des membres et clients, @@analysez leurs besoins## et les @@accompagnez dans le choix des protections ap propriées## et ce, en @@mettant à profit votre capacité à convaincre##.'"
      ]
     },
     "execution_count": 227,
     "metadata": {},
     "output_type": "execute_result"
    }
   ],
   "source": [
    "generation"
   ]
  },
  {
   "cell_type": "code",
   "execution_count": 228,
   "metadata": {},
   "outputs": [
    {
     "data": {
      "text/plain": [
       "False"
      ]
     },
     "execution_count": 228,
     "metadata": {},
     "output_type": "execute_result"
    }
   ],
   "source": [
    "mismatched"
   ]
  },
  {
   "cell_type": "code",
   "execution_count": 229,
   "metadata": {},
   "outputs": [],
   "source": [
    "failed_sentences = set()\n",
    "with open(\"failed_extraction.json\", \"r\") as readfile:\n",
    "    for line in readfile:\n",
    "        instance = json.loads(line)\n",
    "        failed_sentences.add(instance['sentence']) "
   ]
  },
  {
   "cell_type": "code",
   "execution_count": 230,
   "metadata": {},
   "outputs": [
    {
     "data": {
      "text/plain": [
       "{'IT skills allied to a high standard of work output , you exhibit a high degree of professionalism , team focus and a selfdisciplined approach to your own workload and organisation .',\n",
       " \"SOMMAIRE DES FONCTIONS Sous la supervision du Directeur, sélection des risques & du Directeur de l'Administation, le tituliare assiste le service dans l'élaboration des différentes tâches administratives reliées tel que: - Reçoit et distribue la correspondance quotidiennement - Vérifier la facturation de nos fournisseurs et faire approuver le versement - Répondre aux appels des agents généraux (bilinguisme essentiel); - Envoi de rapports divers (direction, délai de traitement et service etc…); - Commande de matériels promotionnels et fournitures de toutes sortes - Transcription, correction et vérification de lettres - Effectue tout travail de bureau requis par la ligne d’affaires Le titulaire devra régulièrement remplacer la réceptionniste durant ses pauses, de même que le vendredi ou autres absences.\",\n",
       " 'be considered for the General Manager post you will have at least 2years management experience within the health and fitness industry ideally as a General Manager .'}"
      ]
     },
     "execution_count": 230,
     "metadata": {},
     "output_type": "execute_result"
    }
   ],
   "source": [
    "failed_sentences"
   ]
  },
  {
   "cell_type": "code",
   "execution_count": null,
   "metadata": {},
   "outputs": [],
   "source": []
  }
 ],
 "metadata": {
  "kernelspec": {
   "display_name": "skillenv",
   "language": "python",
   "name": "python3"
  },
  "language_info": {
   "codemirror_mode": {
    "name": "ipython",
    "version": 3
   },
   "file_extension": ".py",
   "mimetype": "text/x-python",
   "name": "python",
   "nbconvert_exporter": "python",
   "pygments_lexer": "ipython3",
   "version": "3.11.5"
  }
 },
 "nbformat": 4,
 "nbformat_minor": 2
}
