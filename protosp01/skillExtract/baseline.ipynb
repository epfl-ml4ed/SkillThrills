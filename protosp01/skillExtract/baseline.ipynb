{
 "cells": [
  {
   "cell_type": "markdown",
   "metadata": {},
   "source": [
    "## Paper baseline\n",
    "\n",
    "#### 1) full string matching"
   ]
  },
  {
   "cell_type": "code",
   "execution_count": 1,
   "metadata": {},
   "outputs": [],
   "source": [
    "import pandas as pd\n",
    "import pickle\n",
    "from typing import List, Any, Callable\n",
    "from split_words import Splitter\n",
    "import string\n",
    "import seaborn as sns\n",
    "from utils import select_candidates_from_taxonomy\n",
    "from matplotlib import pyplot as plt\n",
    "\n",
    "%load_ext autoreload\n",
    "%autoreload 2\n",
    "\n",
    "\n",
    "ESCO_DIR = \"/mnt/u14157_ic_nlp_001_files_nfs/nlpdata1/home/magron/esco/\"\n",
    "GENERATED_DIR = \"/mnt/u14157_ic_nlp_001_files_nfs/nlpdata1/home/magron/SkillThrills/protosp01/dataset_generation/generation/generated/\"\n",
    "\n",
    "def load_split(split):\n",
    "    ESCO_DIR = \"../../../esco/\"\n",
    "    with open(ESCO_DIR + split + \".json\") as f:\n",
    "        sp = eval(\",\".join(f.read().split(\"\\n\")))\n",
    "    sp = pd.DataFrame(sp).drop(\"idx\", axis=1)\n",
    "    sp.columns = [\"sentence\", \"skills\"]\n",
    "    sp = sp[[\"skills\", \"sentence\"]]\n",
    "\n",
    "    return sp"
   ]
  },
  {
   "cell_type": "code",
   "execution_count": 2,
   "metadata": {},
   "outputs": [],
   "source": [
    "devsp = load_split(\"dev\")\n",
    "testsp = load_split(\"test\")"
   ]
  },
  {
   "cell_type": "code",
   "execution_count": 3,
   "metadata": {},
   "outputs": [],
   "source": [
    "def get_sp_emb_tax(split):\n",
    "    if(split == \"dev\"):\n",
    "        with open(ESCO_DIR + \"dev_skillspan_emb.pkl\", \"rb\") as emb:\n",
    "            sp_emb_tax = pickle.load(emb)\n",
    "    if(split == \"test\"):\n",
    "        with open(ESCO_DIR + \"test_skillspan_emb.pkl\", \"rb\") as emb:\n",
    "            sp_emb_tax = pickle.load(emb)\n",
    "\n",
    "    sp_emb_tax[\"Example\"] = sp_emb_tax[\"altLabels\"]\n",
    "    taxonomy = sp_emb_tax.drop(\"embeddings\", axis=1)\n",
    "    return sp_emb_tax, taxonomy\n",
    "\n",
    "_, taxonomy1 = get_sp_emb_tax(\"test\")\n",
    "_, taxonomy2 = get_sp_emb_tax(\"dev\")\n",
    "taxonomy = pd.concat([taxonomy1, taxonomy2]).drop_duplicates(\"name\")\n",
    "\n",
    "def compute_metrics(all_skills, all_pred_skills, verbose=False):\n",
    "    TP, FP, FN = 0, 0, 0\n",
    "    for skills, pred_skills in zip(all_skills, all_pred_skills):\n",
    "        for skill in skills:\n",
    "            if(skill in pred_skills):\n",
    "                TP += 1 ## predicted as true and is indeed\n",
    "            else :\n",
    "                FN += 1 ## predicted as false, but it was true\n",
    "        \n",
    "        for pred_skill in pred_skills:\n",
    "            if(pred_skill not in skills):\n",
    "                FP += 1 ## predicted as true but is false\n",
    "\n",
    "    P = TP / (TP + FP) if (TP + FP) != 0 else 0\n",
    "    R = TP / (TP + FN) if (TP + FN) != 0 else 0\n",
    "    print(\"TP : \", TP,\n",
    "          \"FP : \", FP,\n",
    "          \"FN : \", FN) if verbose else None\n",
    "    return P, R, (2*P*R / (P + R) if (P + R) != 0 else 0)\n",
    "\n",
    "def print_metrics(ds, label_key=\"skills\", pred_key=\"pred_skills\", verbose=False):\n",
    "    P, R, F1 = compute_metrics(list(ds[label_key].values), list(ds[pred_key].values), verbose)\n",
    "    print(\"Precision : \", P)\n",
    "    print(\"Recall : \", R)\n",
    "    print(\"F1 : \", F1)\n",
    "    return P, R, F1"
   ]
  },
  {
   "cell_type": "code",
   "execution_count": null,
   "metadata": {},
   "outputs": [],
   "source": []
  },
  {
   "cell_type": "code",
   "execution_count": 4,
   "metadata": {},
   "outputs": [
    {
     "data": {
      "text/plain": [
       "602"
      ]
     },
     "execution_count": 4,
     "metadata": {},
     "output_type": "execute_result"
    }
   ],
   "source": [
    "len(get_sp_emb_tax(\"dev\")[1]) + 454"
   ]
  },
  {
   "cell_type": "code",
   "execution_count": 5,
   "metadata": {},
   "outputs": [
    {
     "data": {
      "text/plain": [
       "514"
      ]
     },
     "execution_count": 5,
     "metadata": {},
     "output_type": "execute_result"
    }
   ],
   "source": [
    "len(pd.concat([\n",
    "    get_sp_emb_tax(\"test\")[1],\n",
    "    get_sp_emb_tax(\"dev\")[1]\n",
    "]).drop_duplicates(\"name\").index)"
   ]
  },
  {
   "cell_type": "code",
   "execution_count": 6,
   "metadata": {},
   "outputs": [],
   "source": [
    "def long_match(span: str, sentence: str) -> bool: \n",
    "    span_w = [\n",
    "        word.strip(string.punctuation) for word in span.split()\n",
    "    ]\n",
    "    sentence_w = [\n",
    "        word.strip(string.punctuation) for word in sentence.split()\n",
    "    ]\n",
    "    N = len(span_w)\n",
    "    return any(sentence_w[i:i+N] == span_w for i in range(len(sentence_w))) \n",
    "\n",
    "def short_match(name: str, sentence: str):\n",
    "    return name in sentence\n",
    "\n",
    "\n",
    "def full_match_predict(sentence: str, match_func: Callable[[str, str], bool]) -> List[str]:\n",
    "    return list(taxonomy[taxonomy[\"name\"].apply(\n",
    "        lambda skname : match_func(skname, sentence)\n",
    "    )][\"name\"].values)"
   ]
  },
  {
   "cell_type": "code",
   "execution_count": 7,
   "metadata": {},
   "outputs": [],
   "source": [
    "devsp[\"pred_skills\"] = devsp[\"sentence\"].apply(lambda st : full_match_predict(st, long_match))\n",
    "testsp[\"pred_skills\"] = testsp[\"sentence\"].apply(lambda st : full_match_predict(st, long_match))"
   ]
  },
  {
   "cell_type": "code",
   "execution_count": 8,
   "metadata": {},
   "outputs": [
    {
     "name": "stdout",
     "output_type": "stream",
     "text": [
      "DEV : \n",
      "Precision :  0.7692307692307693\n",
      "Recall :  0.08498583569405099\n",
      "F1 :  0.15306122448979592\n",
      "****************************************************************************************************\n",
      "TEST : \n",
      "Precision :  0.776595744680851\n",
      "Recall :  0.05080027835768963\n",
      "F1 :  0.0953625081645983\n"
     ]
    },
    {
     "data": {
      "text/plain": [
       "(0.776595744680851, 0.05080027835768963, 0.0953625081645983)"
      ]
     },
     "execution_count": 8,
     "metadata": {},
     "output_type": "execute_result"
    }
   ],
   "source": [
    "print(\"DEV : \")\n",
    "print_metrics(devsp, \"skills\", \"pred_skills\")\n",
    "print(\"*\"*100)\n",
    "print(\"TEST : \")\n",
    "print_metrics(testsp, \"skills\", \"pred_skills\")"
   ]
  },
  {
   "cell_type": "code",
   "execution_count": 9,
   "metadata": {},
   "outputs": [
    {
     "name": "stdout",
     "output_type": "stream",
     "text": [
      "DEV : \n",
      "Precision :  0.49206349206349204\n",
      "Recall :  0.08781869688385269\n",
      "F1 :  0.14903846153846154\n",
      "****************************************************************************************************\n",
      "TEST : \n",
      "Precision :  0.41304347826086957\n",
      "Recall :  0.05288796102992345\n",
      "F1 :  0.09376927822331894\n"
     ]
    },
    {
     "data": {
      "text/plain": [
       "(0.41304347826086957, 0.05288796102992345, 0.09376927822331894)"
      ]
     },
     "execution_count": 9,
     "metadata": {},
     "output_type": "execute_result"
    }
   ],
   "source": [
    "devsp[\"pred_skills\"] = devsp[\"sentence\"].apply(lambda st : full_match_predict(st, short_match))\n",
    "testsp[\"pred_skills\"] = testsp[\"sentence\"].apply(lambda st : full_match_predict(st, short_match))\n",
    "print(\"DEV : \")\n",
    "print_metrics(devsp, \"skills\", \"pred_skills\")\n",
    "print(\"*\"*100)\n",
    "print(\"TEST : \")\n",
    "print_metrics(testsp, \"skills\", \"pred_skills\")"
   ]
  },
  {
   "cell_type": "code",
   "execution_count": 10,
   "metadata": {},
   "outputs": [
    {
     "data": {
      "text/plain": [
       "0.08781869688385269"
      ]
     },
     "execution_count": 10,
     "metadata": {},
     "output_type": "execute_result"
    }
   ],
   "source": [
    "devsp[[\"skills\", \"pred_skills\"]].explode(\"skills\")[[\"skills\", \"pred_skills\"]].apply(\n",
    "    lambda x : x[\"skills\"] in x[\"pred_skills\"], axis=1\n",
    ").mean()"
   ]
  },
  {
   "cell_type": "markdown",
   "metadata": {},
   "source": [
    "#### 1) Rule based matching"
   ]
  },
  {
   "cell_type": "code",
   "execution_count": 11,
   "metadata": {},
   "outputs": [
    {
     "name": "stderr",
     "output_type": "stream",
     "text": [
      "Some weights of BertModel were not initialized from the model checkpoint at jjzha/jobbert-base-cased and are newly initialized: ['bert.pooler.dense.weight', 'bert.pooler.dense.bias']\n",
      "You should probably TRAIN this model on a down-stream task to be able to use it for predictions and inference.\n",
      "Some weights of BertModel were not initialized from the model checkpoint at jjzha/jobbert-base-cased and are newly initialized: ['bert.pooler.dense.weight', 'bert.pooler.dense.bias']\n",
      "You should probably TRAIN this model on a down-stream task to be able to use it for predictions and inference.\n"
     ]
    }
   ],
   "source": [
    "from sys import path as syspath\n",
    "syspath.append(\"../dataset_generation/\")\n",
    "from dataset_evaluation import Predictor, ESCO_DIR, get_sp_emb_tax"
   ]
  },
  {
   "cell_type": "code",
   "execution_count": 12,
   "metadata": {},
   "outputs": [],
   "source": [
    "## IF WE WANT TO GET THE REAL PIPELINE EXTRACTION\n",
    "# predr = Predictor(\n",
    "#     test_domain=\"SkillSpan-dev+test\",\n",
    "#     train_domain=\"SkillSpan\",\n",
    "#     candidates_method=\"rules\"\n",
    "# )"
   ]
  },
  {
   "cell_type": "code",
   "execution_count": 14,
   "metadata": {},
   "outputs": [],
   "source": [
    "with open(\"../dataset_generation/predictions/preds_support_type_None.pkl\", 'rb') as f:\n",
    "    devpreds = pickle.load(f)"
   ]
  },
  {
   "cell_type": "code",
   "execution_count": 15,
   "metadata": {},
   "outputs": [],
   "source": [
    "devextr = [[x[0][\"sentence\"], x[0][\"extracted_skills\"]] for x in devpreds]\n",
    "devextr = pd.DataFrame(devextr)\n",
    "devextr.columns = [\"sentence\", \"spans\"]"
   ]
  },
  {
   "cell_type": "code",
   "execution_count": 16,
   "metadata": {},
   "outputs": [
    {
     "data": {
      "text/html": [
       "<div>\n",
       "<style scoped>\n",
       "    .dataframe tbody tr th:only-of-type {\n",
       "        vertical-align: middle;\n",
       "    }\n",
       "\n",
       "    .dataframe tbody tr th {\n",
       "        vertical-align: top;\n",
       "    }\n",
       "\n",
       "    .dataframe thead th {\n",
       "        text-align: right;\n",
       "    }\n",
       "</style>\n",
       "<table border=\"1\" class=\"dataframe\">\n",
       "  <thead>\n",
       "    <tr style=\"text-align: right;\">\n",
       "      <th></th>\n",
       "      <th>sentence</th>\n",
       "      <th>spans</th>\n",
       "      <th>skills</th>\n",
       "      <th>pred_skills</th>\n",
       "    </tr>\n",
       "  </thead>\n",
       "  <tbody>\n",
       "    <tr>\n",
       "      <th>19</th>\n",
       "      <td>Your main responsibilities will be to: Plan an...</td>\n",
       "      <td>[plan and ensure development of global constru...</td>\n",
       "      <td>[UNK]</td>\n",
       "      <td>[]</td>\n",
       "    </tr>\n",
       "    <tr>\n",
       "      <th>45</th>\n",
       "      <td>The tasks can be feeding moving castration ins...</td>\n",
       "      <td>[feeding, moving, castration, insemination, mo...</td>\n",
       "      <td>[feed livestock, UNK, insert semen, monitor th...</td>\n",
       "      <td>[]</td>\n",
       "    </tr>\n",
       "    <tr>\n",
       "      <th>140</th>\n",
       "      <td>python</td>\n",
       "      <td>[]</td>\n",
       "      <td>[Python (computer programming)]</td>\n",
       "      <td>[]</td>\n",
       "    </tr>\n",
       "    <tr>\n",
       "      <th>30</th>\n",
       "      <td>As a person you are outgoing of nature and you...</td>\n",
       "      <td>[outgoing, natural project management skills]</td>\n",
       "      <td>[UNK, project management]</td>\n",
       "      <td>[project management]</td>\n",
       "    </tr>\n",
       "    <tr>\n",
       "      <th>67</th>\n",
       "      <td>Drive the annual salary review across HQ inclu...</td>\n",
       "      <td>[drive the annual salary review, benchmarking ...</td>\n",
       "      <td>[determine salaries]</td>\n",
       "      <td>[R]</td>\n",
       "    </tr>\n",
       "  </tbody>\n",
       "</table>\n",
       "</div>"
      ],
      "text/plain": [
       "                                              sentence  \\\n",
       "19   Your main responsibilities will be to: Plan an...   \n",
       "45   The tasks can be feeding moving castration ins...   \n",
       "140                                             python   \n",
       "30   As a person you are outgoing of nature and you...   \n",
       "67   Drive the annual salary review across HQ inclu...   \n",
       "\n",
       "                                                 spans  \\\n",
       "19   [plan and ensure development of global constru...   \n",
       "45   [feeding, moving, castration, insemination, mo...   \n",
       "140                                                 []   \n",
       "30       [outgoing, natural project management skills]   \n",
       "67   [drive the annual salary review, benchmarking ...   \n",
       "\n",
       "                                                skills           pred_skills  \n",
       "19                                               [UNK]                    []  \n",
       "45   [feed livestock, UNK, insert semen, monitor th...                    []  \n",
       "140                    [Python (computer programming)]                    []  \n",
       "30                           [UNK, project management]  [project management]  \n",
       "67                                [determine salaries]                   [R]  "
      ]
     },
     "execution_count": 16,
     "metadata": {},
     "output_type": "execute_result"
    }
   ],
   "source": [
    "assert(len(devsp) == len(devextr.merge(devsp, on=\"sentence\")))\n",
    "devsp = devextr.merge(devsp, on=\"sentence\")\n",
    "devsp.sample(5)"
   ]
  },
  {
   "cell_type": "code",
   "execution_count": 17,
   "metadata": {},
   "outputs": [],
   "source": [
    "_, taxonomy1 = get_sp_emb_tax(\"test\")\n",
    "_, taxonomy2 = get_sp_emb_tax(\"dev\")\n",
    "taxonomy = pd.concat([taxonomy1, taxonomy2]).drop_duplicates(\"name\")\n",
    "\n",
    "def get_skills_for_span(spans: List[str], nb_cand: int) -> List[str]:\n",
    "    splitter = Splitter()\n",
    "    candidates = select_candidates_from_taxonomy( ## BOTTLENECK 2\n",
    "        {\n",
    "            \"extracted_skills\":spans,\n",
    "            \"sentence\": ...,\n",
    "        }, \n",
    "            taxonomy,\n",
    "            splitter=splitter,\n",
    "            tokenizer=None,\n",
    "            model=None,\n",
    "            max_candidates=nb_cand,\n",
    "            method=\"rules\", ### COMPARE WITH MIXED AND CANDIDATEDS WILL THEN BE 20 AS FOR THE RUN \n",
    "            emb_tax = None\n",
    "    )\n",
    "    return list(set(\n",
    "        sum([\n",
    "        [\n",
    "            x[\"name+definition\"].split(\" : \")[0]\n",
    "            for x in candidates[\"skill_candidates\"][sk]\n",
    "        ]\n",
    "        for sk in spans\n",
    "    ], [])\n",
    "    ))"
   ]
  },
  {
   "cell_type": "code",
   "execution_count": 18,
   "metadata": {},
   "outputs": [
    {
     "name": "stdout",
     "output_type": "stream",
     "text": [
      "1 candidates : 1 retrieved\n",
      "2 candidates : 2 retrieved\n",
      "3 candidates : 6 retrieved\n",
      "4 candidates : 7 retrieved\n",
      "5 candidates : 8 retrieved\n",
      "6 candidates : 9 retrieved\n",
      "7 candidates : 10 retrieved\n",
      "8 candidates : 11 retrieved\n",
      "9 candidates : 12 retrieved\n",
      "10 candidates : 13 retrieved\n"
     ]
    }
   ],
   "source": [
    "for i in range(1, 11):\n",
    "    print(f\"{i} candidates : {len(get_skills_for_span(['Java', 'geography'], i))} retrieved\")"
   ]
  },
  {
   "cell_type": "code",
   "execution_count": 19,
   "metadata": {},
   "outputs": [
    {
     "name": "stdout",
     "output_type": "stream",
     "text": [
      "Precision :  0.24193548387096775\n",
      "Recall :  0.16997167138810199\n",
      "F1 :  0.19966722129783696\n",
      "Precision :  0.1711340206185567\n",
      "Recall :  0.23512747875354106\n",
      "F1 :  0.19809069212410502\n",
      "Precision :  0.12867132867132866\n",
      "Recall :  0.26062322946175637\n",
      "F1 :  0.17228464419475656\n",
      "Precision :  0.10178384050367262\n",
      "Recall :  0.2747875354107649\n",
      "F1 :  0.14854517611026036\n",
      "Precision :  0.08431703204047218\n",
      "Recall :  0.28328611898017\n",
      "F1 :  0.1299545159194282\n",
      "Precision :  0.07294617563739376\n",
      "Recall :  0.29178470254957506\n",
      "F1 :  0.11671388101983003\n",
      "Precision :  0.06593406593406594\n",
      "Recall :  0.3059490084985836\n",
      "F1 :  0.10848819688598696\n",
      "Precision :  0.05964535196131112\n",
      "Recall :  0.31444759206798867\n",
      "F1 :  0.1002710027100271\n",
      "Precision :  0.05571565802113353\n",
      "Recall :  0.3286118980169972\n",
      "F1 :  0.09527720739219712\n",
      "Precision :  0.053315994798439535\n",
      "Recall :  0.34844192634560905\n",
      "F1 :  0.0924812030075188\n"
     ]
    }
   ],
   "source": [
    "baseline_metrics = []\n",
    "for i in range(1, 11):\n",
    "    devsp[\"pred_skills\"] = devsp.spans.apply(\n",
    "        lambda x : get_skills_for_span(x, i))\n",
    "    baseline_metrics.append(\n",
    "        print_metrics(devsp, \"skills\", \"pred_skills\")\n",
    "    )"
   ]
  },
  {
   "cell_type": "code",
   "execution_count": 20,
   "metadata": {},
   "outputs": [
    {
     "data": {
      "text/plain": [
       "[(0.24193548387096775, 0.16997167138810199, 0.19966722129783696),\n",
       " (0.1711340206185567, 0.23512747875354106, 0.19809069212410502),\n",
       " (0.12867132867132866, 0.26062322946175637, 0.17228464419475656),\n",
       " (0.10178384050367262, 0.2747875354107649, 0.14854517611026036),\n",
       " (0.08431703204047218, 0.28328611898017, 0.1299545159194282),\n",
       " (0.07294617563739376, 0.29178470254957506, 0.11671388101983003),\n",
       " (0.06593406593406594, 0.3059490084985836, 0.10848819688598696),\n",
       " (0.05964535196131112, 0.31444759206798867, 0.1002710027100271),\n",
       " (0.05571565802113353, 0.3286118980169972, 0.09527720739219712),\n",
       " (0.053315994798439535, 0.34844192634560905, 0.0924812030075188)]"
      ]
     },
     "execution_count": 20,
     "metadata": {},
     "output_type": "execute_result"
    }
   ],
   "source": [
    "baseline_metrics"
   ]
  },
  {
   "cell_type": "code",
   "execution_count": 21,
   "metadata": {},
   "outputs": [],
   "source": [
    "baseline_metrics = pd.DataFrame(baseline_metrics)\n",
    "baseline_metrics.columns = [\"Precision\", \"Recall\", \"$F_1$\"]\n",
    "baseline_metrics[\"candidates\"] = list(range(1, 11))"
   ]
  },
  {
   "cell_type": "code",
   "execution_count": 24,
   "metadata": {},
   "outputs": [
    {
     "name": "stderr",
     "output_type": "stream",
     "text": [
      "/mnt/u14157_ic_nlp_001_files_nfs/nlpdata1/home/magron/miniconda3/envs/nlp1/lib/python3.9/site-packages/seaborn/_oldcore.py:1498: FutureWarning: is_categorical_dtype is deprecated and will be removed in a future version. Use isinstance(dtype, CategoricalDtype) instead\n",
      "  if pd.api.types.is_categorical_dtype(vector):\n",
      "/mnt/u14157_ic_nlp_001_files_nfs/nlpdata1/home/magron/miniconda3/envs/nlp1/lib/python3.9/site-packages/seaborn/_oldcore.py:1498: FutureWarning: is_categorical_dtype is deprecated and will be removed in a future version. Use isinstance(dtype, CategoricalDtype) instead\n",
      "  if pd.api.types.is_categorical_dtype(vector):\n",
      "/mnt/u14157_ic_nlp_001_files_nfs/nlpdata1/home/magron/miniconda3/envs/nlp1/lib/python3.9/site-packages/seaborn/_oldcore.py:1119: FutureWarning: use_inf_as_na option is deprecated and will be removed in a future version. Convert inf values to NaN before operating instead.\n",
      "  with pd.option_context('mode.use_inf_as_na', True):\n",
      "/mnt/u14157_ic_nlp_001_files_nfs/nlpdata1/home/magron/miniconda3/envs/nlp1/lib/python3.9/site-packages/seaborn/_oldcore.py:1119: FutureWarning: use_inf_as_na option is deprecated and will be removed in a future version. Convert inf values to NaN before operating instead.\n",
      "  with pd.option_context('mode.use_inf_as_na', True):\n",
      "/mnt/u14157_ic_nlp_001_files_nfs/nlpdata1/home/magron/miniconda3/envs/nlp1/lib/python3.9/site-packages/seaborn/_oldcore.py:1498: FutureWarning: is_categorical_dtype is deprecated and will be removed in a future version. Use isinstance(dtype, CategoricalDtype) instead\n",
      "  if pd.api.types.is_categorical_dtype(vector):\n",
      "/mnt/u14157_ic_nlp_001_files_nfs/nlpdata1/home/magron/miniconda3/envs/nlp1/lib/python3.9/site-packages/seaborn/_oldcore.py:1498: FutureWarning: is_categorical_dtype is deprecated and will be removed in a future version. Use isinstance(dtype, CategoricalDtype) instead\n",
      "  if pd.api.types.is_categorical_dtype(vector):\n",
      "/mnt/u14157_ic_nlp_001_files_nfs/nlpdata1/home/magron/miniconda3/envs/nlp1/lib/python3.9/site-packages/seaborn/_oldcore.py:1119: FutureWarning: use_inf_as_na option is deprecated and will be removed in a future version. Convert inf values to NaN before operating instead.\n",
      "  with pd.option_context('mode.use_inf_as_na', True):\n",
      "/mnt/u14157_ic_nlp_001_files_nfs/nlpdata1/home/magron/miniconda3/envs/nlp1/lib/python3.9/site-packages/seaborn/_oldcore.py:1119: FutureWarning: use_inf_as_na option is deprecated and will be removed in a future version. Convert inf values to NaN before operating instead.\n",
      "  with pd.option_context('mode.use_inf_as_na', True):\n",
      "/mnt/u14157_ic_nlp_001_files_nfs/nlpdata1/home/magron/miniconda3/envs/nlp1/lib/python3.9/site-packages/seaborn/_oldcore.py:1498: FutureWarning: is_categorical_dtype is deprecated and will be removed in a future version. Use isinstance(dtype, CategoricalDtype) instead\n",
      "  if pd.api.types.is_categorical_dtype(vector):\n",
      "/mnt/u14157_ic_nlp_001_files_nfs/nlpdata1/home/magron/miniconda3/envs/nlp1/lib/python3.9/site-packages/seaborn/_oldcore.py:1498: FutureWarning: is_categorical_dtype is deprecated and will be removed in a future version. Use isinstance(dtype, CategoricalDtype) instead\n",
      "  if pd.api.types.is_categorical_dtype(vector):\n",
      "/mnt/u14157_ic_nlp_001_files_nfs/nlpdata1/home/magron/miniconda3/envs/nlp1/lib/python3.9/site-packages/seaborn/_oldcore.py:1119: FutureWarning: use_inf_as_na option is deprecated and will be removed in a future version. Convert inf values to NaN before operating instead.\n",
      "  with pd.option_context('mode.use_inf_as_na', True):\n",
      "/mnt/u14157_ic_nlp_001_files_nfs/nlpdata1/home/magron/miniconda3/envs/nlp1/lib/python3.9/site-packages/seaborn/_oldcore.py:1119: FutureWarning: use_inf_as_na option is deprecated and will be removed in a future version. Convert inf values to NaN before operating instead.\n",
      "  with pd.option_context('mode.use_inf_as_na', True):\n"
     ]
    },
    {
     "data": {
      "image/png": "[encoded data removed]",
      "text/plain": [
       "<Figure size 640x480 with 1 Axes>"
      ]
     },
     "metadata": {},
     "output_type": "display_data"
    }
   ],
   "source": [
    "plt.rcParams.update({'font.size': 14})\n",
    "\n",
    "sns.lineplot(data=baseline_metrics, x=\"candidates\", y=\"Precision\", label=\"Precision\")\n",
    "sns.lineplot(data=baseline_metrics, x=\"candidates\", y=\"Recall\", label=\"Recall\")\n",
    "g = sns.lineplot(data=baseline_metrics, x=\"candidates\", y=\"$F_1$\", label=\"$F_1$\")\n",
    "g.set_xlabel(\"Number of predictions\")\n",
    "g.set_ylabel(\"Metric\")\n",
    "plt.legend()\n",
    "\n",
    "plt.savefig(\"ablation_matching.pdf\", dpi=1000)"
   ]
  },
  {
   "cell_type": "code",
   "execution_count": null,
   "metadata": {},
   "outputs": [],
   "source": []
  },
  {
   "cell_type": "code",
   "execution_count": null,
   "metadata": {},
   "outputs": [
    {
     "ename": "AttributeError",
     "evalue": "'DataFrame' object has no attribute 'spans'",
     "output_type": "error",
     "traceback": [
      "\u001b[0;31m---------------------------------------------------------------------------\u001b[0m",
      "\u001b[0;31mAttributeError\u001b[0m                            Traceback (most recent call last)",
      "\u001b[0;32m/tmp/ipykernel_5106/232929173.py\u001b[0m in \u001b[0;36m?\u001b[0;34m()\u001b[0m\n\u001b[0;32m----> 2\u001b[0;31m \u001b[0mnb_candidates\u001b[0m \u001b[0;34m=\u001b[0m \u001b[0;36m2\u001b[0m\u001b[0;34m\u001b[0m\u001b[0;34m\u001b[0m\u001b[0m\n\u001b[0m\u001b[1;32m      3\u001b[0m testsp[\"pred_skills\"] = testsp.spans.apply(\n\u001b[1;32m      4\u001b[0m         lambda x : get_skills_for_span(x, nb_candidates))\n",
      "\u001b[0;32m/mnt/u14157_ic_nlp_001_files_nfs/nlpdata1/home/magron/miniconda3/envs/nlp1/lib/python3.9/site-packages/pandas/core/generic.py\u001b[0m in \u001b[0;36m?\u001b[0;34m(self, name)\u001b[0m\n\u001b[1;32m   6200\u001b[0m             \u001b[0;32mand\u001b[0m \u001b[0mname\u001b[0m \u001b[0;32mnot\u001b[0m \u001b[0;32min\u001b[0m \u001b[0mself\u001b[0m\u001b[0;34m.\u001b[0m\u001b[0m_accessors\u001b[0m\u001b[0;34m\u001b[0m\u001b[0;34m\u001b[0m\u001b[0m\n\u001b[1;32m   6201\u001b[0m             \u001b[0;32mand\u001b[0m \u001b[0mself\u001b[0m\u001b[0;34m.\u001b[0m\u001b[0m_info_axis\u001b[0m\u001b[0;34m.\u001b[0m\u001b[0m_can_hold_identifiers_and_holds_name\u001b[0m\u001b[0;34m(\u001b[0m\u001b[0mname\u001b[0m\u001b[0;34m)\u001b[0m\u001b[0;34m\u001b[0m\u001b[0;34m\u001b[0m\u001b[0m\n\u001b[1;32m   6202\u001b[0m         ):\n\u001b[1;32m   6203\u001b[0m             \u001b[0;32mreturn\u001b[0m \u001b[0mself\u001b[0m\u001b[0;34m[\u001b[0m\u001b[0mname\u001b[0m\u001b[0;34m]\u001b[0m\u001b[0;34m\u001b[0m\u001b[0;34m\u001b[0m\u001b[0m\n\u001b[0;32m-> 6204\u001b[0;31m         \u001b[0;32mreturn\u001b[0m \u001b[0mobject\u001b[0m\u001b[0;34m.\u001b[0m\u001b[0m__getattribute__\u001b[0m\u001b[0;34m(\u001b[0m\u001b[0mself\u001b[0m\u001b[0;34m,\u001b[0m \u001b[0mname\u001b[0m\u001b[0;34m)\u001b[0m\u001b[0;34m\u001b[0m\u001b[0;34m\u001b[0m\u001b[0m\n\u001b[0m",
      "\u001b[0;31mAttributeError\u001b[0m: 'DataFrame' object has no attribute 'spans'"
     ]
    }
   ],
   "source": [
    "nb_candidates = 2\n",
    "testsp[\"pred_skills\"] = testsp.spans.apply(\n",
    "        lambda x : get_skills_for_span(x, nb_candidates)\n",
    ")"
   ]
  }
 ],
 "metadata": {
  "kernelspec": {
   "display_name": "Python 3 (ipykernel)",
   "language": "python",
   "name": "python3"
  },
  "language_info": {
   "codemirror_mode": {
    "name": "ipython",
    "version": 3
   },
   "file_extension": ".py",
   "mimetype": "text/x-python",
   "name": "python",
   "nbconvert_exporter": "python",
   "pygments_lexer": "ipython3",
   "version": "3.9.18"
  }
 },
 "nbformat": 4,
 "nbformat_minor": 2
}
