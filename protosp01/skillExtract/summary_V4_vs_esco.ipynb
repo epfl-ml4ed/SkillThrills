{
 "cells": [
  {
   "cell_type": "code",
   "execution_count": 3,
   "metadata": {},
   "outputs": [],
   "source": [
    "# %%\n",
    "import pandas as pd\n",
    "import json\n",
    "import os\n",
    "from deepdiff import DeepDiff\n",
    "\n",
    "os.getcwd()\n",
    "\n",
    "# %%\n",
    "# read in json from different folder\n",
    "# os.chdir(\"../results\")\n",
    "with open(\"../results/job_gpt-3.5-turbo_2sent_n10_jBd_V4_detailed.json\", \"r\") as f:\n",
    "    jobs_v4 = json.load(f)\n",
    "\n",
    "with open(\"../results/job_gpt-3.5-turbo_2sent_n10_jBd_esco_detailed.json\", \"r\") as f:\n",
    "    jobs_esco = json.load(f)\n",
    "\n",
    "with open(\"../results/course_gpt-3.5-turbo_2sent_n10_jBd_V4_detailed.json\", \"r\") as f:\n",
    "    courses_v4 = json.load(f)\n",
    "\n",
    "with open(\"../results/course_gpt-3.5-turbo_2sent_n10_jBd_esco_detailed.json\", \"r\") as f:\n",
    "    courses_esco = json.load(f)\n",
    "# %%\n",
    "# read in taxonomy from different folder\n",
    "os.chdir(\"../../data/taxonomy\")\n",
    "taxonomy = pd.read_csv(\"taxonomy_V4.csv\")\n",
    "keep_cols = [\n",
    "    \"unique_id\",\n",
    "    \"Type Level 1\",\n",
    "    \"Type Level 2\",\n",
    "    \"Type Level 3\",\n",
    "    \"Type Level 4\",\n",
    "]\n",
    "taxonomy = taxonomy[keep_cols]"
   ]
  },
  {
   "cell_type": "code",
   "execution_count": 4,
   "metadata": {},
   "outputs": [],
   "source": [
    "# get list of job_ids which is the key in the json\n",
    "job_ids = list(jobs_v4.keys())\n",
    "assert job_ids == list(jobs_esco.keys())\n",
    "\n",
    "course_ids = list(courses_v4.keys())\n",
    "assert course_ids == list(courses_esco.keys())"
   ]
  },
  {
   "cell_type": "code",
   "execution_count": 5,
   "metadata": {},
   "outputs": [],
   "source": [
    "# for each job_id we want to see what are matched skills\n",
    "job_matched_esco = {}\n",
    "job_matched_v4 = {}\n",
    "\n",
    "course_matched_esco = {}\n",
    "course_matched_v4 = {}\n",
    "\n",
    "for job_id in job_ids:\n",
    "    job_matched_v4[job_id] = []\n",
    "    job_matched_esco[job_id] = []\n",
    "    for sentence in jobs_v4[job_id]:\n",
    "        job_matched_v4[job_id].append(sentence[\"matched_skills\"])\n",
    "    for sentence in jobs_esco[job_id]:\n",
    "        job_matched_esco[job_id].append(sentence[\"matched_skills\"])\n",
    "\n",
    "for course_id in course_ids:\n",
    "    course_matched_v4[course_id] = {}\n",
    "    course_matched_esco[course_id] = {}\n",
    "    for type_skill in courses_v4[course_id]:\n",
    "        course_matched_v4[course_id][type_skill] = []\n",
    "        course_matched_esco[course_id][type_skill] = []\n",
    "        for sentence in courses_v4[course_id][type_skill]:\n",
    "            course_matched_v4[course_id][type_skill].append(sentence[\"matched_skills\"])\n",
    "        for sentence in courses_esco[course_id][type_skill]:\n",
    "            course_matched_esco[course_id][type_skill].append(\n",
    "                sentence[\"matched_skills\"]\n",
    "            )"
   ]
  },
  {
   "cell_type": "code",
   "execution_count": 12,
   "metadata": {},
   "outputs": [
    {
     "data": {
      "text/plain": [
       "{'14562': [{}],\n",
       " '14544': [{}, {}, {}, {}, {}, {}, {}, {}, {}, {}],\n",
       " '14569': [{'betreuung und verwaltung der windows clientsysteme': {'unique_id': 50,\n",
       "    'name+definition': 'ICT Service Operation: Erstellt und pflegt Anlagendokumentationen und Bedienungsanleitungen. Instruiert verschiedene Kunden im Umgang mit Systemen.'},\n",
       "   'berufserfahrung im it support mit windows sowie kenntnisse in ad und m365': {'unique_id': 69,\n",
       "    'name+definition': 'Leistungsorientierung: Die Person ist bestrebt, persönliche Ziele zu erreichen und in der eigenen Arbeit kompetent zu sein. '}}],\n",
       " '14582': [{}, {}],\n",
       " '14571': [{'anforderungsaufnahme': {'unique_id': 33,\n",
       "    'name+definition': 'Kognitive Fertigkeit: Aufmerksamkeit: Fokuswechsel: Zwischen zwei oder mehreren Aktivitäten oder Informationsquellen (z. B. Sprache, Geräusche, Berührungen oder andere Quellen) hin und her wechseln.'}},\n",
       "  {}],\n",
       " '14604': [{},\n",
       "  {},\n",
       "  {'lead': {'unique_id': 1,\n",
       "    'name+definition': 'Leistungsorientierung: Ambition: Wille, sich persönlich herausfordernde Ziele zu setzen und aufrechtzuerhalten, oft begleitet von langfristigen Visionen'},\n",
       "   'weiterentwicklungsthemen': {'unique_id': 71,\n",
       "    'name+definition': 'Management der ICT: Analysiert das Umfeld eines Veränderungsvorhabens, moderiert die Entwicklung der Vision und Ziele für die Veränderung und unterstützt die Organisation bei der Umsetzung der Veränderung.'}},\n",
       "  {'zuverlässigkeit': {'unique_id': 42,\n",
       "    'name+definition': 'Gewissenhaftigkeit: Bestreben nach Zuverlässigkeit, Engagement für eine korrekte und sorgfältige Ausführung der Arbeit sowie Vertrauenswürdigkeit, Verantwortungsbewusstsein und Aufmerksamkeit für Details'},\n",
       "   'begeisterungsfähigkeit für die bearbeitung von bahninfrastruktur-daten': {'unique_id': 1,\n",
       "    'name+definition': 'Leistungsorientierung: Ambition: Wille, sich persönlich herausfordernde Ziele zu setzen und aufrechtzuerhalten, oft begleitet von langfristigen Visionen'}},\n",
       "  {},\n",
       "  {}],\n",
       " '14657': [{}, {}, {}]}"
      ]
     },
     "execution_count": 12,
     "metadata": {},
     "output_type": "execute_result"
    }
   ],
   "source": [
    "job_matched_esco"
   ]
  },
  {
   "cell_type": "code",
   "execution_count": 13,
   "metadata": {},
   "outputs": [
    {
     "data": {
      "text/plain": [
       "{'14562': [{'lösungsarchitektur': {'unique_id': 71,\n",
       "    'name+definition': 'Management der ICT: Analysiert das Umfeld eines Veränderungsvorhabens, moderiert die Entwicklung der Vision und Ziele für die Veränderung und unterstützt die Organisation bei der Umsetzung der Veränderung.'}}],\n",
       " '14544': [{},\n",
       "  {},\n",
       "  {},\n",
       "  {'schnittstellenprogrammierung': {'unique_id': 51,\n",
       "    'name+definition': 'Informationssicherheit: Codierungs-, Kompressions- und Verschlüsselungsverfahren einsetzen'}},\n",
       "  {},\n",
       "  {},\n",
       "  {'deutschkenntnisse in wort und schrift': {'unique_id': 64,\n",
       "    'name+definition': 'Soziale Fertigkeit: Kooperieren: Bei der Arbeit angenehm mit anderen umgehen und eine gutmütige, kooperative Arbeitsweise an den Tag legen.'},\n",
       "   'teamplayer': {'unique_id': 64,\n",
       "    'name+definition': 'Soziale Fertigkeit: Kooperieren: Bei der Arbeit angenehm mit anderen umgehen und eine gutmütige, kooperative Arbeitsweise an den Tag legen.'}},\n",
       "  {},\n",
       "  {},\n",
       "  {}],\n",
       " '14569': [{'dokumentation inklusive pflege bestehender reportings': {'unique_id': 50,\n",
       "    'name+definition': 'ICT Service Operation: Erstellt und pflegt Anlagendokumentationen und Bedienungsanleitungen. Instruiert verschiedene Kunden im Umgang mit Systemen.'}}],\n",
       " '14582': [{}, {}],\n",
       " '14571': [{'anforderungsaufnahme': {'unique_id': 33,\n",
       "    'name+definition': 'Kognitive Fertigkeit: Aufmerksamkeit: Fokuswechsel: Zwischen zwei oder mehreren Aktivitäten oder Informationsquellen (z. B. Sprache, Geräusche, Berührungen oder andere Quellen) hin und her wechseln.'}},\n",
       "  {}],\n",
       " '14604': [{},\n",
       "  {},\n",
       "  {'dokumentenverwaltung': {'unique_id': 50,\n",
       "    'name+definition': 'ICT Service Operation: Erstellt und pflegt Anlagendokumentationen und Bedienungsanleitungen. Instruiert verschiedene Kunden im Umgang mit Systemen.'},\n",
       "   'lead': {'unique_id': 65,\n",
       "    'name+definition': 'Soziale Fertigkeit: Koordinieren: Handlungen in Bezug auf die Handlungen anderer anpassen.'},\n",
       "   'weiterentwicklungsthemen': {'unique_id': 71,\n",
       "    'name+definition': 'Management der ICT: Analysiert das Umfeld eines Veränderungsvorhabens, moderiert die Entwicklung der Vision und Ziele für die Veränderung und unterstützt die Organisation bei der Umsetzung der Veränderung.'}},\n",
       "  {'zuverlässigkeit': {'unique_id': 42,\n",
       "    'name+definition': 'Gewissenhaftigkeit: Bestreben nach Zuverlässigkeit, Engagement für eine korrekte und sorgfältige Ausführung der Arbeit sowie Vertrauenswürdigkeit, Verantwortungsbewusstsein und Aufmerksamkeit für Details'},\n",
       "   'begeisterungsfähigkeit für die bearbeitung von bahninfrastruktur-daten': {'unique_id': 1,\n",
       "    'name+definition': 'Leistungsorientierung: Ambition: Wille, sich persönlich herausfordernde Ziele zu setzen und aufrechtzuerhalten, oft begleitet von langfristigen Visionen'},\n",
       "   'versierte anwendung der gesamten ms-office palette': {'unique_id': 41,\n",
       "    'name+definition': 'Gewissenhaftigkeit: Genauigkeit: Aufmerksamkeit für alle Einzelheiten und Gründlichkeit bei der Erledigung der Arbeitsaufgaben'}},\n",
       "  {'abgeschlossene berufslehre als elektro-, bau-, maschinenzeichner:in oder als geomatiker:in mit beruflicher praxis': {'unique_id': 30,\n",
       "    'name+definition': 'Psychomotorische Fertigkeit: Feinmotorik: Fähigkeiten im Zusammenhang mit dem handwerklichen Umgang mit Gegenständen'}},\n",
       "  {}],\n",
       " '14657': [{},\n",
       "  {'fachübergreifende denkweise': {'unique_id': 129,\n",
       "    'name+definition': 'Kollaboration: Zusammenarbeit in interdisziplinären Teams: Die Kompetenz, erfolgreich mit Mitgliedern aus verschiedenen Berufsgruppen oder Fachrichtungen zusammenzuarbeiten, indem unterschiedliche Fachkenntnisse, Perspektiven und Arbeitsweisen respektiert und integriert werden, um gemeinsame Ziele zu erreichen.'},\n",
       "   'interdisziplinäre zusammenarbeit': {'unique_id': 129,\n",
       "    'name+definition': 'Kollaboration: Zusammenarbeit in interdisziplinären Teams: Die Kompetenz, erfolgreich mit Mitgliedern aus verschiedenen Berufsgruppen oder Fachrichtungen zusammenzuarbeiten, indem unterschiedliche Fachkenntnisse, Perspektiven und Arbeitsweisen respektiert und integriert werden, um gemeinsame Ziele zu erreichen.'}},\n",
       "  {}]}"
      ]
     },
     "execution_count": 13,
     "metadata": {},
     "output_type": "execute_result"
    }
   ],
   "source": [
    "job_matched_v4"
   ]
  },
  {
   "cell_type": "markdown",
   "metadata": {},
   "source": [
    "Notes: in skill_candidates, we observe candidates generated from ESCO but we actually don't see any items from ESCO selected\n",
    "Concerns: we do however see different items in v4 taxonomy selected"
   ]
  },
  {
   "cell_type": "code",
   "execution_count": 10,
   "metadata": {},
   "outputs": [
    {
     "data": {
      "text/plain": [
       "{'dictionary_item_added': [root['14562'][0]['lösungsarchitektur'], root['14604'][2]['dokumentenverwaltung'], root['14604'][3]['versierte anwendung der gesamten ms-office palette']],\n",
       " 'values_changed': {\"root['14604'][2]['lead']['unique_id']\": {'new_value': 65,\n",
       "   'old_value': 1},\n",
       "  \"root['14604'][2]['lead']['name+definition']\": {'new_value': 'Soziale Fertigkeit: Koordinieren: Handlungen in Bezug auf die Handlungen anderer anpassen.',\n",
       "   'old_value': 'Leistungsorientierung: Ambition: Wille, sich persönlich herausfordernde Ziele zu setzen und aufrechtzuerhalten, oft begleitet von langfristigen Visionen'},\n",
       "  \"root['14569'][0]\": {'new_value': {'dokumentation inklusive pflege bestehender reportings': {'unique_id': 50,\n",
       "     'name+definition': 'ICT Service Operation: Erstellt und pflegt Anlagendokumentationen und Bedienungsanleitungen. Instruiert verschiedene Kunden im Umgang mit Systemen.'}},\n",
       "   'old_value': {'betreuung und verwaltung der windows clientsysteme': {'unique_id': 50,\n",
       "     'name+definition': 'ICT Service Operation: Erstellt und pflegt Anlagendokumentationen und Bedienungsanleitungen. Instruiert verschiedene Kunden im Umgang mit Systemen.'},\n",
       "    'berufserfahrung im it support mit windows sowie kenntnisse in ad und m365': {'unique_id': 69,\n",
       "     'name+definition': 'Leistungsorientierung: Die Person ist bestrebt, persönliche Ziele zu erreichen und in der eigenen Arbeit kompetent zu sein. '}}}},\n",
       " 'iterable_item_added': {\"root['14544'][3]\": {'schnittstellenprogrammierung': {'unique_id': 51,\n",
       "    'name+definition': 'Informationssicherheit: Codierungs-, Kompressions- und Verschlüsselungsverfahren einsetzen'}},\n",
       "  \"root['14544'][6]\": {'deutschkenntnisse in wort und schrift': {'unique_id': 64,\n",
       "    'name+definition': 'Soziale Fertigkeit: Kooperieren: Bei der Arbeit angenehm mit anderen umgehen und eine gutmütige, kooperative Arbeitsweise an den Tag legen.'},\n",
       "   'teamplayer': {'unique_id': 64,\n",
       "    'name+definition': 'Soziale Fertigkeit: Kooperieren: Bei der Arbeit angenehm mit anderen umgehen und eine gutmütige, kooperative Arbeitsweise an den Tag legen.'}},\n",
       "  \"root['14604'][4]\": {'abgeschlossene berufslehre als elektro-, bau-, maschinenzeichner:in oder als geomatiker:in mit beruflicher praxis': {'unique_id': 30,\n",
       "    'name+definition': 'Psychomotorische Fertigkeit: Feinmotorik: Fähigkeiten im Zusammenhang mit dem handwerklichen Umgang mit Gegenständen'}},\n",
       "  \"root['14657'][1]\": {'fachübergreifende denkweise': {'unique_id': 129,\n",
       "    'name+definition': 'Kollaboration: Zusammenarbeit in interdisziplinären Teams: Die Kompetenz, erfolgreich mit Mitgliedern aus verschiedenen Berufsgruppen oder Fachrichtungen zusammenzuarbeiten, indem unterschiedliche Fachkenntnisse, Perspektiven und Arbeitsweisen respektiert und integriert werden, um gemeinsame Ziele zu erreichen.'},\n",
       "   'interdisziplinäre zusammenarbeit': {'unique_id': 129,\n",
       "    'name+definition': 'Kollaboration: Zusammenarbeit in interdisziplinären Teams: Die Kompetenz, erfolgreich mit Mitgliedern aus verschiedenen Berufsgruppen oder Fachrichtungen zusammenzuarbeiten, indem unterschiedliche Fachkenntnisse, Perspektiven und Arbeitsweisen respektiert und integriert werden, um gemeinsame Ziele zu erreichen.'}}}}"
      ]
     },
     "execution_count": 10,
     "metadata": {},
     "output_type": "execute_result"
    }
   ],
   "source": [
    "DeepDiff(job_matched_esco, job_matched_v4, ignore_order=True)"
   ]
  },
  {
   "cell_type": "code",
   "execution_count": null,
   "metadata": {},
   "outputs": [],
   "source": []
  },
  {
   "cell_type": "code",
   "execution_count": 6,
   "metadata": {},
   "outputs": [
    {
     "data": {
      "text/plain": [
       "{'dictionary_item_added': [root['7761']['to_acquire'][2]['hacking'], root['7761']['to_acquire'][3]['cyberangriffe reagieren'], root['7858']['to_acquire'][1]['methoden und strategien der gesprächsführung'], root['7858']['to_acquire'][2]['nutzen der argumente verdeutlichen'], root['7872']['to_acquire'][0]['netzwerke aufbauen']],\n",
       " 'dictionary_item_removed': [root['7761']['to_acquire'][2]['cyberkriminalität'], root['7858']['to_acquire'][4]['gekonnte alltags-rhetorik am telefon']],\n",
       " 'values_changed': {\"root['7858']['to_acquire'][2]['sichtweise des gegenübers berücksichtigen']['unique_id']\": {'new_value': 100,\n",
       "   'old_value': 33},\n",
       "  \"root['7858']['to_acquire'][2]['sichtweise des gegenübers berücksichtigen']['name+definition']\": {'new_value': 'Kognitive Fertigkeit: Raumwahrnehmung und -vorstellung: Räumliches Vorstellungsvermögen: Sich vorstellen, wie etwas aussieht, wenn es bewegt wird oder wenn seine Teile verschoben oder neu angeordnet werden.',\n",
       "   'old_value': 'Kognitive Fertigkeit: Aufmerksamkeit: Fokuswechsel: Zwischen zwei oder mehreren Aktivitäten oder Informationsquellen (z. B. Sprache, Geräusche, Berührungen oder andere Quellen) hin und her wechseln.'},\n",
       "  \"root['7858']['to_acquire'][4]['die vier säulen der argumentation']['unique_id']\": {'new_value': 11,\n",
       "   'old_value': 1795},\n",
       "  \"root['7858']['to_acquire'][4]['die vier säulen der argumentation']['name+definition']\": {'new_value': 'Betriebswirtschaft der ICT: Kalkuliert die zu erbringenden Leistungen inkl. Mehrwertsteuer für die Offertstellung aufgrund interner Vorgaben. Kontrolliert den Zahlungseingang, leitet gegebenenfalls die rechtlichen Schritte des Inkassos ein und stellt damit die Zahlung sicher.',\n",
       "   'old_value': 'Gesundheit: Medizinische Diagnostik und Medizintechnologie: Strahlenphysik im Gesundheitswesen: Die Strahlenphysik im Zusammenhang mit der konventionellen Radiologie, mit CT, MRT, Ultraschall, diagnostischer Nuklearmedizin sowie ihre Grundsätze wie z.\\xa0B. Anwendungsgebiete, Indikationen, Kontraindikationen, Einschränkungen und Strahlenrisiken.'},\n",
       "  \"root['7872']['to_acquire'][2]['smalltalk']['unique_id']\": {'new_value': 0,\n",
       "   'old_value': 33},\n",
       "  \"root['7872']['to_acquire'][2]['smalltalk']['name+definition']\": {'new_value': 'Kognitive Fertigkeit: Organisationsfähigkeit: Aktivitäten und Arbeiten planen: Planen von Veranstaltungen, Programmen und Aktivitäten sowie der Arbeit anderer.',\n",
       "   'old_value': 'Kognitive Fertigkeit: Aufmerksamkeit: Fokuswechsel: Zwischen zwei oder mehreren Aktivitäten oder Informationsquellen (z. B. Sprache, Geräusche, Berührungen oder andere Quellen) hin und her wechseln.'},\n",
       "  \"root['7846']['to_acquire'][2]\": {'new_value': {'umgang mit redeängsten': {'unique_id': 33,\n",
       "     'name+definition': 'Kognitive Fertigkeit: Aufmerksamkeit: Fokuswechsel: Zwischen zwei oder mehreren Aktivitäten oder Informationsquellen (z. B. Sprache, Geräusche, Berührungen oder andere Quellen) hin und her wechseln.'},\n",
       "    'professionelle internetrecherche': {'unique_id': 27,\n",
       "     'name+definition': 'Ergonomie, Usability: Bereitet Informationsmaterial für das entsprechende Zielmedium auf und publiziert dieses.'}},\n",
       "   'old_value': {'umgang mit redeängsten': {'unique_id': 33,\n",
       "     'name+definition': 'Kognitive Fertigkeit: Aufmerksamkeit: Fokuswechsel: Zwischen zwei oder mehreren Aktivitäten oder Informationsquellen (z. B. Sprache, Geräusche, Berührungen oder andere Quellen) hin und her wechseln.'}}},\n",
       "  \"root['7846']['to_acquire'][3]\": {'new_value': {'überzeugen durch körpersprache': {'unique_id': 69,\n",
       "     'name+definition': 'Leistungsorientierung: Die Person ist bestrebt, persönliche Ziele zu erreichen und in der eigenen Arbeit kompetent zu sein. '}},\n",
       "   'old_value': {'überzeugen durch körpersprache': {'unique_id': 20,\n",
       "     'name+definition': 'Leistungsorientierung: Durchhaltevermögen: Beharrlichkeit im Umgang mit Hindernissen'}}},\n",
       "  \"root['7846']['to_acquire'][0]\": {'new_value': {'präsentationen': {'unique_id': 106,\n",
       "     'name+definition': 'Service Design: Erarbeitet mögliche innovative Lösungsansätze für eine bestimmte Problemstellung einer Zielgruppe. Präsentiert diese anderen Fachpersonen in Form eines kurzen Pitch.'},\n",
       "    'mündliche prüfung': {'unique_id': 60,\n",
       "     'name+definition': 'Kommunikation: Kommunikation in Präsentations- und Vortragssituationen: Die Kompetenz, bei Präsentationen oder Vorträgen klar und überzeugend zu kommunizieren, Informationen verständlich zu vermitteln, das Publikum zu engagieren und das gewünschte Ziel, sei es informieren, überzeugen oder inspirieren, zu erreichen.'}},\n",
       "   'old_value': {'mündliche prüfung': {'unique_id': 3584,\n",
       "     'name+definition': 'Rechtswissenschaft: Rechtswissenschaft: Zivilprozessordnung: Rechtliche Verfahren und Normen, die Gerichte in zivilrechtlichen Verfahren anwenden.'}}},\n",
       "  \"root['7846']['to_acquire'][1]\": {'new_value': {'perfekter auftritt': {'unique_id': 69,\n",
       "     'name+definition': 'Leistungsorientierung: Die Person ist bestrebt, persönliche Ziele zu erreichen und in der eigenen Arbeit kompetent zu sein. '}},\n",
       "   'old_value': {}}},\n",
       " 'iterable_item_added': {\"root['7755']['to_acquire'][0]\": {'kommunikation über virtuelle medien und mit moderner technik': {'unique_id': 51,\n",
       "    'name+definition': 'Informationssicherheit: Codierungs-, Kompressions- und Verschlüsselungsverfahren einsetzen'}},\n",
       "  \"root['7756']['to_acquire'][2]\": {'hard- und softwarevorgaben des arbeitgebers und überblick zu office 365': {'unique_id': 11,\n",
       "    'name+definition': 'Betriebswirtschaft der ICT: Berücksichtigt die im ICT-Umfeld relevanten Rechtsgrundlagen und -aspekte und stellt durch entsprechende Vorgaben und Massnahmen sicher, dass die rechtlichen Vorgaben eingehalten, die eigenen Leistungen sowie die Errungenschaften geschützt und die vereinbarten Leistungen erbracht und sinnvoll genutzt werden können.'},\n",
       "   'backups': {'unique_id': 18,\n",
       "    'name+definition': 'Data Engineering/Data Management: Bereitet Daten durch Abfragen auf und nimmt Optimierungen zur Leistungssteigerung vor.\\nÄndert Struktur und Daten einer Datenbank, schützt die Daten durch Zugriffsberechtigungen und sichert die Daten wie auch das Datenbankschema in einem Backup.'}},\n",
       "  \"root['7761']['to_acquire'][5]\": {'malware: erste hilfe': {'unique_id': 11,\n",
       "    'name+definition': 'Betriebswirtschaft der ICT: Berücksichtigt die im ICT-Umfeld relevanten Rechtsgrundlagen und -aspekte und stellt durch entsprechende Vorgaben und Massnahmen sicher, dass die rechtlichen Vorgaben eingehalten, die eigenen Leistungen sowie die Errungenschaften geschützt und die vereinbarten Leistungen erbracht und sinnvoll genutzt werden können.'}},\n",
       "  \"root['7846']['to_acquire'][4]\": {'rhetorik für juristen': {'unique_id': 33,\n",
       "    'name+definition': 'Kognitive Fertigkeit: Aufmerksamkeit: Fokuswechsel: Zwischen zwei oder mehreren Aktivitäten oder Informationsquellen (z. B. Sprache, Geräusche, Berührungen oder andere Quellen) hin und her wechseln.'}},\n",
       "  \"root['7858']['to_acquire'][3]\": {'gekonnt formulieren': {'unique_id': 108,\n",
       "    'name+definition': 'Soziale Fertigkeit: Fertigkeiten, um in der Zusammenarbeit mit anderen Menschen Ziele zu erreichen'}},\n",
       "  \"root['7872']['to_acquire'][6]\": {'downloadmaterialien': {'unique_id': 90,\n",
       "    'name+definition': 'Psychomotorische Fertigkeit: Fertigkeiten, die den Umgang mit und die Kontrolle über Objekte beeinflussen'}},\n",
       "  \"root['7872']['to_acquire'][8]\": {'rhetorik': {'unique_id': 60,\n",
       "    'name+definition': 'Kommunikation: Kommunikation in Präsentations- und Vortragssituationen: Die Kompetenz, bei Präsentationen oder Vorträgen klar und überzeugend zu kommunizieren, Informationen verständlich zu vermitteln, das Publikum zu engagieren und das gewünschte Ziel, sei es informieren, überzeugen oder inspirieren, zu erreichen.'}}}}"
      ]
     },
     "execution_count": 6,
     "metadata": {},
     "output_type": "execute_result"
    }
   ],
   "source": [
    "DeepDiff(course_matched_esco, course_matched_v4, ignore_order=True)"
   ]
  }
 ],
 "metadata": {
  "kernelspec": {
   "display_name": "proto_test",
   "language": "python",
   "name": "python3"
  },
  "language_info": {
   "codemirror_mode": {
    "name": "ipython",
    "version": 3
   },
   "file_extension": ".py",
   "mimetype": "text/x-python",
   "name": "python",
   "nbconvert_exporter": "python",
   "pygments_lexer": "ipython3",
   "version": "3.11.4"
  }
 },
 "nbformat": 4,
 "nbformat_minor": 2
}
