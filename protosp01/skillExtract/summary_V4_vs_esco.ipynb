{
 "cells": [
  {
   "cell_type": "code",
   "execution_count": 1,
   "metadata": {},
   "outputs": [],
   "source": [
    "# %%\n",
    "import pandas as pd\n",
    "import json\n",
    "import os\n",
    "from deepdiff import DeepDiff\n",
    "\n",
    "os.getcwd()\n",
    "\n",
    "# %%\n",
    "# read in json from different folder\n",
    "# os.chdir(\"../results\")\n",
    "with open(\"../results/job_gpt-3.5-turbo_2sent_n100_jBd_V4_detailed.json\", \"r\") as f:\n",
    "    jobs_v4 = json.load(f)\n",
    "\n",
    "with open(\"../results/job_gpt-3.5-turbo_2sent_n100_jBd_esco_detailed.json\", \"r\") as f:\n",
    "    jobs_esco = json.load(f)\n",
    "\n",
    "with open(\"../results/course_gpt-3.5-turbo_2sent_n100_jBd_V4_detailed.json\", \"r\") as f:\n",
    "    courses_v4 = json.load(f)\n",
    "\n",
    "with open(\n",
    "    \"../results/course_gpt-3.5-turbo_2sent_n100_jBd_esco_detailed.json\", \"r\"\n",
    ") as f:\n",
    "    courses_esco = json.load(f)\n",
    "# %%\n",
    "# read in taxonomy from different folder\n",
    "os.chdir(\"../../data/taxonomy\")\n",
    "taxonomy = pd.read_csv(\"taxonomy_V4.csv\")\n",
    "keep_cols = [\n",
    "    \"unique_id\",\n",
    "    \"Type Level 1\",\n",
    "    \"Type Level 2\",\n",
    "    \"Type Level 3\",\n",
    "    \"Type Level 4\",\n",
    "]\n",
    "taxonomy = taxonomy[keep_cols]"
   ]
  },
  {
   "cell_type": "code",
   "execution_count": 2,
   "metadata": {},
   "outputs": [],
   "source": [
    "# get list of job_ids which is the key in the json\n",
    "job_ids = list(jobs_v4.keys())\n",
    "assert job_ids == list(jobs_esco.keys())\n",
    "\n",
    "course_ids = list(courses_v4.keys())\n",
    "assert course_ids == list(courses_esco.keys())"
   ]
  },
  {
   "cell_type": "code",
   "execution_count": 8,
   "metadata": {},
   "outputs": [],
   "source": [
    "job_matched_esco = {}\n",
    "job_matched_v4 = {}\n",
    "\n",
    "course_matched_esco = {}\n",
    "course_matched_v4 = {}\n",
    "\n",
    "for job_id in job_ids:\n",
    "    job_matched_esco[job_id] = []\n",
    "    job_matched_v4[job_id] = []\n",
    "    for sentence in jobs_v4[job_id]:\n",
    "        job_matched_v4[job_id].append(sentence[\"matched_skills\"])\n",
    "    for sentence in jobs_esco[job_id]:\n",
    "        job_matched_esco[job_id].append(sentence[\"matched_skills\"])\n",
    "\n",
    "for course_id in course_ids:\n",
    "    course_matched_v4[course_id] = {}\n",
    "    course_matched_esco[course_id] = {}\n",
    "    for type_skill in courses_v4[course_id]:\n",
    "        course_matched_v4[course_id][type_skill] = []\n",
    "        course_matched_esco[course_id][type_skill] = []\n",
    "        for sentence in courses_v4[course_id][type_skill]:\n",
    "            course_matched_v4[course_id][type_skill].append(sentence[\"matched_skills\"])\n",
    "        for sentence in courses_esco[course_id][type_skill]:\n",
    "            course_matched_esco[course_id][type_skill].append(\n",
    "                sentence[\"matched_skills\"]\n",
    "            )"
   ]
  },
  {
   "cell_type": "code",
   "execution_count": 9,
   "metadata": {},
   "outputs": [
    {
     "name": "stdout",
     "output_type": "stream",
     "text": [
      "job_matched_v4_count total 326\n",
      "job_matched_esco_count total 255\n",
      "course_matched_v4_count total 534\n",
      "course_matched_esco_count total 494\n"
     ]
    }
   ],
   "source": [
    "# get how many skills are matched in each\n",
    "job_matched_v4_count = {}\n",
    "job_matched_esco_count = {}\n",
    "job_matched_v4_count[\"total\"] = 0\n",
    "job_matched_esco_count[\"total\"] = 0\n",
    "\n",
    "course_matched_v4_count = {}\n",
    "course_matched_esco_count = {}\n",
    "course_matched_v4_count[\"total\"] = 0\n",
    "course_matched_esco_count[\"total\"] = 0\n",
    "\n",
    "for job_id in job_ids:\n",
    "    job_matched_v4_count[job_id] = 0\n",
    "    job_matched_esco_count[job_id] = 0\n",
    "    for sentence in job_matched_v4[job_id]:\n",
    "        job_matched_v4_count[job_id] += len(sentence)\n",
    "        job_matched_v4_count[\"total\"] += len(sentence)\n",
    "    for sentence in job_matched_esco[job_id]:\n",
    "        job_matched_esco_count[job_id] += len(sentence)\n",
    "        job_matched_esco_count[\"total\"] += len(sentence)\n",
    "\n",
    "for course_id in course_ids:\n",
    "    course_matched_v4_count[course_id] = {}\n",
    "    course_matched_esco_count[course_id] = {}\n",
    "    for type_skill in courses_v4[course_id]:\n",
    "        course_matched_v4_count[course_id][type_skill] = 0\n",
    "        course_matched_esco_count[course_id][type_skill] = 0\n",
    "        for sentence in course_matched_v4[course_id][type_skill]:\n",
    "            course_matched_v4_count[course_id][type_skill] += len(sentence)\n",
    "            course_matched_v4_count[\"total\"] += len(sentence)\n",
    "        for sentence in course_matched_esco[course_id][type_skill]:\n",
    "            course_matched_esco_count[course_id][type_skill] += len(sentence)\n",
    "            course_matched_esco_count[\"total\"] += len(sentence)\n",
    "\n",
    "print(\"job_matched_v4_count total\", job_matched_v4_count[\"total\"])\n",
    "print(\"job_matched_esco_count total\", job_matched_esco_count[\"total\"])\n",
    "print(\"course_matched_v4_count total\", course_matched_v4_count[\"total\"])\n",
    "print(\"course_matched_esco_count total\", course_matched_esco_count[\"total\"])"
   ]
  },
  {
   "cell_type": "code",
   "execution_count": 10,
   "metadata": {},
   "outputs": [
    {
     "name": "stdout",
     "output_type": "stream",
     "text": [
      "job_matched_common total 166\n",
      "course_matched_common total 365\n"
     ]
    }
   ],
   "source": [
    "# for each job_id or course_id, we want to see what are the skills that are matched in common between v4 and esco\n",
    "\n",
    "job_matched_common = {}\n",
    "job_matched_common[\"total\"] = 0\n",
    "course_matched_common = {}\n",
    "course_matched_common[\"total\"] = 0\n",
    "\n",
    "for job_id in job_ids:\n",
    "    job_matched_common[job_id] = []\n",
    "    for v4_extracted in job_matched_v4[job_id]:\n",
    "        for v4_matched_skill in v4_extracted:\n",
    "            for esco_extracted in job_matched_esco[job_id]:\n",
    "                for esco_matched_skill in esco_extracted:\n",
    "                    if v4_matched_skill == esco_matched_skill:\n",
    "                        job_matched_common[job_id].append(v4_matched_skill)\n",
    "                        job_matched_common[\"total\"] += 1\n",
    "\n",
    "for course_id in course_ids:\n",
    "    course_matched_common[course_id] = {}\n",
    "    for type_skill in courses_v4[course_id]:\n",
    "        course_matched_common[course_id][type_skill] = []\n",
    "        for v4_extracted in course_matched_v4[course_id][type_skill]:\n",
    "            for v4_matched_skill in v4_extracted:\n",
    "                for esco_extracted in course_matched_esco[course_id][type_skill]:\n",
    "                    for esco_matched_skill in esco_extracted:\n",
    "                        if v4_matched_skill == esco_matched_skill:\n",
    "                            course_matched_common[course_id][type_skill].append(\n",
    "                                v4_matched_skill\n",
    "                            )\n",
    "                            course_matched_common[\"total\"] += 1\n",
    "\n",
    "print(\"job_matched_common total\", job_matched_common[\"total\"])\n",
    "print(\"course_matched_common total\", course_matched_common[\"total\"])"
   ]
  },
  {
   "cell_type": "code",
   "execution_count": null,
   "metadata": {},
   "outputs": [],
   "source": []
  },
  {
   "cell_type": "code",
   "execution_count": 35,
   "metadata": {},
   "outputs": [
    {
     "ename": "TypeError",
     "evalue": "list indices must be integers or slices, not str",
     "output_type": "error",
     "traceback": [
      "\u001b[0;31m---------------------------------------------------------------------------\u001b[0m",
      "\u001b[0;31mTypeError\u001b[0m                                 Traceback (most recent call last)",
      "\u001b[1;32m/Users/annadai/Academics/Internship/EPFL/Projects/SkillThrills/protosp01/skillExtract/summary_V4_vs_esco.ipynb Cell 7\u001b[0m line \u001b[0;36m4\n\u001b[1;32m      <a href='vscode-notebook-cell:/Users/annadai/Academics/Internship/EPFL/Projects/SkillThrills/protosp01/skillExtract/summary_V4_vs_esco.ipynb#W6sZmlsZQ%3D%3D?line=0'>1</a>\u001b[0m \u001b[39m# find which matched skills in common also match to the same \"name+definition\" in our output\u001b[39;00m\n\u001b[1;32m      <a href='vscode-notebook-cell:/Users/annadai/Academics/Internship/EPFL/Projects/SkillThrills/protosp01/skillExtract/summary_V4_vs_esco.ipynb#W6sZmlsZQ%3D%3D?line=2'>3</a>\u001b[0m job_matched_same_match \u001b[39m=\u001b[39m []\n\u001b[0;32m----> <a href='vscode-notebook-cell:/Users/annadai/Academics/Internship/EPFL/Projects/SkillThrills/protosp01/skillExtract/summary_V4_vs_esco.ipynb#W6sZmlsZQ%3D%3D?line=3'>4</a>\u001b[0m job_matched_same_match[\u001b[39m\"\u001b[39m\u001b[39mtotal\u001b[39m\u001b[39m\"\u001b[39m] \u001b[39m=\u001b[39m \u001b[39m0\u001b[39m\n\u001b[1;32m      <a href='vscode-notebook-cell:/Users/annadai/Academics/Internship/EPFL/Projects/SkillThrills/protosp01/skillExtract/summary_V4_vs_esco.ipynb#W6sZmlsZQ%3D%3D?line=4'>5</a>\u001b[0m course_matched_same_match \u001b[39m=\u001b[39m []\n\u001b[1;32m      <a href='vscode-notebook-cell:/Users/annadai/Academics/Internship/EPFL/Projects/SkillThrills/protosp01/skillExtract/summary_V4_vs_esco.ipynb#W6sZmlsZQ%3D%3D?line=5'>6</a>\u001b[0m course_matched_same_match[\u001b[39m\"\u001b[39m\u001b[39mtotal\u001b[39m\u001b[39m\"\u001b[39m] \u001b[39m=\u001b[39m \u001b[39m0\u001b[39m\n",
      "\u001b[0;31mTypeError\u001b[0m: list indices must be integers or slices, not str"
     ]
    }
   ],
   "source": [
    "# find which matched skills in common also match to the same \"name+definition\" in our output\n",
    "\n",
    "job_matched_same_match = []\n",
    "job_matched_same_match[\"total\"] = 0\n",
    "course_matched_same_match = []\n",
    "course_matched_same_match[\"total\"] = 0\n",
    "\n",
    "job_matched_diff_match = []\n",
    "job_matched_diff_match[\"total\"] = 0\n",
    "course_matched_diff_match = []\n",
    "course_matched_diff_match[\"total\"] = 0\n",
    "\n",
    "\n",
    "for esco_sentence in job_matched_esco.values():\n",
    "    for v4_sentence in job_matched_v4.values():\n",
    "        for esco_skills in esco_sentence:\n",
    "            for v4_skills in v4_sentence:\n",
    "                for esco_skill in esco_skills.values():\n",
    "                    for v4_skill in v4_skills.values():\n",
    "                        if esco_skill[\"name+definition\"] == v4_skill[\"name+definition\"]:\n",
    "                            job_matched_same_match[\"total\"] += 1\n",
    "                            job_matched_same_match.append(esco_skill)\n",
    "                        else:\n",
    "                            job_matched_diff_match[\"total\"] += 1\n",
    "                            job_matched_diff_match.append(esco_skill)\n",
    "\n",
    "    # if esco_skill[\"name+definition\"] == v4_skill[\"name+definition\"]:\n",
    "    #     job_matched_same_match[\"total\"] += 1\n",
    "    #     job_matched_same_match[job_id] = esco_skill\n",
    "    # break\n",
    "    # if esco_skill[\"name+definition\"] == v4_skill[\"name+definition\"]:\n",
    "    #     job_matched_same_match[\"total\"] += 1\n",
    "    #     job_matched_same_match[job_id] = esco_skill"
   ]
  },
  {
   "cell_type": "code",
   "execution_count": 34,
   "metadata": {},
   "outputs": [
    {
     "data": {
      "text/plain": [
       "{'total': 5755,\n",
       " '10389': {'unique_id': 108,\n",
       "  'name+definition': 'Soziale Fertigkeit: Fertigkeiten, um in der Zusammenarbeit mit anderen Menschen Ziele zu erreichen'}}"
      ]
     },
     "execution_count": 34,
     "metadata": {},
     "output_type": "execute_result"
    }
   ],
   "source": [
    "job_matched_same_match"
   ]
  },
  {
   "cell_type": "code",
   "execution_count": 7,
   "metadata": {},
   "outputs": [],
   "source": [
    "# # check which of the common matched jobs and courses are matched to the same items in the taxonomy (same unique id)\n",
    "\n",
    "# job_matched_common_taxonomy = {}\n",
    "# job_matched_common_taxonomy[\"total\"] = 0\n",
    "# course_matched_common_taxonomy = {}\n",
    "# course_matched_common_taxonomy[\"total\"] = 0\n",
    "\n",
    "# for job_id in job_ids:\n",
    "#     job_matched_common_taxonomy[job_id] = []\n",
    "#     for v4_extracted in job_matched_v4[job_id]:\n",
    "#         for v4_matched_skill in v4_extracted:\n",
    "#             for esco_extracted in job_matched_esco[job_id]:\n",
    "#                 for esco_matched_skill in esco_extracted:\n",
    "#                     if v4_matched_skill == esco_matched_skill:\n",
    "#                         for index, row in taxonomy.iterrows():\n",
    "#                             if row[\"unique_id\"] == v4_matched_skill:\n",
    "#                                 job_matched_common_taxonomy[job_id].append(\n",
    "#                                     v4_matched_skill\n",
    "#                                 )\n",
    "#                                 job_matched_common_taxonomy[\"total\"] += 1"
   ]
  },
  {
   "cell_type": "markdown",
   "metadata": {},
   "source": [
    "Notes: in skill_candidates, we observe candidates generated from ESCO but we actually don't see any items from ESCO selected\n",
    "Concerns: we do however see different items in v4 taxonomy selected"
   ]
  },
  {
   "cell_type": "code",
   "execution_count": 6,
   "metadata": {},
   "outputs": [
    {
     "ename": "KeyError",
     "evalue": "'unique_id'",
     "output_type": "error",
     "traceback": [
      "\u001b[0;31m---------------------------------------------------------------------------\u001b[0m",
      "\u001b[0;31mKeyError\u001b[0m                                  Traceback (most recent call last)",
      "\u001b[1;32m/Users/annadai/Academics/Internship/EPFL/Projects/SkillThrills/protosp01/skillExtract/summary_V4_vs_esco.ipynb Cell 8\u001b[0m line \u001b[0;36m9\n\u001b[1;32m      <a href='vscode-notebook-cell:/Users/annadai/Academics/Internship/EPFL/Projects/SkillThrills/protosp01/skillExtract/summary_V4_vs_esco.ipynb#X12sZmlsZQ%3D%3D?line=6'>7</a>\u001b[0m job_esco_matches[job_id] \u001b[39m=\u001b[39m []\n\u001b[1;32m      <a href='vscode-notebook-cell:/Users/annadai/Academics/Internship/EPFL/Projects/SkillThrills/protosp01/skillExtract/summary_V4_vs_esco.ipynb#X12sZmlsZQ%3D%3D?line=7'>8</a>\u001b[0m \u001b[39mfor\u001b[39;00m job_skill \u001b[39min\u001b[39;00m job_matched_esco[job_id]:\n\u001b[0;32m----> <a href='vscode-notebook-cell:/Users/annadai/Academics/Internship/EPFL/Projects/SkillThrills/protosp01/skillExtract/summary_V4_vs_esco.ipynb#X12sZmlsZQ%3D%3D?line=8'>9</a>\u001b[0m     \u001b[39mif\u001b[39;00m job_skill[\u001b[39m\"\u001b[39m\u001b[39munique_id\u001b[39m\u001b[39m\"\u001b[39m] \u001b[39m>\u001b[39m \u001b[39m999\u001b[39m:\n\u001b[1;32m     <a href='vscode-notebook-cell:/Users/annadai/Academics/Internship/EPFL/Projects/SkillThrills/protosp01/skillExtract/summary_V4_vs_esco.ipynb#X12sZmlsZQ%3D%3D?line=9'>10</a>\u001b[0m         job_esco_matches[job_id]\u001b[39m.\u001b[39mappend(job_skill)\n\u001b[1;32m     <a href='vscode-notebook-cell:/Users/annadai/Academics/Internship/EPFL/Projects/SkillThrills/protosp01/skillExtract/summary_V4_vs_esco.ipynb#X12sZmlsZQ%3D%3D?line=10'>11</a>\u001b[0m         job_esco_matches[\u001b[39m\"\u001b[39m\u001b[39mtotal\u001b[39m\u001b[39m\"\u001b[39m] \u001b[39m+\u001b[39m\u001b[39m=\u001b[39m \u001b[39m1\u001b[39m\n",
      "\u001b[0;31mKeyError\u001b[0m: 'unique_id'"
     ]
    }
   ],
   "source": [
    "# get how many matched skills in esco that has unique ids over 999\n",
    "\n",
    "job_esco_matches = {}\n",
    "job_esco_matches[\"total\"] = 0\n",
    "\n",
    "for job_id in job_ids:\n",
    "    job_esco_matches[job_id] = []\n",
    "    for job_skill in job_matched_esco[job_id]:\n",
    "        if job_skill[\"unique_id\"] > 999:\n",
    "            job_esco_matches[job_id].append(job_skill)\n",
    "            job_esco_matches[\"total\"] += 1"
   ]
  },
  {
   "cell_type": "code",
   "execution_count": 26,
   "metadata": {},
   "outputs": [
    {
     "data": {
      "text/plain": [
       "508"
      ]
     },
     "execution_count": 26,
     "metadata": {},
     "output_type": "execute_result"
    }
   ],
   "source": [
    "job_esco_matches[\"total\"]"
   ]
  },
  {
   "cell_type": "code",
   "execution_count": null,
   "metadata": {},
   "outputs": [],
   "source": []
  }
 ],
 "metadata": {
  "kernelspec": {
   "display_name": "proto_test",
   "language": "python",
   "name": "python3"
  },
  "language_info": {
   "codemirror_mode": {
    "name": "ipython",
    "version": 3
   },
   "file_extension": ".py",
   "mimetype": "text/x-python",
   "name": "python",
   "nbconvert_exporter": "python",
   "pygments_lexer": "ipython3",
   "version": "3.11.4"
  }
 },
 "nbformat": 4,
 "nbformat_minor": 2
}
